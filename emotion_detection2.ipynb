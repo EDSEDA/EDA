{
 "cells": [
  {
   "cell_type": "markdown",
   "metadata": {
    "execution": {
     "iopub.execute_input": "2021-10-28T16:25:41.041859Z",
     "iopub.status.busy": "2021-10-28T16:25:41.041154Z",
     "iopub.status.idle": "2021-10-28T16:25:41.047378Z",
     "shell.execute_reply": "2021-10-28T16:25:41.046222Z",
     "shell.execute_reply.started": "2021-10-28T16:25:41.041821Z"
    },
    "id": "oexc3NHHDpZM"
   },
   "source": [
    "<a id=\"im\"></a>\n",
    "# <center>IMPORTING LIBRARIES</center> "
   ]
  },
  {
   "cell_type": "code",
   "execution_count": 44,
   "metadata": {
    "execution": {
     "iopub.execute_input": "2021-12-09T06:48:17.407186Z",
     "iopub.status.busy": "2021-12-09T06:48:17.406939Z",
     "iopub.status.idle": "2021-12-09T06:48:17.412838Z",
     "shell.execute_reply": "2021-12-09T06:48:17.411861Z",
     "shell.execute_reply.started": "2021-12-09T06:48:17.407157Z"
    },
    "id": "5EYpR3loDpZM"
   },
   "outputs": [],
   "source": [
    "import pandas as pd\n",
    "import numpy as np\n",
    "import matplotlib.pyplot as plt\n",
    "import seaborn as sns\n",
    "import plotly.express as px\n",
    "\n",
    "\n",
    "import tensorflow as tf\n",
    "from tensorflow.keras.preprocessing.image import ImageDataGenerator\n",
    "from tensorflow.keras.utils import to_categorical\n",
    "\n",
    "from sklearn.metrics import confusion_matrix , classification_report \n",
    "from sklearn.preprocessing import LabelBinarizer\n",
    "from sklearn.metrics import roc_curve, auc, roc_auc_score\n",
    "\n",
    "from IPython.display import clear_output\n",
    "import warnings\n",
    "warnings.filterwarnings('ignore')"
   ]
  },
  {
   "cell_type": "markdown",
   "metadata": {
    "id": "wh6GWqQkDpZN"
   },
   "source": [
    "<a id=\"hp\"></a>\n",
    "# <center>HYPERPARAMETRERS AND DIRECTORIES</center>"
   ]
  },
  {
   "cell_type": "code",
   "execution_count": 45,
   "metadata": {
    "execution": {
     "iopub.execute_input": "2021-12-09T06:39:09.131243Z",
     "iopub.status.busy": "2021-12-09T06:39:09.13099Z",
     "iopub.status.idle": "2021-12-09T06:39:09.139155Z",
     "shell.execute_reply": "2021-12-09T06:39:09.138293Z",
     "shell.execute_reply.started": "2021-12-09T06:39:09.131209Z"
    },
    "id": "2LtuHhPhDpZO"
   },
   "outputs": [],
   "source": [
    "train_dir = \"train\"\n",
    "test_dir = \"test\"\n",
    "\n",
    "SEED = 12\n",
    "IMG_HEIGHT = 48\n",
    "IMG_WIDTH = 48\n",
    "BATCH_SIZE = 64\n",
    "EPOCHS = 15\n",
    "FINE_TUNING_EPOCHS = 10\n",
    "LR = 0.01\n",
    "NUM_CLASSES = 6\n",
    "EARLY_STOPPING_CRITERIA=3\n",
    "CLASS_LABELS  = ['Anger', 'Fear', 'Happy', 'Neutral', 'Sadness', \"Surprise\"]"
   ]
  },
  {
   "cell_type": "markdown",
   "metadata": {
    "id": "74MTuliEDpZO"
   },
   "source": [
    "<a id=\"data\"></a>\n",
    "# <center> DATA LOADING AND PRE-PROCESSING</center>"
   ]
  },
  {
   "cell_type": "code",
   "execution_count": 46,
   "metadata": {
    "_kg_hide-input": true,
    "colab": {
     "base_uri": "https://localhost:8080/"
    },
    "execution": {
     "iopub.execute_input": "2021-12-09T06:39:09.140332Z",
     "iopub.status.busy": "2021-12-09T06:39:09.140077Z",
     "iopub.status.idle": "2021-12-09T06:39:33.637831Z",
     "shell.execute_reply": "2021-12-09T06:39:33.63632Z",
     "shell.execute_reply.started": "2021-12-09T06:39:09.140295Z"
    },
    "id": "GhpgEQkHDpZP",
    "outputId": "eab23f25-6ff0-4c8b-cd16-7b0c355d4553"
   },
   "outputs": [
    {
     "name": "stdout",
     "output_type": "stream",
     "text": [
      "Found 22631 images belonging to 6 classes.\n",
      "Found 5654 images belonging to 6 classes.\n",
      "Found 7067 images belonging to 6 classes.\n"
     ]
    }
   ],
   "source": [
    "def to_grayscale_then_rgb(image):\n",
    "    image = tf.image.rgb_to_grayscale(image)\n",
    "    image = tf.image.grayscale_to_rgb(image)\n",
    "    return image\n",
    "\n",
    "# preprocess_fun = tf.keras.applications.densenet.preprocess_input\n",
    "preprocess_fun = to_grayscale_then_rgb\n",
    "\n",
    "train_datagen = ImageDataGenerator(horizontal_flip=True,\n",
    "                                   width_shift_range=0.1,\n",
    "                                   height_shift_range=0.05,\n",
    "                                   rescale = 1./255,\n",
    "                                   validation_split = 0.2,\n",
    "                                   preprocessing_function=preprocess_fun\n",
    "                                  )\n",
    "test_datagen = ImageDataGenerator(rescale = 1./255,\n",
    "                                  validation_split = 0.2,\n",
    "                                  preprocessing_function=preprocess_fun)\n",
    "\n",
    "train_generator = train_datagen.flow_from_directory(directory = train_dir,\n",
    "                                                    target_size = (IMG_HEIGHT ,IMG_WIDTH),\n",
    "                                                    batch_size = BATCH_SIZE,\n",
    "                                                    shuffle  = True , \n",
    "                                                    color_mode = \"rgb\",\n",
    "                                                    class_mode = \"categorical\",\n",
    "                                                    subset = \"training\",\n",
    "                                                    seed = 12\n",
    "                                                   )\n",
    "\n",
    "validation_generator = test_datagen.flow_from_directory(directory = train_dir,\n",
    "                                                         target_size = (IMG_HEIGHT ,IMG_WIDTH),\n",
    "                                                         batch_size = BATCH_SIZE,\n",
    "                                                         shuffle  = True , \n",
    "                                                         color_mode = \"rgb\",\n",
    "                                                         class_mode = \"categorical\",\n",
    "                                                         subset = \"validation\",\n",
    "                                                         seed = 12\n",
    "                                                        )\n",
    "\n",
    "test_generator = test_datagen.flow_from_directory(directory = test_dir,\n",
    "                                                   target_size = (IMG_HEIGHT ,IMG_WIDTH),\n",
    "                                                    batch_size = BATCH_SIZE,\n",
    "                                                    shuffle  = False , \n",
    "                                                    color_mode = \"rgb\",\n",
    "                                                    class_mode = \"categorical\",\n",
    "                                                    seed = 12\n",
    "                                                  )"
   ]
  },
  {
   "cell_type": "markdown",
   "metadata": {
    "id": "hkFNRmmnDpZR"
   },
   "source": [
    "## Data distribution (count) among differnt emotions"
   ]
  },
  {
   "cell_type": "code",
   "execution_count": 47,
   "metadata": {
    "_kg_hide-input": true,
    "colab": {
     "base_uri": "https://localhost:8080/"
    },
    "execution": {
     "iopub.execute_input": "2021-12-09T06:40:24.262316Z",
     "iopub.status.busy": "2021-12-09T06:40:24.26204Z",
     "iopub.status.idle": "2021-12-09T06:40:25.101773Z",
     "shell.execute_reply": "2021-12-09T06:40:25.101112Z",
     "shell.execute_reply.started": "2021-12-09T06:40:24.262279Z"
    },
    "id": "nXv5xBrADpZR",
    "outputId": "023c8ebb-2cd4-406e-aac8-355129a12ac3"
   },
   "outputs": [
    {
     "name": "stdout",
     "output_type": "stream",
     "text": [
      "Anger 3198\n",
      "Fear 3280\n",
      "Happy 5774\n",
      "Neutral 3974\n",
      "Sadness 3866\n",
      "Surprise 2539\n"
     ]
    }
   ],
   "source": [
    "classLabelCounts = [list(train_generator.classes).count(i) for i in np.unique(train_generator.classes)]\n",
    "for classLabel, classLabelCount in zip(CLASS_LABELS, classLabelCounts):\n",
    "  print(classLabel, classLabelCount)"
   ]
  },
  {
   "cell_type": "markdown",
   "metadata": {
    "id": "uzY1dOBtDpZR"
   },
   "source": [
    "<a id=\"model\"></a>\n",
    "# <center> DenseNet169 Transfer Learning  </center>"
   ]
  },
  {
   "cell_type": "code",
   "execution_count": 48,
   "metadata": {
    "execution": {
     "iopub.execute_input": "2021-12-09T06:40:25.103789Z",
     "iopub.status.busy": "2021-12-09T06:40:25.103368Z",
     "iopub.status.idle": "2021-12-09T06:40:25.114799Z",
     "shell.execute_reply": "2021-12-09T06:40:25.113768Z",
     "shell.execute_reply.started": "2021-12-09T06:40:25.103749Z"
    },
    "id": "5IB6JTbdDpZS"
   },
   "outputs": [],
   "source": [
    "def feature_extractor(inputs):\n",
    "    feature_extractor = tf.keras.applications.DenseNet169(input_shape=(IMG_HEIGHT,IMG_WIDTH, 3),\n",
    "                                               include_top=False,\n",
    "                                               weights=\"imagenet\")(inputs)\n",
    "    \n",
    "    return feature_extractor\n",
    "\n",
    "def classifier(inputs):\n",
    "    x = tf.keras.layers.GlobalAveragePooling2D()(inputs)\n",
    "    x = tf.keras.layers.Dense(512, activation=\"relu\", kernel_regularizer = tf.keras.regularizers.l2(0.01))(x)\n",
    "    x = tf.keras.layers.Dropout(0.3)(x)\n",
    "    x = tf.keras.layers.Dense(1024, activation=\"relu\", kernel_regularizer = tf.keras.regularizers.l2(0.01))(x)\n",
    "    x = tf.keras.layers.Dropout(0.5)(x)\n",
    "    x = tf.keras.layers.Dense(512, activation=\"relu\", kernel_regularizer = tf.keras.regularizers.l2(0.01))(x)\n",
    "    x = tf.keras.layers.Dropout(0.5) (x)\n",
    "    x = tf.keras.layers.Dense(NUM_CLASSES, activation=\"softmax\", name=\"classification\")(x)\n",
    "    \n",
    "    return x\n",
    "\n",
    "def final_model(inputs):\n",
    "    densenet_feature_extractor = feature_extractor(inputs)\n",
    "    classification_output = classifier(densenet_feature_extractor)\n",
    "    \n",
    "    return classification_output\n",
    "\n",
    "def define_compile_model():\n",
    "    \n",
    "    inputs = tf.keras.layers.Input(shape=(IMG_HEIGHT ,IMG_WIDTH,3))\n",
    "    classification_output = final_model(inputs) \n",
    "    model = tf.keras.Model(inputs=inputs, outputs = classification_output)\n",
    "     \n",
    "    model.compile(optimizer=tf.keras.optimizers.SGD(0.05), \n",
    "                loss='categorical_crossentropy',\n",
    "                metrics = ['accuracy'])\n",
    "  \n",
    "    return model"
   ]
  },
  {
   "cell_type": "markdown",
   "metadata": {
    "id": "3dzFVkhuDpZS"
   },
   "source": [
    "## Summary of model"
   ]
  },
  {
   "cell_type": "code",
   "execution_count": 49,
   "metadata": {
    "_kg_hide-input": true,
    "colab": {
     "base_uri": "https://localhost:8080/"
    },
    "execution": {
     "iopub.execute_input": "2021-12-09T06:40:28.867335Z",
     "iopub.status.busy": "2021-12-09T06:40:28.866836Z",
     "iopub.status.idle": "2021-12-09T06:40:36.720149Z",
     "shell.execute_reply": "2021-12-09T06:40:36.719438Z",
     "shell.execute_reply.started": "2021-12-09T06:40:28.867292Z"
    },
    "id": "KIlFQOEmDpZS",
    "outputId": "873d5c0a-e360-4454-d4e8-01a3375ca86b"
   },
   "outputs": [
    {
     "name": "stdout",
     "output_type": "stream",
     "text": [
      "Model: \"model_3\"\n",
      "_________________________________________________________________\n",
      " Layer (type)                Output Shape              Param #   \n",
      "=================================================================\n",
      " input_7 (InputLayer)        [(None, 48, 48, 3)]       0         \n",
      "                                                                 \n",
      " densenet169 (Functional)    (None, 1, 1, 1664)        12642880  \n",
      "                                                                 \n",
      " global_average_pooling2d_3   (None, 1664)             0         \n",
      " (GlobalAveragePooling2D)                                        \n",
      "                                                                 \n",
      " dense_9 (Dense)             (None, 512)               852480    \n",
      "                                                                 \n",
      " dropout_9 (Dropout)         (None, 512)               0         \n",
      "                                                                 \n",
      " dense_10 (Dense)            (None, 1024)              525312    \n",
      "                                                                 \n",
      " dropout_10 (Dropout)        (None, 1024)              0         \n",
      "                                                                 \n",
      " dense_11 (Dense)            (None, 512)               524800    \n",
      "                                                                 \n",
      " dropout_11 (Dropout)        (None, 512)               0         \n",
      "                                                                 \n",
      " classification (Dense)      (None, 6)                 3078      \n",
      "                                                                 \n",
      "=================================================================\n",
      "Total params: 14,548,550\n",
      "Trainable params: 1,905,670\n",
      "Non-trainable params: 12,642,880\n",
      "_________________________________________________________________\n"
     ]
    }
   ],
   "source": [
    "model = define_compile_model()\n",
    "clear_output()\n",
    "\n",
    "# Feezing the feature extraction layers\n",
    "model.layers[1].trainable = False\n",
    "\n",
    "model.summary()"
   ]
  },
  {
   "cell_type": "markdown",
   "metadata": {
    "id": "nbScA6BuDpZT"
   },
   "source": [
    "<a id=\"train\"></a>\n",
    "# <center> Training and Fine-Tuning </center> "
   ]
  },
  {
   "cell_type": "markdown",
   "metadata": {
    "id": "Jx4iMUszDpZT"
   },
   "source": [
    "## Training model with freezed layers of DenseNer169"
   ]
  },
  {
   "cell_type": "code",
   "execution_count": 50,
   "metadata": {
    "_kg_hide-output": true,
    "colab": {
     "base_uri": "https://localhost:8080/"
    },
    "execution": {
     "iopub.execute_input": "2021-12-09T06:40:37.926183Z",
     "iopub.status.busy": "2021-12-09T06:40:37.925939Z",
     "iopub.status.idle": "2021-12-09T06:44:17.632897Z",
     "shell.execute_reply": "2021-12-09T06:44:17.632068Z",
     "shell.execute_reply.started": "2021-12-09T06:40:37.926155Z"
    },
    "id": "9uVJhDXCDpZT",
    "outputId": "c9244726-ea9e-4205-cedb-e2f32420306c"
   },
   "outputs": [
    {
     "name": "stdout",
     "output_type": "stream",
     "text": [
      "Epoch 1/15\n",
      "354/354 [==============================] - 192s 409ms/step - loss: 17.0379 - accuracy: 0.3178 - val_loss: 12.0032 - val_accuracy: 0.4307\n",
      "Epoch 2/15\n",
      "354/354 [==============================] - 136s 385ms/step - loss: 8.9306 - accuracy: 0.4755 - val_loss: 6.5049 - val_accuracy: 0.5004\n",
      "Epoch 3/15\n",
      "354/354 [==============================] - 136s 384ms/step - loss: 4.9729 - accuracy: 0.5327 - val_loss: 3.7680 - val_accuracy: 0.5426\n",
      "Epoch 4/15\n",
      "354/354 [==============================] - 136s 383ms/step - loss: 3.0195 - accuracy: 0.5644 - val_loss: 2.4380 - val_accuracy: 0.5506\n",
      "Epoch 5/15\n",
      "354/354 [==============================] - 136s 384ms/step - loss: 2.0348 - accuracy: 0.5895 - val_loss: 1.7354 - val_accuracy: 0.5858\n",
      "Epoch 6/15\n",
      "354/354 [==============================] - 136s 384ms/step - loss: 1.5325 - accuracy: 0.6124 - val_loss: 1.3958 - val_accuracy: 0.6045\n",
      "Epoch 7/15\n",
      "354/354 [==============================] - 135s 380ms/step - loss: 1.2770 - accuracy: 0.6237 - val_loss: 1.2827 - val_accuracy: 0.5952\n",
      "Epoch 8/15\n",
      "354/354 [==============================] - 136s 384ms/step - loss: 1.1344 - accuracy: 0.6371 - val_loss: 1.2123 - val_accuracy: 0.5971\n",
      "Epoch 9/15\n",
      "354/354 [==============================] - 136s 385ms/step - loss: 1.0554 - accuracy: 0.6504 - val_loss: 1.1303 - val_accuracy: 0.6217\n",
      "Epoch 10/15\n",
      "354/354 [==============================] - 134s 378ms/step - loss: 0.9980 - accuracy: 0.6611 - val_loss: 1.1692 - val_accuracy: 0.5985\n",
      "Epoch 11/15\n",
      "354/354 [==============================] - 137s 387ms/step - loss: 0.9611 - accuracy: 0.6686 - val_loss: 1.1044 - val_accuracy: 0.6118\n",
      "Epoch 12/15\n",
      "354/354 [==============================] - 134s 379ms/step - loss: 0.9361 - accuracy: 0.6800 - val_loss: 1.1825 - val_accuracy: 0.5840\n",
      "Epoch 13/15\n",
      "354/354 [==============================] - 135s 382ms/step - loss: 0.9072 - accuracy: 0.6874 - val_loss: 1.2445 - val_accuracy: 0.5805\n",
      "Epoch 14/15\n",
      "354/354 [==============================] - 135s 382ms/step - loss: 0.8944 - accuracy: 0.6931 - val_loss: 1.0718 - val_accuracy: 0.6217\n",
      "Epoch 15/15\n",
      "354/354 [==============================] - 133s 377ms/step - loss: 0.8684 - accuracy: 0.7064 - val_loss: 1.1775 - val_accuracy: 0.5927\n"
     ]
    }
   ],
   "source": [
    "earlyStoppingCallback = tf.keras.callbacks.EarlyStopping(monitor='val_loss', \n",
    "                                                         patience=EARLY_STOPPING_CRITERIA,\n",
    "                                                         verbose= 1 ,\n",
    "                                                         restore_best_weights=True\n",
    "                                                        )\n",
    "\n",
    "history = model.fit(x = train_generator,\n",
    "                    epochs = EPOCHS ,\n",
    "                    validation_data = validation_generator , \n",
    "                    callbacks= [earlyStoppingCallback])\n",
    "\n",
    "history = pd.DataFrame(history.history)"
   ]
  },
  {
   "cell_type": "markdown",
   "metadata": {
    "id": "4Kypqdy1DpZT"
   },
   "source": [
    "## Fine Tuning"
   ]
  },
  {
   "cell_type": "code",
   "execution_count": 51,
   "metadata": {
    "_kg_hide-output": true,
    "colab": {
     "base_uri": "https://localhost:8080/"
    },
    "execution": {
     "iopub.execute_input": "2021-10-28T16:40:49.276117Z",
     "iopub.status.busy": "2021-10-28T16:40:49.275615Z",
     "iopub.status.idle": "2021-10-28T16:48:28.259359Z",
     "shell.execute_reply": "2021-10-28T16:48:28.258509Z",
     "shell.execute_reply.started": "2021-10-28T16:40:49.276082Z"
    },
    "id": "nVGSccHhDpZT",
    "outputId": "4da15bcc-9b7f-4233-bd99-d687cd1291a3"
   },
   "outputs": [
    {
     "name": "stdout",
     "output_type": "stream",
     "text": [
      "Epoch 1/10\n",
      "354/354 [==============================] - 184s 389ms/step - loss: 0.7784 - accuracy: 0.7415 - val_loss: 1.0112 - val_accuracy: 0.6558\n",
      "Epoch 2/10\n",
      "354/354 [==============================] - 135s 381ms/step - loss: 0.7304 - accuracy: 0.7596 - val_loss: 1.0096 - val_accuracy: 0.6622\n",
      "Epoch 3/10\n",
      "354/354 [==============================] - 134s 379ms/step - loss: 0.7063 - accuracy: 0.7682 - val_loss: 1.0136 - val_accuracy: 0.6640\n",
      "Epoch 4/10\n",
      "354/354 [==============================] - 135s 381ms/step - loss: 0.6961 - accuracy: 0.7721 - val_loss: 1.0180 - val_accuracy: 0.6654\n",
      "Epoch 5/10\n",
      "354/354 [==============================] - 134s 379ms/step - loss: 0.6878 - accuracy: 0.7758 - val_loss: 1.0179 - val_accuracy: 0.6684\n",
      "Epoch 6/10\n",
      "354/354 [==============================] - 136s 384ms/step - loss: 0.6769 - accuracy: 0.7782 - val_loss: 1.0213 - val_accuracy: 0.6677\n",
      "Epoch 7/10\n",
      "354/354 [==============================] - 135s 381ms/step - loss: 0.6704 - accuracy: 0.7817 - val_loss: 1.0243 - val_accuracy: 0.6655\n",
      "Epoch 8/10\n",
      "354/354 [==============================] - 136s 384ms/step - loss: 0.6620 - accuracy: 0.7874 - val_loss: 1.0238 - val_accuracy: 0.6680\n",
      "Epoch 9/10\n",
      "354/354 [==============================] - 136s 384ms/step - loss: 0.6453 - accuracy: 0.7892 - val_loss: 1.0293 - val_accuracy: 0.6654\n",
      "Epoch 10/10\n",
      "354/354 [==============================] - 148s 418ms/step - loss: 0.6377 - accuracy: 0.7960 - val_loss: 1.0372 - val_accuracy: 0.6668\n"
     ]
    }
   ],
   "source": [
    "# Un-Freezing the feature extraction layers for fine tuning \n",
    "model.layers[1].trainable = True\n",
    "\n",
    "model.compile(optimizer=tf.keras.optimizers.SGD(0.001), #lower learning rate\n",
    "                loss='categorical_crossentropy',\n",
    "                metrics = ['accuracy'])\n",
    "\n",
    "history_ = model.fit(x = train_generator,epochs = FINE_TUNING_EPOCHS ,validation_data = validation_generator)\n",
    "history = history.append(pd.DataFrame(history_.history) , ignore_index=True)"
   ]
  },
  {
   "cell_type": "markdown",
   "metadata": {
    "id": "OdTvxl6EDpZU"
   },
   "source": [
    "## Model Evaluation"
   ]
  },
  {
   "cell_type": "code",
   "execution_count": 1,
   "metadata": {
    "_kg_hide-input": true,
    "colab": {
     "base_uri": "https://localhost:8080/",
     "height": 217
    },
    "execution": {
     "iopub.execute_input": "2021-12-09T06:44:17.805191Z",
     "iopub.status.busy": "2021-12-09T06:44:17.804752Z",
     "iopub.status.idle": "2021-12-09T06:45:06.832365Z",
     "shell.execute_reply": "2021-12-09T06:45:06.831617Z",
     "shell.execute_reply.started": "2021-12-09T06:44:17.805153Z"
    },
    "id": "oLcnaQ2JDpZU",
    "outputId": "2f1a36fd-1077-4053-e19f-a84eede34baf"
   },
   "outputs": [
    {
     "ename": "NameError",
     "evalue": "ignored",
     "output_type": "error",
     "traceback": [
      "\u001b[0;31m---------------------------------------------------------------------------\u001b[0m",
      "\u001b[0;31mNameError\u001b[0m                                 Traceback (most recent call last)",
      "\u001b[0;32m<ipython-input-1-2196e9f6eace>\u001b[0m in \u001b[0;36m<module>\u001b[0;34m\u001b[0m\n\u001b[0;32m----> 1\u001b[0;31m \u001b[0mmodel\u001b[0m\u001b[0;34m.\u001b[0m\u001b[0mevaluate\u001b[0m\u001b[0;34m(\u001b[0m\u001b[0mtest_generator\u001b[0m\u001b[0;34m)\u001b[0m\u001b[0;34m\u001b[0m\u001b[0;34m\u001b[0m\u001b[0m\n\u001b[0m\u001b[1;32m      2\u001b[0m \u001b[0mpreds\u001b[0m \u001b[0;34m=\u001b[0m \u001b[0mmodel\u001b[0m\u001b[0;34m.\u001b[0m\u001b[0mpredict\u001b[0m\u001b[0;34m(\u001b[0m\u001b[0mtest_generator\u001b[0m\u001b[0;34m)\u001b[0m\u001b[0;34m\u001b[0m\u001b[0;34m\u001b[0m\u001b[0m\n\u001b[1;32m      3\u001b[0m \u001b[0my_preds\u001b[0m \u001b[0;34m=\u001b[0m \u001b[0mnp\u001b[0m\u001b[0;34m.\u001b[0m\u001b[0margmax\u001b[0m\u001b[0;34m(\u001b[0m\u001b[0mpreds\u001b[0m \u001b[0;34m,\u001b[0m \u001b[0maxis\u001b[0m \u001b[0;34m=\u001b[0m \u001b[0;36m1\u001b[0m \u001b[0;34m)\u001b[0m\u001b[0;34m\u001b[0m\u001b[0;34m\u001b[0m\u001b[0m\n\u001b[1;32m      4\u001b[0m \u001b[0my_test\u001b[0m \u001b[0;34m=\u001b[0m \u001b[0mnp\u001b[0m\u001b[0;34m.\u001b[0m\u001b[0marray\u001b[0m\u001b[0;34m(\u001b[0m\u001b[0mtest_generator\u001b[0m\u001b[0;34m.\u001b[0m\u001b[0mlabels\u001b[0m\u001b[0;34m)\u001b[0m\u001b[0;34m\u001b[0m\u001b[0;34m\u001b[0m\u001b[0m\n",
      "\u001b[0;31mNameError\u001b[0m: name 'model' is not defined"
     ]
    }
   ],
   "source": [
    "model.evaluate(test_generator)\n",
    "preds = model.predict(test_generator)\n",
    "y_preds = np.argmax(preds , axis = 1 )\n",
    "y_test = np.array(test_generator.labels)"
   ]
  },
  {
   "cell_type": "markdown",
   "metadata": {
    "id": "waxTk9NHDpZU"
   },
   "source": [
    "## Confusion Matrix"
   ]
  },
  {
   "cell_type": "code",
   "execution_count": null,
   "metadata": {
    "_kg_hide-input": true,
    "execution": {
     "iopub.execute_input": "2021-12-09T06:47:43.863932Z",
     "iopub.status.busy": "2021-12-09T06:47:43.863038Z",
     "iopub.status.idle": "2021-12-09T06:47:44.278521Z",
     "shell.execute_reply": "2021-12-09T06:47:44.277838Z",
     "shell.execute_reply.started": "2021-12-09T06:47:43.863875Z"
    },
    "id": "82H6JfqfDpZV"
   },
   "outputs": [],
   "source": [
    "cm_data = confusion_matrix(y_test , y_preds)\n",
    "cm = pd.DataFrame(cm_data, columns=CLASS_LABELS, index = CLASS_LABELS)\n",
    "cm.index.name = 'Actual'\n",
    "cm.columns.name = 'Predicted'\n",
    "plt.figure(figsize = (20,10))\n",
    "plt.title('Confusion Matrix', fontsize = 20)\n",
    "sns.set(font_scale=1.2)\n",
    "ax = sns.heatmap(cm, cbar=False, cmap=\"Blues\", annot=True, annot_kws={\"size\": 16}, fmt='g')"
   ]
  },
  {
   "cell_type": "code",
   "execution_count": null,
   "metadata": {
    "id": "K7nXiXpdFmUk"
   },
   "outputs": [],
   "source": [
    "model.save('model6.h5')"
   ]
  },
  {
   "cell_type": "code",
   "execution_count": null,
   "metadata": {
    "id": "6aDvWSYTEEfv"
   },
   "outputs": [],
   "source": [
    "! pip install -q kaggle\n",
    "from google.colab import files\n",
    "\n",
    "files.upload()\n",
    "! mkdir ~/.kaggle\n",
    "\n",
    "! cp kaggle.json ~/.kaggle/\n",
    "! chmod 600 ~/.kaggle/kaggle.json\n",
    "! kaggle datasets list"
   ]
  },
  {
   "cell_type": "code",
   "execution_count": null,
   "metadata": {
    "id": "FJFZWVvkEWkb"
   },
   "outputs": [],
   "source": [
    "! kaggle datasets download -d ananthu017/emotion-detection-fer"
   ]
  },
  {
   "cell_type": "code",
   "execution_count": null,
   "metadata": {
    "id": "LseRYCvHEf06"
   },
   "outputs": [],
   "source": [
    "import zipfile\n",
    "import os\n",
    "\n",
    "data_r = zipfile.ZipFile('/content/emotion-detection-fer.zip', 'r')\n",
    "data_r.extractall()"
   ]
  },
  {
   "cell_type": "code",
   "execution_count": null,
   "metadata": {
    "id": "k-pC7RVIZu7r"
   },
   "outputs": [],
   "source": [
    "import shutil, sys \n",
    "shutil.rmtree('/content/test/disgusted')"
   ]
  }
 ],
 "metadata": {
  "accelerator": "GPU",
  "colab": {
   "provenance": []
  },
  "gpuClass": "standard",
  "kernelspec": {
   "display_name": "Python 3 (ipykernel)",
   "language": "python",
   "name": "python3"
  },
  "language_info": {
   "codemirror_mode": {
    "name": "ipython",
    "version": 3
   },
   "file_extension": ".py",
   "mimetype": "text/x-python",
   "name": "python",
   "nbconvert_exporter": "python",
   "pygments_lexer": "ipython3",
   "version": "3.8.10"
  }
 },
 "nbformat": 4,
 "nbformat_minor": 1
}
