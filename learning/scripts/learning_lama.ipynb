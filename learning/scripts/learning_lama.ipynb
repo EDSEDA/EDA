{
 "cells": [
  {
   "cell_type": "code",
   "execution_count": 1,
   "id": "initial_id",
   "metadata": {
    "collapsed": true,
    "ExecuteTime": {
     "end_time": "2023-11-16T03:16:28.787210975Z",
     "start_time": "2023-11-16T03:16:28.680236429Z"
    }
   },
   "outputs": [],
   "source": [
    "# !pip install opendatasets\n",
    "# !pip install -q kaggle\n",
    "# !pip install --upgrade --force-reinstall --no-deps kaggle\n",
    "# !pip install -U lightautoml==0.3.7.3"
   ]
  },
  {
   "cell_type": "code",
   "execution_count": 2,
   "outputs": [
    {
     "name": "stdout",
     "output_type": "stream",
     "text": [
      "3.9.18 (main, Sep 11 2023, 13:41:44) \n",
      "[GCC 11.2.0]\n"
     ]
    }
   ],
   "source": [
    "import sys\n",
    "print(sys.version)"
   ],
   "metadata": {
    "collapsed": false,
    "ExecuteTime": {
     "end_time": "2023-11-16T03:16:28.789002299Z",
     "start_time": "2023-11-16T03:16:28.722390140Z"
    }
   },
   "id": "4f6c7c2e6b4f8e5c"
  },
  {
   "cell_type": "code",
   "execution_count": 3,
   "outputs": [
    {
     "data": {
      "text/plain": "<function torch.cuda.is_available() -> bool>"
     },
     "execution_count": 3,
     "metadata": {},
     "output_type": "execute_result"
    }
   ],
   "source": [
    "import torch\n",
    "torch.cuda.is_available"
   ],
   "metadata": {
    "collapsed": false,
    "ExecuteTime": {
     "end_time": "2023-11-16T03:16:29.543773017Z",
     "start_time": "2023-11-16T03:16:28.722504775Z"
    }
   },
   "id": "aae70db9afb0a6a9"
  },
  {
   "cell_type": "code",
   "execution_count": 4,
   "outputs": [],
   "source": [
    "# Standard python libraries\n",
    "import os\n",
    "import time\n",
    "\n",
    "# Essential DS libraries\n",
    "import numpy as np\n",
    "import pandas as pd\n",
    "from sklearn.metrics import f1_score, accuracy_score, confusion_matrix\n",
    "from sklearn.model_selection import train_test_split\n",
    "import torch\n",
    "import seaborn as sns\n",
    "import matplotlib.pyplot as plt\n",
    "\n",
    "from lightautoml.automl.presets.image_presets import TabularCVAutoML\n",
    "from lightautoml.tasks import Task"
   ],
   "metadata": {
    "collapsed": false,
    "ExecuteTime": {
     "end_time": "2023-11-16T03:16:30.615035664Z",
     "start_time": "2023-11-16T03:16:29.545515623Z"
    }
   },
   "id": "4f7c35dbc8589d8f"
  },
  {
   "cell_type": "code",
   "execution_count": 5,
   "outputs": [],
   "source": [
    "INPUT_DIR = \"../data/data_fer_bin/\""
   ],
   "metadata": {
    "collapsed": false,
    "ExecuteTime": {
     "end_time": "2023-11-16T03:16:30.615393353Z",
     "start_time": "2023-11-16T03:16:30.605269166Z"
    }
   },
   "id": "22ca30d6f9c9e835"
  },
  {
   "cell_type": "code",
   "execution_count": 6,
   "outputs": [
    {
     "name": "stdout",
     "output_type": "stream",
     "text": [
      "(25532, 2)\n"
     ]
    },
    {
     "data": {
      "text/plain": "      label            image_id\n0  negative   im1075sadness.png\n1  negative   im2985fearful.png\n2  negative  im100disgusted.png\n3  negative   im1326fearful.png\n4  negative   im3668fearful.png",
      "text/html": "<div>\n<style scoped>\n    .dataframe tbody tr th:only-of-type {\n        vertical-align: middle;\n    }\n\n    .dataframe tbody tr th {\n        vertical-align: top;\n    }\n\n    .dataframe thead th {\n        text-align: right;\n    }\n</style>\n<table border=\"1\" class=\"dataframe\">\n  <thead>\n    <tr style=\"text-align: right;\">\n      <th></th>\n      <th>label</th>\n      <th>image_id</th>\n    </tr>\n  </thead>\n  <tbody>\n    <tr>\n      <th>0</th>\n      <td>negative</td>\n      <td>im1075sadness.png</td>\n    </tr>\n    <tr>\n      <th>1</th>\n      <td>negative</td>\n      <td>im2985fearful.png</td>\n    </tr>\n    <tr>\n      <th>2</th>\n      <td>negative</td>\n      <td>im100disgusted.png</td>\n    </tr>\n    <tr>\n      <th>3</th>\n      <td>negative</td>\n      <td>im1326fearful.png</td>\n    </tr>\n    <tr>\n      <th>4</th>\n      <td>negative</td>\n      <td>im3668fearful.png</td>\n    </tr>\n  </tbody>\n</table>\n</div>"
     },
     "execution_count": 6,
     "metadata": {},
     "output_type": "execute_result"
    }
   ],
   "source": [
    "train_data = pd.read_csv(\"../data/data_fer_bin/lama_data_unique.csv\")\n",
    "print(train_data.shape)\n",
    "train_data.head()"
   ],
   "metadata": {
    "collapsed": false,
    "ExecuteTime": {
     "end_time": "2023-11-16T03:16:30.634650975Z",
     "start_time": "2023-11-16T03:16:30.607150451Z"
    }
   },
   "id": "4cf692faa7748f63"
  },
  {
   "cell_type": "code",
   "execution_count": 7,
   "outputs": [
    {
     "name": "stdout",
     "output_type": "stream",
     "text": [
      "(6347, 2)\n"
     ]
    },
    {
     "data": {
      "text/plain": "      label            image_id\n0  negative   im1075sadness.png\n1  negative  im100disgusted.png\n2  negative       im19angry.png\n3  negative   im78disgusted.png\n4  negative    im655sadness.png",
      "text/html": "<div>\n<style scoped>\n    .dataframe tbody tr th:only-of-type {\n        vertical-align: middle;\n    }\n\n    .dataframe tbody tr th {\n        vertical-align: top;\n    }\n\n    .dataframe thead th {\n        text-align: right;\n    }\n</style>\n<table border=\"1\" class=\"dataframe\">\n  <thead>\n    <tr style=\"text-align: right;\">\n      <th></th>\n      <th>label</th>\n      <th>image_id</th>\n    </tr>\n  </thead>\n  <tbody>\n    <tr>\n      <th>0</th>\n      <td>negative</td>\n      <td>im1075sadness.png</td>\n    </tr>\n    <tr>\n      <th>1</th>\n      <td>negative</td>\n      <td>im100disgusted.png</td>\n    </tr>\n    <tr>\n      <th>2</th>\n      <td>negative</td>\n      <td>im19angry.png</td>\n    </tr>\n    <tr>\n      <th>3</th>\n      <td>negative</td>\n      <td>im78disgusted.png</td>\n    </tr>\n    <tr>\n      <th>4</th>\n      <td>negative</td>\n      <td>im655sadness.png</td>\n    </tr>\n  </tbody>\n</table>\n</div>"
     },
     "execution_count": 7,
     "metadata": {},
     "output_type": "execute_result"
    }
   ],
   "source": [
    "submission = pd.read_csv(\"../data/data_fer_bin/lama_data_test_unique.csv\")\n",
    "print(submission.shape)\n",
    "submission.head()"
   ],
   "metadata": {
    "collapsed": false,
    "ExecuteTime": {
     "end_time": "2023-11-16T03:16:30.635049337Z",
     "start_time": "2023-11-16T03:16:30.624134576Z"
    }
   },
   "id": "8421eee3a5e0380a"
  },
  {
   "cell_type": "code",
   "execution_count": 8,
   "outputs": [
    {
     "name": "stdout",
     "output_type": "stream",
     "text": [
      "CPU times: user 1.56 ms, sys: 4.93 ms, total: 6.49 ms\n",
      "Wall time: 6.32 ms\n"
     ]
    },
    {
     "data": {
      "text/plain": "      label            image_id  \\\n0  negative   im1075sadness.png   \n1  negative   im2985fearful.png   \n2  negative  im100disgusted.png   \n3  negative   im1326fearful.png   \n4  negative   im3668fearful.png   \n\n                                                path  \n0  ../data/data_fer_bin/train/negative/im1075sadn...  \n1  ../data/data_fer_bin/train/negative/im2985fear...  \n2  ../data/data_fer_bin/train/negative/im100disgu...  \n3  ../data/data_fer_bin/train/negative/im1326fear...  \n4  ../data/data_fer_bin/train/negative/im3668fear...  ",
      "text/html": "<div>\n<style scoped>\n    .dataframe tbody tr th:only-of-type {\n        vertical-align: middle;\n    }\n\n    .dataframe tbody tr th {\n        vertical-align: top;\n    }\n\n    .dataframe thead th {\n        text-align: right;\n    }\n</style>\n<table border=\"1\" class=\"dataframe\">\n  <thead>\n    <tr style=\"text-align: right;\">\n      <th></th>\n      <th>label</th>\n      <th>image_id</th>\n      <th>path</th>\n    </tr>\n  </thead>\n  <tbody>\n    <tr>\n      <th>0</th>\n      <td>negative</td>\n      <td>im1075sadness.png</td>\n      <td>../data/data_fer_bin/train/negative/im1075sadn...</td>\n    </tr>\n    <tr>\n      <th>1</th>\n      <td>negative</td>\n      <td>im2985fearful.png</td>\n      <td>../data/data_fer_bin/train/negative/im2985fear...</td>\n    </tr>\n    <tr>\n      <th>2</th>\n      <td>negative</td>\n      <td>im100disgusted.png</td>\n      <td>../data/data_fer_bin/train/negative/im100disgu...</td>\n    </tr>\n    <tr>\n      <th>3</th>\n      <td>negative</td>\n      <td>im1326fearful.png</td>\n      <td>../data/data_fer_bin/train/negative/im1326fear...</td>\n    </tr>\n    <tr>\n      <th>4</th>\n      <td>negative</td>\n      <td>im3668fearful.png</td>\n      <td>../data/data_fer_bin/train/negative/im3668fear...</td>\n    </tr>\n  </tbody>\n</table>\n</div>"
     },
     "execution_count": 8,
     "metadata": {},
     "output_type": "execute_result"
    }
   ],
   "source": [
    "%%time\n",
    "\n",
    "train_data['path'] = INPUT_DIR + 'train/' + train_data['label'] + '/' + train_data['image_id']\n",
    "train_data.head()"
   ],
   "metadata": {
    "collapsed": false,
    "ExecuteTime": {
     "end_time": "2023-11-16T03:16:30.729772337Z",
     "start_time": "2023-11-16T03:16:30.631485924Z"
    }
   },
   "id": "9da7488907a8a8c3"
  },
  {
   "cell_type": "code",
   "execution_count": 9,
   "outputs": [
    {
     "data": {
      "text/plain": "      label            image_id  \\\n0  negative   im1075sadness.png   \n1  negative  im100disgusted.png   \n2  negative       im19angry.png   \n3  negative   im78disgusted.png   \n4  negative    im655sadness.png   \n\n                                                path  \n0  ../data/data_fer_bin/test/negative/im1075sadne...  \n1  ../data/data_fer_bin/test/negative/im100disgus...  \n2   ../data/data_fer_bin/test/negative/im19angry.png  \n3  ../data/data_fer_bin/test/negative/im78disgust...  \n4  ../data/data_fer_bin/test/negative/im655sadnes...  ",
      "text/html": "<div>\n<style scoped>\n    .dataframe tbody tr th:only-of-type {\n        vertical-align: middle;\n    }\n\n    .dataframe tbody tr th {\n        vertical-align: top;\n    }\n\n    .dataframe thead th {\n        text-align: right;\n    }\n</style>\n<table border=\"1\" class=\"dataframe\">\n  <thead>\n    <tr style=\"text-align: right;\">\n      <th></th>\n      <th>label</th>\n      <th>image_id</th>\n      <th>path</th>\n    </tr>\n  </thead>\n  <tbody>\n    <tr>\n      <th>0</th>\n      <td>negative</td>\n      <td>im1075sadness.png</td>\n      <td>../data/data_fer_bin/test/negative/im1075sadne...</td>\n    </tr>\n    <tr>\n      <th>1</th>\n      <td>negative</td>\n      <td>im100disgusted.png</td>\n      <td>../data/data_fer_bin/test/negative/im100disgus...</td>\n    </tr>\n    <tr>\n      <th>2</th>\n      <td>negative</td>\n      <td>im19angry.png</td>\n      <td>../data/data_fer_bin/test/negative/im19angry.png</td>\n    </tr>\n    <tr>\n      <th>3</th>\n      <td>negative</td>\n      <td>im78disgusted.png</td>\n      <td>../data/data_fer_bin/test/negative/im78disgust...</td>\n    </tr>\n    <tr>\n      <th>4</th>\n      <td>negative</td>\n      <td>im655sadness.png</td>\n      <td>../data/data_fer_bin/test/negative/im655sadnes...</td>\n    </tr>\n  </tbody>\n</table>\n</div>"
     },
     "execution_count": 9,
     "metadata": {},
     "output_type": "execute_result"
    }
   ],
   "source": [
    "submission['path'] = INPUT_DIR + 'test/' + submission['label'] + '/' + submission['image_id']\n",
    "submission.head()"
   ],
   "metadata": {
    "collapsed": false,
    "ExecuteTime": {
     "end_time": "2023-11-16T03:16:30.730034606Z",
     "start_time": "2023-11-16T03:16:30.686334469Z"
    }
   },
   "id": "717bf45640b7e066"
  },
  {
   "cell_type": "code",
   "execution_count": 10,
   "outputs": [],
   "source": [
    "task = Task('multiclass')\n",
    "roles = {\n",
    "    'target': 'label',\n",
    "    'path': ['path'],\n",
    "    'group': 'image_id'\n",
    "}\n",
    "\n",
    "automl = TabularCVAutoML(task = task,\n",
    "                         timeout= 5 * 3600,\n",
    "                        cpu_limit = 8,\n",
    "                        reader_params = {'cv': 5, 'random_state': 1})"
   ],
   "metadata": {
    "collapsed": false,
    "ExecuteTime": {
     "end_time": "2023-11-16T03:16:30.763199139Z",
     "start_time": "2023-11-16T03:16:30.686428597Z"
    }
   },
   "id": "253fe1836eb86e31"
  },
  {
   "cell_type": "code",
   "execution_count": 11,
   "outputs": [
    {
     "name": "stdout",
     "output_type": "stream",
     "text": [
      "[06:16:30] Stdout logging level is INFO3.\n",
      "[06:16:30] Task: multiclass\n",
      "\n",
      "[06:16:30] Start automl preset with listed constraints:\n",
      "[06:16:30] - time: 18000.00 seconds\n",
      "[06:16:30] - CPU: 8 cores\n",
      "[06:16:30] - memory: 16 GB\n",
      "\n",
      "[06:16:30] \u001B[1mTrain data shape: (25532, 3)\u001B[0m\n",
      "[06:16:30] Layer \u001B[1m1\u001B[0m train process start. Time left 17999.95 secs\n",
      "Loaded pretrained weights for efficientnet-b0\n",
      "[06:16:31] Load saved dataset for path\n",
      "[06:16:31] Feature path transformed\n",
      "[06:16:32] Start fitting \u001B[1mLvl_0_Pipe_0_Mod_0_LinearL2\u001B[0m ...\n",
      "[06:16:32] ===== Start working with \u001B[1mfold 0\u001B[0m for \u001B[1mLvl_0_Pipe_0_Mod_0_LinearL2\u001B[0m =====\n",
      "[06:16:33] Linear model: C = 1e-05 score = -0.782045323943201\n",
      "[06:16:34] Linear model: C = 5e-05 score = -0.6895453815206303\n",
      "[06:16:34] Linear model: C = 0.0001 score = -0.6595499787681108\n",
      "[06:16:35] Linear model: C = 0.0005 score = -0.6170348364383338\n",
      "[06:16:36] Linear model: C = 0.001 score = -0.6115461290119615\n",
      "[06:16:37] Linear model: C = 0.005 score = -0.6237990318599017\n",
      "[06:16:38] Linear model: C = 0.01 score = -0.6347244552876148\n",
      "[06:16:39] ===== Start working with \u001B[1mfold 1\u001B[0m for \u001B[1mLvl_0_Pipe_0_Mod_0_LinearL2\u001B[0m =====\n",
      "[06:16:39] Linear model: C = 1e-05 score = -0.7925065172364971\n",
      "[06:16:40] Linear model: C = 5e-05 score = -0.70045912426105\n",
      "[06:16:41] Linear model: C = 0.0001 score = -0.6705998692158909\n",
      "[06:16:42] Linear model: C = 0.0005 score = -0.6326966243175352\n",
      "[06:16:43] Linear model: C = 0.001 score = -0.6316328308274292\n",
      "[06:16:44] Linear model: C = 0.005 score = -0.6555822017538471\n",
      "[06:16:46] Linear model: C = 0.01 score = -0.6706145340532584\n",
      "[06:16:46] ===== Start working with \u001B[1mfold 2\u001B[0m for \u001B[1mLvl_0_Pipe_0_Mod_0_LinearL2\u001B[0m =====\n",
      "[06:16:46] Linear model: C = 1e-05 score = -0.7891456509064727\n",
      "[06:16:47] Linear model: C = 5e-05 score = -0.6946323183435769\n",
      "[06:16:47] Linear model: C = 0.0001 score = -0.6637891476890282\n",
      "[06:16:48] Linear model: C = 0.0005 score = -0.6230179998909046\n",
      "[06:16:49] Linear model: C = 0.001 score = -0.6201667792450914\n",
      "[06:16:50] Linear model: C = 0.005 score = -0.6404684587739394\n",
      "[06:16:51] Linear model: C = 0.01 score = -0.654218216894613\n",
      "[06:16:52] ===== Start working with \u001B[1mfold 3\u001B[0m for \u001B[1mLvl_0_Pipe_0_Mod_0_LinearL2\u001B[0m =====\n",
      "[06:16:52] Linear model: C = 1e-05 score = -0.7875236670227728\n",
      "[06:16:53] Linear model: C = 5e-05 score = -0.6949254935768173\n",
      "[06:16:53] Linear model: C = 0.0001 score = -0.6647798053093564\n",
      "[06:16:54] Linear model: C = 0.0005 score = -0.6275534845664047\n",
      "[06:16:55] Linear model: C = 0.001 score = -0.6272242679526532\n",
      "[06:16:56] Linear model: C = 0.005 score = -0.6515939526679958\n",
      "[06:16:58] Linear model: C = 0.01 score = -0.6659909040301788\n",
      "[06:16:58] ===== Start working with \u001B[1mfold 4\u001B[0m for \u001B[1mLvl_0_Pipe_0_Mod_0_LinearL2\u001B[0m =====\n",
      "[06:16:58] Linear model: C = 1e-05 score = -0.7936723500950239\n",
      "[06:16:59] Linear model: C = 5e-05 score = -0.702685934009253\n",
      "[06:17:00] Linear model: C = 0.0001 score = -0.6722292952830202\n",
      "[06:17:00] Linear model: C = 0.0005 score = -0.630325976006889\n",
      "[06:17:01] Linear model: C = 0.001 score = -0.6266017280102419\n",
      "[06:17:03] Linear model: C = 0.005 score = -0.6451216280977934\n",
      "[06:17:04] Linear model: C = 0.01 score = -0.6586339358902346\n",
      "[06:17:04] Fitting \u001B[1mLvl_0_Pipe_0_Mod_0_LinearL2\u001B[0m finished. score = \u001B[1m-0.6234342024953684\u001B[0m\n",
      "[06:17:04] \u001B[1mLvl_0_Pipe_0_Mod_0_LinearL2\u001B[0m fitting and predicting completed\n",
      "[06:17:04] Time left 17966.61 secs\n",
      "[06:17:07] Start fitting \u001B[1mLvl_0_Pipe_1_Mod_0_CatBoost\u001B[0m ...\n",
      "[06:17:07] ===== Start working with \u001B[1mfold 0\u001B[0m for \u001B[1mLvl_0_Pipe_1_Mod_0_CatBoost\u001B[0m =====\n",
      "[06:17:07] 0:\tlearn: 1.0929081\ttest: 1.0930269\tbest: 1.0930269 (0)\ttotal: 66.2ms\tremaining: 3m 18s\n",
      "[06:17:10] bestTest = 0.9754079113\n",
      "[06:17:10] bestIteration = 1675\n",
      "[06:17:10] Shrink model to first 1676 iterations.\n",
      "[06:17:10] ===== Start working with \u001B[1mfold 1\u001B[0m for \u001B[1mLvl_0_Pipe_1_Mod_0_CatBoost\u001B[0m =====\n",
      "[06:17:11] 0:\tlearn: 1.0928983\ttest: 1.0931162\tbest: 1.0931162 (0)\ttotal: 4.02ms\tremaining: 12.1s\n",
      "[06:17:14] bestTest = 0.9762833182\n",
      "[06:17:14] bestIteration = 1974\n",
      "[06:17:14] Shrink model to first 1975 iterations.\n",
      "[06:17:14] ===== Start working with \u001B[1mfold 2\u001B[0m for \u001B[1mLvl_0_Pipe_1_Mod_0_CatBoost\u001B[0m =====\n",
      "[06:17:14] 0:\tlearn: 1.0929541\ttest: 1.0932132\tbest: 1.0932132 (0)\ttotal: 1.96ms\tremaining: 5.87s\n",
      "[06:17:16] bestTest = 0.9875948256\n",
      "[06:17:16] bestIteration = 955\n",
      "[06:17:16] Shrink model to first 956 iterations.\n",
      "[06:17:16] ===== Start working with \u001B[1mfold 3\u001B[0m for \u001B[1mLvl_0_Pipe_1_Mod_0_CatBoost\u001B[0m =====\n",
      "[06:17:16] 0:\tlearn: 1.0928382\ttest: 1.0931208\tbest: 1.0931208 (0)\ttotal: 3.63ms\tremaining: 10.9s\n",
      "[06:17:18] bestTest = 0.9833586559\n",
      "[06:17:18] bestIteration = 1335\n",
      "[06:17:18] Shrink model to first 1336 iterations.\n",
      "[06:17:19] ===== Start working with \u001B[1mfold 4\u001B[0m for \u001B[1mLvl_0_Pipe_1_Mod_0_CatBoost\u001B[0m =====\n",
      "[06:17:19] 0:\tlearn: 1.0929239\ttest: 1.0931507\tbest: 1.0931507 (0)\ttotal: 2.47ms\tremaining: 7.41s\n",
      "[06:17:22] bestTest = 0.9835947637\n",
      "[06:17:22] bestIteration = 1697\n",
      "[06:17:22] Shrink model to first 1698 iterations.\n",
      "[06:17:22] Fitting \u001B[1mLvl_0_Pipe_1_Mod_0_CatBoost\u001B[0m finished. score = \u001B[1m-0.9812474525889334\u001B[0m\n",
      "[06:17:22] \u001B[1mLvl_0_Pipe_1_Mod_0_CatBoost\u001B[0m fitting and predicting completed\n",
      "[06:17:22] Time left 17948.59 secs\n",
      "\n",
      "[06:17:22] \u001B[1mLayer 1 training completed.\u001B[0m\n",
      "\n",
      "[06:17:22] Blending: optimization starts with equal weights and score \u001B[1m-0.7262398300473045\u001B[0m\n",
      "[06:17:22] Blending: iteration \u001B[1m0\u001B[0m: score = \u001B[1m-0.6223651832144703\u001B[0m, weights = \u001B[1m[0.9442719  0.05572809]\u001B[0m\n",
      "[06:17:22] Blending: iteration \u001B[1m1\u001B[0m: score = \u001B[1m-0.6223651832144703\u001B[0m, weights = \u001B[1m[0.9442719  0.05572809]\u001B[0m\n",
      "[06:17:22] Blending: no score update. Terminated\n",
      "\n",
      "[06:17:22] \u001B[1mAutoml preset training completed in 51.59 seconds\u001B[0m\n",
      "\n",
      "[06:17:22] Model description:\n",
      "Final prediction for new objects (level 0) = \n",
      "\t 0.94427 * (5 averaged models Lvl_0_Pipe_0_Mod_0_LinearL2) +\n",
      "\t 0.05573 * (5 averaged models Lvl_0_Pipe_1_Mod_0_CatBoost) \n",
      "\n",
      "CPU times: user 4min 32s, sys: 21.7 s, total: 4min 54s\n",
      "Wall time: 51.6 s\n"
     ]
    }
   ],
   "source": [
    "%%time\n",
    "oof_pred = automl.fit_predict(train_data, roles = roles, verbose = 3)"
   ],
   "metadata": {
    "collapsed": false,
    "ExecuteTime": {
     "end_time": "2023-11-16T03:17:22.383129330Z",
     "start_time": "2023-11-16T03:16:30.736226549Z"
    }
   },
   "id": "fa42f62054614139"
  },
  {
   "cell_type": "code",
   "execution_count": 12,
   "outputs": [
    {
     "data": {
      "text/plain": "                 image_id     label\n0       im1075sadness.png  negative\n1       im2985fearful.png  negative\n2      im100disgusted.png  negative\n3       im1326fearful.png  negative\n4       im3668fearful.png  negative\n...                   ...       ...\n25527          im3171.png  positive\n25528          im6214.png  positive\n25529          im3623.png  positive\n25530          im6174.png  positive\n25531          im1783.png  positive\n\n[25532 rows x 2 columns]",
      "text/html": "<div>\n<style scoped>\n    .dataframe tbody tr th:only-of-type {\n        vertical-align: middle;\n    }\n\n    .dataframe tbody tr th {\n        vertical-align: top;\n    }\n\n    .dataframe thead th {\n        text-align: right;\n    }\n</style>\n<table border=\"1\" class=\"dataframe\">\n  <thead>\n    <tr style=\"text-align: right;\">\n      <th></th>\n      <th>image_id</th>\n      <th>label</th>\n    </tr>\n  </thead>\n  <tbody>\n    <tr>\n      <th>0</th>\n      <td>im1075sadness.png</td>\n      <td>negative</td>\n    </tr>\n    <tr>\n      <th>1</th>\n      <td>im2985fearful.png</td>\n      <td>negative</td>\n    </tr>\n    <tr>\n      <th>2</th>\n      <td>im100disgusted.png</td>\n      <td>negative</td>\n    </tr>\n    <tr>\n      <th>3</th>\n      <td>im1326fearful.png</td>\n      <td>negative</td>\n    </tr>\n    <tr>\n      <th>4</th>\n      <td>im3668fearful.png</td>\n      <td>negative</td>\n    </tr>\n    <tr>\n      <th>...</th>\n      <td>...</td>\n      <td>...</td>\n    </tr>\n    <tr>\n      <th>25527</th>\n      <td>im3171.png</td>\n      <td>positive</td>\n    </tr>\n    <tr>\n      <th>25528</th>\n      <td>im6214.png</td>\n      <td>positive</td>\n    </tr>\n    <tr>\n      <th>25529</th>\n      <td>im3623.png</td>\n      <td>positive</td>\n    </tr>\n    <tr>\n      <th>25530</th>\n      <td>im6174.png</td>\n      <td>positive</td>\n    </tr>\n    <tr>\n      <th>25531</th>\n      <td>im1783.png</td>\n      <td>positive</td>\n    </tr>\n  </tbody>\n</table>\n<p>25532 rows × 2 columns</p>\n</div>"
     },
     "execution_count": 12,
     "metadata": {},
     "output_type": "execute_result"
    }
   ],
   "source": [
    "preds = train_data[['image_id', 'label']]\n",
    "preds"
   ],
   "metadata": {
    "collapsed": false,
    "ExecuteTime": {
     "end_time": "2023-11-16T03:17:22.427150462Z",
     "start_time": "2023-11-16T03:17:22.381932382Z"
    }
   },
   "id": "95af599f8d89a1b2"
  },
  {
   "cell_type": "code",
   "execution_count": 13,
   "outputs": [
    {
     "name": "stdout",
     "output_type": "stream",
     "text": [
      "0\n",
      "1\n",
      "2\n"
     ]
    },
    {
     "data": {
      "text/plain": "                 image_id     label    pred_0    pred_1    pred_2\n0       im1075sadness.png  negative  0.556561  0.229362  0.214077\n1       im2985fearful.png  negative  0.822039  0.026711  0.151251\n2      im100disgusted.png  negative  0.938801  0.017291  0.043908\n3       im1326fearful.png  negative  0.927618  0.057045  0.015337\n4       im3668fearful.png  negative  0.330168  0.251624  0.418209\n...                   ...       ...       ...       ...       ...\n25527          im3171.png  positive  0.160723  0.772609  0.066668\n25528          im6214.png  positive  0.061121  0.919366  0.019512\n25529          im3623.png  positive  0.047145  0.904301  0.048554\n25530          im6174.png  positive  0.155338  0.737930  0.106732\n25531          im1783.png  positive  0.056352  0.861528  0.082120\n\n[25532 rows x 5 columns]",
      "text/html": "<div>\n<style scoped>\n    .dataframe tbody tr th:only-of-type {\n        vertical-align: middle;\n    }\n\n    .dataframe tbody tr th {\n        vertical-align: top;\n    }\n\n    .dataframe thead th {\n        text-align: right;\n    }\n</style>\n<table border=\"1\" class=\"dataframe\">\n  <thead>\n    <tr style=\"text-align: right;\">\n      <th></th>\n      <th>image_id</th>\n      <th>label</th>\n      <th>pred_0</th>\n      <th>pred_1</th>\n      <th>pred_2</th>\n    </tr>\n  </thead>\n  <tbody>\n    <tr>\n      <th>0</th>\n      <td>im1075sadness.png</td>\n      <td>negative</td>\n      <td>0.556561</td>\n      <td>0.229362</td>\n      <td>0.214077</td>\n    </tr>\n    <tr>\n      <th>1</th>\n      <td>im2985fearful.png</td>\n      <td>negative</td>\n      <td>0.822039</td>\n      <td>0.026711</td>\n      <td>0.151251</td>\n    </tr>\n    <tr>\n      <th>2</th>\n      <td>im100disgusted.png</td>\n      <td>negative</td>\n      <td>0.938801</td>\n      <td>0.017291</td>\n      <td>0.043908</td>\n    </tr>\n    <tr>\n      <th>3</th>\n      <td>im1326fearful.png</td>\n      <td>negative</td>\n      <td>0.927618</td>\n      <td>0.057045</td>\n      <td>0.015337</td>\n    </tr>\n    <tr>\n      <th>4</th>\n      <td>im3668fearful.png</td>\n      <td>negative</td>\n      <td>0.330168</td>\n      <td>0.251624</td>\n      <td>0.418209</td>\n    </tr>\n    <tr>\n      <th>...</th>\n      <td>...</td>\n      <td>...</td>\n      <td>...</td>\n      <td>...</td>\n      <td>...</td>\n    </tr>\n    <tr>\n      <th>25527</th>\n      <td>im3171.png</td>\n      <td>positive</td>\n      <td>0.160723</td>\n      <td>0.772609</td>\n      <td>0.066668</td>\n    </tr>\n    <tr>\n      <th>25528</th>\n      <td>im6214.png</td>\n      <td>positive</td>\n      <td>0.061121</td>\n      <td>0.919366</td>\n      <td>0.019512</td>\n    </tr>\n    <tr>\n      <th>25529</th>\n      <td>im3623.png</td>\n      <td>positive</td>\n      <td>0.047145</td>\n      <td>0.904301</td>\n      <td>0.048554</td>\n    </tr>\n    <tr>\n      <th>25530</th>\n      <td>im6174.png</td>\n      <td>positive</td>\n      <td>0.155338</td>\n      <td>0.737930</td>\n      <td>0.106732</td>\n    </tr>\n    <tr>\n      <th>25531</th>\n      <td>im1783.png</td>\n      <td>positive</td>\n      <td>0.056352</td>\n      <td>0.861528</td>\n      <td>0.082120</td>\n    </tr>\n  </tbody>\n</table>\n<p>25532 rows × 5 columns</p>\n</div>"
     },
     "execution_count": 13,
     "metadata": {},
     "output_type": "execute_result"
    }
   ],
   "source": [
    "for i in range(3):\n",
    "    preds['pred_' + str(i)] = oof_pred.data[:,i]\n",
    "    print(i)\n",
    "\n",
    "preds"
   ],
   "metadata": {
    "collapsed": false,
    "ExecuteTime": {
     "end_time": "2023-11-16T03:17:22.428013581Z",
     "start_time": "2023-11-16T03:17:22.426665361Z"
    }
   },
   "id": "6c3806670696cc92"
  },
  {
   "cell_type": "code",
   "execution_count": 14,
   "outputs": [
    {
     "data": {
      "text/plain": "               image_id     label    pred_0    pred_1    pred_2\n0               im0.png   neutral  0.127134  0.023290  0.849577\n1               im0.png  positive  0.289987  0.550906  0.159106\n2          im0angry.png  negative  0.880671  0.016610  0.102719\n3      im0disgusted.png  negative  0.685873  0.275425  0.038702\n4        im0fearful.png  negative  0.939723  0.012418  0.047858\n...                 ...       ...       ...       ...       ...\n25527   im99sadness.png  negative  0.650687  0.105185  0.244128\n25528      im9angry.png  negative  0.821001  0.051212  0.127787\n25529  im9disgusted.png  negative  0.896077  0.060836  0.043087\n25530    im9fearful.png  negative  0.631960  0.151731  0.216309\n25531    im9sadness.png  negative  0.832204  0.078054  0.089741\n\n[25532 rows x 5 columns]",
      "text/html": "<div>\n<style scoped>\n    .dataframe tbody tr th:only-of-type {\n        vertical-align: middle;\n    }\n\n    .dataframe tbody tr th {\n        vertical-align: top;\n    }\n\n    .dataframe thead th {\n        text-align: right;\n    }\n</style>\n<table border=\"1\" class=\"dataframe\">\n  <thead>\n    <tr style=\"text-align: right;\">\n      <th></th>\n      <th>image_id</th>\n      <th>label</th>\n      <th>pred_0</th>\n      <th>pred_1</th>\n      <th>pred_2</th>\n    </tr>\n  </thead>\n  <tbody>\n    <tr>\n      <th>0</th>\n      <td>im0.png</td>\n      <td>neutral</td>\n      <td>0.127134</td>\n      <td>0.023290</td>\n      <td>0.849577</td>\n    </tr>\n    <tr>\n      <th>1</th>\n      <td>im0.png</td>\n      <td>positive</td>\n      <td>0.289987</td>\n      <td>0.550906</td>\n      <td>0.159106</td>\n    </tr>\n    <tr>\n      <th>2</th>\n      <td>im0angry.png</td>\n      <td>negative</td>\n      <td>0.880671</td>\n      <td>0.016610</td>\n      <td>0.102719</td>\n    </tr>\n    <tr>\n      <th>3</th>\n      <td>im0disgusted.png</td>\n      <td>negative</td>\n      <td>0.685873</td>\n      <td>0.275425</td>\n      <td>0.038702</td>\n    </tr>\n    <tr>\n      <th>4</th>\n      <td>im0fearful.png</td>\n      <td>negative</td>\n      <td>0.939723</td>\n      <td>0.012418</td>\n      <td>0.047858</td>\n    </tr>\n    <tr>\n      <th>...</th>\n      <td>...</td>\n      <td>...</td>\n      <td>...</td>\n      <td>...</td>\n      <td>...</td>\n    </tr>\n    <tr>\n      <th>25527</th>\n      <td>im99sadness.png</td>\n      <td>negative</td>\n      <td>0.650687</td>\n      <td>0.105185</td>\n      <td>0.244128</td>\n    </tr>\n    <tr>\n      <th>25528</th>\n      <td>im9angry.png</td>\n      <td>negative</td>\n      <td>0.821001</td>\n      <td>0.051212</td>\n      <td>0.127787</td>\n    </tr>\n    <tr>\n      <th>25529</th>\n      <td>im9disgusted.png</td>\n      <td>negative</td>\n      <td>0.896077</td>\n      <td>0.060836</td>\n      <td>0.043087</td>\n    </tr>\n    <tr>\n      <th>25530</th>\n      <td>im9fearful.png</td>\n      <td>negative</td>\n      <td>0.631960</td>\n      <td>0.151731</td>\n      <td>0.216309</td>\n    </tr>\n    <tr>\n      <th>25531</th>\n      <td>im9sadness.png</td>\n      <td>negative</td>\n      <td>0.832204</td>\n      <td>0.078054</td>\n      <td>0.089741</td>\n    </tr>\n  </tbody>\n</table>\n<p>25532 rows × 5 columns</p>\n</div>"
     },
     "execution_count": 14,
     "metadata": {},
     "output_type": "execute_result"
    }
   ],
   "source": [
    "preds = preds.groupby(['image_id', 'label']).mean().reset_index()\n",
    "preds"
   ],
   "metadata": {
    "collapsed": false,
    "ExecuteTime": {
     "end_time": "2023-11-16T03:17:22.428180290Z",
     "start_time": "2023-11-16T03:17:22.426817855Z"
    }
   },
   "id": "d758379cf8ab329f"
  },
  {
   "cell_type": "code",
   "execution_count": 15,
   "outputs": [
    {
     "data": {
      "text/plain": "array([2, 1, 0, ..., 0, 0, 0])"
     },
     "execution_count": 15,
     "metadata": {},
     "output_type": "execute_result"
    }
   ],
   "source": [
    "OOFs = np.argmax(preds[['pred_' + str(i) for i in range(3)]].values, axis = 1)\n",
    "OOFs"
   ],
   "metadata": {
    "collapsed": false,
    "ExecuteTime": {
     "end_time": "2023-11-16T03:17:22.428259672Z",
     "start_time": "2023-11-16T03:17:22.426977Z"
    }
   },
   "id": "a7b2853a7df36758"
  },
  {
   "cell_type": "code",
   "execution_count": 16,
   "outputs": [
    {
     "name": "stdout",
     "output_type": "stream",
     "text": [
      "Out-of-fold accuracy: 0.7436550211499295\n"
     ]
    }
   ],
   "source": [
    "accuracy = (OOFs == preds['label'].map(automl.reader.class_mapping)).mean()\n",
    "print(f'Out-of-fold accuracy: {accuracy}')"
   ],
   "metadata": {
    "collapsed": false,
    "ExecuteTime": {
     "end_time": "2023-11-16T03:17:22.428308249Z",
     "start_time": "2023-11-16T03:17:22.427062304Z"
    }
   },
   "id": "455afe913a0c72a3"
  },
  {
   "cell_type": "code",
   "execution_count": 17,
   "outputs": [
    {
     "data": {
      "text/plain": "<Figure size 1000x1000 with 2 Axes>",
      "image/png": "[encoded data removed]"
     },
     "metadata": {},
     "output_type": "display_data"
    }
   ],
   "source": [
    "cf_matrix = confusion_matrix(preds['label'].map(automl.reader.class_mapping), OOFs)\n",
    "\n",
    "plt.figure(figsize = (10, 10))\n",
    "\n",
    "ax = sns.heatmap(cf_matrix, annot=True, cmap='Blues', fmt = 'd')\n",
    "\n",
    "ax.set_title('Seaborn Confusion Matrix with labels\\n\\n');\n",
    "ax.set_xlabel('\\nPredicted Values')\n",
    "ax.set_ylabel('Actual Values ');\n",
    "\n",
    "inverse_class_mapping = {y: x for x,y in automl.reader.class_mapping.items()}\n",
    "labels = [inverse_class_mapping[i] for i in range(len(inverse_class_mapping))]\n",
    "ax.xaxis.set_ticklabels(labels, rotation = 90)\n",
    "ax.yaxis.set_ticklabels(labels, rotation = 0)\n",
    "\n",
    "plt.show()"
   ],
   "metadata": {
    "collapsed": false,
    "ExecuteTime": {
     "end_time": "2023-11-16T03:17:22.594653903Z",
     "start_time": "2023-11-16T03:17:22.427113285Z"
    }
   },
   "id": "80f0b325fd35a039"
  },
  {
   "cell_type": "code",
   "execution_count": 18,
   "outputs": [
    {
     "name": "stdout",
     "output_type": "stream",
     "text": [
      "[06:17:22] Load saved dataset for path\n",
      "[06:17:22] Feature path transformed\n",
      "Prediction for te_data:\n",
      "array([[0.47635606, 0.01830839, 0.5053356 ],\n",
      "       [0.68074626, 0.12773535, 0.19151844],\n",
      "       [0.84892887, 0.10874201, 0.04232913],\n",
      "       ...,\n",
      "       [0.04358231, 0.94516563, 0.01125207],\n",
      "       [0.6351377 , 0.12527725, 0.23958509],\n",
      "       [0.0743985 , 0.8975686 , 0.02803294]], dtype=float32)\n",
      "Shape = (6347, 3)\n",
      "CPU times: user 2.87 s, sys: 179 ms, total: 3.05 s\n",
      "Wall time: 727 ms\n"
     ]
    }
   ],
   "source": [
    "%%time\n",
    "\n",
    "te_pred = automl.predict(submission)\n",
    "print(f'Prediction for te_data:\\n{te_pred}\\nShape = {te_pred.shape}')"
   ],
   "metadata": {
    "collapsed": false,
    "ExecuteTime": {
     "end_time": "2023-11-16T03:17:23.279471485Z",
     "start_time": "2023-11-16T03:17:22.552486868Z"
    }
   },
   "id": "8d61b804336b7126"
  },
  {
   "cell_type": "code",
   "execution_count": 19,
   "outputs": [
    {
     "name": "stderr",
     "output_type": "stream",
     "text": [
      "/tmp/ipykernel_336957/2057777986.py:3: SettingWithCopyWarning: \n",
      "A value is trying to be set on a copy of a slice from a DataFrame.\n",
      "Try using .loc[row_indexer,col_indexer] = value instead\n",
      "\n",
      "See the caveats in the documentation: https://pandas.pydata.org/pandas-docs/stable/user_guide/indexing.html#returning-a-view-versus-a-copy\n",
      "  sub['pred_' + str(i)] = te_pred.data[:,i]\n"
     ]
    },
    {
     "data": {
      "text/plain": "                image_id    pred_0    pred_1    pred_2\n0      im1075sadness.png  0.476356  0.018308  0.505336\n1     im100disgusted.png  0.680746  0.127735  0.191518\n2          im19angry.png  0.848929  0.108742  0.042329\n3      im78disgusted.png  0.819325  0.038376  0.142299\n4       im655sadness.png  0.175569  0.027469  0.796962\n...                  ...       ...       ...       ...\n6342           im199.png  0.729996  0.215025  0.054979\n6343            im74.png  0.026840  0.949752  0.023408\n6344           im284.png  0.043582  0.945166  0.011252\n6345          im1013.png  0.635138  0.125277  0.239585\n6346           im444.png  0.074398  0.897569  0.028033\n\n[6347 rows x 4 columns]",
      "text/html": "<div>\n<style scoped>\n    .dataframe tbody tr th:only-of-type {\n        vertical-align: middle;\n    }\n\n    .dataframe tbody tr th {\n        vertical-align: top;\n    }\n\n    .dataframe thead th {\n        text-align: right;\n    }\n</style>\n<table border=\"1\" class=\"dataframe\">\n  <thead>\n    <tr style=\"text-align: right;\">\n      <th></th>\n      <th>image_id</th>\n      <th>pred_0</th>\n      <th>pred_1</th>\n      <th>pred_2</th>\n    </tr>\n  </thead>\n  <tbody>\n    <tr>\n      <th>0</th>\n      <td>im1075sadness.png</td>\n      <td>0.476356</td>\n      <td>0.018308</td>\n      <td>0.505336</td>\n    </tr>\n    <tr>\n      <th>1</th>\n      <td>im100disgusted.png</td>\n      <td>0.680746</td>\n      <td>0.127735</td>\n      <td>0.191518</td>\n    </tr>\n    <tr>\n      <th>2</th>\n      <td>im19angry.png</td>\n      <td>0.848929</td>\n      <td>0.108742</td>\n      <td>0.042329</td>\n    </tr>\n    <tr>\n      <th>3</th>\n      <td>im78disgusted.png</td>\n      <td>0.819325</td>\n      <td>0.038376</td>\n      <td>0.142299</td>\n    </tr>\n    <tr>\n      <th>4</th>\n      <td>im655sadness.png</td>\n      <td>0.175569</td>\n      <td>0.027469</td>\n      <td>0.796962</td>\n    </tr>\n    <tr>\n      <th>...</th>\n      <td>...</td>\n      <td>...</td>\n      <td>...</td>\n      <td>...</td>\n    </tr>\n    <tr>\n      <th>6342</th>\n      <td>im199.png</td>\n      <td>0.729996</td>\n      <td>0.215025</td>\n      <td>0.054979</td>\n    </tr>\n    <tr>\n      <th>6343</th>\n      <td>im74.png</td>\n      <td>0.026840</td>\n      <td>0.949752</td>\n      <td>0.023408</td>\n    </tr>\n    <tr>\n      <th>6344</th>\n      <td>im284.png</td>\n      <td>0.043582</td>\n      <td>0.945166</td>\n      <td>0.011252</td>\n    </tr>\n    <tr>\n      <th>6345</th>\n      <td>im1013.png</td>\n      <td>0.635138</td>\n      <td>0.125277</td>\n      <td>0.239585</td>\n    </tr>\n    <tr>\n      <th>6346</th>\n      <td>im444.png</td>\n      <td>0.074398</td>\n      <td>0.897569</td>\n      <td>0.028033</td>\n    </tr>\n  </tbody>\n</table>\n<p>6347 rows × 4 columns</p>\n</div>"
     },
     "execution_count": 19,
     "metadata": {},
     "output_type": "execute_result"
    }
   ],
   "source": [
    "sub = submission[['image_id']]\n",
    "for i in range(3):\n",
    "    sub['pred_' + str(i)] = te_pred.data[:,i]\n",
    "\n",
    "sub"
   ],
   "metadata": {
    "collapsed": false,
    "ExecuteTime": {
     "end_time": "2023-11-16T03:17:23.285805080Z",
     "start_time": "2023-11-16T03:17:23.283458510Z"
    }
   },
   "id": "72ba737b14655c97"
  },
  {
   "cell_type": "code",
   "execution_count": 20,
   "outputs": [
    {
     "data": {
      "text/plain": "0        neutral\n1       negative\n2       negative\n3       negative\n4        neutral\n          ...   \n6342    negative\n6343    positive\n6344    positive\n6345    negative\n6346    positive\nLength: 6347, dtype: object"
     },
     "execution_count": 20,
     "metadata": {},
     "output_type": "execute_result"
    }
   ],
   "source": [
    "TEs = pd.Series(np.argmax(sub[['pred_' + str(i) for i in range(3)]].values, axis = 1)).map(inverse_class_mapping)\n",
    "TEs"
   ],
   "metadata": {
    "collapsed": false,
    "ExecuteTime": {
     "end_time": "2023-11-16T03:17:23.292595616Z",
     "start_time": "2023-11-16T03:17:23.286003667Z"
    }
   },
   "id": "36bd98338261d87f"
  },
  {
   "cell_type": "code",
   "execution_count": 21,
   "outputs": [
    {
     "data": {
      "text/plain": "                image_id     label\n0      im1075sadness.png   neutral\n1     im100disgusted.png  negative\n2          im19angry.png  negative\n3      im78disgusted.png  negative\n4       im655sadness.png   neutral\n...                  ...       ...\n6342           im199.png  negative\n6343            im74.png  positive\n6344           im284.png  positive\n6345          im1013.png  negative\n6346           im444.png  positive\n\n[6347 rows x 2 columns]",
      "text/html": "<div>\n<style scoped>\n    .dataframe tbody tr th:only-of-type {\n        vertical-align: middle;\n    }\n\n    .dataframe tbody tr th {\n        vertical-align: top;\n    }\n\n    .dataframe thead th {\n        text-align: right;\n    }\n</style>\n<table border=\"1\" class=\"dataframe\">\n  <thead>\n    <tr style=\"text-align: right;\">\n      <th></th>\n      <th>image_id</th>\n      <th>label</th>\n    </tr>\n  </thead>\n  <tbody>\n    <tr>\n      <th>0</th>\n      <td>im1075sadness.png</td>\n      <td>neutral</td>\n    </tr>\n    <tr>\n      <th>1</th>\n      <td>im100disgusted.png</td>\n      <td>negative</td>\n    </tr>\n    <tr>\n      <th>2</th>\n      <td>im19angry.png</td>\n      <td>negative</td>\n    </tr>\n    <tr>\n      <th>3</th>\n      <td>im78disgusted.png</td>\n      <td>negative</td>\n    </tr>\n    <tr>\n      <th>4</th>\n      <td>im655sadness.png</td>\n      <td>neutral</td>\n    </tr>\n    <tr>\n      <th>...</th>\n      <td>...</td>\n      <td>...</td>\n    </tr>\n    <tr>\n      <th>6342</th>\n      <td>im199.png</td>\n      <td>negative</td>\n    </tr>\n    <tr>\n      <th>6343</th>\n      <td>im74.png</td>\n      <td>positive</td>\n    </tr>\n    <tr>\n      <th>6344</th>\n      <td>im284.png</td>\n      <td>positive</td>\n    </tr>\n    <tr>\n      <th>6345</th>\n      <td>im1013.png</td>\n      <td>negative</td>\n    </tr>\n    <tr>\n      <th>6346</th>\n      <td>im444.png</td>\n      <td>positive</td>\n    </tr>\n  </tbody>\n</table>\n<p>6347 rows × 2 columns</p>\n</div>"
     },
     "execution_count": 21,
     "metadata": {},
     "output_type": "execute_result"
    }
   ],
   "source": [
    "sub['label'] = TEs\n",
    "sub[['image_id', 'label']].to_csv('LightAutoML_TabularCVAutoML_with_aug.csv', index = False)\n",
    "sub[['image_id', 'label']]"
   ],
   "metadata": {
    "collapsed": false,
    "ExecuteTime": {
     "end_time": "2023-11-16T03:17:23.314615511Z",
     "start_time": "2023-11-16T03:17:23.292933312Z"
    }
   },
   "id": "4379b375946a4b77"
  },
  {
   "cell_type": "code",
   "execution_count": 22,
   "outputs": [
    {
     "data": {
      "text/plain": "0.7603124882226094"
     },
     "execution_count": 22,
     "metadata": {},
     "output_type": "execute_result"
    }
   ],
   "source": [
    "from sklearn.metrics import f1_score, recall_score, precision_score, roc_auc_score\n",
    "\n",
    "f1_score(TEs, submission['label'], average=\"weighted\")"
   ],
   "metadata": {
    "collapsed": false,
    "ExecuteTime": {
     "end_time": "2023-11-16T03:17:23.351428715Z",
     "start_time": "2023-11-16T03:17:23.321046152Z"
    }
   },
   "id": "347ad439fa8d7ea6"
  },
  {
   "cell_type": "code",
   "execution_count": 23,
   "outputs": [
    {
     "data": {
      "text/plain": "0.751693713565464"
     },
     "execution_count": 23,
     "metadata": {},
     "output_type": "execute_result"
    }
   ],
   "source": [
    "recall_score(TEs, submission['label'], average=\"weighted\")"
   ],
   "metadata": {
    "collapsed": false,
    "ExecuteTime": {
     "end_time": "2023-11-16T03:17:23.360452537Z",
     "start_time": "2023-11-16T03:17:23.323414422Z"
    }
   },
   "id": "ddbbfda3c9895240"
  },
  {
   "cell_type": "code",
   "execution_count": 24,
   "outputs": [
    {
     "data": {
      "text/plain": "0.7763196369821322"
     },
     "execution_count": 24,
     "metadata": {},
     "output_type": "execute_result"
    }
   ],
   "source": [
    "precision_score(TEs, submission['label'], average=\"weighted\")"
   ],
   "metadata": {
    "collapsed": false,
    "ExecuteTime": {
     "end_time": "2023-11-16T03:17:23.404114951Z",
     "start_time": "2023-11-16T03:17:23.361409074Z"
    }
   },
   "id": "7c5f1649a99e38cd"
  },
  {
   "cell_type": "code",
   "execution_count": 25,
   "outputs": [
    {
     "data": {
      "text/plain": "['test_model.joblib']"
     },
     "execution_count": 25,
     "metadata": {},
     "output_type": "execute_result"
    }
   ],
   "source": [
    "import joblib\n",
    "\n",
    "joblib.dump(automl, 'model_lama_fer.joblib')"
   ],
   "metadata": {
    "collapsed": false,
    "ExecuteTime": {
     "end_time": "2023-11-16T03:17:23.651855859Z",
     "start_time": "2023-11-16T03:17:23.406316722Z"
    }
   },
   "id": "7b98868dfea16af9"
  },
  {
   "cell_type": "code",
   "execution_count": 25,
   "outputs": [],
   "source": [],
   "metadata": {
    "collapsed": false,
    "ExecuteTime": {
     "end_time": "2023-11-16T03:17:23.654647258Z",
     "start_time": "2023-11-16T03:17:23.652921762Z"
    }
   },
   "id": "84e347313a052314"
  },
  {
   "cell_type": "code",
   "execution_count": 25,
   "outputs": [],
   "source": [],
   "metadata": {
    "collapsed": false,
    "ExecuteTime": {
     "end_time": "2023-11-16T03:17:23.656766721Z",
     "start_time": "2023-11-16T03:17:23.654884464Z"
    }
   },
   "id": "b1d0570ef21f2f"
  }
 ],
 "metadata": {
  "kernelspec": {
   "display_name": "Python 3",
   "language": "python",
   "name": "python3"
  },
  "language_info": {
   "codemirror_mode": {
    "name": "ipython",
    "version": 2
   },
   "file_extension": ".py",
   "mimetype": "text/x-python",
   "name": "python",
   "nbconvert_exporter": "python",
   "pygments_lexer": "ipython2",
   "version": "2.7.6"
  }
 },
 "nbformat": 4,
 "nbformat_minor": 5
}
