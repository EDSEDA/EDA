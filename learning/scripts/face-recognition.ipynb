{
 "cells": [
  {
   "cell_type": "code",
   "outputs": [],
   "source": [
    "import face_recognition\n",
    "\n",
    "image = face_recognition.load_image_file(\"../data/face_recognition_images/person2.1.jpg\")\n",
    "\n",
    "unknown_image = face_recognition.load_image_file(\"/home/vorkov/Workspace/EDA/inference/image.jpeg\")\n",
    "\n",
    "image_encoding = face_recognition.face_encodings(image)[0]\n",
    "unknown_encoding = face_recognition.face_encodings(unknown_image)[0]\n",
    "print(\"image type: \", unknown_image)\n",
    "\n",
    "results = face_recognition.compare_faces([image_encoding], unknown_encoding, tolerance=0.66)\n",
    "results"
   ],
   "metadata": {
    "collapsed": false
   },
   "id": "8e91efdacb30e1f5",
   "execution_count": null
  },
  {
   "cell_type": "code",
   "outputs": [],
   "source": [
    "import datetime\n",
    "import face_recognition\n",
    "import cv2\n",
    "\n",
    "identified_face_encodings = []\n",
    "identified_face_names = []\n",
    "\n",
    "name = \"Kostylev Ivan\"\n",
    "learned_person = face_recognition.load_image_file(\"../data/face_recognition_images/person1.1.jpg\")\n",
    "face_locations = face_recognition.face_locations(learned_person)\n",
    "learned_person_encoding = face_recognition.face_encodings(learned_person, face_locations)[0]\n",
    "identified_face_encodings.append(learned_person_encoding)\n",
    "identified_face_names.append(name)\n",
    "\n",
    "name = \"Vorkov Nikita\"\n",
    "learned_person = face_recognition.load_image_file(\"../data/face_recognition_images/person2.1.jpg\")\n",
    "face_locations = face_recognition.face_locations(learned_person)\n",
    "learned_person_encoding = face_recognition.face_encodings(learned_person, face_locations)[0]\n",
    "identified_face_encodings.append(learned_person_encoding)\n",
    "identified_face_names.append(name)\n",
    "\n",
    "# Initialize some variables\n",
    "face_locations = []\n",
    "face_encodings = []\n",
    "face_names = []\n",
    "\n",
    "gst_stream = 'rtspsrc location=rtsp://127.0.0.1:18554/test user-id=user user-pw=pass latency=0 ! rtpjitterbuffer drop-on-latency=true ! decodebin ! videoconvert ! appsink'\n",
    "cap = cv2.VideoCapture(gst_stream, cv2.CAP_GSTREAMER)\n",
    "while True:\n",
    "    start = datetime.datetime.now()\n",
    "    success, frame = cap.read()\n",
    "\n",
    "    # Only process every other frame of video to save time\n",
    "    if success:\n",
    "        # small_frame = cv2.resize(frame, (48, 48), interpolation = cv2.INTER_LINEAR)\n",
    "\n",
    "        # Convert the image from BGR color (which OpenCV uses) to RGB color (which face_recognition uses)\n",
    "        small_frame = cv2.resize(frame, (0, 0), fx=0.5, fy=0.5)\n",
    "        rgb_iamge = cv2.cvtColor(small_frame, cv2.COLOR_BGR2RGB)\n",
    "\n",
    "        # Find all the faces and face encodings in the current frame of video\n",
    "        face_locations = face_recognition.face_locations(rgb_iamge)\n",
    "        face_encodings = face_recognition.face_encodings(rgb_iamge, face_locations)\n",
    "\n",
    "        face_names = []\n",
    "        for face_encoding in face_encodings:\n",
    "            matches = face_recognition.compare_faces(identified_face_encodings, face_encoding)\n",
    "            name = \"Unknown\"\n",
    "\n",
    "            # Если хотим брать только идентифицированные лица\n",
    "            if True in matches:\n",
    "                first_match_index = matches.index(True)\n",
    "                name = identified_face_names[first_match_index]\n",
    "                face_names.append(name)\n",
    "                \n",
    "            # Если хотим брать лица близкие к изученным            \n",
    "            # face_distances = face_recognition.face_distance(identified_face_encodings, face_encoding)\n",
    "            # best_match_index = np.argmin(face_distances)\n",
    "            # if matches[best_match_index]:\n",
    "            #     name = identified_face_names[best_match_index]\n",
    "            # face_names.append(identified_face_encodings)\n",
    "\n",
    "    # Display the results\n",
    "    for (top, right, bottom, left), name in zip(face_locations, face_names):\n",
    "        font = cv2.FONT_HERSHEY_DUPLEX\n",
    "        cv2.putText(small_frame, name, (left + 6, bottom - 6), font, 1.0, (255, 255, 255), 1)\n",
    "\n",
    "    # Display the resulting image\n",
    "    end = datetime.datetime.now()\n",
    "    fps = f\"FPS: {1 / (end - start).total_seconds():.2f}\"\n",
    "    cv2.putText(small_frame, fps, (50, 50), cv2.FONT_HERSHEY_SIMPLEX, 2, (255, 255, 255), 8)\n",
    "    \n",
    "    cv2.imshow('Video', small_frame)\n",
    "    if cv2.waitKey(1) & 0xFF == ord('q'):\n",
    "        break\n",
    "\n",
    "cap.release()\n",
    "cv2.destroyAllWindows()"
   ],
   "metadata": {
    "collapsed": false
   },
   "id": "aa0082638a5402e2",
   "execution_count": null
  },
  {
   "cell_type": "code",
   "outputs": [],
   "source": [],
   "metadata": {
    "collapsed": false
   },
   "id": "3a3e2c3b19e65652"
  }
 ],
 "metadata": {
  "kernelspec": {
   "display_name": "Python 3",
   "language": "python",
   "name": "python3"
  },
  "language_info": {
   "codemirror_mode": {
    "name": "ipython",
    "version": 2
   },
   "file_extension": ".py",
   "mimetype": "text/x-python",
   "name": "python",
   "nbconvert_exporter": "python",
   "pygments_lexer": "ipython2",
   "version": "2.7.6"
  }
 },
 "nbformat": 4,
 "nbformat_minor": 5
}
