{
 "cells": [
  {
   "cell_type": "code",
   "execution_count": 21,
   "id": "initial_id",
   "metadata": {
    "collapsed": true,
    "ExecuteTime": {
     "end_time": "2024-01-05T12:00:22.004159328Z",
     "start_time": "2024-01-05T12:00:21.960497480Z"
    }
   },
   "outputs": [],
   "source": [
    "import face_recognition\n",
    "from PIL import Image\n",
    "from PIL import ImageDraw"
   ]
  },
  {
   "cell_type": "code",
   "outputs": [],
   "source": [
    "image = face_recognition.load_image_file(\"../data/face_recognition_images/person2.1.jpg\")"
   ],
   "metadata": {
    "collapsed": false,
    "ExecuteTime": {
     "end_time": "2024-01-05T12:00:22.363054474Z",
     "start_time": "2024-01-05T12:00:22.355288620Z"
    }
   },
   "id": "6a718739f00ecee7",
   "execution_count": 22
  },
  {
   "cell_type": "code",
   "outputs": [
    {
     "data": {
      "text/plain": "[(247, 546, 632, 161)]"
     },
     "execution_count": 23,
     "metadata": {},
     "output_type": "execute_result"
    }
   ],
   "source": [
    "face_locations = face_recognition.face_locations(image)\n",
    "face_locations"
   ],
   "metadata": {
    "collapsed": false,
    "ExecuteTime": {
     "end_time": "2024-01-05T12:00:22.842852765Z",
     "start_time": "2024-01-05T12:00:22.712836429Z"
    }
   },
   "id": "3b140921c2a79ff7",
   "execution_count": 23
  },
  {
   "cell_type": "code",
   "outputs": [
    {
     "data": {
      "text/plain": "[{'chin': [(151, 350),\n   (156, 401),\n   (164, 450),\n   (172, 499),\n   (185, 547),\n   (213, 586),\n   (253, 617),\n   (299, 643),\n   (351, 652),\n   (402, 645),\n   (446, 617),\n   (482, 583),\n   (507, 542),\n   (518, 495),\n   (525, 446),\n   (535, 398),\n   (542, 349)],\n  'left_eyebrow': [(187, 315), (215, 293), (252, 284), (290, 284), (327, 294)],\n  'right_eyebrow': [(393, 293),\n   (430, 280),\n   (467, 280),\n   (502, 291),\n   (522, 319)],\n  'nose_bridge': [(361, 342), (362, 376), (362, 409), (362, 444)],\n  'nose_tip': [(322, 464), (340, 470), (358, 476), (376, 472), (393, 466)],\n  'left_eye': [(230, 352),\n   (253, 336),\n   (282, 337),\n   (306, 357),\n   (280, 363),\n   (251, 364)],\n  'right_eye': [(406, 357),\n   (430, 337),\n   (458, 335),\n   (481, 352),\n   (461, 364),\n   (432, 364)],\n  'top_lip': [(285, 524),\n   (313, 513),\n   (338, 508),\n   (355, 514),\n   (374, 510),\n   (397, 518),\n   (425, 528),\n   (412, 530),\n   (374, 527),\n   (355, 528),\n   (337, 525),\n   (298, 525)],\n  'bottom_lip': [(425, 528),\n   (397, 543),\n   (373, 548),\n   (354, 548),\n   (336, 546),\n   (312, 539),\n   (285, 524),\n   (298, 525),\n   (337, 524),\n   (355, 526),\n   (373, 525),\n   (412, 530)]}]"
     },
     "execution_count": 24,
     "metadata": {},
     "output_type": "execute_result"
    }
   ],
   "source": [
    "face_landmarks_list = face_recognition.face_landmarks(image)\n",
    "face_landmarks_list"
   ],
   "metadata": {
    "collapsed": false,
    "ExecuteTime": {
     "end_time": "2024-01-05T12:00:23.149647753Z",
     "start_time": "2024-01-05T12:00:23.014790641Z"
    }
   },
   "id": "20dfc96c1601d719",
   "execution_count": 24
  },
  {
   "cell_type": "code",
   "outputs": [],
   "source": [
    "# JUST FOR FUN\n",
    "# pil_image = Image.fromarray(image)\n",
    "# for face_landmarks in face_landmarks_list:\n",
    "#     d = ImageDraw.Draw(pil_image, 'RGBA')\n",
    "# \n",
    "#     # Make the eyebrows into a nightmare\n",
    "#     d.polygon(face_landmarks['left_eyebrow'], fill=(68, 54, 39, 128))\n",
    "#     d.polygon(face_landmarks['right_eyebrow'], fill=(68, 54, 39, 128))\n",
    "#     d.line(face_landmarks['left_eyebrow'], fill=(68, 54, 39, 150), width=5)\n",
    "#     d.line(face_landmarks['right_eyebrow'], fill=(68, 54, 39, 150), width=5)\n",
    "# \n",
    "#     # Gloss the lips\n",
    "#     d.polygon(face_landmarks['top_lip'], fill=(150, 0, 0, 128))\n",
    "#     d.polygon(face_landmarks['bottom_lip'], fill=(150, 0, 0, 128))\n",
    "#     d.line(face_landmarks['top_lip'], fill=(150, 0, 0, 64), width=8)\n",
    "#     d.line(face_landmarks['bottom_lip'], fill=(150, 0, 0, 64), width=8)\n",
    "# \n",
    "#     # Sparkle the eyes\n",
    "#     d.polygon(face_landmarks['left_eye'], fill=(255, 255, 255, 30))\n",
    "#     d.polygon(face_landmarks['right_eye'], fill=(255, 255, 255, 30))\n",
    "# \n",
    "#     # Apply some eyeliner\n",
    "#     d.line(face_landmarks['left_eye'] + [face_landmarks['left_eye'][0]], fill=(0, 0, 0, 110), width=6)\n",
    "#     d.line(face_landmarks['right_eye'] + [face_landmarks['right_eye'][0]], fill=(0, 0, 0, 110), width=6)\n",
    "# \n",
    "#     pil_image.show()"
   ],
   "metadata": {
    "collapsed": false,
    "ExecuteTime": {
     "end_time": "2024-01-05T12:00:23.698616701Z",
     "start_time": "2024-01-05T12:00:23.692695599Z"
    }
   },
   "id": "41b9fbc341c78e21",
   "execution_count": 25
  },
  {
   "cell_type": "code",
   "outputs": [
    {
     "data": {
      "text/plain": "[False]"
     },
     "execution_count": 26,
     "metadata": {},
     "output_type": "execute_result"
    }
   ],
   "source": [
    "unknown_image = face_recognition.load_image_file(\"../data/face_recognition_images/person1.1.jpg\")\n",
    "\n",
    "image_encoding = face_recognition.face_encodings(image)[0]\n",
    "unknown_encoding = face_recognition.face_encodings(unknown_image)[0]\n",
    "\n",
    "results = face_recognition.compare_faces([image_encoding], unknown_encoding)\n",
    "results"
   ],
   "metadata": {
    "collapsed": false,
    "ExecuteTime": {
     "end_time": "2024-01-05T12:00:24.577372258Z",
     "start_time": "2024-01-05T12:00:24.198945598Z"
    }
   },
   "id": "8e91efdacb30e1f5",
   "execution_count": 26
  },
  {
   "cell_type": "code",
   "outputs": [
    {
     "name": "stderr",
     "output_type": "stream",
     "text": [
      "[ WARN:0@2010.146] global cap_v4l.cpp:997 open VIDEOIO(V4L2:/dev/video0): can't open camera by index\n",
      "[ERROR:0@2010.147] global obsensor_uvc_stream_channel.cpp:159 getStreamChannelGroup Camera index out of range\n"
     ]
    },
    {
     "ename": "error",
     "evalue": "OpenCV(4.9.0) /io/opencv/modules/highgui/src/window.cpp:971: error: (-215:Assertion failed) size.width>0 && size.height>0 in function 'imshow'\n",
     "output_type": "error",
     "traceback": [
      "\u001B[0;31m---------------------------------------------------------------------------\u001B[0m",
      "\u001B[0;31merror\u001B[0m                                     Traceback (most recent call last)",
      "Cell \u001B[0;32mIn[10], line 97\u001B[0m\n\u001B[1;32m     94\u001B[0m     cv2\u001B[38;5;241m.\u001B[39mputText(frame, name, (left \u001B[38;5;241m+\u001B[39m \u001B[38;5;241m6\u001B[39m, bottom \u001B[38;5;241m-\u001B[39m \u001B[38;5;241m6\u001B[39m), font, \u001B[38;5;241m1.0\u001B[39m, (\u001B[38;5;241m255\u001B[39m, \u001B[38;5;241m255\u001B[39m, \u001B[38;5;241m255\u001B[39m), \u001B[38;5;241m1\u001B[39m)\n\u001B[1;32m     96\u001B[0m \u001B[38;5;66;03m# Display the resulting image\u001B[39;00m\n\u001B[0;32m---> 97\u001B[0m \u001B[43mcv2\u001B[49m\u001B[38;5;241;43m.\u001B[39;49m\u001B[43mimshow\u001B[49m\u001B[43m(\u001B[49m\u001B[38;5;124;43m'\u001B[39;49m\u001B[38;5;124;43mVideo\u001B[39;49m\u001B[38;5;124;43m'\u001B[39;49m\u001B[43m,\u001B[49m\u001B[43m \u001B[49m\u001B[43mframe\u001B[49m\u001B[43m)\u001B[49m\n\u001B[1;32m     99\u001B[0m \u001B[38;5;66;03m# Hit 'q' on the keyboard to quit!\u001B[39;00m\n\u001B[1;32m    100\u001B[0m \u001B[38;5;28;01mif\u001B[39;00m cv2\u001B[38;5;241m.\u001B[39mwaitKey(\u001B[38;5;241m1\u001B[39m) \u001B[38;5;241m&\u001B[39m \u001B[38;5;241m0xFF\u001B[39m \u001B[38;5;241m==\u001B[39m \u001B[38;5;28mord\u001B[39m(\u001B[38;5;124m'\u001B[39m\u001B[38;5;124mq\u001B[39m\u001B[38;5;124m'\u001B[39m):\n",
      "\u001B[0;31merror\u001B[0m: OpenCV(4.9.0) /io/opencv/modules/highgui/src/window.cpp:971: error: (-215:Assertion failed) size.width>0 && size.height>0 in function 'imshow'\n"
     ]
    }
   ],
   "source": [
    "import face_recognition\n",
    "import cv2\n",
    "import numpy as np\n",
    "\n",
    "# This is a demo of running face recognition on live video from your webcam. It's a little more complicated than the\n",
    "# other example, but it includes some basic performance tweaks to make things run a lot faster:\n",
    "#   1. Process each video frame at 1/4 resolution (though still display it at full resolution)\n",
    "#   2. Only detect faces in every other frame of video.\n",
    "\n",
    "# PLEASE NOTE: This example requires OpenCV (the `cv2` library) to be installed only to read from your webcam.\n",
    "# OpenCV is *not* required to use the face_recognition library. It's only required if you want to run this\n",
    "# specific demo. If you have trouble installing it, try any of the other demos that don't require it instead.\n",
    "\n",
    "# Get a reference to webcam #0 (the default one)\n",
    "video_capture = cv2.VideoCapture(0)\n",
    "\n",
    "# Load a sample picture and learn how to recognize it.\n",
    "obama_image = face_recognition.load_image_file(\"../data/face_recognition_images/person2.1.jpg\")\n",
    "obama_face_encoding = face_recognition.face_encodings(obama_image)[0]\n",
    "\n",
    "# Load a second sample picture and learn how to recognize it.\n",
    "biden_image = face_recognition.load_image_file(\"../data/face_recognition_images/person1.1.jpg\")\n",
    "biden_face_encoding = face_recognition.face_encodings(biden_image)[0]\n",
    "\n",
    "# Create arrays of known face encodings and their names\n",
    "known_face_encodings = [\n",
    "    obama_face_encoding,\n",
    "    biden_face_encoding\n",
    "]\n",
    "known_face_names = [\n",
    "    \"Barack Obama\",\n",
    "    \"Joe Biden\"\n",
    "]\n",
    "\n",
    "# Initialize some variables\n",
    "face_locations = []\n",
    "face_encodings = []\n",
    "face_names = []\n",
    "process_this_frame = True\n",
    "\n",
    "while True:\n",
    "    # Grab a single frame of video\n",
    "    ret, frame = video_capture.read()\n",
    "\n",
    "    # Only process every other frame of video to save time\n",
    "    if process_this_frame and ret:\n",
    "        # Resize frame of video to 1/4 size for faster face recognition processing\n",
    "        small_frame = cv2.resize(frame, (0, 0), fx=0.25, fy=0.25)\n",
    "\n",
    "        # Convert the image from BGR color (which OpenCV uses) to RGB color (which face_recognition uses)\n",
    "        rgb_small_frame = small_frame[:, :, ::-1]\n",
    "        \n",
    "        # Find all the faces and face encodings in the current frame of video\n",
    "        face_locations = face_recognition.face_locations(rgb_small_frame)\n",
    "        face_encodings = face_recognition.face_encodings(rgb_small_frame, face_locations)\n",
    "\n",
    "        face_names = []\n",
    "        for face_encoding in face_encodings:\n",
    "            # See if the face is a match for the known face(s)\n",
    "            matches = face_recognition.compare_faces(known_face_encodings, face_encoding)\n",
    "            name = \"Unknown\"\n",
    "\n",
    "            # # If a match was found in known_face_encodings, just use the first one.\n",
    "            # if True in matches:\n",
    "            #     first_match_index = matches.index(True)\n",
    "            #     name = known_face_names[first_match_index]\n",
    "\n",
    "            # Or instead, use the known face with the smallest distance to the new face\n",
    "            face_distances = face_recognition.face_distance(known_face_encodings, face_encoding)\n",
    "            best_match_index = np.argmin(face_distances)\n",
    "            if matches[best_match_index]:\n",
    "                name = known_face_names[best_match_index]\n",
    "\n",
    "            face_names.append(name)\n",
    "\n",
    "    process_this_frame = not process_this_frame\n",
    "\n",
    "\n",
    "    # Display the results\n",
    "    for (top, right, bottom, left), name in zip(face_locations, face_names):\n",
    "        # Scale back up face locations since the frame we detected in was scaled to 1/4 size\n",
    "        top *= 4\n",
    "        right *= 4\n",
    "        bottom *= 4\n",
    "        left *= 4\n",
    "\n",
    "        # Draw a box around the face\n",
    "        cv2.rectangle(frame, (left, top), (right, bottom), (0, 0, 255), 2)\n",
    "\n",
    "        # Draw a label with a name below the face\n",
    "        cv2.rectangle(frame, (left, bottom - 35), (right, bottom), (0, 0, 255), cv2.FILLED)\n",
    "        font = cv2.FONT_HERSHEY_DUPLEX\n",
    "        cv2.putText(frame, name, (left + 6, bottom - 6), font, 1.0, (255, 255, 255), 1)\n",
    "\n",
    "    # Display the resulting image\n",
    "    cv2.imshow('Video', frame)\n",
    "\n",
    "    # Hit 'q' on the keyboard to quit!\n",
    "    if cv2.waitKey(1) & 0xFF == ord('q'):\n",
    "        break\n",
    "\n",
    "# Release handle to the webcam\n",
    "video_capture.release()\n",
    "cv2.destroyAllWindows()"
   ],
   "metadata": {
    "collapsed": false,
    "ExecuteTime": {
     "end_time": "2024-01-05T12:34:43.455762171Z",
     "start_time": "2024-01-05T12:34:42.825369059Z"
    }
   },
   "id": "aa0082638a5402e2",
   "execution_count": 10
  },
  {
   "cell_type": "code",
   "outputs": [],
   "source": [],
   "metadata": {
    "collapsed": false
   },
   "id": "13dd2c1dff76272d"
  }
 ],
 "metadata": {
  "kernelspec": {
   "display_name": "Python 3",
   "language": "python",
   "name": "python3"
  },
  "language_info": {
   "codemirror_mode": {
    "name": "ipython",
    "version": 2
   },
   "file_extension": ".py",
   "mimetype": "text/x-python",
   "name": "python",
   "nbconvert_exporter": "python",
   "pygments_lexer": "ipython2",
   "version": "2.7.6"
  }
 },
 "nbformat": 4,
 "nbformat_minor": 5
}
