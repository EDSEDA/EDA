{
 "cells": [
  {
   "cell_type": "code",
   "execution_count": 5,
   "id": "initial_id",
   "metadata": {
    "collapsed": true,
    "ExecuteTime": {
     "end_time": "2024-01-27T13:10:02.735855768Z",
     "start_time": "2024-01-27T13:10:02.693604164Z"
    }
   },
   "outputs": [],
   "source": [
    "import face_recognition"
   ]
  },
  {
   "cell_type": "code",
   "outputs": [],
   "source": [
    "image = face_recognition.load_image_file(\"../data/face_recognition_images/person2.1.jpg\")"
   ],
   "metadata": {
    "collapsed": false,
    "ExecuteTime": {
     "end_time": "2024-01-27T13:10:02.945631685Z",
     "start_time": "2024-01-27T13:10:02.939104876Z"
    }
   },
   "id": "6a718739f00ecee7",
   "execution_count": 6
  },
  {
   "cell_type": "code",
   "outputs": [
    {
     "data": {
      "text/plain": "[False]"
     },
     "execution_count": 8,
     "metadata": {},
     "output_type": "execute_result"
    }
   ],
   "source": [
    "unknown_image = face_recognition.load_image_file(\"../data/face_recognition_images/person1.1.jpg\")\n",
    "\n",
    "image_encoding = face_recognition.face_encodings(image)[0]\n",
    "unknown_encoding = face_recognition.face_encodings(unknown_image)[0]\n",
    "\n",
    "results = face_recognition.compare_faces([image_encoding], unknown_encoding)\n",
    "results"
   ],
   "metadata": {
    "collapsed": false,
    "ExecuteTime": {
     "end_time": "2024-01-27T13:10:11.074430606Z",
     "start_time": "2024-01-27T13:10:10.655429331Z"
    }
   },
   "id": "8e91efdacb30e1f5",
   "execution_count": 8
  },
  {
   "cell_type": "code",
   "outputs": [
    {
     "name": "stderr",
     "output_type": "stream",
     "text": [
      "[ WARN:0@0.648] global /home/vorkov/Workspace/EDA/thirdparty/opencv-python/opencv/modules/videoio/src/cap_gstreamer.cpp (1374) open OpenCV | GStreamer warning: unable to query duration of stream\n",
      "[ WARN:0@0.648] global /home/vorkov/Workspace/EDA/thirdparty/opencv-python/opencv/modules/videoio/src/cap_gstreamer.cpp (1405) open OpenCV | GStreamer warning: Cannot query video position: status=1, value=0, duration=-1\n"
     ]
    },
    {
     "name": "stdout",
     "output_type": "stream",
     "text": [
      "(360, 640, 3)\n",
      "(360, 640, 3)\n"
     ]
    },
    {
     "name": "stderr",
     "output_type": "stream",
     "text": [
      "Gtk-Message: 17:05:10.807: Failed to load module \"canberra-gtk-module\"\n"
     ]
    },
    {
     "name": "stdout",
     "output_type": "stream",
     "text": [
      "(360, 640, 3)\n",
      "(360, 640, 3)\n",
      "(360, 640, 3)\n",
      "(360, 640, 3)\n",
      "(360, 640, 3)\n",
      "(360, 640, 3)\n",
      "(360, 640, 3)\n",
      "(360, 640, 3)\n",
      "(360, 640, 3)\n",
      "(360, 640, 3)\n",
      "(360, 640, 3)\n",
      "(360, 640, 3)\n",
      "(360, 640, 3)\n",
      "(360, 640, 3)\n",
      "(360, 640, 3)\n",
      "(360, 640, 3)\n",
      "(360, 640, 3)\n",
      "(360, 640, 3)\n",
      "(360, 640, 3)\n",
      "(360, 640, 3)\n",
      "(360, 640, 3)\n",
      "(360, 640, 3)\n",
      "(360, 640, 3)\n",
      "(360, 640, 3)\n",
      "(360, 640, 3)\n",
      "(360, 640, 3)\n",
      "(360, 640, 3)\n",
      "(360, 640, 3)\n",
      "(360, 640, 3)\n",
      "(360, 640, 3)\n",
      "(360, 640, 3)\n",
      "(360, 640, 3)\n",
      "(360, 640, 3)\n",
      "(360, 640, 3)\n",
      "(360, 640, 3)\n",
      "(360, 640, 3)\n",
      "(360, 640, 3)\n",
      "(360, 640, 3)\n",
      "(360, 640, 3)\n",
      "(360, 640, 3)\n",
      "(360, 640, 3)\n",
      "(360, 640, 3)\n",
      "(360, 640, 3)\n",
      "(360, 640, 3)\n",
      "(360, 640, 3)\n",
      "(360, 640, 3)\n",
      "(360, 640, 3)\n",
      "(360, 640, 3)\n",
      "(360, 640, 3)\n",
      "(360, 640, 3)\n",
      "(360, 640, 3)\n",
      "(360, 640, 3)\n",
      "(360, 640, 3)\n",
      "(360, 640, 3)\n",
      "(360, 640, 3)\n",
      "(360, 640, 3)\n",
      "(360, 640, 3)\n",
      "(360, 640, 3)\n",
      "(360, 640, 3)\n",
      "(360, 640, 3)\n",
      "(360, 640, 3)\n",
      "(360, 640, 3)\n",
      "(360, 640, 3)\n",
      "(360, 640, 3)\n",
      "(360, 640, 3)\n",
      "(360, 640, 3)\n",
      "(360, 640, 3)\n",
      "(360, 640, 3)\n",
      "(360, 640, 3)\n",
      "(360, 640, 3)\n",
      "(360, 640, 3)\n",
      "(360, 640, 3)\n",
      "(360, 640, 3)\n",
      "(360, 640, 3)\n",
      "(360, 640, 3)\n",
      "(360, 640, 3)\n",
      "(360, 640, 3)\n",
      "(360, 640, 3)\n",
      "(360, 640, 3)\n",
      "(360, 640, 3)\n",
      "(360, 640, 3)\n",
      "(360, 640, 3)\n",
      "(360, 640, 3)\n",
      "(360, 640, 3)\n",
      "(360, 640, 3)\n",
      "(360, 640, 3)\n",
      "(360, 640, 3)\n",
      "(360, 640, 3)\n",
      "(360, 640, 3)\n",
      "(360, 640, 3)\n",
      "(360, 640, 3)\n",
      "(360, 640, 3)\n",
      "(360, 640, 3)\n",
      "(360, 640, 3)\n",
      "(360, 640, 3)\n",
      "(360, 640, 3)\n",
      "(360, 640, 3)\n",
      "(360, 640, 3)\n",
      "(360, 640, 3)\n",
      "(360, 640, 3)\n",
      "(360, 640, 3)\n",
      "(360, 640, 3)\n",
      "(360, 640, 3)\n"
     ]
    },
    {
     "ename": "KeyboardInterrupt",
     "evalue": "",
     "output_type": "error",
     "traceback": [
      "\u001B[0;31m---------------------------------------------------------------------------\u001B[0m",
      "\u001B[0;31mKeyboardInterrupt\u001B[0m                         Traceback (most recent call last)",
      "Cell \u001B[0;32mIn[1], line 43\u001B[0m\n\u001B[1;32m     41\u001B[0m \u001B[38;5;66;03m# Find all the faces and face encodings in the current frame of video\u001B[39;00m\n\u001B[1;32m     42\u001B[0m face_locations \u001B[38;5;241m=\u001B[39m face_recognition\u001B[38;5;241m.\u001B[39mface_locations(rgb_iamge)\n\u001B[0;32m---> 43\u001B[0m face_encodings \u001B[38;5;241m=\u001B[39m \u001B[43mface_recognition\u001B[49m\u001B[38;5;241;43m.\u001B[39;49m\u001B[43mface_encodings\u001B[49m\u001B[43m(\u001B[49m\u001B[43mrgb_iamge\u001B[49m\u001B[43m,\u001B[49m\u001B[43m \u001B[49m\u001B[43mface_locations\u001B[49m\u001B[43m)\u001B[49m\n\u001B[1;32m     45\u001B[0m face_names \u001B[38;5;241m=\u001B[39m []\n\u001B[1;32m     46\u001B[0m \u001B[38;5;28;01mfor\u001B[39;00m face_encoding \u001B[38;5;129;01min\u001B[39;00m face_encodings:\n",
      "File \u001B[0;32m~/Workspace/EDA/venv/lib/python3.10/site-packages/face_recognition/api.py:214\u001B[0m, in \u001B[0;36mface_encodings\u001B[0;34m(face_image, known_face_locations, num_jitters, model)\u001B[0m\n\u001B[1;32m    204\u001B[0m \u001B[38;5;250m\u001B[39m\u001B[38;5;124;03m\"\"\"\u001B[39;00m\n\u001B[1;32m    205\u001B[0m \u001B[38;5;124;03mGiven an image, return the 128-dimension face encoding for each face in the image.\u001B[39;00m\n\u001B[1;32m    206\u001B[0m \n\u001B[0;32m   (...)\u001B[0m\n\u001B[1;32m    211\u001B[0m \u001B[38;5;124;03m:return: A list of 128-dimensional face encodings (one for each face in the image)\u001B[39;00m\n\u001B[1;32m    212\u001B[0m \u001B[38;5;124;03m\"\"\"\u001B[39;00m\n\u001B[1;32m    213\u001B[0m raw_landmarks \u001B[38;5;241m=\u001B[39m _raw_face_landmarks(face_image, known_face_locations, model)\n\u001B[0;32m--> 214\u001B[0m \u001B[38;5;28;01mreturn\u001B[39;00m [np\u001B[38;5;241m.\u001B[39marray(face_encoder\u001B[38;5;241m.\u001B[39mcompute_face_descriptor(face_image, raw_landmark_set, num_jitters)) \u001B[38;5;28;01mfor\u001B[39;00m raw_landmark_set \u001B[38;5;129;01min\u001B[39;00m raw_landmarks]\n",
      "File \u001B[0;32m~/Workspace/EDA/venv/lib/python3.10/site-packages/face_recognition/api.py:214\u001B[0m, in \u001B[0;36m<listcomp>\u001B[0;34m(.0)\u001B[0m\n\u001B[1;32m    204\u001B[0m \u001B[38;5;250m\u001B[39m\u001B[38;5;124;03m\"\"\"\u001B[39;00m\n\u001B[1;32m    205\u001B[0m \u001B[38;5;124;03mGiven an image, return the 128-dimension face encoding for each face in the image.\u001B[39;00m\n\u001B[1;32m    206\u001B[0m \n\u001B[0;32m   (...)\u001B[0m\n\u001B[1;32m    211\u001B[0m \u001B[38;5;124;03m:return: A list of 128-dimensional face encodings (one for each face in the image)\u001B[39;00m\n\u001B[1;32m    212\u001B[0m \u001B[38;5;124;03m\"\"\"\u001B[39;00m\n\u001B[1;32m    213\u001B[0m raw_landmarks \u001B[38;5;241m=\u001B[39m _raw_face_landmarks(face_image, known_face_locations, model)\n\u001B[0;32m--> 214\u001B[0m \u001B[38;5;28;01mreturn\u001B[39;00m [np\u001B[38;5;241m.\u001B[39marray(\u001B[43mface_encoder\u001B[49m\u001B[38;5;241;43m.\u001B[39;49m\u001B[43mcompute_face_descriptor\u001B[49m\u001B[43m(\u001B[49m\u001B[43mface_image\u001B[49m\u001B[43m,\u001B[49m\u001B[43m \u001B[49m\u001B[43mraw_landmark_set\u001B[49m\u001B[43m,\u001B[49m\u001B[43m \u001B[49m\u001B[43mnum_jitters\u001B[49m\u001B[43m)\u001B[49m) \u001B[38;5;28;01mfor\u001B[39;00m raw_landmark_set \u001B[38;5;129;01min\u001B[39;00m raw_landmarks]\n",
      "\u001B[0;31mKeyboardInterrupt\u001B[0m: "
     ]
    }
   ],
   "source": [
    "import datetime\n",
    "import face_recognition\n",
    "import cv2\n",
    "\n",
    "identified_face_encodings = []\n",
    "identified_face_names = []\n",
    "\n",
    "name = \"Kostylev Ivan\"\n",
    "learned_person = face_recognition.load_image_file(\"../data/face_recognition_images/person1.1.jpg\")\n",
    "face_locations = face_recognition.face_locations(learned_person)\n",
    "learned_person_encoding = face_recognition.face_encodings(learned_person, face_locations)[0]\n",
    "identified_face_encodings.append(learned_person_encoding)\n",
    "identified_face_names.append(name)\n",
    "\n",
    "name = \"Vorkov Nikita\"\n",
    "learned_person = face_recognition.load_image_file(\"../data/face_recognition_images/person2.1.jpg\")\n",
    "face_locations = face_recognition.face_locations(learned_person)\n",
    "learned_person_encoding = face_recognition.face_encodings(learned_person, face_locations)[0]\n",
    "identified_face_encodings.append(learned_person_encoding)\n",
    "identified_face_names.append(name)\n",
    "\n",
    "# Initialize some variables\n",
    "face_locations = []\n",
    "face_encodings = []\n",
    "face_names = []\n",
    "\n",
    "gst_stream = 'rtspsrc location=rtsp://127.0.0.1:18554/test user-id=user user-pw=pass latency=0 ! rtpjitterbuffer drop-on-latency=true ! decodebin ! videoconvert ! appsink'\n",
    "cap = cv2.VideoCapture(gst_stream, cv2.CAP_GSTREAMER)\n",
    "while True:\n",
    "    start = datetime.datetime.now()\n",
    "    success, frame = cap.read()\n",
    "\n",
    "    # Only process every other frame of video to save time\n",
    "    if success:\n",
    "        # small_frame = cv2.resize(frame, (48, 48), interpolation = cv2.INTER_LINEAR)\n",
    "\n",
    "        # Convert the image from BGR color (which OpenCV uses) to RGB color (which face_recognition uses)\n",
    "        small_frame = cv2.resize(frame, (0, 0), fx=0.5, fy=0.5)\n",
    "        rgb_iamge = cv2.cvtColor(small_frame, cv2.COLOR_BGR2RGB)\n",
    "\n",
    "        # Find all the faces and face encodings in the current frame of video\n",
    "        face_locations = face_recognition.face_locations(rgb_iamge)\n",
    "        face_encodings = face_recognition.face_encodings(rgb_iamge, face_locations)\n",
    "\n",
    "        face_names = []\n",
    "        for face_encoding in face_encodings:\n",
    "            matches = face_recognition.compare_faces(identified_face_encodings, face_encoding)\n",
    "            name = \"Unknown\"\n",
    "\n",
    "            # Если хотим брать только идентифицированные лица\n",
    "            print(rgb_iamge.shape)\n",
    "            if True in matches:\n",
    "                first_match_index = matches.index(True)\n",
    "                name = identified_face_names[first_match_index]\n",
    "                face_names.append(name)\n",
    "                \n",
    "            # Если хотим брать лица близкие к изученным            \n",
    "            # face_distances = face_recognition.face_distance(identified_face_encodings, face_encoding)\n",
    "            # best_match_index = np.argmin(face_distances)\n",
    "            # if matches[best_match_index]:\n",
    "            #     name = identified_face_names[best_match_index]\n",
    "            # face_names.append(identified_face_encodings)\n",
    "\n",
    "    # Display the results\n",
    "    for (top, right, bottom, left), name in zip(face_locations, face_names):\n",
    "        font = cv2.FONT_HERSHEY_DUPLEX\n",
    "        cv2.putText(small_frame, name, (left + 6, bottom - 6), font, 1.0, (255, 255, 255), 1)\n",
    "\n",
    "    # Display the resulting image\n",
    "    end = datetime.datetime.now()\n",
    "    fps = f\"FPS: {1 / (end - start).total_seconds():.2f}\"\n",
    "    cv2.putText(small_frame, fps, (50, 50), cv2.FONT_HERSHEY_SIMPLEX, 2, (255, 255, 255), 8)\n",
    "    \n",
    "    cv2.imshow('Video', small_frame)\n",
    "    if cv2.waitKey(1) & 0xFF == ord('q'):\n",
    "        break\n",
    "\n",
    "cap.release()\n",
    "cv2.destroyAllWindows()"
   ],
   "metadata": {
    "collapsed": false,
    "ExecuteTime": {
     "end_time": "2024-02-01T14:05:25.715105368Z",
     "start_time": "2024-02-01T14:05:09.132084161Z"
    }
   },
   "id": "aa0082638a5402e2",
   "execution_count": 1
  },
  {
   "cell_type": "code",
   "outputs": [],
   "source": [],
   "metadata": {
    "collapsed": false
   },
   "id": "939f645f6b2ebe9b"
  }
 ],
 "metadata": {
  "kernelspec": {
   "display_name": "Python 3",
   "language": "python",
   "name": "python3"
  },
  "language_info": {
   "codemirror_mode": {
    "name": "ipython",
    "version": 2
   },
   "file_extension": ".py",
   "mimetype": "text/x-python",
   "name": "python",
   "nbconvert_exporter": "python",
   "pygments_lexer": "ipython2",
   "version": "2.7.6"
  }
 },
 "nbformat": 4,
 "nbformat_minor": 5
}
