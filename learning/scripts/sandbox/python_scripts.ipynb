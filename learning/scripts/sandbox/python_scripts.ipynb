{
 "cells": [
  {
   "cell_type": "code",
   "execution_count": 7,
   "id": "initial_id",
   "metadata": {
    "collapsed": true,
    "ExecuteTime": {
     "end_time": "2023-10-21T12:52:09.787698611Z",
     "start_time": "2023-10-21T12:52:09.702076152Z"
    }
   },
   "outputs": [],
   "source": [
    "import os\n",
    "\n",
    "# Функция для обхода директорий и записи имен .txt файлов\n",
    "def find_and_write_txt_files(root_dir, output_file):\n",
    "    with open(output_file, 'w') as file:\n",
    "        for foldername, subfolders, filenames in os.walk(root_dir):\n",
    "            for filename in filenames:\n",
    "                if filename.endswith('.png'):\n",
    "                    # Получите имя последней вложенной директории\n",
    "                    last_dir = os.path.basename(os.path.normpath(foldername))\n",
    "                    # Запишите имя .txt файла и имя последней вложенной директории\n",
    "                    file.write(f\"{filename}, {last_dir}\\n\")\n",
    "\n",
    "# Укажите корневую директорию и файл, в который вы хотите записать имена .txt файлов\n",
    "root_directory = './data/train'\n",
    "output_filename = './data/labels.txt'\n",
    "\n",
    "# Вызов функции для поиска и записи .txt файлов\n",
    "find_and_write_txt_files(root_directory, output_filename)"
   ]
  },
  {
   "cell_type": "code",
   "execution_count": null,
   "outputs": [],
   "source": [],
   "metadata": {
    "collapsed": false
   },
   "id": "9e6153fd73ea93fd"
  }
 ],
 "metadata": {
  "kernelspec": {
   "display_name": "Python 3",
   "language": "python",
   "name": "python3"
  },
  "language_info": {
   "codemirror_mode": {
    "name": "ipython",
    "version": 2
   },
   "file_extension": ".py",
   "mimetype": "text/x-python",
   "name": "python",
   "nbconvert_exporter": "python",
   "pygments_lexer": "ipython2",
   "version": "2.7.6"
  }
 },
 "nbformat": 4,
 "nbformat_minor": 5
}
