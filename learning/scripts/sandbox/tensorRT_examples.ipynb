{
 "cells": [
  {
   "cell_type": "code",
   "execution_count": null,
   "id": "initial_id",
   "metadata": {
    "collapsed": true
   },
   "outputs": [],
   "source": [
    "import tensorflow as tf\n",
    "import tensorrt as trt\n",
    "import pycuda.driver as cuda\n",
    "import pycuda.autoinit\n",
    "\n",
    "# Создаем и обучаем модель TensorFlow\n",
    "model = tf.keras.applications.ResNet50(weights='imagenet')\n",
    "\n",
    "# Оптимизируем модель с использованием TensorRT\n",
    "trt_graph = trt.create_inference_graph(\n",
    "    input_graph_def=tf.graph_util.remove_training_nodes(tf.get_default_graph().as_graph_def()),\n",
    "    outputs=[model.output.op.name],\n",
    "    max_batch_size=1,\n",
    "    max_workspace_size_bytes=1 << 25,\n",
    "    precision_mode='FP16')\n",
    "\n",
    "# Создаем TensorFlow сессию с оптимизированным графом\n",
    "tf_config = tf.ConfigProto()\n",
    "tf_config.gpu_options.allow_growth = True\n",
    "tf_sess = tf.Session(config=tf_config)\n",
    "tf.import_graph_def(trt_graph, name='')\n",
    "\n",
    "# Получаем входной и выходной тензоры\n",
    "input_tensor = tf.get_default_graph().get_tensor_by_name('input_1:0')\n",
    "output_tensor = tf.get_default_graph().get_tensor_by_name(model.output.op.name + ':0')\n",
    "\n",
    "# Загрузим изображение и выполним инференс\n",
    "import cv2\n",
    "import numpy as np\n",
    "\n",
    "image = cv2.imread('example.jpg')\n",
    "image = cv2.resize(image, (224, 224))\n",
    "image = np.expand_dims(image, axis=0)\n",
    "output = tf_sess.run(output_tensor, feed_dict={input_tensor: image})\n",
    "\n",
    "# Выводим результат инференса\n",
    "predicted_class = np.argmax(output)\n",
    "print(f'Predicted class: {predicted_class}')\n",
    "\n",
    "# Закрываем сессию\n",
    "tf_sess.close()"
   ]
  }
 ],
 "metadata": {
  "kernelspec": {
   "display_name": "Python 3",
   "language": "python",
   "name": "python3"
  },
  "language_info": {
   "codemirror_mode": {
    "name": "ipython",
    "version": 2
   },
   "file_extension": ".py",
   "mimetype": "text/x-python",
   "name": "python",
   "nbconvert_exporter": "python",
   "pygments_lexer": "ipython2",
   "version": "2.7.6"
  }
 },
 "nbformat": 4,
 "nbformat_minor": 5
}
