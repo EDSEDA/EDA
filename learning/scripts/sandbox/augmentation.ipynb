{
 "cells": [
  {
   "cell_type": "markdown",
   "source": [
    "Аугментация на одно изображение"
   ],
   "metadata": {
    "collapsed": false
   },
   "id": "c2da95c50fa34e1f"
  },
  {
   "cell_type": "code",
   "execution_count": 43,
   "outputs": [],
   "source": [
    "import imgaug as ia\n",
    "from imgaug import augmenters as iaa\n",
    "from PIL import Image\n",
    "import numpy as np\n",
    "\n",
    "# Создаем объект аугментации\n",
    "seq = iaa.Sequential([\n",
    "    iaa.Fliplr(0.5),  # Зеркальное отражение с вероятностью 50%\n",
    "    iaa.GaussianBlur(sigma=(0, 0.5)),  # Размытие Гаусса с переменной силой\n",
    "    iaa.Affine(rotate=(-15, 15)),  # Поворот на случайный угол от -45 до 45 градусов\n",
    "    iaa.ElasticTransformation(alpha=2.0, sigma=2.0)  # Эластичное искажение изображения\n",
    "])\n",
    "\n",
    "# Пример применения аугментации к изображению\n",
    "image_path = '/home/vorkov/Workspace/EDA/learning/data/data_96_bin/train/positive/ffhq_23.jpg'\n",
    "image = np.array(Image.open(image_path))  # Загружаем изображение\n",
    "images_aug = seq.augment_images([image])  # Применяем аугментацию\n",
    "\n",
    "# Сохраняем аугментированные изображения\n",
    "output_path = '/home/vorkov/Workspace/EDA/learning/data/trash/augmentation1.jpg'\n",
    "Image.fromarray(images_aug[0]).save(output_path)"
   ],
   "metadata": {
    "collapsed": false,
    "ExecuteTime": {
     "end_time": "2023-11-19T10:30:36.841476604Z",
     "start_time": "2023-11-19T10:30:36.800095165Z"
    }
   },
   "id": "d65dc74c0bde9de5"
  },
  {
   "cell_type": "raw",
   "source": [
    "Аугментация на всю папку"
   ],
   "metadata": {
    "collapsed": false
   },
   "id": "35c2b1b1c233c690"
  },
  {
   "cell_type": "code",
   "execution_count": 47,
   "outputs": [],
   "source": [
    "from imgaug import augmenters as iaa\n",
    "from PIL import Image\n",
    "import numpy as np\n",
    "import os\n",
    "\n",
    "# Создаем объект аугментации\n",
    "seq = iaa.Sequential([\n",
    "    iaa.Fliplr(0.0),  # Зеркальное отражение с вероятностью 50%\n",
    "    iaa.Affine(rotate=(-10, 10)),  # Поворот на случайный угол от -45 до 45 градусов\n",
    "    iaa.ElasticTransformation(alpha=1.0, sigma=1.0)  # Эластичное искажение изображения\n",
    "])\n",
    "\n",
    "# Пример применения аугментации к изображению\n",
    "src_dir = '/home/vorkov/Workspace/EDA/learning/data/data_fer_bin/train/neutral/'\n",
    "dst_dir = '/home/vorkov/Workspace/EDA/learning/data/data_fer_bin/train/neutral/'\n",
    "for filename in os.listdir(src_dir):\n",
    "    src_file_path = os.path.join(src_dir, filename)\n",
    "    image = np.array(Image.open(src_file_path))  # Загружаем изображение\n",
    "    images_aug = seq.augment_images([image])  # Применяем аугментацию\n",
    "    \n",
    "    # Добавляем постфикс \"aug\" к имени файла\n",
    "    base_name, ext = os.path.splitext(filename)\n",
    "    new_filename = f\"{base_name}_aug1{ext}\"\n",
    "\n",
    "    dst_file_path = os.path.join(dst_dir, new_filename)    \n",
    "    Image.fromarray(images_aug[0]).save(dst_file_path)"
   ],
   "metadata": {
    "collapsed": false,
    "ExecuteTime": {
     "end_time": "2023-11-19T11:05:11.545765664Z",
     "start_time": "2023-11-19T11:05:07.769955626Z"
    }
   },
   "id": "a89d118519ef607c"
  },
  {
   "cell_type": "code",
   "execution_count": null,
   "outputs": [],
   "source": [],
   "metadata": {
    "collapsed": false
   },
   "id": "c127b1d267ed622c"
  }
 ],
 "metadata": {
  "kernelspec": {
   "display_name": "Python 3",
   "language": "python",
   "name": "python3"
  },
  "language_info": {
   "codemirror_mode": {
    "name": "ipython",
    "version": 2
   },
   "file_extension": ".py",
   "mimetype": "text/x-python",
   "name": "python",
   "nbconvert_exporter": "python",
   "pygments_lexer": "ipython2",
   "version": "2.7.6"
  }
 },
 "nbformat": 4,
 "nbformat_minor": 5
}
