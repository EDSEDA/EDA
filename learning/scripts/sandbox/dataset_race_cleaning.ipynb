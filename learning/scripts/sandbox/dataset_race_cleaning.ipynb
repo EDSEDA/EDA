{
 "cells": [
  {
   "cell_type": "code",
   "outputs": [
    {
     "name": "stdout",
     "output_type": "stream",
     "text": [
      "Количество файлов с двумя символами '_': 0\n"
     ]
    }
   ],
   "source": [
    "import os\n",
    "import re\n",
    "\n",
    "def count_files_with_two_underscores(directory):\n",
    "    count = 0\n",
    "    files_with_two_underscores = []\n",
    "    \n",
    "    # Проходимся по всем файлам в указанной директории\n",
    "    for filename in os.listdir(directory):\n",
    "        # Проверяем, соответствует ли имя файла условию\n",
    "        if len(re.findall(r\"_\", filename)) == 2:\n",
    "            count += 1\n",
    "            files_with_two_underscores.append(filename)\n",
    "            os.remove(os.path.join(directory, filename))\n",
    "\n",
    "    return count, files_with_two_underscores\n",
    "\n",
    "# Замените 'path/to/directory' на путь к вашей директории\n",
    "directory_path = '../../data/UTKFace_48'\n",
    "file_count, files_list = count_files_with_two_underscores(directory_path)\n",
    "\n",
    "print(f\"Количество файлов с двумя символами '_': {file_count}\")\n",
    "if file_count > 0:\n",
    "    print(\"Имена файлов:\")\n",
    "    for file in files_list:\n",
    "        print(file)"
   ],
   "metadata": {
    "collapsed": false,
    "ExecuteTime": {
     "end_time": "2024-01-06T13:15:34.976817313Z",
     "start_time": "2024-01-06T13:15:34.957746926Z"
    }
   },
   "id": "481db391c292ba35",
   "execution_count": 4
  },
  {
   "cell_type": "code",
   "outputs": [],
   "source": [],
   "metadata": {
    "collapsed": false
   },
   "id": "710d51e5047d92a6"
  }
 ],
 "metadata": {
  "kernelspec": {
   "display_name": "Python 3",
   "language": "python",
   "name": "python3"
  },
  "language_info": {
   "codemirror_mode": {
    "name": "ipython",
    "version": 2
   },
   "file_extension": ".py",
   "mimetype": "text/x-python",
   "name": "python",
   "nbconvert_exporter": "python",
   "pygments_lexer": "ipython2",
   "version": "2.7.6"
  }
 },
 "nbformat": 4,
 "nbformat_minor": 5
}
