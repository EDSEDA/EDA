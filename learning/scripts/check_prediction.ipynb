{
 "cells": [
  {
   "cell_type": "code",
   "execution_count": null,
   "id": "initial_id",
   "metadata": {
    "collapsed": true,
    "ExecuteTime": {
     "end_time": "2023-11-16T17:42:26.321254629Z",
     "start_time": "2023-11-16T17:42:26.321109166Z"
    }
   },
   "outputs": [],
   "source": [
    "from time import sleep\n",
    "import cv2\n",
    "from keras.src.saving.saving_api import load_model\n",
    "from ultralytics import YOLO\n",
    "from inference.predictor import process_image, predict_image, draw_label\n",
    "\n",
    "modelYolo = YOLO('../../models/yolov8n-face.pt')\n",
    "model_age = load_model('../../models/model_age_48.model')\n",
    "model_gen = load_model('../../models/model_gen_48.model')\n",
    "model_rac = load_model('../../models/model_race_48.model')\n",
    "model_emo = load_model(('../../models/model_pictures_fer_bin.h5'))\n",
    "\n",
    "\n",
    "image_full = cv2.imread(\"/home/vorkov/Pictures/Webcam/2023-11-16-190519.jpg\")\n",
    "cv2.imshow(\"YOLOv8 Tracking\", image_full)\n",
    "# PERSON DETECTION\n",
    "results = modelYolo.track(image_full)\n",
    "print(results)\n",
    "\n",
    "if len(results[0]) != 0:\n",
    "\n",
    "    # image cropping\n",
    "    current_ind = results[0].boxes.cls.int().tolist()[0]\n",
    "    xyxy = results[0].boxes.xyxy[current_ind].int().tolist()\n",
    "\n",
    "    #prediction making\n",
    "    img_gray = cv2.cvtColor(image_full, cv2.COLOR_BGR2GRAY) # костыль для перевода картинки в чб связан со спецификой используемого датасета\n",
    "    img_gray = cv2.cvtColor(img_gray, cv2.COLOR_GRAY2BGR) # костыль для перевода картинки в чб связан со спецификой используемого датасета\n",
    "    image_array, image_resized = process_image(img_gray, xyxy)\n",
    "    pred_age, pred_gen, pred_rac, pred_emo = predict_image(image_array,  model_age, model_gen, model_rac, model_emo)\n",
    "    image_full = results[0].plot()\n",
    "\n",
    "    # session_start_time = time.time()\n",
    "    # label_person1 = \"service time: {} sec\".format(int(time.time() - session_start_time))\n",
    "    # draw_label(annotated_frame, (0, annotated_frame.shape[0]-10), label_person1)\n",
    "    # label_person2 = \"client counter: {}\".format(client_number)\n",
    "    # draw_label(annotated_frame, (0, annotated_frame.shape[0]-30), label_person2)\n",
    "    label_age = \"age: {}\".format(pred_age)\n",
    "    draw_label(image_full, (0, image_full.shape[0]-50), label_age)\n",
    "    label_gender = \"sex: {}\".format(pred_gen)\n",
    "    draw_label(image_full, (0, image_full.shape[0]-70), label_gender)\n",
    "    label_race = \"race: {}\".format(pred_rac)\n",
    "    draw_label(image_full, (0, image_full.shape[0]-90), label_race)\n",
    "    label_emotion = \"emotion: {}\".format(pred_emo)\n",
    "    draw_label(image_full, (0, image_full.shape[0]-110), label_emotion)\n",
    "    cv2.imshow(\"YOLOv82 Tracking\", image_full)\n",
    "    cv2.imshow(\"YOLOv8 Resized\", image_resized) # дебажный вывод\n",
    "\n",
    "sleep(5)"
   ]
  },
  {
   "cell_type": "code",
   "execution_count": null,
   "outputs": [],
   "source": [],
   "metadata": {
    "collapsed": false
   },
   "id": "fc5a4d7f7586b792"
  }
 ],
 "metadata": {
  "kernelspec": {
   "display_name": "Python 3",
   "language": "python",
   "name": "python3"
  },
  "language_info": {
   "codemirror_mode": {
    "name": "ipython",
    "version": 2
   },
   "file_extension": ".py",
   "mimetype": "text/x-python",
   "name": "python",
   "nbconvert_exporter": "python",
   "pygments_lexer": "ipython2",
   "version": "2.7.6"
  }
 },
 "nbformat": 4,
 "nbformat_minor": 5
}
