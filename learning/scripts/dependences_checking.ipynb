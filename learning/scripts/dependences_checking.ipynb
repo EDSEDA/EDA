{
 "cells": [
  {
   "cell_type": "markdown",
   "source": [
    "Проверка openCV"
   ],
   "metadata": {
    "collapsed": false
   },
   "id": "27d590f4ba510a4"
  },
  {
   "cell_type": "code",
   "outputs": [
    {
     "name": "stdout",
     "output_type": "stream",
     "text": [
      "CUDA is enabled. Number of CUDA devices: 1\n",
      "CUDA functions are available.\n"
     ]
    }
   ],
   "source": [
    "import cv2\n",
    "\n",
    "# Проверяем, поддерживает ли сборка OpenCV CUDA\n",
    "# try:\n",
    "# Пытаемся получить количество доступных CUDA-устройств\n",
    "count = cv2.cuda.getCudaEnabledDeviceCount()\n",
    "if count > 0:\n",
    "    print(f\"CUDA is enabled. Number of CUDA devices: {count}\")\n",
    "    # Получаем информацию о версии CUDA\n",
    "    # print(f\"CUDA version: {cv2.cuda.Cuda_()}\")\n",
    "    # Проверяем доступность функций CUDA\n",
    "    print(\"CUDA functions are available.\") if cv2.cuda.getDevice() >= 0 else print(\"CUDA functions are not available.\")\n",
    "else:\n",
    "    print(\"CUDA is not enabled in this OpenCV build.\")\n",
    "# except AttributeError:\n",
    "#     print(\"CUDA is not supported in this OpenCV build.\")"
   ],
   "metadata": {
    "collapsed": false,
    "ExecuteTime": {
     "end_time": "2024-02-11T15:51:36.319472255Z",
     "start_time": "2024-02-11T15:51:35.985715991Z"
    }
   },
   "id": "bf944c1350e1b879",
   "execution_count": 1
  },
  {
   "cell_type": "markdown",
   "source": [
    "Проверка "
   ],
   "metadata": {
    "collapsed": false
   },
   "id": "49ab66189ec79cbc"
  },
  {
   "cell_type": "code",
   "outputs": [
    {
     "name": "stdout",
     "output_type": "stream",
     "text": [
      "True\n"
     ]
    }
   ],
   "source": [
    "import dlib\n",
    "\n",
    "print(dlib.DLIB_USE_CUDA)"
   ],
   "metadata": {
    "collapsed": false,
    "ExecuteTime": {
     "end_time": "2024-02-11T15:51:39.187505796Z",
     "start_time": "2024-02-11T15:51:39.082598057Z"
    }
   },
   "id": "79448cccecd9c1ea",
   "execution_count": 2
  },
  {
   "cell_type": "code",
   "outputs": [],
   "source": [],
   "metadata": {
    "collapsed": false
   },
   "id": "c783f2ee4733cf89"
  }
 ],
 "metadata": {
  "kernelspec": {
   "display_name": "Python 3",
   "language": "python",
   "name": "python3"
  },
  "language_info": {
   "codemirror_mode": {
    "name": "ipython",
    "version": 2
   },
   "file_extension": ".py",
   "mimetype": "text/x-python",
   "name": "python",
   "nbconvert_exporter": "python",
   "pygments_lexer": "ipython2",
   "version": "2.7.6"
  }
 },
 "nbformat": 4,
 "nbformat_minor": 5
}
