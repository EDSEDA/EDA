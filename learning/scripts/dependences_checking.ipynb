{
 "cells": [
  {
   "cell_type": "markdown",
   "source": [
    "Проверка openCV"
   ],
   "metadata": {
    "collapsed": false
   },
   "id": "27d590f4ba510a4"
  },
  {
   "cell_type": "code",
   "outputs": [],
   "source": [
    "import cv2\n",
    "\n",
    "# Проверяем, поддерживает ли сборка OpenCV CUDA\n",
    "# try:\n",
    "# Пытаемся получить количество доступных CUDA-устройств\n",
    "count = cv2.cuda.getCudaEnabledDeviceCount()\n",
    "if count > 0:\n",
    "    print(f\"CUDA is enabled. Number of CUDA devices: {count}\")\n",
    "    # Получаем информацию о версии CUDA\n",
    "    # print(f\"CUDA version: {cv2.cuda.Cuda_()}\")\n",
    "    # Проверяем доступность функций CUDA\n",
    "    print(\"CUDA functions are available.\") if cv2.cuda.getDevice() >= 0 else print(\"CUDA functions are not available.\")\n",
    "else:\n",
    "    print(\"CUDA is not enabled in this OpenCV build.\")\n",
    "# except AttributeError:\n",
    "#     print(\"CUDA is not supported in this OpenCV build.\")"
   ],
   "metadata": {
    "collapsed": false
   },
   "id": "bf944c1350e1b879",
   "execution_count": null
  },
  {
   "cell_type": "markdown",
   "source": [
    "Проверка "
   ],
   "metadata": {
    "collapsed": false
   },
   "id": "49ab66189ec79cbc"
  },
  {
   "cell_type": "code",
   "outputs": [],
   "source": [
    "import dlib\n",
    "\n",
    "print(dlib.DLIB_USE_CUDA)"
   ],
   "metadata": {
    "collapsed": false
   },
   "id": "79448cccecd9c1ea",
   "execution_count": null
  },
  {
   "cell_type": "code",
   "outputs": [],
   "source": [],
   "metadata": {
    "collapsed": false
   },
   "id": "c783f2ee4733cf89"
  }
 ],
 "metadata": {
  "kernelspec": {
   "display_name": "Python 3",
   "language": "python",
   "name": "python3"
  },
  "language_info": {
   "codemirror_mode": {
    "name": "ipython",
    "version": 2
   },
   "file_extension": ".py",
   "mimetype": "text/x-python",
   "name": "python",
   "nbconvert_exporter": "python",
   "pygments_lexer": "ipython2",
   "version": "2.7.6"
  }
 },
 "nbformat": 4,
 "nbformat_minor": 5
}
