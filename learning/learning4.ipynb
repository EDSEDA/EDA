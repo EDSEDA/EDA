{
 "cells": [
  {
   "cell_type": "code",
   "execution_count": 15,
   "metadata": {
    "collapsed": true,
    "ExecuteTime": {
     "end_time": "2023-09-08T20:09:56.576695042Z",
     "start_time": "2023-09-08T20:09:56.487340125Z"
    }
   },
   "outputs": [],
   "source": [
    "import warnings\n",
    "warnings.filterwarnings('ignore')\n",
    "\n",
    "# Standard python libraries\n",
    "import os\n",
    "import time\n",
    "import requests\n",
    "\n",
    "# Essential DS libraries\n",
    "import numpy as np\n",
    "import pandas as pd\n",
    "from sklearn.metrics import roc_auc_score\n",
    "from sklearn.model_selection import train_test_split\n",
    "import torch\n",
    "\n",
    "# LightAutoML presets, task and report generation\n",
    "from lightautoml.automl.presets.tabular_presets import TabularAutoML\n",
    "from lightautoml.automl.presets.tabular_presets import TabularUtilizedAutoML\n",
    "from lightautoml.tasks import Task\n",
    "\n",
    "import joblib"
   ]
  },
  {
   "cell_type": "code",
   "execution_count": 68,
   "outputs": [
    {
     "data": {
      "text/plain": "           col0      col1      col2      col3      col4      col5      col6  \\\n0      0.506777  0.685168 -0.081059  0.508899  0.589536 -0.155494  0.507721   \n1      0.522592  0.728219 -0.069704  0.563158  0.622856 -0.154344  0.532915   \n2      0.507426  0.711682 -0.081520  0.490157  0.622659 -0.162877  0.500488   \n3      0.484002  0.716097 -0.095621  0.490276  0.590272 -0.168015  0.489010   \n4      0.534178  0.709634 -0.044477  0.526397  0.637113 -0.133007  0.526363   \n...         ...       ...       ...       ...       ...       ...       ...   \n28840  0.464244  0.692895 -0.108363  0.419338  0.580410 -0.141182  0.456221   \n28841  0.507204  0.724365 -0.073162  0.495667  0.619827 -0.153414  0.500723   \n28842  0.482297  0.701017 -0.092767  0.476873  0.592004 -0.143169  0.482705   \n28843  0.495701  0.722222 -0.067136  0.486468  0.619216 -0.149870  0.492315   \n28844  0.547405  0.680532 -0.115653  0.556484  0.593711 -0.179959  0.546958   \n\n           col7      col8      col9  ...   col1395   col1396   col1397  \\\n0      0.619720 -0.081626  0.481201  ...  0.547818  0.421041 -0.017888   \n1      0.651415 -0.075771  0.527397  ...  0.563678  0.440509 -0.014150   \n2      0.650763 -0.086197  0.465061  ...  0.549762  0.444901 -0.025063   \n3      0.631962 -0.094333  0.468822  ...  0.548870  0.438363 -0.009491   \n4      0.654088 -0.060292  0.489256  ...  0.537986  0.445891 -0.039478   \n...         ...       ...       ...  ...       ...       ...       ...   \n28840  0.620834 -0.090094  0.409703  ...  0.506292  0.440779 -0.003050   \n28841  0.647647 -0.077137  0.465443  ...  0.539812  0.430971 -0.028041   \n28842  0.628352 -0.080367  0.455746  ...  0.536034  0.434702 -0.003270   \n28843  0.649575 -0.075709  0.463715  ...  0.539038  0.433747 -0.039980   \n28844  0.628976 -0.111967  0.516545  ...  0.565847  0.443600  0.002335   \n\n        col1398   col1399   col1400   col1401   col1402   col1403   col1404  \n0      0.701051  0.395390  0.041529  0.714997  0.388807  0.042386  contempt  \n1      0.693491  0.415474  0.097632  0.706497  0.406117  0.102601  contempt  \n2      0.724568  0.406819  0.017024  0.740692  0.396217  0.016287  contempt  \n3      0.714356  0.434477  0.052216  0.732640  0.424303  0.053430  contempt  \n4      0.672400  0.397646  0.011078  0.682771  0.388529  0.011500  contempt  \n...         ...       ...       ...       ...       ...       ...       ...  \n28840  0.668141  0.394254 -0.020891  0.686004  0.376735 -0.025035      fear  \n28841  0.704211  0.381660  0.022188  0.716755  0.369790  0.022183      fear  \n28842  0.702541  0.404191  0.039063  0.718117  0.388952  0.039405      fear  \n28843  0.704318  0.393811 -0.000067  0.718654  0.379876 -0.000209      fear  \n28844  0.711761  0.415927  0.090348  0.728255  0.401093  0.094682      fear  \n\n[28845 rows x 1405 columns]",
      "text/html": "<div>\n<style scoped>\n    .dataframe tbody tr th:only-of-type {\n        vertical-align: middle;\n    }\n\n    .dataframe tbody tr th {\n        vertical-align: top;\n    }\n\n    .dataframe thead th {\n        text-align: right;\n    }\n</style>\n<table border=\"1\" class=\"dataframe\">\n  <thead>\n    <tr style=\"text-align: right;\">\n      <th></th>\n      <th>col0</th>\n      <th>col1</th>\n      <th>col2</th>\n      <th>col3</th>\n      <th>col4</th>\n      <th>col5</th>\n      <th>col6</th>\n      <th>col7</th>\n      <th>col8</th>\n      <th>col9</th>\n      <th>...</th>\n      <th>col1395</th>\n      <th>col1396</th>\n      <th>col1397</th>\n      <th>col1398</th>\n      <th>col1399</th>\n      <th>col1400</th>\n      <th>col1401</th>\n      <th>col1402</th>\n      <th>col1403</th>\n      <th>col1404</th>\n    </tr>\n  </thead>\n  <tbody>\n    <tr>\n      <th>0</th>\n      <td>0.506777</td>\n      <td>0.685168</td>\n      <td>-0.081059</td>\n      <td>0.508899</td>\n      <td>0.589536</td>\n      <td>-0.155494</td>\n      <td>0.507721</td>\n      <td>0.619720</td>\n      <td>-0.081626</td>\n      <td>0.481201</td>\n      <td>...</td>\n      <td>0.547818</td>\n      <td>0.421041</td>\n      <td>-0.017888</td>\n      <td>0.701051</td>\n      <td>0.395390</td>\n      <td>0.041529</td>\n      <td>0.714997</td>\n      <td>0.388807</td>\n      <td>0.042386</td>\n      <td>contempt</td>\n    </tr>\n    <tr>\n      <th>1</th>\n      <td>0.522592</td>\n      <td>0.728219</td>\n      <td>-0.069704</td>\n      <td>0.563158</td>\n      <td>0.622856</td>\n      <td>-0.154344</td>\n      <td>0.532915</td>\n      <td>0.651415</td>\n      <td>-0.075771</td>\n      <td>0.527397</td>\n      <td>...</td>\n      <td>0.563678</td>\n      <td>0.440509</td>\n      <td>-0.014150</td>\n      <td>0.693491</td>\n      <td>0.415474</td>\n      <td>0.097632</td>\n      <td>0.706497</td>\n      <td>0.406117</td>\n      <td>0.102601</td>\n      <td>contempt</td>\n    </tr>\n    <tr>\n      <th>2</th>\n      <td>0.507426</td>\n      <td>0.711682</td>\n      <td>-0.081520</td>\n      <td>0.490157</td>\n      <td>0.622659</td>\n      <td>-0.162877</td>\n      <td>0.500488</td>\n      <td>0.650763</td>\n      <td>-0.086197</td>\n      <td>0.465061</td>\n      <td>...</td>\n      <td>0.549762</td>\n      <td>0.444901</td>\n      <td>-0.025063</td>\n      <td>0.724568</td>\n      <td>0.406819</td>\n      <td>0.017024</td>\n      <td>0.740692</td>\n      <td>0.396217</td>\n      <td>0.016287</td>\n      <td>contempt</td>\n    </tr>\n    <tr>\n      <th>3</th>\n      <td>0.484002</td>\n      <td>0.716097</td>\n      <td>-0.095621</td>\n      <td>0.490276</td>\n      <td>0.590272</td>\n      <td>-0.168015</td>\n      <td>0.489010</td>\n      <td>0.631962</td>\n      <td>-0.094333</td>\n      <td>0.468822</td>\n      <td>...</td>\n      <td>0.548870</td>\n      <td>0.438363</td>\n      <td>-0.009491</td>\n      <td>0.714356</td>\n      <td>0.434477</td>\n      <td>0.052216</td>\n      <td>0.732640</td>\n      <td>0.424303</td>\n      <td>0.053430</td>\n      <td>contempt</td>\n    </tr>\n    <tr>\n      <th>4</th>\n      <td>0.534178</td>\n      <td>0.709634</td>\n      <td>-0.044477</td>\n      <td>0.526397</td>\n      <td>0.637113</td>\n      <td>-0.133007</td>\n      <td>0.526363</td>\n      <td>0.654088</td>\n      <td>-0.060292</td>\n      <td>0.489256</td>\n      <td>...</td>\n      <td>0.537986</td>\n      <td>0.445891</td>\n      <td>-0.039478</td>\n      <td>0.672400</td>\n      <td>0.397646</td>\n      <td>0.011078</td>\n      <td>0.682771</td>\n      <td>0.388529</td>\n      <td>0.011500</td>\n      <td>contempt</td>\n    </tr>\n    <tr>\n      <th>...</th>\n      <td>...</td>\n      <td>...</td>\n      <td>...</td>\n      <td>...</td>\n      <td>...</td>\n      <td>...</td>\n      <td>...</td>\n      <td>...</td>\n      <td>...</td>\n      <td>...</td>\n      <td>...</td>\n      <td>...</td>\n      <td>...</td>\n      <td>...</td>\n      <td>...</td>\n      <td>...</td>\n      <td>...</td>\n      <td>...</td>\n      <td>...</td>\n      <td>...</td>\n      <td>...</td>\n    </tr>\n    <tr>\n      <th>28840</th>\n      <td>0.464244</td>\n      <td>0.692895</td>\n      <td>-0.108363</td>\n      <td>0.419338</td>\n      <td>0.580410</td>\n      <td>-0.141182</td>\n      <td>0.456221</td>\n      <td>0.620834</td>\n      <td>-0.090094</td>\n      <td>0.409703</td>\n      <td>...</td>\n      <td>0.506292</td>\n      <td>0.440779</td>\n      <td>-0.003050</td>\n      <td>0.668141</td>\n      <td>0.394254</td>\n      <td>-0.020891</td>\n      <td>0.686004</td>\n      <td>0.376735</td>\n      <td>-0.025035</td>\n      <td>fear</td>\n    </tr>\n    <tr>\n      <th>28841</th>\n      <td>0.507204</td>\n      <td>0.724365</td>\n      <td>-0.073162</td>\n      <td>0.495667</td>\n      <td>0.619827</td>\n      <td>-0.153414</td>\n      <td>0.500723</td>\n      <td>0.647647</td>\n      <td>-0.077137</td>\n      <td>0.465443</td>\n      <td>...</td>\n      <td>0.539812</td>\n      <td>0.430971</td>\n      <td>-0.028041</td>\n      <td>0.704211</td>\n      <td>0.381660</td>\n      <td>0.022188</td>\n      <td>0.716755</td>\n      <td>0.369790</td>\n      <td>0.022183</td>\n      <td>fear</td>\n    </tr>\n    <tr>\n      <th>28842</th>\n      <td>0.482297</td>\n      <td>0.701017</td>\n      <td>-0.092767</td>\n      <td>0.476873</td>\n      <td>0.592004</td>\n      <td>-0.143169</td>\n      <td>0.482705</td>\n      <td>0.628352</td>\n      <td>-0.080367</td>\n      <td>0.455746</td>\n      <td>...</td>\n      <td>0.536034</td>\n      <td>0.434702</td>\n      <td>-0.003270</td>\n      <td>0.702541</td>\n      <td>0.404191</td>\n      <td>0.039063</td>\n      <td>0.718117</td>\n      <td>0.388952</td>\n      <td>0.039405</td>\n      <td>fear</td>\n    </tr>\n    <tr>\n      <th>28843</th>\n      <td>0.495701</td>\n      <td>0.722222</td>\n      <td>-0.067136</td>\n      <td>0.486468</td>\n      <td>0.619216</td>\n      <td>-0.149870</td>\n      <td>0.492315</td>\n      <td>0.649575</td>\n      <td>-0.075709</td>\n      <td>0.463715</td>\n      <td>...</td>\n      <td>0.539038</td>\n      <td>0.433747</td>\n      <td>-0.039980</td>\n      <td>0.704318</td>\n      <td>0.393811</td>\n      <td>-0.000067</td>\n      <td>0.718654</td>\n      <td>0.379876</td>\n      <td>-0.000209</td>\n      <td>fear</td>\n    </tr>\n    <tr>\n      <th>28844</th>\n      <td>0.547405</td>\n      <td>0.680532</td>\n      <td>-0.115653</td>\n      <td>0.556484</td>\n      <td>0.593711</td>\n      <td>-0.179959</td>\n      <td>0.546958</td>\n      <td>0.628976</td>\n      <td>-0.111967</td>\n      <td>0.516545</td>\n      <td>...</td>\n      <td>0.565847</td>\n      <td>0.443600</td>\n      <td>0.002335</td>\n      <td>0.711761</td>\n      <td>0.415927</td>\n      <td>0.090348</td>\n      <td>0.728255</td>\n      <td>0.401093</td>\n      <td>0.094682</td>\n      <td>fear</td>\n    </tr>\n  </tbody>\n</table>\n<p>28845 rows × 1405 columns</p>\n</div>"
     },
     "execution_count": 68,
     "metadata": {},
     "output_type": "execute_result"
    }
   ],
   "source": [
    "df = pd.read_csv('data2/landmarks.csv')\n",
    "df.columns = [f'col{i}' for i in range(1405)]\n",
    "df.astype({'col1404':'string'})\n",
    "df"
   ],
   "metadata": {
    "collapsed": false,
    "ExecuteTime": {
     "end_time": "2023-09-08T20:47:04.208657238Z",
     "start_time": "2023-09-08T20:46:44.373828504Z"
    }
   }
  },
  {
   "cell_type": "code",
   "execution_count": 69,
   "outputs": [],
   "source": [
    "Y = df.iloc[:]['col1404']\n",
    "X = df.drop(columns=['col1404'])\n",
    "xtrain, xtest, ytrain, ytest = train_test_split(X, Y, test_size=0.15)"
   ],
   "metadata": {
    "collapsed": false,
    "ExecuteTime": {
     "end_time": "2023-09-08T20:47:28.983459014Z",
     "start_time": "2023-09-08T20:47:04.271333556Z"
    }
   }
  },
  {
   "cell_type": "code",
   "execution_count": 70,
   "outputs": [],
   "source": [
    "xtrain['col1404'] = ytrain\n",
    "xtest['col1404'] = ytest"
   ],
   "metadata": {
    "collapsed": false,
    "ExecuteTime": {
     "end_time": "2023-09-08T20:47:29.039169368Z",
     "start_time": "2023-09-08T20:47:29.023656989Z"
    }
   }
  },
  {
   "cell_type": "code",
   "execution_count": 71,
   "outputs": [],
   "source": [
    "TARGET_NAME = 'col1404'\n",
    "task = Task('reg')\n",
    "roles = {'target': TARGET_NAME}\n",
    "N_FOLDS = 5\n",
    "TIMEOUT = 60 * 300  # 60 minutes\n",
    "automl = TabularAutoML(\n",
    "    task=task,  # required\n",
    "    timeout=TIMEOUT,\n",
    "    cpu_limit=8,\n",
    "    reader_params={'n_jobs': 8, 'cv': N_FOLDS}\n",
    ")"
   ],
   "metadata": {
    "collapsed": false,
    "ExecuteTime": {
     "end_time": "2023-09-08T20:47:29.039420059Z",
     "start_time": "2023-09-08T20:47:29.024110162Z"
    }
   }
  },
  {
   "cell_type": "code",
   "execution_count": 72,
   "outputs": [
    {
     "name": "stdout",
     "output_type": "stream",
     "text": [
      "[23:47:29] Stdout logging level is INFO.\n",
      "[23:47:29] Task: reg\n",
      "\n",
      "[23:47:29] Start automl preset with listed constraints:\n",
      "[23:47:29] - time: 18000.00 seconds\n",
      "[23:47:29] - CPU: 8 cores\n",
      "[23:47:29] - memory: 16 GB\n",
      "\n",
      "[23:47:29] \u001B[1mTrain data shape: (24518, 1405)\u001B[0m\n"
     ]
    },
    {
     "ename": "TypeError",
     "evalue": "ufunc 'isnan' not supported for the input types, and the inputs could not be safely coerced to any supported types according to the casting rule ''safe''",
     "output_type": "error",
     "traceback": [
      "\u001B[0;31m---------------------------------------------------------------------------\u001B[0m",
      "\u001B[0;31mTypeError\u001B[0m                                 Traceback (most recent call last)",
      "Cell \u001B[0;32mIn[72], line 3\u001B[0m\n\u001B[1;32m      1\u001B[0m tr_data\u001B[38;5;241m=\u001B[39mxtrain\n\u001B[1;32m      2\u001B[0m te_data\u001B[38;5;241m=\u001B[39mxtest\n\u001B[0;32m----> 3\u001B[0m oof_preds \u001B[38;5;241m=\u001B[39m \u001B[43mautoml\u001B[49m\u001B[38;5;241;43m.\u001B[39;49m\u001B[43mfit_predict\u001B[49m\u001B[43m(\u001B[49m\u001B[43mtr_data\u001B[49m\u001B[43m,\u001B[49m\u001B[43m \u001B[49m\u001B[43mroles\u001B[49m\u001B[38;5;241;43m=\u001B[39;49m\u001B[43mroles\u001B[49m\u001B[43m,\u001B[49m\u001B[43m \u001B[49m\u001B[43mverbose\u001B[49m\u001B[38;5;241;43m=\u001B[39;49m\u001B[38;5;241;43m1\u001B[39;49m\u001B[43m)\u001B[49m\n",
      "File \u001B[0;32m~/Workspace/Emotion-Decetion-Service/venv/lib/python3.8/site-packages/lightautoml/automl/presets/tabular_presets.py:549\u001B[0m, in \u001B[0;36mTabularAutoML.fit_predict\u001B[0;34m(self, train_data, roles, train_features, cv_iter, valid_data, valid_features, log_file, verbose)\u001B[0m\n\u001B[1;32m    546\u001B[0m \u001B[38;5;28;01mif\u001B[39;00m valid_data \u001B[38;5;129;01mis\u001B[39;00m \u001B[38;5;129;01mnot\u001B[39;00m \u001B[38;5;28;01mNone\u001B[39;00m:\n\u001B[1;32m    547\u001B[0m     data, _ \u001B[38;5;241m=\u001B[39m read_data(valid_data, valid_features, \u001B[38;5;28mself\u001B[39m\u001B[38;5;241m.\u001B[39mcpu_limit, \u001B[38;5;28mself\u001B[39m\u001B[38;5;241m.\u001B[39mread_csv_params)\n\u001B[0;32m--> 549\u001B[0m oof_pred \u001B[38;5;241m=\u001B[39m \u001B[38;5;28;43msuper\u001B[39;49m\u001B[43m(\u001B[49m\u001B[43m)\u001B[49m\u001B[38;5;241;43m.\u001B[39;49m\u001B[43mfit_predict\u001B[49m\u001B[43m(\u001B[49m\u001B[43mtrain\u001B[49m\u001B[43m,\u001B[49m\u001B[43m \u001B[49m\u001B[43mroles\u001B[49m\u001B[38;5;241;43m=\u001B[39;49m\u001B[43mroles\u001B[49m\u001B[43m,\u001B[49m\u001B[43m \u001B[49m\u001B[43mcv_iter\u001B[49m\u001B[38;5;241;43m=\u001B[39;49m\u001B[43mcv_iter\u001B[49m\u001B[43m,\u001B[49m\u001B[43m \u001B[49m\u001B[43mvalid_data\u001B[49m\u001B[38;5;241;43m=\u001B[39;49m\u001B[43mvalid_data\u001B[49m\u001B[43m,\u001B[49m\u001B[43m \u001B[49m\u001B[43mverbose\u001B[49m\u001B[38;5;241;43m=\u001B[39;49m\u001B[43mverbose\u001B[49m\u001B[43m)\u001B[49m\n\u001B[1;32m    551\u001B[0m \u001B[38;5;28;01mreturn\u001B[39;00m cast(NumpyDataset, oof_pred)\n",
      "File \u001B[0;32m~/Workspace/Emotion-Decetion-Service/venv/lib/python3.8/site-packages/lightautoml/automl/presets/base.py:205\u001B[0m, in \u001B[0;36mAutoMLPreset.fit_predict\u001B[0;34m(self, train_data, roles, train_features, cv_iter, valid_data, valid_features, verbose)\u001B[0m\n\u001B[1;32m    202\u001B[0m logger\u001B[38;5;241m.\u001B[39minfo(\u001B[38;5;124mf\u001B[39m\u001B[38;5;124m\"\u001B[39m\u001B[38;5;124m- memory: \u001B[39m\u001B[38;5;132;01m{\u001B[39;00m\u001B[38;5;28mself\u001B[39m\u001B[38;5;241m.\u001B[39mmemory_limit\u001B[38;5;132;01m}\u001B[39;00m\u001B[38;5;124m GB\u001B[39m\u001B[38;5;130;01m\\n\u001B[39;00m\u001B[38;5;124m\"\u001B[39m)\n\u001B[1;32m    204\u001B[0m \u001B[38;5;28mself\u001B[39m\u001B[38;5;241m.\u001B[39mtimer\u001B[38;5;241m.\u001B[39mstart()\n\u001B[0;32m--> 205\u001B[0m result \u001B[38;5;241m=\u001B[39m \u001B[38;5;28;43msuper\u001B[39;49m\u001B[43m(\u001B[49m\u001B[43m)\u001B[49m\u001B[38;5;241;43m.\u001B[39;49m\u001B[43mfit_predict\u001B[49m\u001B[43m(\u001B[49m\n\u001B[1;32m    206\u001B[0m \u001B[43m    \u001B[49m\u001B[43mtrain_data\u001B[49m\u001B[43m,\u001B[49m\n\u001B[1;32m    207\u001B[0m \u001B[43m    \u001B[49m\u001B[43mroles\u001B[49m\u001B[43m,\u001B[49m\n\u001B[1;32m    208\u001B[0m \u001B[43m    \u001B[49m\u001B[43mtrain_features\u001B[49m\u001B[43m,\u001B[49m\n\u001B[1;32m    209\u001B[0m \u001B[43m    \u001B[49m\u001B[43mcv_iter\u001B[49m\u001B[43m,\u001B[49m\n\u001B[1;32m    210\u001B[0m \u001B[43m    \u001B[49m\u001B[43mvalid_data\u001B[49m\u001B[43m,\u001B[49m\n\u001B[1;32m    211\u001B[0m \u001B[43m    \u001B[49m\u001B[43mvalid_features\u001B[49m\u001B[43m,\u001B[49m\n\u001B[1;32m    212\u001B[0m \u001B[43m    \u001B[49m\u001B[43mverbose\u001B[49m\u001B[38;5;241;43m=\u001B[39;49m\u001B[43mverbose\u001B[49m\u001B[43m,\u001B[49m\n\u001B[1;32m    213\u001B[0m \u001B[43m\u001B[49m\u001B[43m)\u001B[49m\n\u001B[1;32m    215\u001B[0m logger\u001B[38;5;241m.\u001B[39minfo(\u001B[38;5;124m\"\u001B[39m\u001B[38;5;130;01m\\x1b\u001B[39;00m\u001B[38;5;124m[1mAutoml preset training completed in \u001B[39m\u001B[38;5;132;01m{:.2f}\u001B[39;00m\u001B[38;5;124m seconds\u001B[39m\u001B[38;5;130;01m\\x1b\u001B[39;00m\u001B[38;5;124m[0m\u001B[39m\u001B[38;5;130;01m\\n\u001B[39;00m\u001B[38;5;124m\"\u001B[39m\u001B[38;5;241m.\u001B[39mformat(\u001B[38;5;28mself\u001B[39m\u001B[38;5;241m.\u001B[39mtimer\u001B[38;5;241m.\u001B[39mtime_spent))\n\u001B[1;32m    216\u001B[0m logger\u001B[38;5;241m.\u001B[39minfo(\u001B[38;5;124mf\u001B[39m\u001B[38;5;124m\"\u001B[39m\u001B[38;5;124mModel description:\u001B[39m\u001B[38;5;130;01m\\n\u001B[39;00m\u001B[38;5;132;01m{\u001B[39;00m\u001B[38;5;28mself\u001B[39m\u001B[38;5;241m.\u001B[39mcreate_model_str_desc()\u001B[38;5;132;01m}\u001B[39;00m\u001B[38;5;130;01m\\n\u001B[39;00m\u001B[38;5;124m\"\u001B[39m)\n",
      "File \u001B[0;32m~/Workspace/Emotion-Decetion-Service/venv/lib/python3.8/site-packages/lightautoml/automl/base.py:180\u001B[0m, in \u001B[0;36mAutoML.fit_predict\u001B[0;34m(self, train_data, roles, train_features, cv_iter, valid_data, valid_features, verbose)\u001B[0m\n\u001B[1;32m    178\u001B[0m set_stdout_level(verbosity_to_loglevel(verbose))\n\u001B[1;32m    179\u001B[0m \u001B[38;5;28mself\u001B[39m\u001B[38;5;241m.\u001B[39mtimer\u001B[38;5;241m.\u001B[39mstart()\n\u001B[0;32m--> 180\u001B[0m train_dataset \u001B[38;5;241m=\u001B[39m \u001B[38;5;28;43mself\u001B[39;49m\u001B[38;5;241;43m.\u001B[39;49m\u001B[43mreader\u001B[49m\u001B[38;5;241;43m.\u001B[39;49m\u001B[43mfit_read\u001B[49m\u001B[43m(\u001B[49m\u001B[43mtrain_data\u001B[49m\u001B[43m,\u001B[49m\u001B[43m \u001B[49m\u001B[43mtrain_features\u001B[49m\u001B[43m,\u001B[49m\u001B[43m \u001B[49m\u001B[43mroles\u001B[49m\u001B[43m)\u001B[49m\n\u001B[1;32m    182\u001B[0m \u001B[38;5;28;01massert\u001B[39;00m (\n\u001B[1;32m    183\u001B[0m     \u001B[38;5;28mlen\u001B[39m(\u001B[38;5;28mself\u001B[39m\u001B[38;5;241m.\u001B[39m_levels) \u001B[38;5;241m<\u001B[39m\u001B[38;5;241m=\u001B[39m \u001B[38;5;241m1\u001B[39m \u001B[38;5;129;01mor\u001B[39;00m train_dataset\u001B[38;5;241m.\u001B[39mfolds \u001B[38;5;129;01mis\u001B[39;00m \u001B[38;5;129;01mnot\u001B[39;00m \u001B[38;5;28;01mNone\u001B[39;00m\n\u001B[1;32m    184\u001B[0m ), \u001B[38;5;124m\"\u001B[39m\u001B[38;5;124mNot possible to fit more than 1 level without cv folds\u001B[39m\u001B[38;5;124m\"\u001B[39m\n\u001B[1;32m    186\u001B[0m \u001B[38;5;28;01massert\u001B[39;00m (\n\u001B[1;32m    187\u001B[0m     \u001B[38;5;28mlen\u001B[39m(\u001B[38;5;28mself\u001B[39m\u001B[38;5;241m.\u001B[39m_levels) \u001B[38;5;241m<\u001B[39m\u001B[38;5;241m=\u001B[39m \u001B[38;5;241m1\u001B[39m \u001B[38;5;129;01mor\u001B[39;00m valid_data \u001B[38;5;129;01mis\u001B[39;00m \u001B[38;5;28;01mNone\u001B[39;00m\n\u001B[1;32m    188\u001B[0m ), \u001B[38;5;124m\"\u001B[39m\u001B[38;5;124mNot possible to fit more than 1 level with holdout validation\u001B[39m\u001B[38;5;124m\"\u001B[39m\n",
      "File \u001B[0;32m~/Workspace/Emotion-Decetion-Service/venv/lib/python3.8/site-packages/lightautoml/reader/base.py:321\u001B[0m, in \u001B[0;36mPandasToPandasReader.fit_read\u001B[0;34m(self, train_data, features_names, roles, **kwargs)\u001B[0m\n\u001B[1;32m    319\u001B[0m     kwargs[\u001B[38;5;124m\"\u001B[39m\u001B[38;5;124mtarget\u001B[39m\u001B[38;5;124m\"\u001B[39m] \u001B[38;5;241m=\u001B[39m train_data\u001B[38;5;241m.\u001B[39mloc[:, kwargs[\u001B[38;5;124m\"\u001B[39m\u001B[38;5;124mtarget\u001B[39m\u001B[38;5;124m\"\u001B[39m]]\n\u001B[1;32m    320\u001B[0m \u001B[38;5;28mself\u001B[39m\u001B[38;5;241m.\u001B[39mtarget \u001B[38;5;241m=\u001B[39m kwargs[\u001B[38;5;124m\"\u001B[39m\u001B[38;5;124mtarget\u001B[39m\u001B[38;5;124m\"\u001B[39m]\u001B[38;5;241m.\u001B[39mname \u001B[38;5;28;01mif\u001B[39;00m \u001B[38;5;28mtype\u001B[39m(kwargs[\u001B[38;5;124m\"\u001B[39m\u001B[38;5;124mtarget\u001B[39m\u001B[38;5;124m\"\u001B[39m]) \u001B[38;5;241m==\u001B[39m pd\u001B[38;5;241m.\u001B[39mSeries \u001B[38;5;28;01melse\u001B[39;00m kwargs[\u001B[38;5;124m\"\u001B[39m\u001B[38;5;124mtarget\u001B[39m\u001B[38;5;124m\"\u001B[39m]\u001B[38;5;241m.\u001B[39mcolumns\n\u001B[0;32m--> 321\u001B[0m kwargs[\u001B[38;5;124m\"\u001B[39m\u001B[38;5;124mtarget\u001B[39m\u001B[38;5;124m\"\u001B[39m] \u001B[38;5;241m=\u001B[39m \u001B[38;5;28;43mself\u001B[39;49m\u001B[38;5;241;43m.\u001B[39;49m\u001B[43m_create_target\u001B[49m\u001B[43m(\u001B[49m\u001B[43mkwargs\u001B[49m\u001B[43m[\u001B[49m\u001B[38;5;124;43m\"\u001B[39;49m\u001B[38;5;124;43mtarget\u001B[39;49m\u001B[38;5;124;43m\"\u001B[39;49m\u001B[43m]\u001B[49m\u001B[43m)\u001B[49m\n\u001B[1;32m    323\u001B[0m \u001B[38;5;66;03m# TODO: Check target and task\u001B[39;00m\n\u001B[1;32m    324\u001B[0m \u001B[38;5;66;03m# get subsample if it needed\u001B[39;00m\n\u001B[1;32m    325\u001B[0m subsample \u001B[38;5;241m=\u001B[39m train_data\n",
      "File \u001B[0;32m~/Workspace/Emotion-Decetion-Service/venv/lib/python3.8/site-packages/lightautoml/reader/base.py:433\u001B[0m, in \u001B[0;36mPandasToPandasReader._create_target\u001B[0;34m(self, target)\u001B[0m\n\u001B[1;32m    429\u001B[0m     \u001B[38;5;28mself\u001B[39m\u001B[38;5;241m.\u001B[39m_n_classes \u001B[38;5;241m=\u001B[39m \u001B[38;5;28mlen\u001B[39m(target\u001B[38;5;241m.\u001B[39mcolumns) \u001B[38;5;241m*\u001B[39m \u001B[38;5;241m2\u001B[39m\n\u001B[1;32m    430\u001B[0m     \u001B[38;5;66;03m# TODO: interpretation\u001B[39;00m\n\u001B[1;32m    431\u001B[0m \n\u001B[1;32m    432\u001B[0m \u001B[38;5;28;01melse\u001B[39;00m:\n\u001B[0;32m--> 433\u001B[0m     \u001B[38;5;28;01massert\u001B[39;00m \u001B[38;5;129;01mnot\u001B[39;00m \u001B[43mnp\u001B[49m\u001B[38;5;241;43m.\u001B[39;49m\u001B[43misnan\u001B[49m\u001B[43m(\u001B[49m\u001B[43mtarget\u001B[49m\u001B[38;5;241;43m.\u001B[39;49m\u001B[43mvalues\u001B[49m\u001B[43m)\u001B[49m\u001B[38;5;241m.\u001B[39many(), \u001B[38;5;124m\"\u001B[39m\u001B[38;5;124mNan in target detected\u001B[39m\u001B[38;5;124m\"\u001B[39m\n\u001B[1;32m    434\u001B[0m \u001B[38;5;28;01mreturn\u001B[39;00m target\n",
      "\u001B[0;31mTypeError\u001B[0m: ufunc 'isnan' not supported for the input types, and the inputs could not be safely coerced to any supported types according to the casting rule ''safe''"
     ]
    }
   ],
   "source": [
    "tr_data=xtrain\n",
    "te_data=xtest\n",
    "oof_preds = automl.fit_predict(tr_data, roles=roles, verbose=1)"
   ],
   "metadata": {
    "collapsed": false,
    "ExecuteTime": {
     "end_time": "2023-09-08T20:47:29.109545439Z",
     "start_time": "2023-09-08T20:47:29.024291713Z"
    }
   }
  },
  {
   "cell_type": "code",
   "execution_count": null,
   "outputs": [],
   "source": [
    "tr_data[[1404]]\n"
   ],
   "metadata": {
    "collapsed": false,
    "ExecuteTime": {
     "start_time": "2023-09-08T20:44:20.194804514Z"
    }
   }
  },
  {
   "cell_type": "code",
   "execution_count": 73,
   "outputs": [
    {
     "data": {
      "text/plain": "col0       float64\ncol1       float64\ncol2       float64\ncol3       float64\ncol4       float64\n            ...   \ncol1400    float64\ncol1401    float64\ncol1402    float64\ncol1403    float64\ncol1404     object\nLength: 1405, dtype: object"
     },
     "execution_count": 73,
     "metadata": {},
     "output_type": "execute_result"
    }
   ],
   "source": [
    "te_data.dtypes"
   ],
   "metadata": {
    "collapsed": false,
    "ExecuteTime": {
     "end_time": "2023-09-08T20:47:46.591068439Z",
     "start_time": "2023-09-08T20:47:46.548500816Z"
    }
   }
  },
  {
   "cell_type": "code",
   "execution_count": 2,
   "outputs": [
    {
     "ename": "NameError",
     "evalue": "name 'automl' is not defined",
     "output_type": "error",
     "traceback": [
      "\u001B[0;31m---------------------------------------------------------------------------\u001B[0m",
      "\u001B[0;31mNameError\u001B[0m                                 Traceback (most recent call last)",
      "Cell \u001B[0;32mIn[2], line 2\u001B[0m\n\u001B[1;32m      1\u001B[0m \u001B[38;5;66;03m# save the model to HDFS\u001B[39;00m\n\u001B[0;32m----> 2\u001B[0m \u001B[43mautoml\u001B[49m\u001B[38;5;241m.\u001B[39msaveModel(automl, \u001B[38;5;28mdir\u001B[39m \u001B[38;5;241m=\u001B[39m \u001B[38;5;124m\"\u001B[39m\u001B[38;5;124m./\u001B[39m\u001B[38;5;124m\"\u001B[39m, name \u001B[38;5;241m=\u001B[39m \u001B[38;5;124m\"\u001B[39m\u001B[38;5;124mqqq\u001B[39m\u001B[38;5;124m\"\u001B[39m, filename \u001B[38;5;241m=\u001B[39m \u001B[38;5;124m\"\u001B[39m\u001B[38;5;124mwww\u001B[39m\u001B[38;5;124m\"\u001B[39m, force \u001B[38;5;241m=\u001B[39m \u001B[38;5;28;01mFalse\u001B[39;00m)\n",
      "\u001B[0;31mNameError\u001B[0m: name 'automl' is not defined"
     ]
    }
   ],
   "source": [
    "\n"
   ],
   "metadata": {
    "collapsed": false,
    "ExecuteTime": {
     "end_time": "2023-09-08T22:56:10.311641678Z",
     "start_time": "2023-09-08T22:56:10.268867521Z"
    }
   }
  },
  {
   "cell_type": "code",
   "execution_count": null,
   "outputs": [],
   "source": [],
   "metadata": {
    "collapsed": false
   }
  }
 ],
 "metadata": {
  "kernelspec": {
   "display_name": "Python 3",
   "language": "python",
   "name": "python3"
  },
  "language_info": {
   "codemirror_mode": {
    "name": "ipython",
    "version": 2
   },
   "file_extension": ".py",
   "mimetype": "text/x-python",
   "name": "python",
   "nbconvert_exporter": "python",
   "pygments_lexer": "ipython2",
   "version": "2.7.6"
  }
 },
 "nbformat": 4,
 "nbformat_minor": 0
}
