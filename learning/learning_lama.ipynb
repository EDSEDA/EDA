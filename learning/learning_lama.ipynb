{
 "cells": [
  {
   "cell_type": "code",
   "execution_count": 1,
   "id": "initial_id",
   "metadata": {
    "collapsed": true,
    "ExecuteTime": {
     "end_time": "2023-10-21T20:46:23.069541561Z",
     "start_time": "2023-10-21T20:46:22.986731177Z"
    }
   },
   "outputs": [],
   "source": [
    "# !pip install opendatasets\n",
    "# !pip install -q kaggle\n",
    "# !pip install --upgrade --force-reinstall --no-deps kaggle\n",
    "# !pip install -U lightautoml==0.3.7.3"
   ]
  },
  {
   "cell_type": "code",
   "execution_count": 2,
   "outputs": [
    {
     "name": "stdout",
     "output_type": "stream",
     "text": [
      "3.9.18 (main, Sep 11 2023, 13:41:44) \n",
      "[GCC 11.2.0]\n"
     ]
    }
   ],
   "source": [
    "import sys\n",
    "print(sys.version)"
   ],
   "metadata": {
    "collapsed": false,
    "ExecuteTime": {
     "end_time": "2023-10-21T20:46:23.118343982Z",
     "start_time": "2023-10-21T20:46:23.030522701Z"
    }
   },
   "id": "4f6c7c2e6b4f8e5c"
  },
  {
   "cell_type": "code",
   "execution_count": 3,
   "outputs": [],
   "source": [
    "# Standard python libraries\n",
    "import os\n",
    "import time\n",
    "\n",
    "# Essential DS libraries\n",
    "import numpy as np\n",
    "import pandas as pd\n",
    "from sklearn.metrics import f1_score, accuracy_score, confusion_matrix\n",
    "from sklearn.model_selection import train_test_split\n",
    "import torch\n",
    "import seaborn as sns\n",
    "import matplotlib.pyplot as plt\n",
    "\n",
    "from lightautoml.automl.presets.image_presets import TabularCVAutoML\n",
    "from lightautoml.tasks import Task"
   ],
   "metadata": {
    "collapsed": false,
    "ExecuteTime": {
     "end_time": "2023-10-21T20:46:24.711537587Z",
     "start_time": "2023-10-21T20:46:23.030846593Z"
    }
   },
   "id": "4f7c35dbc8589d8f"
  },
  {
   "cell_type": "code",
   "execution_count": 4,
   "outputs": [],
   "source": [],
   "metadata": {
    "collapsed": false,
    "ExecuteTime": {
     "end_time": "2023-10-21T20:46:24.731199182Z",
     "start_time": "2023-10-21T20:46:24.729898094Z"
    }
   },
   "id": "5f929a4b89966553"
  },
  {
   "cell_type": "code",
   "execution_count": 5,
   "outputs": [
    {
     "data": {
      "text/plain": "             image_id    label                                 path\n0          im3847.png  fearful      ./data/train/fearful/im3847.png\n1       im26_test.png  fearful   ./data/train/fearful/im26_test.png\n2      im769_test.png  fearful  ./data/train/fearful/im769_test.png\n3          im3526.png  fearful      ./data/train/fearful/im3526.png\n4          im3314.png  fearful      ./data/train/fearful/im3314.png\n...               ...      ...                                  ...\n35335      im2647.png    happy        ./data/train/happy/im2647.png\n35336   im51_test.png    happy     ./data/train/happy/im51_test.png\n35337      im4100.png    happy        ./data/train/happy/im4100.png\n35338      im4492.png    happy        ./data/train/happy/im4492.png\n35339      im6827.png    happy        ./data/train/happy/im6827.png\n\n[35340 rows x 3 columns]",
      "text/html": "<div>\n<style scoped>\n    .dataframe tbody tr th:only-of-type {\n        vertical-align: middle;\n    }\n\n    .dataframe tbody tr th {\n        vertical-align: top;\n    }\n\n    .dataframe thead th {\n        text-align: right;\n    }\n</style>\n<table border=\"1\" class=\"dataframe\">\n  <thead>\n    <tr style=\"text-align: right;\">\n      <th></th>\n      <th>image_id</th>\n      <th>label</th>\n      <th>path</th>\n    </tr>\n  </thead>\n  <tbody>\n    <tr>\n      <th>0</th>\n      <td>im3847.png</td>\n      <td>fearful</td>\n      <td>./data/train/fearful/im3847.png</td>\n    </tr>\n    <tr>\n      <th>1</th>\n      <td>im26_test.png</td>\n      <td>fearful</td>\n      <td>./data/train/fearful/im26_test.png</td>\n    </tr>\n    <tr>\n      <th>2</th>\n      <td>im769_test.png</td>\n      <td>fearful</td>\n      <td>./data/train/fearful/im769_test.png</td>\n    </tr>\n    <tr>\n      <th>3</th>\n      <td>im3526.png</td>\n      <td>fearful</td>\n      <td>./data/train/fearful/im3526.png</td>\n    </tr>\n    <tr>\n      <th>4</th>\n      <td>im3314.png</td>\n      <td>fearful</td>\n      <td>./data/train/fearful/im3314.png</td>\n    </tr>\n    <tr>\n      <th>...</th>\n      <td>...</td>\n      <td>...</td>\n      <td>...</td>\n    </tr>\n    <tr>\n      <th>35335</th>\n      <td>im2647.png</td>\n      <td>happy</td>\n      <td>./data/train/happy/im2647.png</td>\n    </tr>\n    <tr>\n      <th>35336</th>\n      <td>im51_test.png</td>\n      <td>happy</td>\n      <td>./data/train/happy/im51_test.png</td>\n    </tr>\n    <tr>\n      <th>35337</th>\n      <td>im4100.png</td>\n      <td>happy</td>\n      <td>./data/train/happy/im4100.png</td>\n    </tr>\n    <tr>\n      <th>35338</th>\n      <td>im4492.png</td>\n      <td>happy</td>\n      <td>./data/train/happy/im4492.png</td>\n    </tr>\n    <tr>\n      <th>35339</th>\n      <td>im6827.png</td>\n      <td>happy</td>\n      <td>./data/train/happy/im6827.png</td>\n    </tr>\n  </tbody>\n</table>\n<p>35340 rows × 3 columns</p>\n</div>"
     },
     "execution_count": 5,
     "metadata": {},
     "output_type": "execute_result"
    }
   ],
   "source": [],
   "metadata": {
    "collapsed": false,
    "ExecuteTime": {
     "end_time": "2023-10-21T20:46:24.782550801Z",
     "start_time": "2023-10-21T20:46:24.732053885Z"
    }
   },
   "id": "ca57741342611b3d"
  },
  {
   "cell_type": "code",
   "execution_count": 6,
   "outputs": [],
   "source": [
    "# submission = pd.read_csv(INPUT_DIR + 'sample_submission.csv')\n",
    "# submission['path'] = INPUT_DIR + 'test_images/' + submission['image_id']\n",
    "# submission"
   ],
   "metadata": {
    "collapsed": false,
    "ExecuteTime": {
     "end_time": "2023-10-21T20:46:24.784391298Z",
     "start_time": "2023-10-21T20:46:24.781792558Z"
    }
   },
   "id": "8a2db503d73494c8"
  },
  {
   "cell_type": "code",
   "execution_count": 7,
   "outputs": [],
   "source": [
    "# os.mkdir('./data/modified_train')"
   ],
   "metadata": {
    "collapsed": false,
    "ExecuteTime": {
     "end_time": "2023-10-21T20:46:24.870821265Z",
     "start_time": "2023-10-21T20:46:24.783718314Z"
    }
   },
   "id": "dea99e864e10e7f6"
  },
  {
   "cell_type": "code",
   "execution_count": 8,
   "outputs": [
    {
     "data": {
      "text/plain": "0it [00:00, ?it/s]",
      "application/vnd.jupyter.widget-view+json": {
       "version_major": 2,
       "version_minor": 0,
       "model_id": "9bb139a538cb47f6aab3aa7ac78164cc"
      }
     },
     "metadata": {},
     "output_type": "display_data"
    },
    {
     "name": "stdout",
     "output_type": "stream",
     "text": [
      "0\n",
      "1000\n",
      "2000\n",
      "3000\n",
      "4000\n",
      "5000\n",
      "6000\n",
      "7000\n",
      "8000\n",
      "9000\n",
      "10000\n",
      "11000\n",
      "12000\n",
      "13000\n",
      "14000\n",
      "15000\n",
      "16000\n",
      "17000\n",
      "18000\n",
      "19000\n",
      "20000\n",
      "21000\n",
      "22000\n",
      "23000\n",
      "24000\n",
      "25000\n",
      "26000\n",
      "27000\n",
      "28000\n",
      "29000\n",
      "30000\n",
      "31000\n",
      "32000\n",
      "33000\n",
      "34000\n",
      "35000\n"
     ]
    }
   ],
   "source": [
    "np.random.seed(1)\n",
    "torch.set_num_threads(8)\n",
    "INPUT_DIR = './data/'\n",
    "train_data = pd.read_csv(INPUT_DIR + 'train_labels.csv')\n",
    "train_data['path'] = INPUT_DIR + 'train/' + train_data['label'] + '/' + train_data['image_id']\n",
    "train_data\n",
    "from PIL import Image\n",
    "from tqdm.notebook import tqdm\n",
    "new_imgs = []\n",
    "\n",
    "for i, p in tqdm(enumerate(train_data['path'].values)):\n",
    "    if i % 1000 == 0:\n",
    "        print(i)\n",
    "\n",
    "    img = Image.open(p)\n",
    "\n",
    "    for it in range(10):\n",
    "        # new_img = img.rotate(np.random.rand() * 60 - 30, resample=3)\n",
    "        # \n",
    "        # if np.random.rand() > 0.5:\n",
    "        #     new_img = new_img.transpose(Image.FLIP_LEFT_RIGHT)\n",
    "\n",
    "        new_img_name = './data/modified_train/' + p.split('/')[-1][:-4] + '_' + str(it) + '.png'\n",
    "        # new_img.save(new_img_name)\n",
    "        new_imgs.append([new_img_name, p.split('/')[-2], p.split('/')[-1]])"
   ],
   "metadata": {
    "collapsed": false,
    "ExecuteTime": {
     "end_time": "2023-10-21T20:46:31.837952564Z",
     "start_time": "2023-10-21T20:46:24.826477539Z"
    }
   },
   "id": "22ca30d6f9c9e835"
  },
  {
   "cell_type": "markdown",
   "source": [],
   "metadata": {
    "collapsed": false
   },
   "id": "220f3a00f86fb948"
  },
  {
   "cell_type": "code",
   "execution_count": 9,
   "outputs": [
    {
     "data": {
      "text/plain": "              image_id    label                                 path\n0           im3847.png  fearful      ./data/train/fearful/im3847.png\n1        im26_test.png  fearful   ./data/train/fearful/im26_test.png\n2       im769_test.png  fearful  ./data/train/fearful/im769_test.png\n3           im3526.png  fearful      ./data/train/fearful/im3526.png\n4           im3314.png  fearful      ./data/train/fearful/im3314.png\n...                ...      ...                                  ...\n388735      im6827.png    happy   ./data/modified_train/im6827_5.png\n388736      im6827.png    happy   ./data/modified_train/im6827_6.png\n388737      im6827.png    happy   ./data/modified_train/im6827_7.png\n388738      im6827.png    happy   ./data/modified_train/im6827_8.png\n388739      im6827.png    happy   ./data/modified_train/im6827_9.png\n\n[388740 rows x 3 columns]",
      "text/html": "<div>\n<style scoped>\n    .dataframe tbody tr th:only-of-type {\n        vertical-align: middle;\n    }\n\n    .dataframe tbody tr th {\n        vertical-align: top;\n    }\n\n    .dataframe thead th {\n        text-align: right;\n    }\n</style>\n<table border=\"1\" class=\"dataframe\">\n  <thead>\n    <tr style=\"text-align: right;\">\n      <th></th>\n      <th>image_id</th>\n      <th>label</th>\n      <th>path</th>\n    </tr>\n  </thead>\n  <tbody>\n    <tr>\n      <th>0</th>\n      <td>im3847.png</td>\n      <td>fearful</td>\n      <td>./data/train/fearful/im3847.png</td>\n    </tr>\n    <tr>\n      <th>1</th>\n      <td>im26_test.png</td>\n      <td>fearful</td>\n      <td>./data/train/fearful/im26_test.png</td>\n    </tr>\n    <tr>\n      <th>2</th>\n      <td>im769_test.png</td>\n      <td>fearful</td>\n      <td>./data/train/fearful/im769_test.png</td>\n    </tr>\n    <tr>\n      <th>3</th>\n      <td>im3526.png</td>\n      <td>fearful</td>\n      <td>./data/train/fearful/im3526.png</td>\n    </tr>\n    <tr>\n      <th>4</th>\n      <td>im3314.png</td>\n      <td>fearful</td>\n      <td>./data/train/fearful/im3314.png</td>\n    </tr>\n    <tr>\n      <th>...</th>\n      <td>...</td>\n      <td>...</td>\n      <td>...</td>\n    </tr>\n    <tr>\n      <th>388735</th>\n      <td>im6827.png</td>\n      <td>happy</td>\n      <td>./data/modified_train/im6827_5.png</td>\n    </tr>\n    <tr>\n      <th>388736</th>\n      <td>im6827.png</td>\n      <td>happy</td>\n      <td>./data/modified_train/im6827_6.png</td>\n    </tr>\n    <tr>\n      <th>388737</th>\n      <td>im6827.png</td>\n      <td>happy</td>\n      <td>./data/modified_train/im6827_7.png</td>\n    </tr>\n    <tr>\n      <th>388738</th>\n      <td>im6827.png</td>\n      <td>happy</td>\n      <td>./data/modified_train/im6827_8.png</td>\n    </tr>\n    <tr>\n      <th>388739</th>\n      <td>im6827.png</td>\n      <td>happy</td>\n      <td>./data/modified_train/im6827_9.png</td>\n    </tr>\n  </tbody>\n</table>\n<p>388740 rows × 3 columns</p>\n</div>"
     },
     "execution_count": 9,
     "metadata": {},
     "output_type": "execute_result"
    }
   ],
   "source": [
    "train_data = pd.concat([train_data, pd.DataFrame(new_imgs, columns = ['path', 'label', 'image_id'])]).reset_index(drop = True)\n",
    "train_data"
   ],
   "metadata": {
    "collapsed": false,
    "ExecuteTime": {
     "end_time": "2023-10-21T20:46:32.087449601Z",
     "start_time": "2023-10-21T20:46:31.878341692Z"
    }
   },
   "id": "8421eee3a5e0380a"
  },
  {
   "cell_type": "code",
   "execution_count": 10,
   "outputs": [],
   "source": [
    "# os.mkdir('./paddy-disease/modified_test')"
   ],
   "metadata": {
    "collapsed": false,
    "ExecuteTime": {
     "end_time": "2023-10-21T20:46:32.120719826Z",
     "start_time": "2023-10-21T20:46:32.066281865Z"
    }
   },
   "id": "549fae92e8f9a3a8"
  },
  {
   "cell_type": "code",
   "execution_count": 11,
   "outputs": [],
   "source": [
    "# new_imgs = []\n",
    "# \n",
    "# for i, p in tqdm(enumerate(submission['path'].values)):\n",
    "#     if i % 1000 == 0:\n",
    "#         print(i)\n",
    "# \n",
    "#     img = Image.open(p)\n",
    "# \n",
    "#     for it in range(5):\n",
    "#         new_img = img.rotate(np.random.rand() * 60 - 30, resample=3)\n",
    "#         if np.random.rand() > 0.5:\n",
    "#             new_img = new_img.transpose(Image.FLIP_LEFT_RIGHT)\n",
    "# \n",
    "#         new_img_name = './paddy-disease/modified_test/' + p.split('/')[-1][:-4] + '_' + str(it) + '.png'\n",
    "#         new_img.save(new_img_name)\n",
    "#         new_imgs.append([new_img_name, p.split('/')[-1]])"
   ],
   "metadata": {
    "collapsed": false,
    "ExecuteTime": {
     "end_time": "2023-10-21T20:46:32.120969750Z",
     "start_time": "2023-10-21T20:46:32.066476480Z"
    }
   },
   "id": "bd5a025b1753d316"
  },
  {
   "cell_type": "code",
   "execution_count": 12,
   "outputs": [],
   "source": [
    "# submission = pd.concat([submission, pd.DataFrame(new_imgs, columns = ['path', 'image_id'])]).reset_index(drop = True)\n",
    "# submission"
   ],
   "metadata": {
    "collapsed": false,
    "ExecuteTime": {
     "end_time": "2023-10-21T20:46:32.121067303Z",
     "start_time": "2023-10-21T20:46:32.066644352Z"
    }
   },
   "id": "dd4c181fd0b36b98"
  },
  {
   "cell_type": "code",
   "execution_count": 30,
   "outputs": [
    {
     "name": "stderr",
     "output_type": "stream",
     "text": [
      "/home/vorkov/miniconda3/envs/EDA/lib/python3.9/site-packages/sklearn/metrics/_classification.py:2845: FutureWarning: Setting the eps parameter is deprecated and will be removed in 1.5. Instead eps will always havea default value of `np.finfo(y_pred.dtype).eps`.\n",
      "  warnings.warn(\n",
      "/home/vorkov/miniconda3/envs/EDA/lib/python3.9/site-packages/sklearn/metrics/_classification.py:2845: FutureWarning: Setting the eps parameter is deprecated and will be removed in 1.5. Instead eps will always havea default value of `np.finfo(y_pred.dtype).eps`.\n",
      "  warnings.warn(\n"
     ]
    }
   ],
   "source": [
    "task = Task('multiclass')\n",
    "roles = {\n",
    "    'target': 'label',\n",
    "    'path': ['path'],\n",
    "    'drop': [],\n",
    "    'group': 'image_id'\n",
    "}\n",
    "\n",
    "automl = TabularCVAutoML(task = task,\n",
    "                         timeout=1 * 3600,\n",
    "                        cpu_limit = 8,\n",
    "                        reader_params = {'cv': 5, 'random_state': 1})"
   ],
   "metadata": {
    "collapsed": false,
    "ExecuteTime": {
     "end_time": "2023-10-21T21:18:53.372220340Z",
     "start_time": "2023-10-21T21:18:53.329670230Z"
    }
   },
   "id": "253fe1836eb86e31"
  },
  {
   "cell_type": "code",
   "execution_count": 31,
   "outputs": [
    {
     "name": "stdout",
     "output_type": "stream",
     "text": [
      "[00:19:33] Stdout logging level is INFO3.\n",
      "[00:19:33] Task: multiclass\n",
      "\n",
      "[00:19:33] Start automl preset with listed constraints:\n",
      "[00:19:33] - time: 3600.00 seconds\n",
      "[00:19:33] - CPU: 8 cores\n",
      "[00:19:33] - memory: 16 GB\n",
      "\n",
      "[00:19:33] \u001B[1mTrain data shape: (388740, 3)\u001B[0m\n",
      "[00:19:34] Layer \u001B[1m1\u001B[0m train process start. Time left 3599.63 secs\n",
      "Loaded pretrained weights for efficientnet-b0\n",
      "[00:19:34] Load saved dataset for path\n",
      "[00:19:35] Feature path transformed\n",
      "[00:20:05] Start fitting \u001B[1mLvl_0_Pipe_0_Mod_0_LinearL2\u001B[0m ...\n",
      "[00:20:06] ===== Start working with \u001B[1mfold 0\u001B[0m for \u001B[1mLvl_0_Pipe_0_Mod_0_LinearL2\u001B[0m =====\n",
      "[00:20:23] Linear model: C = 1e-05 score = -1.7478118373208937\n"
     ]
    },
    {
     "name": "stderr",
     "output_type": "stream",
     "text": [
      "/home/vorkov/miniconda3/envs/EDA/lib/python3.9/site-packages/sklearn/metrics/_classification.py:2845: FutureWarning: Setting the eps parameter is deprecated and will be removed in 1.5. Instead eps will always havea default value of `np.finfo(y_pred.dtype).eps`.\n",
      "  warnings.warn(\n"
     ]
    },
    {
     "name": "stdout",
     "output_type": "stream",
     "text": [
      "[00:20:39] Linear model: C = 5e-05 score = -1.7477973955548392\n"
     ]
    },
    {
     "name": "stderr",
     "output_type": "stream",
     "text": [
      "/home/vorkov/miniconda3/envs/EDA/lib/python3.9/site-packages/sklearn/metrics/_classification.py:2845: FutureWarning: Setting the eps parameter is deprecated and will be removed in 1.5. Instead eps will always havea default value of `np.finfo(y_pred.dtype).eps`.\n",
      "  warnings.warn(\n"
     ]
    },
    {
     "name": "stdout",
     "output_type": "stream",
     "text": [
      "[00:20:51] Linear model: C = 0.0001 score = -1.7489984396345855\n"
     ]
    },
    {
     "name": "stderr",
     "output_type": "stream",
     "text": [
      "/home/vorkov/miniconda3/envs/EDA/lib/python3.9/site-packages/sklearn/metrics/_classification.py:2845: FutureWarning: Setting the eps parameter is deprecated and will be removed in 1.5. Instead eps will always havea default value of `np.finfo(y_pred.dtype).eps`.\n",
      "  warnings.warn(\n"
     ]
    },
    {
     "name": "stdout",
     "output_type": "stream",
     "text": [
      "[00:21:09] Linear model: C = 0.0005 score = -1.7523385262791498\n"
     ]
    },
    {
     "name": "stderr",
     "output_type": "stream",
     "text": [
      "/home/vorkov/miniconda3/envs/EDA/lib/python3.9/site-packages/sklearn/metrics/_classification.py:2845: FutureWarning: Setting the eps parameter is deprecated and will be removed in 1.5. Instead eps will always havea default value of `np.finfo(y_pred.dtype).eps`.\n",
      "  warnings.warn(\n"
     ]
    },
    {
     "name": "stdout",
     "output_type": "stream",
     "text": [
      "[00:21:11] ===== Start working with \u001B[1mfold 1\u001B[0m for \u001B[1mLvl_0_Pipe_0_Mod_0_LinearL2\u001B[0m =====\n",
      "[00:21:24] Linear model: C = 1e-05 score = -1.7467126879574972\n"
     ]
    },
    {
     "name": "stderr",
     "output_type": "stream",
     "text": [
      "/home/vorkov/miniconda3/envs/EDA/lib/python3.9/site-packages/sklearn/metrics/_classification.py:2845: FutureWarning: Setting the eps parameter is deprecated and will be removed in 1.5. Instead eps will always havea default value of `np.finfo(y_pred.dtype).eps`.\n",
      "  warnings.warn(\n"
     ]
    },
    {
     "name": "stdout",
     "output_type": "stream",
     "text": [
      "[00:21:41] Linear model: C = 5e-05 score = -1.7463833982153463\n"
     ]
    },
    {
     "name": "stderr",
     "output_type": "stream",
     "text": [
      "/home/vorkov/miniconda3/envs/EDA/lib/python3.9/site-packages/sklearn/metrics/_classification.py:2845: FutureWarning: Setting the eps parameter is deprecated and will be removed in 1.5. Instead eps will always havea default value of `np.finfo(y_pred.dtype).eps`.\n",
      "  warnings.warn(\n"
     ]
    },
    {
     "name": "stdout",
     "output_type": "stream",
     "text": [
      "[00:21:55] Linear model: C = 0.0001 score = -1.747375077192188\n"
     ]
    },
    {
     "name": "stderr",
     "output_type": "stream",
     "text": [
      "/home/vorkov/miniconda3/envs/EDA/lib/python3.9/site-packages/sklearn/metrics/_classification.py:2845: FutureWarning: Setting the eps parameter is deprecated and will be removed in 1.5. Instead eps will always havea default value of `np.finfo(y_pred.dtype).eps`.\n",
      "  warnings.warn(\n"
     ]
    },
    {
     "name": "stdout",
     "output_type": "stream",
     "text": [
      "[00:22:14] Linear model: C = 0.0005 score = -1.750351302101264\n"
     ]
    },
    {
     "name": "stderr",
     "output_type": "stream",
     "text": [
      "/home/vorkov/miniconda3/envs/EDA/lib/python3.9/site-packages/sklearn/metrics/_classification.py:2845: FutureWarning: Setting the eps parameter is deprecated and will be removed in 1.5. Instead eps will always havea default value of `np.finfo(y_pred.dtype).eps`.\n",
      "  warnings.warn(\n"
     ]
    },
    {
     "name": "stdout",
     "output_type": "stream",
     "text": [
      "[00:22:16] ===== Start working with \u001B[1mfold 2\u001B[0m for \u001B[1mLvl_0_Pipe_0_Mod_0_LinearL2\u001B[0m =====\n",
      "[00:22:30] Linear model: C = 1e-05 score = -1.7468002402521803\n"
     ]
    },
    {
     "name": "stderr",
     "output_type": "stream",
     "text": [
      "/home/vorkov/miniconda3/envs/EDA/lib/python3.9/site-packages/sklearn/metrics/_classification.py:2845: FutureWarning: Setting the eps parameter is deprecated and will be removed in 1.5. Instead eps will always havea default value of `np.finfo(y_pred.dtype).eps`.\n",
      "  warnings.warn(\n"
     ]
    },
    {
     "name": "stdout",
     "output_type": "stream",
     "text": [
      "[00:22:46] Linear model: C = 5e-05 score = -1.7461551202045162\n"
     ]
    },
    {
     "name": "stderr",
     "output_type": "stream",
     "text": [
      "/home/vorkov/miniconda3/envs/EDA/lib/python3.9/site-packages/sklearn/metrics/_classification.py:2845: FutureWarning: Setting the eps parameter is deprecated and will be removed in 1.5. Instead eps will always havea default value of `np.finfo(y_pred.dtype).eps`.\n",
      "  warnings.warn(\n"
     ]
    },
    {
     "name": "stdout",
     "output_type": "stream",
     "text": [
      "[00:22:58] Linear model: C = 0.0001 score = -1.7470539882801042\n"
     ]
    },
    {
     "name": "stderr",
     "output_type": "stream",
     "text": [
      "/home/vorkov/miniconda3/envs/EDA/lib/python3.9/site-packages/sklearn/metrics/_classification.py:2845: FutureWarning: Setting the eps parameter is deprecated and will be removed in 1.5. Instead eps will always havea default value of `np.finfo(y_pred.dtype).eps`.\n",
      "  warnings.warn(\n"
     ]
    },
    {
     "name": "stdout",
     "output_type": "stream",
     "text": [
      "[00:23:20] Linear model: C = 0.0005 score = -1.7496832381461174\n"
     ]
    },
    {
     "name": "stderr",
     "output_type": "stream",
     "text": [
      "/home/vorkov/miniconda3/envs/EDA/lib/python3.9/site-packages/sklearn/metrics/_classification.py:2845: FutureWarning: Setting the eps parameter is deprecated and will be removed in 1.5. Instead eps will always havea default value of `np.finfo(y_pred.dtype).eps`.\n",
      "  warnings.warn(\n"
     ]
    },
    {
     "name": "stdout",
     "output_type": "stream",
     "text": [
      "[00:23:22] ===== Start working with \u001B[1mfold 3\u001B[0m for \u001B[1mLvl_0_Pipe_0_Mod_0_LinearL2\u001B[0m =====\n",
      "[00:23:36] Linear model: C = 1e-05 score = -1.746876019202245\n"
     ]
    },
    {
     "name": "stderr",
     "output_type": "stream",
     "text": [
      "/home/vorkov/miniconda3/envs/EDA/lib/python3.9/site-packages/sklearn/metrics/_classification.py:2845: FutureWarning: Setting the eps parameter is deprecated and will be removed in 1.5. Instead eps will always havea default value of `np.finfo(y_pred.dtype).eps`.\n",
      "  warnings.warn(\n"
     ]
    },
    {
     "name": "stdout",
     "output_type": "stream",
     "text": [
      "[00:23:50] Linear model: C = 5e-05 score = -1.7458881638353194\n"
     ]
    },
    {
     "name": "stderr",
     "output_type": "stream",
     "text": [
      "/home/vorkov/miniconda3/envs/EDA/lib/python3.9/site-packages/sklearn/metrics/_classification.py:2845: FutureWarning: Setting the eps parameter is deprecated and will be removed in 1.5. Instead eps will always havea default value of `np.finfo(y_pred.dtype).eps`.\n",
      "  warnings.warn(\n"
     ]
    },
    {
     "name": "stdout",
     "output_type": "stream",
     "text": [
      "[00:24:01] Linear model: C = 0.0001 score = -1.7467209905974617\n"
     ]
    },
    {
     "name": "stderr",
     "output_type": "stream",
     "text": [
      "/home/vorkov/miniconda3/envs/EDA/lib/python3.9/site-packages/sklearn/metrics/_classification.py:2845: FutureWarning: Setting the eps parameter is deprecated and will be removed in 1.5. Instead eps will always havea default value of `np.finfo(y_pred.dtype).eps`.\n",
      "  warnings.warn(\n"
     ]
    },
    {
     "name": "stdout",
     "output_type": "stream",
     "text": [
      "[00:24:21] Linear model: C = 0.0005 score = -1.7494437107979253\n"
     ]
    },
    {
     "name": "stderr",
     "output_type": "stream",
     "text": [
      "/home/vorkov/miniconda3/envs/EDA/lib/python3.9/site-packages/sklearn/metrics/_classification.py:2845: FutureWarning: Setting the eps parameter is deprecated and will be removed in 1.5. Instead eps will always havea default value of `np.finfo(y_pred.dtype).eps`.\n",
      "  warnings.warn(\n"
     ]
    },
    {
     "name": "stdout",
     "output_type": "stream",
     "text": [
      "[00:24:23] ===== Start working with \u001B[1mfold 4\u001B[0m for \u001B[1mLvl_0_Pipe_0_Mod_0_LinearL2\u001B[0m =====\n",
      "[00:24:35] Linear model: C = 1e-05 score = -1.7469898930642052\n"
     ]
    },
    {
     "name": "stderr",
     "output_type": "stream",
     "text": [
      "/home/vorkov/miniconda3/envs/EDA/lib/python3.9/site-packages/sklearn/metrics/_classification.py:2845: FutureWarning: Setting the eps parameter is deprecated and will be removed in 1.5. Instead eps will always havea default value of `np.finfo(y_pred.dtype).eps`.\n",
      "  warnings.warn(\n"
     ]
    },
    {
     "name": "stdout",
     "output_type": "stream",
     "text": [
      "[00:24:49] Linear model: C = 5e-05 score = -1.746705312758108\n"
     ]
    },
    {
     "name": "stderr",
     "output_type": "stream",
     "text": [
      "/home/vorkov/miniconda3/envs/EDA/lib/python3.9/site-packages/sklearn/metrics/_classification.py:2845: FutureWarning: Setting the eps parameter is deprecated and will be removed in 1.5. Instead eps will always havea default value of `np.finfo(y_pred.dtype).eps`.\n",
      "  warnings.warn(\n"
     ]
    },
    {
     "name": "stdout",
     "output_type": "stream",
     "text": [
      "[00:25:01] Linear model: C = 0.0001 score = -1.747830652279731\n"
     ]
    },
    {
     "name": "stderr",
     "output_type": "stream",
     "text": [
      "/home/vorkov/miniconda3/envs/EDA/lib/python3.9/site-packages/sklearn/metrics/_classification.py:2845: FutureWarning: Setting the eps parameter is deprecated and will be removed in 1.5. Instead eps will always havea default value of `np.finfo(y_pred.dtype).eps`.\n",
      "  warnings.warn(\n"
     ]
    },
    {
     "name": "stdout",
     "output_type": "stream",
     "text": [
      "[00:25:23] Linear model: C = 0.0005 score = -1.750950558158647\n",
      "[00:25:23] Fitting \u001B[1mLvl_0_Pipe_0_Mod_0_LinearL2\u001B[0m finished. score = \u001B[1m-1.7465858781136254\u001B[0m\n",
      "[00:25:23] \u001B[1mLvl_0_Pipe_0_Mod_0_LinearL2\u001B[0m fitting and predicting completed\n"
     ]
    },
    {
     "name": "stderr",
     "output_type": "stream",
     "text": [
      "/home/vorkov/miniconda3/envs/EDA/lib/python3.9/site-packages/sklearn/metrics/_classification.py:2845: FutureWarning: Setting the eps parameter is deprecated and will be removed in 1.5. Instead eps will always havea default value of `np.finfo(y_pred.dtype).eps`.\n",
      "  warnings.warn(\n",
      "/home/vorkov/miniconda3/envs/EDA/lib/python3.9/site-packages/sklearn/metrics/_classification.py:2845: FutureWarning: Setting the eps parameter is deprecated and will be removed in 1.5. Instead eps will always havea default value of `np.finfo(y_pred.dtype).eps`.\n",
      "  warnings.warn(\n"
     ]
    },
    {
     "name": "stdout",
     "output_type": "stream",
     "text": [
      "[00:25:23] Time left 3250.09 secs\n",
      "[00:26:01] Start fitting \u001B[1mLvl_0_Pipe_1_Mod_0_CatBoost\u001B[0m ...\n",
      "[00:26:01] ===== Start working with \u001B[1mfold 0\u001B[0m for \u001B[1mLvl_0_Pipe_1_Mod_0_CatBoost\u001B[0m =====\n"
     ]
    },
    {
     "name": "stderr",
     "output_type": "stream",
     "text": [
      "Warning: less than 75% gpu memory available for training. Free: 4137.5 Total: 7940.125\n"
     ]
    },
    {
     "name": "stdout",
     "output_type": "stream",
     "text": [
      "[00:26:02] 0:\tlearn: 1.7895557\ttest: 1.7895631\tbest: 1.7895631 (0)\ttotal: 26.1ms\tremaining: 1m 44s\n",
      "[00:26:03] bestTest = 1.755951922\n",
      "[00:26:03] bestIteration = 220\n",
      "[00:26:03] Shrink model to first 221 iterations.\n",
      "[00:26:03] ===== Start working with \u001B[1mfold 1\u001B[0m for \u001B[1mLvl_0_Pipe_1_Mod_0_CatBoost\u001B[0m =====\n",
      "[00:26:03] 0:\tlearn: 1.7895581\ttest: 1.7895844\tbest: 1.7895844 (0)\ttotal: 3.29ms\tremaining: 13.1s\n"
     ]
    },
    {
     "name": "stderr",
     "output_type": "stream",
     "text": [
      "Warning: less than 75% gpu memory available for training. Free: 4137.5 Total: 7940.125\n"
     ]
    },
    {
     "name": "stdout",
     "output_type": "stream",
     "text": [
      "[00:26:04] bestTest = 1.756295982\n",
      "[00:26:04] bestIteration = 152\n",
      "[00:26:04] Shrink model to first 153 iterations.\n",
      "[00:26:04] ===== Start working with \u001B[1mfold 2\u001B[0m for \u001B[1mLvl_0_Pipe_1_Mod_0_CatBoost\u001B[0m =====\n",
      "[00:26:04] 0:\tlearn: 1.7895617\ttest: 1.7895933\tbest: 1.7895933 (0)\ttotal: 3.57ms\tremaining: 14.3s\n"
     ]
    },
    {
     "name": "stderr",
     "output_type": "stream",
     "text": [
      "Warning: less than 75% gpu memory available for training. Free: 4137.5 Total: 7940.125\n"
     ]
    },
    {
     "name": "stdout",
     "output_type": "stream",
     "text": [
      "[00:26:06] bestTest = 1.755918561\n",
      "[00:26:06] bestIteration = 424\n",
      "[00:26:06] Shrink model to first 425 iterations.\n",
      "[00:26:06] ===== Start working with \u001B[1mfold 3\u001B[0m for \u001B[1mLvl_0_Pipe_1_Mod_0_CatBoost\u001B[0m =====\n",
      "[00:26:06] 0:\tlearn: 1.7895499\ttest: 1.7896065\tbest: 1.7896065 (0)\ttotal: 3.07ms\tremaining: 12.3s\n"
     ]
    },
    {
     "name": "stderr",
     "output_type": "stream",
     "text": [
      "Warning: less than 75% gpu memory available for training. Free: 4137.5 Total: 7940.125\n"
     ]
    },
    {
     "name": "stdout",
     "output_type": "stream",
     "text": [
      "[00:26:07] bestTest = 1.756704353\n",
      "[00:26:07] bestIteration = 165\n",
      "[00:26:07] Shrink model to first 166 iterations.\n",
      "[00:26:07] ===== Start working with \u001B[1mfold 4\u001B[0m for \u001B[1mLvl_0_Pipe_1_Mod_0_CatBoost\u001B[0m =====\n",
      "[00:26:07] 0:\tlearn: 1.7895585\ttest: 1.7895611\tbest: 1.7895611 (0)\ttotal: 3.07ms\tremaining: 12.3s\n"
     ]
    },
    {
     "name": "stderr",
     "output_type": "stream",
     "text": [
      "Warning: less than 75% gpu memory available for training. Free: 4137.5 Total: 7940.125\n"
     ]
    },
    {
     "name": "stdout",
     "output_type": "stream",
     "text": [
      "[00:26:08] bestTest = 1.756418975\n",
      "[00:26:08] bestIteration = 121\n",
      "[00:26:08] Shrink model to first 122 iterations.\n",
      "[00:26:08] Fitting \u001B[1mLvl_0_Pipe_1_Mod_0_CatBoost\u001B[0m finished. score = \u001B[1m-1.7562578523159138\u001B[0m\n",
      "[00:26:08] \u001B[1mLvl_0_Pipe_1_Mod_0_CatBoost\u001B[0m fitting and predicting completed\n",
      "[00:26:08] Time left 3205.18 secs\n",
      "\n",
      "[00:26:08] \u001B[1mLayer 1 training completed.\u001B[0m\n"
     ]
    },
    {
     "name": "stderr",
     "output_type": "stream",
     "text": [
      "/home/vorkov/miniconda3/envs/EDA/lib/python3.9/site-packages/sklearn/metrics/_classification.py:2845: FutureWarning: Setting the eps parameter is deprecated and will be removed in 1.5. Instead eps will always havea default value of `np.finfo(y_pred.dtype).eps`.\n",
      "  warnings.warn(\n",
      "/home/vorkov/miniconda3/envs/EDA/lib/python3.9/site-packages/sklearn/metrics/_classification.py:2845: FutureWarning: Setting the eps parameter is deprecated and will be removed in 1.5. Instead eps will always havea default value of `np.finfo(y_pred.dtype).eps`.\n",
      "  warnings.warn(\n"
     ]
    },
    {
     "name": "stdout",
     "output_type": "stream",
     "text": [
      "[00:26:08] Blending: optimization starts with equal weights and score \u001B[1m-1.746774741978774\u001B[0m\n"
     ]
    },
    {
     "name": "stderr",
     "output_type": "stream",
     "text": [
      "/home/vorkov/miniconda3/envs/EDA/lib/python3.9/site-packages/sklearn/metrics/_classification.py:2845: FutureWarning: Setting the eps parameter is deprecated and will be removed in 1.5. Instead eps will always havea default value of `np.finfo(y_pred.dtype).eps`.\n",
      "  warnings.warn(\n",
      "/home/vorkov/miniconda3/envs/EDA/lib/python3.9/site-packages/sklearn/metrics/_classification.py:2845: FutureWarning: Setting the eps parameter is deprecated and will be removed in 1.5. Instead eps will always havea default value of `np.finfo(y_pred.dtype).eps`.\n",
      "  warnings.warn(\n",
      "/home/vorkov/miniconda3/envs/EDA/lib/python3.9/site-packages/sklearn/metrics/_classification.py:2845: FutureWarning: Setting the eps parameter is deprecated and will be removed in 1.5. Instead eps will always havea default value of `np.finfo(y_pred.dtype).eps`.\n",
      "  warnings.warn(\n",
      "/home/vorkov/miniconda3/envs/EDA/lib/python3.9/site-packages/sklearn/metrics/_classification.py:2845: FutureWarning: Setting the eps parameter is deprecated and will be removed in 1.5. Instead eps will always havea default value of `np.finfo(y_pred.dtype).eps`.\n",
      "  warnings.warn(\n",
      "/home/vorkov/miniconda3/envs/EDA/lib/python3.9/site-packages/sklearn/metrics/_classification.py:2845: FutureWarning: Setting the eps parameter is deprecated and will be removed in 1.5. Instead eps will always havea default value of `np.finfo(y_pred.dtype).eps`.\n",
      "  warnings.warn(\n",
      "/home/vorkov/miniconda3/envs/EDA/lib/python3.9/site-packages/sklearn/metrics/_classification.py:2845: FutureWarning: Setting the eps parameter is deprecated and will be removed in 1.5. Instead eps will always havea default value of `np.finfo(y_pred.dtype).eps`.\n",
      "  warnings.warn(\n",
      "/home/vorkov/miniconda3/envs/EDA/lib/python3.9/site-packages/sklearn/metrics/_classification.py:2845: FutureWarning: Setting the eps parameter is deprecated and will be removed in 1.5. Instead eps will always havea default value of `np.finfo(y_pred.dtype).eps`.\n",
      "  warnings.warn(\n",
      "/home/vorkov/miniconda3/envs/EDA/lib/python3.9/site-packages/sklearn/metrics/_classification.py:2845: FutureWarning: Setting the eps parameter is deprecated and will be removed in 1.5. Instead eps will always havea default value of `np.finfo(y_pred.dtype).eps`.\n",
      "  warnings.warn(\n",
      "/home/vorkov/miniconda3/envs/EDA/lib/python3.9/site-packages/sklearn/metrics/_classification.py:2845: FutureWarning: Setting the eps parameter is deprecated and will be removed in 1.5. Instead eps will always havea default value of `np.finfo(y_pred.dtype).eps`.\n",
      "  warnings.warn(\n",
      "/home/vorkov/miniconda3/envs/EDA/lib/python3.9/site-packages/sklearn/metrics/_classification.py:2845: FutureWarning: Setting the eps parameter is deprecated and will be removed in 1.5. Instead eps will always havea default value of `np.finfo(y_pred.dtype).eps`.\n",
      "  warnings.warn(\n",
      "/home/vorkov/miniconda3/envs/EDA/lib/python3.9/site-packages/sklearn/metrics/_classification.py:2845: FutureWarning: Setting the eps parameter is deprecated and will be removed in 1.5. Instead eps will always havea default value of `np.finfo(y_pred.dtype).eps`.\n",
      "  warnings.warn(\n",
      "/home/vorkov/miniconda3/envs/EDA/lib/python3.9/site-packages/sklearn/metrics/_classification.py:2845: FutureWarning: Setting the eps parameter is deprecated and will be removed in 1.5. Instead eps will always havea default value of `np.finfo(y_pred.dtype).eps`.\n",
      "  warnings.warn(\n",
      "/home/vorkov/miniconda3/envs/EDA/lib/python3.9/site-packages/sklearn/metrics/_classification.py:2845: FutureWarning: Setting the eps parameter is deprecated and will be removed in 1.5. Instead eps will always havea default value of `np.finfo(y_pred.dtype).eps`.\n",
      "  warnings.warn(\n",
      "/home/vorkov/miniconda3/envs/EDA/lib/python3.9/site-packages/sklearn/metrics/_classification.py:2845: FutureWarning: Setting the eps parameter is deprecated and will be removed in 1.5. Instead eps will always havea default value of `np.finfo(y_pred.dtype).eps`.\n",
      "  warnings.warn(\n"
     ]
    },
    {
     "name": "stdout",
     "output_type": "stream",
     "text": [
      "[00:26:10] Blending: iteration \u001B[1m0\u001B[0m: score = \u001B[1m-1.7456073123061973\u001B[0m, weights = \u001B[1m[0.7621496  0.23785044]\u001B[0m\n"
     ]
    },
    {
     "name": "stderr",
     "output_type": "stream",
     "text": [
      "/home/vorkov/miniconda3/envs/EDA/lib/python3.9/site-packages/sklearn/metrics/_classification.py:2845: FutureWarning: Setting the eps parameter is deprecated and will be removed in 1.5. Instead eps will always havea default value of `np.finfo(y_pred.dtype).eps`.\n",
      "  warnings.warn(\n",
      "/home/vorkov/miniconda3/envs/EDA/lib/python3.9/site-packages/sklearn/metrics/_classification.py:2845: FutureWarning: Setting the eps parameter is deprecated and will be removed in 1.5. Instead eps will always havea default value of `np.finfo(y_pred.dtype).eps`.\n",
      "  warnings.warn(\n",
      "/home/vorkov/miniconda3/envs/EDA/lib/python3.9/site-packages/sklearn/metrics/_classification.py:2845: FutureWarning: Setting the eps parameter is deprecated and will be removed in 1.5. Instead eps will always havea default value of `np.finfo(y_pred.dtype).eps`.\n",
      "  warnings.warn(\n",
      "/home/vorkov/miniconda3/envs/EDA/lib/python3.9/site-packages/sklearn/metrics/_classification.py:2845: FutureWarning: Setting the eps parameter is deprecated and will be removed in 1.5. Instead eps will always havea default value of `np.finfo(y_pred.dtype).eps`.\n",
      "  warnings.warn(\n",
      "/home/vorkov/miniconda3/envs/EDA/lib/python3.9/site-packages/sklearn/metrics/_classification.py:2845: FutureWarning: Setting the eps parameter is deprecated and will be removed in 1.5. Instead eps will always havea default value of `np.finfo(y_pred.dtype).eps`.\n",
      "  warnings.warn(\n",
      "/home/vorkov/miniconda3/envs/EDA/lib/python3.9/site-packages/sklearn/metrics/_classification.py:2845: FutureWarning: Setting the eps parameter is deprecated and will be removed in 1.5. Instead eps will always havea default value of `np.finfo(y_pred.dtype).eps`.\n",
      "  warnings.warn(\n",
      "/home/vorkov/miniconda3/envs/EDA/lib/python3.9/site-packages/sklearn/metrics/_classification.py:2845: FutureWarning: Setting the eps parameter is deprecated and will be removed in 1.5. Instead eps will always havea default value of `np.finfo(y_pred.dtype).eps`.\n",
      "  warnings.warn(\n",
      "/home/vorkov/miniconda3/envs/EDA/lib/python3.9/site-packages/sklearn/metrics/_classification.py:2845: FutureWarning: Setting the eps parameter is deprecated and will be removed in 1.5. Instead eps will always havea default value of `np.finfo(y_pred.dtype).eps`.\n",
      "  warnings.warn(\n",
      "/home/vorkov/miniconda3/envs/EDA/lib/python3.9/site-packages/sklearn/metrics/_classification.py:2845: FutureWarning: Setting the eps parameter is deprecated and will be removed in 1.5. Instead eps will always havea default value of `np.finfo(y_pred.dtype).eps`.\n",
      "  warnings.warn(\n",
      "/home/vorkov/miniconda3/envs/EDA/lib/python3.9/site-packages/sklearn/metrics/_classification.py:2845: FutureWarning: Setting the eps parameter is deprecated and will be removed in 1.5. Instead eps will always havea default value of `np.finfo(y_pred.dtype).eps`.\n",
      "  warnings.warn(\n",
      "/home/vorkov/miniconda3/envs/EDA/lib/python3.9/site-packages/sklearn/metrics/_classification.py:2845: FutureWarning: Setting the eps parameter is deprecated and will be removed in 1.5. Instead eps will always havea default value of `np.finfo(y_pred.dtype).eps`.\n",
      "  warnings.warn(\n",
      "/home/vorkov/miniconda3/envs/EDA/lib/python3.9/site-packages/sklearn/metrics/_classification.py:2845: FutureWarning: Setting the eps parameter is deprecated and will be removed in 1.5. Instead eps will always havea default value of `np.finfo(y_pred.dtype).eps`.\n",
      "  warnings.warn(\n",
      "/home/vorkov/miniconda3/envs/EDA/lib/python3.9/site-packages/sklearn/metrics/_classification.py:2845: FutureWarning: Setting the eps parameter is deprecated and will be removed in 1.5. Instead eps will always havea default value of `np.finfo(y_pred.dtype).eps`.\n",
      "  warnings.warn(\n",
      "/home/vorkov/miniconda3/envs/EDA/lib/python3.9/site-packages/sklearn/metrics/_classification.py:2845: FutureWarning: Setting the eps parameter is deprecated and will be removed in 1.5. Instead eps will always havea default value of `np.finfo(y_pred.dtype).eps`.\n",
      "  warnings.warn(\n"
     ]
    },
    {
     "name": "stdout",
     "output_type": "stream",
     "text": [
      "[00:26:13] Blending: iteration \u001B[1m1\u001B[0m: score = \u001B[1m-1.7456073123061973\u001B[0m, weights = \u001B[1m[0.7621496  0.23785044]\u001B[0m\n",
      "[00:26:13] Blending: no score update. Terminated\n",
      "\n",
      "[00:26:13] \u001B[1mAutoml preset training completed in 399.37 seconds\u001B[0m\n",
      "\n",
      "[00:26:13] Model description:\n",
      "Final prediction for new objects (level 0) = \n",
      "\t 0.76215 * (5 averaged models Lvl_0_Pipe_0_Mod_0_LinearL2) +\n",
      "\t 0.23785 * (5 averaged models Lvl_0_Pipe_1_Mod_0_CatBoost) \n",
      "\n",
      "CPU times: user 41min 20s, sys: 23.5 s, total: 41min 44s\n",
      "Wall time: 6min 39s\n"
     ]
    }
   ],
   "source": [
    "%%time\n",
    "oof_pred = automl.fit_predict(train_data, roles = roles, verbose = 3)"
   ],
   "metadata": {
    "collapsed": false,
    "ExecuteTime": {
     "end_time": "2023-10-21T21:26:13.380987966Z",
     "start_time": "2023-10-21T21:19:33.700604698Z"
    }
   },
   "id": "fa42f62054614139"
  },
  {
   "cell_type": "code",
   "execution_count": 33,
   "outputs": [
    {
     "data": {
      "text/plain": "array([[0.21918063, 0.15834671, 0.20577762, 0.15915602, 0.17088658,\n        0.08665247],\n       [0.17044726, 0.13045105, 0.14589497, 0.26895785, 0.08521298,\n        0.19903593],\n       [0.23045644, 0.21540189, 0.1720229 , 0.13516134, 0.13908261,\n        0.10787482],\n       ...,\n       [0.13911489, 0.21098849, 0.19171953, 0.19255818, 0.1960422 ,\n        0.06957673],\n       [0.19973347, 0.22115043, 0.21286765, 0.13422142, 0.15505922,\n        0.07696783],\n       [0.15222295, 0.18302003, 0.16294119, 0.20365205, 0.1967386 ,\n        0.10142526]], dtype=float32)"
     },
     "execution_count": 33,
     "metadata": {},
     "output_type": "execute_result"
    }
   ],
   "source": [
    "oof_pred"
   ],
   "metadata": {
    "collapsed": false,
    "ExecuteTime": {
     "end_time": "2023-10-21T21:26:13.389580097Z",
     "start_time": "2023-10-21T21:26:13.358095844Z"
    }
   },
   "id": "e880b2c6714bb969"
  },
  {
   "cell_type": "code",
   "execution_count": 34,
   "outputs": [
    {
     "data": {
      "text/plain": "              image_id    label\n0           im3847.png  fearful\n1        im26_test.png  fearful\n2       im769_test.png  fearful\n3           im3526.png  fearful\n4           im3314.png  fearful\n...                ...      ...\n388735      im6827.png    happy\n388736      im6827.png    happy\n388737      im6827.png    happy\n388738      im6827.png    happy\n388739      im6827.png    happy\n\n[388740 rows x 2 columns]",
      "text/html": "<div>\n<style scoped>\n    .dataframe tbody tr th:only-of-type {\n        vertical-align: middle;\n    }\n\n    .dataframe tbody tr th {\n        vertical-align: top;\n    }\n\n    .dataframe thead th {\n        text-align: right;\n    }\n</style>\n<table border=\"1\" class=\"dataframe\">\n  <thead>\n    <tr style=\"text-align: right;\">\n      <th></th>\n      <th>image_id</th>\n      <th>label</th>\n    </tr>\n  </thead>\n  <tbody>\n    <tr>\n      <th>0</th>\n      <td>im3847.png</td>\n      <td>fearful</td>\n    </tr>\n    <tr>\n      <th>1</th>\n      <td>im26_test.png</td>\n      <td>fearful</td>\n    </tr>\n    <tr>\n      <th>2</th>\n      <td>im769_test.png</td>\n      <td>fearful</td>\n    </tr>\n    <tr>\n      <th>3</th>\n      <td>im3526.png</td>\n      <td>fearful</td>\n    </tr>\n    <tr>\n      <th>4</th>\n      <td>im3314.png</td>\n      <td>fearful</td>\n    </tr>\n    <tr>\n      <th>...</th>\n      <td>...</td>\n      <td>...</td>\n    </tr>\n    <tr>\n      <th>388735</th>\n      <td>im6827.png</td>\n      <td>happy</td>\n    </tr>\n    <tr>\n      <th>388736</th>\n      <td>im6827.png</td>\n      <td>happy</td>\n    </tr>\n    <tr>\n      <th>388737</th>\n      <td>im6827.png</td>\n      <td>happy</td>\n    </tr>\n    <tr>\n      <th>388738</th>\n      <td>im6827.png</td>\n      <td>happy</td>\n    </tr>\n    <tr>\n      <th>388739</th>\n      <td>im6827.png</td>\n      <td>happy</td>\n    </tr>\n  </tbody>\n</table>\n<p>388740 rows × 2 columns</p>\n</div>"
     },
     "execution_count": 34,
     "metadata": {},
     "output_type": "execute_result"
    }
   ],
   "source": [
    "preds = train_data[['image_id', 'label']]\n",
    "preds"
   ],
   "metadata": {
    "collapsed": false,
    "ExecuteTime": {
     "end_time": "2023-10-21T21:26:35.933464241Z",
     "start_time": "2023-10-21T21:26:35.884687838Z"
    }
   },
   "id": "95af599f8d89a1b2"
  },
  {
   "cell_type": "code",
   "execution_count": 35,
   "outputs": [
    {
     "name": "stdout",
     "output_type": "stream",
     "text": [
      "0\n",
      "1\n",
      "2\n",
      "3\n",
      "4\n",
      "5\n"
     ]
    },
    {
     "data": {
      "text/plain": "              image_id    label    pred_0    pred_1    pred_2    pred_3  \\\n0           im3847.png  fearful  0.219181  0.158347  0.205778  0.159156   \n1        im26_test.png  fearful  0.170447  0.130451  0.145895  0.268958   \n2       im769_test.png  fearful  0.230456  0.215402  0.172023  0.135161   \n3           im3526.png  fearful  0.255479  0.153129  0.160421  0.158929   \n4           im3314.png  fearful  0.180348  0.182212  0.237764  0.158750   \n...                ...      ...       ...       ...       ...       ...   \n388735      im6827.png    happy  0.175654  0.225430  0.188135  0.162170   \n388736      im6827.png    happy  0.207562  0.227686  0.206496  0.124138   \n388737      im6827.png    happy  0.139115  0.210988  0.191720  0.192558   \n388738      im6827.png    happy  0.199733  0.221150  0.212868  0.134221   \n388739      im6827.png    happy  0.152223  0.183020  0.162941  0.203652   \n\n          pred_4    pred_5  \n0       0.170887  0.086652  \n1       0.085213  0.199036  \n2       0.139083  0.107875  \n3       0.151790  0.120251  \n4       0.161926  0.079001  \n...          ...       ...  \n388735  0.174940  0.073670  \n388736  0.151572  0.082546  \n388737  0.196042  0.069577  \n388738  0.155059  0.076968  \n388739  0.196739  0.101425  \n\n[388740 rows x 8 columns]",
      "text/html": "<div>\n<style scoped>\n    .dataframe tbody tr th:only-of-type {\n        vertical-align: middle;\n    }\n\n    .dataframe tbody tr th {\n        vertical-align: top;\n    }\n\n    .dataframe thead th {\n        text-align: right;\n    }\n</style>\n<table border=\"1\" class=\"dataframe\">\n  <thead>\n    <tr style=\"text-align: right;\">\n      <th></th>\n      <th>image_id</th>\n      <th>label</th>\n      <th>pred_0</th>\n      <th>pred_1</th>\n      <th>pred_2</th>\n      <th>pred_3</th>\n      <th>pred_4</th>\n      <th>pred_5</th>\n    </tr>\n  </thead>\n  <tbody>\n    <tr>\n      <th>0</th>\n      <td>im3847.png</td>\n      <td>fearful</td>\n      <td>0.219181</td>\n      <td>0.158347</td>\n      <td>0.205778</td>\n      <td>0.159156</td>\n      <td>0.170887</td>\n      <td>0.086652</td>\n    </tr>\n    <tr>\n      <th>1</th>\n      <td>im26_test.png</td>\n      <td>fearful</td>\n      <td>0.170447</td>\n      <td>0.130451</td>\n      <td>0.145895</td>\n      <td>0.268958</td>\n      <td>0.085213</td>\n      <td>0.199036</td>\n    </tr>\n    <tr>\n      <th>2</th>\n      <td>im769_test.png</td>\n      <td>fearful</td>\n      <td>0.230456</td>\n      <td>0.215402</td>\n      <td>0.172023</td>\n      <td>0.135161</td>\n      <td>0.139083</td>\n      <td>0.107875</td>\n    </tr>\n    <tr>\n      <th>3</th>\n      <td>im3526.png</td>\n      <td>fearful</td>\n      <td>0.255479</td>\n      <td>0.153129</td>\n      <td>0.160421</td>\n      <td>0.158929</td>\n      <td>0.151790</td>\n      <td>0.120251</td>\n    </tr>\n    <tr>\n      <th>4</th>\n      <td>im3314.png</td>\n      <td>fearful</td>\n      <td>0.180348</td>\n      <td>0.182212</td>\n      <td>0.237764</td>\n      <td>0.158750</td>\n      <td>0.161926</td>\n      <td>0.079001</td>\n    </tr>\n    <tr>\n      <th>...</th>\n      <td>...</td>\n      <td>...</td>\n      <td>...</td>\n      <td>...</td>\n      <td>...</td>\n      <td>...</td>\n      <td>...</td>\n      <td>...</td>\n    </tr>\n    <tr>\n      <th>388735</th>\n      <td>im6827.png</td>\n      <td>happy</td>\n      <td>0.175654</td>\n      <td>0.225430</td>\n      <td>0.188135</td>\n      <td>0.162170</td>\n      <td>0.174940</td>\n      <td>0.073670</td>\n    </tr>\n    <tr>\n      <th>388736</th>\n      <td>im6827.png</td>\n      <td>happy</td>\n      <td>0.207562</td>\n      <td>0.227686</td>\n      <td>0.206496</td>\n      <td>0.124138</td>\n      <td>0.151572</td>\n      <td>0.082546</td>\n    </tr>\n    <tr>\n      <th>388737</th>\n      <td>im6827.png</td>\n      <td>happy</td>\n      <td>0.139115</td>\n      <td>0.210988</td>\n      <td>0.191720</td>\n      <td>0.192558</td>\n      <td>0.196042</td>\n      <td>0.069577</td>\n    </tr>\n    <tr>\n      <th>388738</th>\n      <td>im6827.png</td>\n      <td>happy</td>\n      <td>0.199733</td>\n      <td>0.221150</td>\n      <td>0.212868</td>\n      <td>0.134221</td>\n      <td>0.155059</td>\n      <td>0.076968</td>\n    </tr>\n    <tr>\n      <th>388739</th>\n      <td>im6827.png</td>\n      <td>happy</td>\n      <td>0.152223</td>\n      <td>0.183020</td>\n      <td>0.162941</td>\n      <td>0.203652</td>\n      <td>0.196739</td>\n      <td>0.101425</td>\n    </tr>\n  </tbody>\n</table>\n<p>388740 rows × 8 columns</p>\n</div>"
     },
     "execution_count": 35,
     "metadata": {},
     "output_type": "execute_result"
    }
   ],
   "source": [
    "for i in range(6):\n",
    "    preds['pred_' + str(i)] = oof_pred.data[:,i]\n",
    "    print(i)\n",
    "\n",
    "preds"
   ],
   "metadata": {
    "collapsed": false,
    "ExecuteTime": {
     "end_time": "2023-10-21T21:26:39.315223697Z",
     "start_time": "2023-10-21T21:26:39.270317469Z"
    }
   },
   "id": "6c3806670696cc92"
  },
  {
   "cell_type": "code",
   "execution_count": 36,
   "outputs": [
    {
     "data": {
      "text/plain": "           image_id      label    pred_0    pred_1    pred_2    pred_3  \\\n0           im0.png      angry  0.231885  0.184298  0.167140  0.133300   \n1           im0.png    fearful  0.232709  0.179090  0.170055  0.139050   \n2           im0.png      happy  0.241791  0.181150  0.161432  0.129542   \n3           im0.png    neutral  0.233742  0.190497  0.160011  0.130957   \n4           im0.png        sad  0.234462  0.181100  0.167213  0.137444   \n...             ...        ...       ...       ...       ...       ...   \n35335  im9_test.png    fearful  0.264980  0.179345  0.159370  0.140555   \n35336  im9_test.png      happy  0.269800  0.179273  0.155410  0.137102   \n35337  im9_test.png    neutral  0.261836  0.175853  0.158422  0.145178   \n35338  im9_test.png        sad  0.267442  0.177492  0.163724  0.138793   \n35339  im9_test.png  surprised  0.254510  0.171175  0.150107  0.135994   \n\n         pred_4    pred_5  \n0      0.166692  0.116685  \n1      0.163253  0.115843  \n2      0.167349  0.118737  \n3      0.161888  0.122905  \n4      0.162397  0.117384  \n...         ...       ...  \n35335  0.138794  0.116956  \n35336  0.139008  0.119408  \n35337  0.141836  0.116874  \n35338  0.137729  0.114819  \n35339  0.133538  0.154676  \n\n[35340 rows x 8 columns]",
      "text/html": "<div>\n<style scoped>\n    .dataframe tbody tr th:only-of-type {\n        vertical-align: middle;\n    }\n\n    .dataframe tbody tr th {\n        vertical-align: top;\n    }\n\n    .dataframe thead th {\n        text-align: right;\n    }\n</style>\n<table border=\"1\" class=\"dataframe\">\n  <thead>\n    <tr style=\"text-align: right;\">\n      <th></th>\n      <th>image_id</th>\n      <th>label</th>\n      <th>pred_0</th>\n      <th>pred_1</th>\n      <th>pred_2</th>\n      <th>pred_3</th>\n      <th>pred_4</th>\n      <th>pred_5</th>\n    </tr>\n  </thead>\n  <tbody>\n    <tr>\n      <th>0</th>\n      <td>im0.png</td>\n      <td>angry</td>\n      <td>0.231885</td>\n      <td>0.184298</td>\n      <td>0.167140</td>\n      <td>0.133300</td>\n      <td>0.166692</td>\n      <td>0.116685</td>\n    </tr>\n    <tr>\n      <th>1</th>\n      <td>im0.png</td>\n      <td>fearful</td>\n      <td>0.232709</td>\n      <td>0.179090</td>\n      <td>0.170055</td>\n      <td>0.139050</td>\n      <td>0.163253</td>\n      <td>0.115843</td>\n    </tr>\n    <tr>\n      <th>2</th>\n      <td>im0.png</td>\n      <td>happy</td>\n      <td>0.241791</td>\n      <td>0.181150</td>\n      <td>0.161432</td>\n      <td>0.129542</td>\n      <td>0.167349</td>\n      <td>0.118737</td>\n    </tr>\n    <tr>\n      <th>3</th>\n      <td>im0.png</td>\n      <td>neutral</td>\n      <td>0.233742</td>\n      <td>0.190497</td>\n      <td>0.160011</td>\n      <td>0.130957</td>\n      <td>0.161888</td>\n      <td>0.122905</td>\n    </tr>\n    <tr>\n      <th>4</th>\n      <td>im0.png</td>\n      <td>sad</td>\n      <td>0.234462</td>\n      <td>0.181100</td>\n      <td>0.167213</td>\n      <td>0.137444</td>\n      <td>0.162397</td>\n      <td>0.117384</td>\n    </tr>\n    <tr>\n      <th>...</th>\n      <td>...</td>\n      <td>...</td>\n      <td>...</td>\n      <td>...</td>\n      <td>...</td>\n      <td>...</td>\n      <td>...</td>\n      <td>...</td>\n    </tr>\n    <tr>\n      <th>35335</th>\n      <td>im9_test.png</td>\n      <td>fearful</td>\n      <td>0.264980</td>\n      <td>0.179345</td>\n      <td>0.159370</td>\n      <td>0.140555</td>\n      <td>0.138794</td>\n      <td>0.116956</td>\n    </tr>\n    <tr>\n      <th>35336</th>\n      <td>im9_test.png</td>\n      <td>happy</td>\n      <td>0.269800</td>\n      <td>0.179273</td>\n      <td>0.155410</td>\n      <td>0.137102</td>\n      <td>0.139008</td>\n      <td>0.119408</td>\n    </tr>\n    <tr>\n      <th>35337</th>\n      <td>im9_test.png</td>\n      <td>neutral</td>\n      <td>0.261836</td>\n      <td>0.175853</td>\n      <td>0.158422</td>\n      <td>0.145178</td>\n      <td>0.141836</td>\n      <td>0.116874</td>\n    </tr>\n    <tr>\n      <th>35338</th>\n      <td>im9_test.png</td>\n      <td>sad</td>\n      <td>0.267442</td>\n      <td>0.177492</td>\n      <td>0.163724</td>\n      <td>0.138793</td>\n      <td>0.137729</td>\n      <td>0.114819</td>\n    </tr>\n    <tr>\n      <th>35339</th>\n      <td>im9_test.png</td>\n      <td>surprised</td>\n      <td>0.254510</td>\n      <td>0.171175</td>\n      <td>0.150107</td>\n      <td>0.135994</td>\n      <td>0.133538</td>\n      <td>0.154676</td>\n    </tr>\n  </tbody>\n</table>\n<p>35340 rows × 8 columns</p>\n</div>"
     },
     "execution_count": 36,
     "metadata": {},
     "output_type": "execute_result"
    }
   ],
   "source": [
    "preds = preds.groupby(['image_id', 'label']).mean().reset_index()\n",
    "preds"
   ],
   "metadata": {
    "collapsed": false,
    "ExecuteTime": {
     "end_time": "2023-10-21T21:26:39.426446205Z",
     "start_time": "2023-10-21T21:26:39.314329184Z"
    }
   },
   "id": "d758379cf8ab329f"
  },
  {
   "cell_type": "code",
   "execution_count": 37,
   "outputs": [
    {
     "data": {
      "text/plain": "array([0, 0, 0, ..., 0, 0, 0])"
     },
     "execution_count": 37,
     "metadata": {},
     "output_type": "execute_result"
    }
   ],
   "source": [
    "OOFs = np.argmax(preds[['pred_' + str(i) for i in range(6)]].values, axis = 1)\n",
    "OOFs"
   ],
   "metadata": {
    "collapsed": false,
    "ExecuteTime": {
     "end_time": "2023-10-21T21:26:40.662481204Z",
     "start_time": "2023-10-21T21:26:40.657143128Z"
    }
   },
   "id": "a7b2853a7df36758"
  },
  {
   "cell_type": "code",
   "execution_count": 38,
   "outputs": [
    {
     "data": {
      "text/plain": "<Figure size 1000x1000 with 2 Axes>",
      "image/png": "[encoded data removed]"
     },
     "metadata": {},
     "output_type": "display_data"
    }
   ],
   "source": [
    "cf_matrix = confusion_matrix(preds['label'].map(automl.reader.class_mapping), OOFs)\n",
    "\n",
    "plt.figure(figsize = (10, 10))\n",
    "\n",
    "ax = sns.heatmap(cf_matrix, annot=True, cmap='Blues', fmt = 'd')\n",
    "\n",
    "ax.set_title('Seaborn Confusion Matrix with labels\\n\\n')\n",
    "ax.set_xlabel('\\nPredicted Values')\n",
    "ax.set_ylabel('Actual Values ')\n",
    "\n",
    "inverse_class_mapping = {y: x for x,y in automl.reader.class_mapping.items()}\n",
    "labels = [inverse_class_mapping[i] for i in range(len(inverse_class_mapping))]\n",
    "ax.xaxis.set_ticklabels(labels, rotation = 90)\n",
    "ax.yaxis.set_ticklabels(labels, rotation = 0)\n",
    "\n",
    "plt.show()"
   ],
   "metadata": {
    "collapsed": false,
    "ExecuteTime": {
     "end_time": "2023-10-21T21:26:42.037173404Z",
     "start_time": "2023-10-21T21:26:41.796262099Z"
    }
   },
   "id": "80f0b325fd35a039"
  },
  {
   "cell_type": "code",
   "execution_count": null,
   "outputs": [],
   "source": [
    "# te_pred = automl.predict(submission)\n",
    "# print(f'Prediction for te_data:\\n{te_pred}\\nShape = {te_pred.shape}')"
   ],
   "metadata": {
    "collapsed": false,
    "ExecuteTime": {
     "start_time": "2023-10-21T20:48:24.874583912Z"
    }
   },
   "id": "abe1f147718acbc5"
  },
  {
   "cell_type": "code",
   "execution_count": null,
   "outputs": [],
   "source": [
    "# sub = submission[['image_id']]\n",
    "# for i in range(10):\n",
    "#     sub['pred_' + str(i)] = te_pred.data[:,i]\n",
    "# \n",
    "# sub"
   ],
   "metadata": {
    "collapsed": false,
    "ExecuteTime": {
     "end_time": "2023-10-21T20:48:24.887375362Z",
     "start_time": "2023-10-21T20:48:24.874672811Z"
    }
   },
   "id": "3a086d987cda9462"
  },
  {
   "cell_type": "code",
   "execution_count": null,
   "outputs": [],
   "source": [
    "# sub = sub.groupby(['image_id']).mean().reset_index()\n",
    "# sub"
   ],
   "metadata": {
    "collapsed": false,
    "ExecuteTime": {
     "start_time": "2023-10-21T20:48:24.874732856Z"
    }
   },
   "id": "b1e013b485a3ebcf"
  },
  {
   "cell_type": "code",
   "execution_count": null,
   "outputs": [],
   "source": [
    "# TEs = pd.Series(np.argmax(sub[['pred_' + str(i) for i in range(10)]].values, axis = 1)).map(inverse_class_mapping)\n",
    "# TEs"
   ],
   "metadata": {
    "collapsed": false,
    "ExecuteTime": {
     "start_time": "2023-10-21T20:48:24.874813670Z"
    }
   },
   "id": "51107f6c2beeddbb"
  },
  {
   "cell_type": "code",
   "execution_count": null,
   "outputs": [],
   "source": [
    "# sub['label'] = TEs\n",
    "# sub[['image_id', 'label']].to_csv('LightAutoML_TabularCVAutoML_with_aug.csv', index = False)\n",
    "# sub[['image_id', 'label']]"
   ],
   "metadata": {
    "collapsed": false,
    "ExecuteTime": {
     "start_time": "2023-10-21T20:48:24.874906297Z"
    }
   },
   "id": "acea03af74bef7a6"
  },
  {
   "cell_type": "code",
   "execution_count": null,
   "outputs": [],
   "source": [
    "# automl = TabularCVAutoML(task = task,\n",
    "#                          timeout=3 * 3600,\n",
    "#                          autocv_features={\"embed_model\": 'timm/tf_efficientnetv2_b0.in1k'},\n",
    "#                          cpu_limit = 2,\n",
    "#                          reader_params = {'cv': 5, 'random_state': 42})"
   ],
   "metadata": {
    "collapsed": false,
    "ExecuteTime": {
     "start_time": "2023-10-21T20:48:24.875020876Z"
    }
   },
   "id": "2daa4cb26e87a157"
  },
  {
   "cell_type": "code",
   "execution_count": null,
   "outputs": [],
   "source": [
    "# oof_pred = automl.fit_predict(train_data, roles = roles, verbose = 3)"
   ],
   "metadata": {
    "collapsed": false,
    "ExecuteTime": {
     "start_time": "2023-10-21T20:48:24.875112511Z"
    }
   },
   "id": "8468129fa82bc8f5"
  },
  {
   "cell_type": "code",
   "execution_count": null,
   "outputs": [],
   "source": [
    "# te_pred = automl.predict(submission)\n",
    "# print(f'Prediction for te_data:\\n{te_pred}\\nShape = {te_pred.shape}')"
   ],
   "metadata": {
    "collapsed": false,
    "ExecuteTime": {
     "start_time": "2023-10-21T20:48:24.875289719Z"
    }
   },
   "id": "533f47ed93784d62"
  },
  {
   "cell_type": "code",
   "execution_count": null,
   "outputs": [],
   "source": [
    "import joblib"
   ],
   "metadata": {
    "collapsed": false,
    "ExecuteTime": {
     "start_time": "2023-10-21T20:48:24.875387315Z"
    }
   },
   "id": "8d61b804336b7126"
  },
  {
   "cell_type": "code",
   "execution_count": null,
   "outputs": [],
   "source": [
    "joblib.dump(automl, 'test_model.joblib')"
   ],
   "metadata": {
    "collapsed": false,
    "ExecuteTime": {
     "start_time": "2023-10-21T20:48:24.875501683Z"
    }
   },
   "id": "7b98868dfea16af9"
  },
  {
   "cell_type": "code",
   "execution_count": 39,
   "outputs": [
    {
     "data": {
      "text/plain": "0.11124155763609356"
     },
     "execution_count": 39,
     "metadata": {},
     "output_type": "execute_result"
    }
   ],
   "source": [
    "from sklearn. metrics import f1_score\n",
    "f1_score(preds['label'].map(automl.reader.class_mapping), OOFs, average=\"weighted\")"
   ],
   "metadata": {
    "collapsed": false,
    "ExecuteTime": {
     "end_time": "2023-10-21T21:26:50.389508940Z",
     "start_time": "2023-10-21T21:26:49.794911541Z"
    }
   },
   "id": "84e347313a052314"
  },
  {
   "cell_type": "code",
   "execution_count": null,
   "outputs": [],
   "source": [],
   "metadata": {
    "collapsed": false,
    "ExecuteTime": {
     "start_time": "2023-10-21T20:48:24.875671547Z"
    }
   },
   "id": "b1d0570ef21f2f"
  }
 ],
 "metadata": {
  "kernelspec": {
   "display_name": "Python 3",
   "language": "python",
   "name": "python3"
  },
  "language_info": {
   "codemirror_mode": {
    "name": "ipython",
    "version": 2
   },
   "file_extension": ".py",
   "mimetype": "text/x-python",
   "name": "python",
   "nbconvert_exporter": "python",
   "pygments_lexer": "ipython2",
   "version": "2.7.6"
  }
 },
 "nbformat": 4,
 "nbformat_minor": 5
}
