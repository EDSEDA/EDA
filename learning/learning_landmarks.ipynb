{
 "cells": [
  {
   "cell_type": "code",
   "execution_count": null,
   "metadata": {
    "collapsed": true,
    "is_executing": true
   },
   "outputs": [],
   "source": [
    "import warnings\n",
    "warnings.filterwarnings('ignore')\n",
    "\n",
    "import pandas as pd\n",
    "from statsmodels.stats.outliers_influence import variance_inflation_factor\n",
    "import numpy as np\n",
    "from IPython.display import display, HTML\n",
    "import seaborn as sns\n",
    "import random\n",
    "import matplotlib.pyplot as plt\n",
    "import plotly.express as px\n",
    "import pandas_profiling as pp\n",
    "from scipy import stats\n",
    "from scipy.stats import norm\n",
    "%matplotlib inline\n",
    "import h2o\n",
    "from h2o.automl import H2OAutoML"
   ]
  },
  {
   "cell_type": "code",
   "execution_count": 5,
   "outputs": [],
   "source": [
    "from sklearn.model_selection import train_test_split\n",
    "\n",
    "df = pd.read_csv('data2/landmarks.csv')\n",
    "df.columns = [f'col{i}' for i in range(1405)]\n",
    "df.astype({'col1404':'string'})\n",
    "\n",
    "Y = df.iloc[:]['col1404']\n",
    "X = df.drop(columns=['col1404'])\n",
    "xtrain, xtest, ytrain, ytest = train_test_split(X, Y, test_size=0.15)"
   ],
   "metadata": {
    "collapsed": false,
    "ExecuteTime": {
     "end_time": "2023-10-14T23:07:49.696876744Z",
     "start_time": "2023-10-14T23:07:43.170624670Z"
    }
   }
  },
  {
   "cell_type": "code",
   "execution_count": 6,
   "outputs": [
    {
     "data": {
      "text/plain": "array(['surprise', 'neutral', 'fear', 'sad', 'happy', 'contempt', 'anger',\n       'disgust'], dtype=object)"
     },
     "execution_count": 6,
     "metadata": {},
     "output_type": "execute_result"
    }
   ],
   "source": [
    "ytrain.unique()"
   ],
   "metadata": {
    "collapsed": false,
    "ExecuteTime": {
     "end_time": "2023-10-14T23:07:55.364491433Z",
     "start_time": "2023-10-14T23:07:55.336943172Z"
    }
   }
  },
  {
   "cell_type": "code",
   "execution_count": 7,
   "outputs": [
    {
     "name": "stdout",
     "output_type": "stream",
     "text": [
      "Checking whether there is an H2O instance running at http://localhost:54321..... not found.\n",
      "Attempting to start a local H2O server...\n",
      "  Java Version: openjdk version \"11.0.20.1\" 2023-08-24; OpenJDK Runtime Environment (build 11.0.20.1+1-post-Ubuntu-0ubuntu122.04); OpenJDK 64-Bit Server VM (build 11.0.20.1+1-post-Ubuntu-0ubuntu122.04, mixed mode, sharing)\n",
      "  Starting server from /home/vorkov/Workspace/EDA/venv/lib/python3.10/site-packages/h2o/backend/bin/h2o.jar\n",
      "  Ice root: /tmp/tmp0m8xz18_\n",
      "  JVM stdout: /tmp/tmp0m8xz18_/h2o_vorkov_started_from_python.out\n",
      "  JVM stderr: /tmp/tmp0m8xz18_/h2o_vorkov_started_from_python.err\n",
      "  Server is running at http://127.0.0.1:54321\n",
      "Connecting to H2O server at http://127.0.0.1:54321 ... successful.\n"
     ]
    },
    {
     "data": {
      "text/plain": "--------------------------  -----------------------------\nH2O_cluster_uptime:         01 secs\nH2O_cluster_timezone:       Europe/Moscow\nH2O_data_parsing_timezone:  UTC\nH2O_cluster_version:        3.42.0.4\nH2O_cluster_version_age:    11 days\nH2O_cluster_name:           H2O_from_python_vorkov_rauygq\nH2O_cluster_total_nodes:    1\nH2O_cluster_free_memory:    8 Gb\nH2O_cluster_total_cores:    16\nH2O_cluster_allowed_cores:  8\nH2O_cluster_status:         locked, healthy\nH2O_connection_url:         http://127.0.0.1:54321\nH2O_connection_proxy:       {\"http\": null, \"https\": null}\nH2O_internal_security:      False\nPython_version:             3.10.12 final\n--------------------------  -----------------------------",
      "text/html": "\n<style>\n\n#h2o-table-1.h2o-container {\n  overflow-x: auto;\n}\n#h2o-table-1 .h2o-table {\n  /* width: 100%; */\n  margin-top: 1em;\n  margin-bottom: 1em;\n}\n#h2o-table-1 .h2o-table caption {\n  white-space: nowrap;\n  caption-side: top;\n  text-align: left;\n  /* margin-left: 1em; */\n  margin: 0;\n  font-size: larger;\n}\n#h2o-table-1 .h2o-table thead {\n  white-space: nowrap; \n  position: sticky;\n  top: 0;\n  box-shadow: 0 -1px inset;\n}\n#h2o-table-1 .h2o-table tbody {\n  overflow: auto;\n}\n#h2o-table-1 .h2o-table th,\n#h2o-table-1 .h2o-table td {\n  text-align: right;\n  /* border: 1px solid; */\n}\n#h2o-table-1 .h2o-table tr:nth-child(even) {\n  /* background: #F5F5F5 */\n}\n\n</style>      \n<div id=\"h2o-table-1\" class=\"h2o-container\">\n  <table class=\"h2o-table\">\n    <caption></caption>\n    <thead></thead>\n    <tbody><tr><td>H2O_cluster_uptime:</td>\n<td>01 secs</td></tr>\n<tr><td>H2O_cluster_timezone:</td>\n<td>Europe/Moscow</td></tr>\n<tr><td>H2O_data_parsing_timezone:</td>\n<td>UTC</td></tr>\n<tr><td>H2O_cluster_version:</td>\n<td>3.42.0.4</td></tr>\n<tr><td>H2O_cluster_version_age:</td>\n<td>11 days</td></tr>\n<tr><td>H2O_cluster_name:</td>\n<td>H2O_from_python_vorkov_rauygq</td></tr>\n<tr><td>H2O_cluster_total_nodes:</td>\n<td>1</td></tr>\n<tr><td>H2O_cluster_free_memory:</td>\n<td>8 Gb</td></tr>\n<tr><td>H2O_cluster_total_cores:</td>\n<td>16</td></tr>\n<tr><td>H2O_cluster_allowed_cores:</td>\n<td>8</td></tr>\n<tr><td>H2O_cluster_status:</td>\n<td>locked, healthy</td></tr>\n<tr><td>H2O_connection_url:</td>\n<td>http://127.0.0.1:54321</td></tr>\n<tr><td>H2O_connection_proxy:</td>\n<td>{\"http\": null, \"https\": null}</td></tr>\n<tr><td>H2O_internal_security:</td>\n<td>False</td></tr>\n<tr><td>Python_version:</td>\n<td>3.10.12 final</td></tr></tbody>\n  </table>\n</div>\n"
     },
     "metadata": {},
     "output_type": "display_data"
    }
   ],
   "source": [
    "h2o.init(\n",
    "    nthreads=8,     # number of threads when launching a new H2O server\n",
    "    max_mem_size=8  # in gigabytes\n",
    ")"
   ],
   "metadata": {
    "collapsed": false,
    "ExecuteTime": {
     "end_time": "2023-10-14T23:08:00.215795378Z",
     "start_time": "2023-10-14T23:07:56.418245762Z"
    }
   }
  },
  {
   "cell_type": "code",
   "execution_count": 8,
   "outputs": [],
   "source": [
    "# train.groupby(\"col1404\")[\"col1404\"].count()"
   ],
   "metadata": {
    "collapsed": false,
    "ExecuteTime": {
     "end_time": "2023-10-14T23:08:00.217783378Z",
     "start_time": "2023-10-14T23:08:00.214153390Z"
    }
   }
  },
  {
   "cell_type": "code",
   "execution_count": 10,
   "outputs": [
    {
     "name": "stdout",
     "output_type": "stream",
     "text": [
      "Parse progress: |████████████████████████████████████████████████████████████████| (done) 100%\n",
      "Parse progress: |████████████████████████████████████████████████████████████████| (done) 100%\n",
      "AutoML progress: |\n",
      "02:09:39.93: Project: AutoML_2_20231015_20939\n",
      "02:09:39.93: 5-fold cross-validation will be used.\n",
      "02:09:39.95: Setting stopping tolerance adaptively based on the training frame: 0.005870886454241044\n",
      "02:09:39.95: Build control seed: 1\n",
      "02:09:39.96: training frame: Frame key: AutoML_2_20231015_20939_training_Key_Frame__upload_b852fb71589a6532db795da2f2c5413c.hex    cols: 1405    rows: 29013  chunks: 163    size: 341541227  checksum: -1927708119952564942\n",
      "02:09:39.96: validation frame: NULL\n",
      "02:09:39.96: leaderboard frame: NULL\n",
      "02:09:39.96: blending frame: NULL\n",
      "02:09:39.96: response column: col1404\n",
      "02:09:39.96: fold column: null\n",
      "02:09:39.96: weights column: null\n",
      "02:09:39.96: Loading execution steps: [{XGBoost : [def_2 (1g, 10w), def_1 (2g, 10w), def_3 (3g, 10w), grid_1 (4g, 90w), lr_search (7g, 30w)]}, {GLM : [def_1 (1g, 10w)]}, {DRF : [def_1 (2g, 10w), XRT (3g, 10w)]}, {GBM : [def_5 (1g, 10w), def_2 (2g, 10w), def_3 (2g, 10w), def_4 (2g, 10w), def_1 (3g, 10w), grid_1 (4g, 60w), lr_annealing (7g, 10w)]}, {DeepLearning : [def_1 (3g, 10w), grid_1 (4g, 30w), grid_2 (5g, 30w), grid_3 (5g, 30w)]}, {completion : [resume_best_grids (6g, 60w)]}, {StackedEnsemble : [monotonic (9g, 10w), best_of_family_xglm (10g, 10w), all_xglm (10g, 10w)]}]\n",
      "02:09:39.97: AutoML job created: 2023.10.15 02:09:39.93\n",
      "02:09:39.97: AutoML build started: 2023.10.15 02:09:39.97\n",
      "02:09:39.104: AutoML: starting XGBoost_1_AutoML_2_20231015_20939 model training\n",
      "██\n",
      "02:12:12.669: New leader: XGBoost_1_AutoML_2_20231015_20939, mean_per_class_error: 0.4887818580741838\n",
      "02:12:12.746: AutoML: starting GLM_1_AutoML_2_20231015_20939 model training\n",
      "████████████████████████████████████████████\n",
      "02:33:07.941: AutoML: starting GBM_1_AutoML_2_20231015_20939 model training\n",
      "██\n",
      "03:13:35.226: New leader: GBM_1_AutoML_2_20231015_20939, mean_per_class_error: 0.4803733890823806\n",
      "03:13:35.229: AutoML: starting XGBoost_2_AutoML_2_20231015_20939 model training\n",
      "\n",
      "03:15:56.817: AutoML: starting DRF_1_AutoML_2_20231015_20939 model training\n",
      "██\n",
      "03:48:35.211: AutoML: starting GBM_2_AutoML_2_20231015_20939 model training\n",
      "█\n",
      "04:13:12.752: AutoML: starting GBM_3_AutoML_2_20231015_20939 model training\n",
      "█\n",
      "04:42:40.381: AutoML: starting GBM_4_AutoML_2_20231015_20939 model training\n",
      "███\n",
      "05:27:20.712: No base models, due to timeouts or the exclude_algos option. Skipping StackedEnsemble 'monotonic'.\n",
      "05:27:20.721: AutoML: starting StackedEnsemble_BestOfFamily_1_AutoML_2_20231015_20939 model training\n",
      "\n",
      "05:28:33.819: New leader: StackedEnsemble_BestOfFamily_1_AutoML_2_20231015_20939, mean_per_class_error: 0.44513856956440007\n",
      "05:28:33.824: AutoML: starting StackedEnsemble_AllModels_1_AutoML_2_20231015_20939 model training\n",
      "\n",
      "05:30:34.663: New leader: StackedEnsemble_AllModels_1_AutoML_2_20231015_20939, mean_per_class_error: 0.44286978403170985\n",
      "05:30:34.663: Actual modeling steps: [{XGBoost : [def_2 (1g, 10w)]}, {GLM : [def_1 (1g, 10w)]}, {GBM : [def_5 (1g, 10w)]}, {XGBoost : [def_1 (2g, 10w)]}, {DRF : [def_1 (2g, 10w)]}, {GBM : [def_2 (2g, 10w), def_3 (2g, 10w), def_4 (2g, 10w)]}, {StackedEnsemble : [best_of_family_xglm (10g, 10w), all_xglm (10g, 10w)]}]\n",
      "05:30:34.663: AutoML build stopped: 2023.10.15 05:30:34.663\n",
      "05:30:34.663: AutoML build done: built 8 models\n",
      "05:30:34.663: AutoML duration:  3:20:55.566\n",
      "\n",
      "████████| (done) 100%\n"
     ]
    },
    {
     "data": {
      "text/plain": "Model Details\n=============\nH2OStackedEnsembleEstimator : Stacked Ensemble\nModel Key: StackedEnsemble_AllModels_1_AutoML_2_20231015_20939\n\n\nModel Summary for Stacked Ensemble: \nkey                                   value\n------------------------------------  ----------------\nStacking strategy                     cross_validation\nNumber of base models (used / total)  8/8\n# GBM base models (used / total)      4/4\n# XGBoost base models (used / total)  2/2\n# DRF base models (used / total)      1/1\n# GLM base models (used / total)      1/1\nMetalearner algorithm                 GLM\nMetalearner fold assignment scheme    Random\nMetalearner nfolds                    5\nMetalearner fold_column\nCustom metalearner hyperparameters    None\n\nModelMetricsMultinomialGLM: stackedensemble\n** Reported on train data. **\n\nMSE: 0.16643187998387093\nRMSE: 0.4079606353361448\nLogLoss: 0.47976881323732423\nNull degrees of freedom: 10050\nResidual degrees of freedom: 9758\nNull deviance: 39246.61963809449\nResidual deviance: 9644.312683696691\nAUC table was not computed: it is either disabled (model parameter 'auc_type' was set to AUTO or NONE) or the domain size exceeds the limit (maximum is 50 domains).\nAUCPR table was not computed: it is either disabled (model parameter 'auc_type' was set to AUTO or NONE) or the domain size exceeds the limit (maximum is 50 domains).\n\nConfusion Matrix: Row labels: Actual class; Column labels: Predicted class\nanger    contempt    disgust    fear    happy    neutral    sad    surprise    Error      Rate\n-------  ----------  ---------  ------  -------  ---------  -----  ----------  ---------  --------------\n815      52          11         11      0        2          57     32          0.168367   165 / 980\n35       668         26         3       6        16         36     43          0.198079   165 / 833\n17       50          574        11      3        7          14     35          0.192686   137 / 711\n19       11          24         843     0        0          23     36          0.118201   113 / 956\n1        3           4          0       2927     80         1      8           0.0320767  97 / 3,024\n5        7           4          0       39       1436       10     20          0.0558843  85 / 1,521\n30       71          12         16      2        0          696    39          0.196305   170 / 866\n29       53          26         26      4        40         42     940         0.189655   220 / 1,160\n951      915         681        910     2981     1581       879    1153        0.114615   1,152 / 10,051\n\nTop-8 Hit Ratios: \nk    hit_ratio\n---  -----------\n1    0.885385\n2    0.961795\n3    0.983385\n4    0.992637\n5    0.997015\n6    0.998906\n7    0.999702\n8    1\n\nModelMetricsMultinomialGLM: stackedensemble\n** Reported on cross-validation data. **\n\nMSE: 0.31081380825946403\nRMSE: 0.5575067786668284\nLogLoss: 0.8940497260279255\nNull degrees of freedom: 29012\nResidual degrees of freedom: 28737\nNull deviance: 113187.79466358577\nResidual deviance: 51878.129402496415\nAUC table was not computed: it is either disabled (model parameter 'auc_type' was set to AUTO or NONE) or the domain size exceeds the limit (maximum is 50 domains).\nAUCPR table was not computed: it is either disabled (model parameter 'auc_type' was set to AUTO or NONE) or the domain size exceeds the limit (maximum is 50 domains).\n\nConfusion Matrix: Row labels: Actual class; Column labels: Predicted class\nanger    contempt    disgust    fear    happy    neutral    sad    surprise    Error      Rate\n-------  ----------  ---------  ------  -------  ---------  -----  ----------  ---------  --------------\n1238     299         296        177     0        6          447    208         0.536503   1,433 / 2,671\n221      1512        106        46      22       59         273    198         0.379565   925 / 2,437\n519      245         587        157     19       22         270    255         0.716972   1,487 / 2,074\n296      145         148        922     7        6          332    825         0.656098   1,759 / 2,681\n2        13          15         4       8230     483        6      38          0.0638153  561 / 8,791\n22       21          10         6       281      3883       27     94          0.106123   461 / 4,344\n440      321         155        268     3        5          998    398         0.614374   1,590 / 2,588\n195      241         128        519     42       204        280    1818        0.469507   1,609 / 3,427\n2933     2797        1445       2099    8604     4668       2633   3834        0.338641   9,825 / 29,013\n\nTop-8 Hit Ratios: \nk    hit_ratio\n---  -----------\n1    0.661359\n2    0.816462\n3    0.895288\n4    0.944163\n5    0.976838\n6    0.99352\n7    0.999035\n8    1\n\nCross-Validation Metrics Summary: \n                         mean      sd          cv_1_valid    cv_2_valid    cv_3_valid    cv_4_valid    cv_5_valid\n-----------------------  --------  ----------  ------------  ------------  ------------  ------------  ------------\naccuracy                 0.661816  0.00519223  0.663718      0.658188      0.668875      0.662825      0.655475\nauc                      nan       0           nan           nan           nan           nan           nan\nerr                      0.338184  0.00519223  0.336282      0.341812      0.331125      0.337175      0.344525\nerr_count                1962.2    23.5733     1939          1962          1949          1960          2001\nlogloss                  0.893978  0.00587021  0.896445      0.902146      0.886222      0.891934      0.893144\nmax_per_class_error      0.714242  0.0278587   0.683241      0.7287        0.721154      0.749392      0.688725\nmean_per_class_accuracy  0.557832  0.00812495  0.560073      0.557409      0.57032       0.551214      0.550144\nmean_per_class_error     0.442168  0.00812495  0.439927      0.442591      0.42968       0.448786      0.449856\nmse                      0.310638  0.00306762  0.310613      0.315608      0.307265      0.30945       0.310256\nnull_deviance            22637.6   248.618     22527         22491.8       23079.7       22522.1       22567.2\npr_auc                   nan       0           nan           nan           nan           nan           nan\nr2                       0.925037  0.00167436  0.925102      0.924541      0.927784      0.923272      0.924487\nresidual_deviance        10374.3   35.5877     10337.8       10356.6       10432.6       10369.6       10374.8\nrmse                     0.557344  0.00274718  0.557327      0.56179       0.554315      0.556282      0.557006\n\n[tips]\nUse `model.explain()` to inspect the model.\n--\nUse `h2o.display.toggle_user_tips()` to switch on/off this section.",
      "text/html": "<pre style='margin: 1em 0 1em 0;'>Model Details\n=============\nH2OStackedEnsembleEstimator : Stacked Ensemble\nModel Key: StackedEnsemble_AllModels_1_AutoML_2_20231015_20939\n</pre>\n<div style='margin: 1em 0 1em 0;'>\n<style>\n\n#h2o-table-2.h2o-container {\n  overflow-x: auto;\n}\n#h2o-table-2 .h2o-table {\n  /* width: 100%; */\n  margin-top: 1em;\n  margin-bottom: 1em;\n}\n#h2o-table-2 .h2o-table caption {\n  white-space: nowrap;\n  caption-side: top;\n  text-align: left;\n  /* margin-left: 1em; */\n  margin: 0;\n  font-size: larger;\n}\n#h2o-table-2 .h2o-table thead {\n  white-space: nowrap; \n  position: sticky;\n  top: 0;\n  box-shadow: 0 -1px inset;\n}\n#h2o-table-2 .h2o-table tbody {\n  overflow: auto;\n}\n#h2o-table-2 .h2o-table th,\n#h2o-table-2 .h2o-table td {\n  text-align: right;\n  /* border: 1px solid; */\n}\n#h2o-table-2 .h2o-table tr:nth-child(even) {\n  /* background: #F5F5F5 */\n}\n\n</style>      \n<div id=\"h2o-table-2\" class=\"h2o-container\">\n  <table class=\"h2o-table\">\n    <caption>Model Summary for Stacked Ensemble: </caption>\n    <thead><tr><th>key</th>\n<th>value</th></tr></thead>\n    <tbody><tr><td>Stacking strategy</td>\n<td>cross_validation</td></tr>\n<tr><td>Number of base models (used / total)</td>\n<td>8/8</td></tr>\n<tr><td># GBM base models (used / total)</td>\n<td>4/4</td></tr>\n<tr><td># XGBoost base models (used / total)</td>\n<td>2/2</td></tr>\n<tr><td># DRF base models (used / total)</td>\n<td>1/1</td></tr>\n<tr><td># GLM base models (used / total)</td>\n<td>1/1</td></tr>\n<tr><td>Metalearner algorithm</td>\n<td>GLM</td></tr>\n<tr><td>Metalearner fold assignment scheme</td>\n<td>Random</td></tr>\n<tr><td>Metalearner nfolds</td>\n<td>5</td></tr>\n<tr><td>Metalearner fold_column</td>\n<td>None</td></tr>\n<tr><td>Custom metalearner hyperparameters</td>\n<td>None</td></tr></tbody>\n  </table>\n</div>\n</div>\n<div style='margin: 1em 0 1em 0;'><pre style='margin: 1em 0 1em 0;'>ModelMetricsMultinomialGLM: stackedensemble\n** Reported on train data. **\n\nMSE: 0.16643187998387093\nRMSE: 0.4079606353361448\nLogLoss: 0.47976881323732423\nNull degrees of freedom: 10050\nResidual degrees of freedom: 9758\nNull deviance: 39246.61963809449\nResidual deviance: 9644.312683696691\nAUC table was not computed: it is either disabled (model parameter 'auc_type' was set to AUTO or NONE) or the domain size exceeds the limit (maximum is 50 domains).\nAUCPR table was not computed: it is either disabled (model parameter 'auc_type' was set to AUTO or NONE) or the domain size exceeds the limit (maximum is 50 domains).</pre>\n<div style='margin: 1em 0 1em 0;'>\n<style>\n\n#h2o-table-3.h2o-container {\n  overflow-x: auto;\n}\n#h2o-table-3 .h2o-table {\n  /* width: 100%; */\n  margin-top: 1em;\n  margin-bottom: 1em;\n}\n#h2o-table-3 .h2o-table caption {\n  white-space: nowrap;\n  caption-side: top;\n  text-align: left;\n  /* margin-left: 1em; */\n  margin: 0;\n  font-size: larger;\n}\n#h2o-table-3 .h2o-table thead {\n  white-space: nowrap; \n  position: sticky;\n  top: 0;\n  box-shadow: 0 -1px inset;\n}\n#h2o-table-3 .h2o-table tbody {\n  overflow: auto;\n}\n#h2o-table-3 .h2o-table th,\n#h2o-table-3 .h2o-table td {\n  text-align: right;\n  /* border: 1px solid; */\n}\n#h2o-table-3 .h2o-table tr:nth-child(even) {\n  /* background: #F5F5F5 */\n}\n\n</style>      \n<div id=\"h2o-table-3\" class=\"h2o-container\">\n  <table class=\"h2o-table\">\n    <caption>Confusion Matrix: Row labels: Actual class; Column labels: Predicted class</caption>\n    <thead><tr><th>anger</th>\n<th>contempt</th>\n<th>disgust</th>\n<th>fear</th>\n<th>happy</th>\n<th>neutral</th>\n<th>sad</th>\n<th>surprise</th>\n<th>Error</th>\n<th>Rate</th></tr></thead>\n    <tbody><tr><td>815.0</td>\n<td>52.0</td>\n<td>11.0</td>\n<td>11.0</td>\n<td>0.0</td>\n<td>2.0</td>\n<td>57.0</td>\n<td>32.0</td>\n<td>0.1683673</td>\n<td>165 / 980</td></tr>\n<tr><td>35.0</td>\n<td>668.0</td>\n<td>26.0</td>\n<td>3.0</td>\n<td>6.0</td>\n<td>16.0</td>\n<td>36.0</td>\n<td>43.0</td>\n<td>0.1980792</td>\n<td>165 / 833</td></tr>\n<tr><td>17.0</td>\n<td>50.0</td>\n<td>574.0</td>\n<td>11.0</td>\n<td>3.0</td>\n<td>7.0</td>\n<td>14.0</td>\n<td>35.0</td>\n<td>0.1926864</td>\n<td>137 / 711</td></tr>\n<tr><td>19.0</td>\n<td>11.0</td>\n<td>24.0</td>\n<td>843.0</td>\n<td>0.0</td>\n<td>0.0</td>\n<td>23.0</td>\n<td>36.0</td>\n<td>0.1182008</td>\n<td>113 / 956</td></tr>\n<tr><td>1.0</td>\n<td>3.0</td>\n<td>4.0</td>\n<td>0.0</td>\n<td>2927.0</td>\n<td>80.0</td>\n<td>1.0</td>\n<td>8.0</td>\n<td>0.0320767</td>\n<td>97 / 3,024</td></tr>\n<tr><td>5.0</td>\n<td>7.0</td>\n<td>4.0</td>\n<td>0.0</td>\n<td>39.0</td>\n<td>1436.0</td>\n<td>10.0</td>\n<td>20.0</td>\n<td>0.0558843</td>\n<td>85 / 1,521</td></tr>\n<tr><td>30.0</td>\n<td>71.0</td>\n<td>12.0</td>\n<td>16.0</td>\n<td>2.0</td>\n<td>0.0</td>\n<td>696.0</td>\n<td>39.0</td>\n<td>0.1963048</td>\n<td>170 / 866</td></tr>\n<tr><td>29.0</td>\n<td>53.0</td>\n<td>26.0</td>\n<td>26.0</td>\n<td>4.0</td>\n<td>40.0</td>\n<td>42.0</td>\n<td>940.0</td>\n<td>0.1896552</td>\n<td>220 / 1,160</td></tr>\n<tr><td>951.0</td>\n<td>915.0</td>\n<td>681.0</td>\n<td>910.0</td>\n<td>2981.0</td>\n<td>1581.0</td>\n<td>879.0</td>\n<td>1153.0</td>\n<td>0.1146155</td>\n<td>1,152 / 10,051</td></tr></tbody>\n  </table>\n</div>\n</div>\n<div style='margin: 1em 0 1em 0;'>\n<style>\n\n#h2o-table-4.h2o-container {\n  overflow-x: auto;\n}\n#h2o-table-4 .h2o-table {\n  /* width: 100%; */\n  margin-top: 1em;\n  margin-bottom: 1em;\n}\n#h2o-table-4 .h2o-table caption {\n  white-space: nowrap;\n  caption-side: top;\n  text-align: left;\n  /* margin-left: 1em; */\n  margin: 0;\n  font-size: larger;\n}\n#h2o-table-4 .h2o-table thead {\n  white-space: nowrap; \n  position: sticky;\n  top: 0;\n  box-shadow: 0 -1px inset;\n}\n#h2o-table-4 .h2o-table tbody {\n  overflow: auto;\n}\n#h2o-table-4 .h2o-table th,\n#h2o-table-4 .h2o-table td {\n  text-align: right;\n  /* border: 1px solid; */\n}\n#h2o-table-4 .h2o-table tr:nth-child(even) {\n  /* background: #F5F5F5 */\n}\n\n</style>      \n<div id=\"h2o-table-4\" class=\"h2o-container\">\n  <table class=\"h2o-table\">\n    <caption>Top-8 Hit Ratios: </caption>\n    <thead><tr><th>k</th>\n<th>hit_ratio</th></tr></thead>\n    <tbody><tr><td>1</td>\n<td>0.8853846</td></tr>\n<tr><td>2</td>\n<td>0.9617948</td></tr>\n<tr><td>3</td>\n<td>0.9833847</td></tr>\n<tr><td>4</td>\n<td>0.9926375</td></tr>\n<tr><td>5</td>\n<td>0.9970152</td></tr>\n<tr><td>6</td>\n<td>0.9989055</td></tr>\n<tr><td>7</td>\n<td>0.9997015</td></tr>\n<tr><td>8</td>\n<td>1.0</td></tr></tbody>\n  </table>\n</div>\n</div></div>\n<div style='margin: 1em 0 1em 0;'><pre style='margin: 1em 0 1em 0;'>ModelMetricsMultinomialGLM: stackedensemble\n** Reported on cross-validation data. **\n\nMSE: 0.31081380825946403\nRMSE: 0.5575067786668284\nLogLoss: 0.8940497260279255\nNull degrees of freedom: 29012\nResidual degrees of freedom: 28737\nNull deviance: 113187.79466358577\nResidual deviance: 51878.129402496415\nAUC table was not computed: it is either disabled (model parameter 'auc_type' was set to AUTO or NONE) or the domain size exceeds the limit (maximum is 50 domains).\nAUCPR table was not computed: it is either disabled (model parameter 'auc_type' was set to AUTO or NONE) or the domain size exceeds the limit (maximum is 50 domains).</pre>\n<div style='margin: 1em 0 1em 0;'>\n<style>\n\n#h2o-table-5.h2o-container {\n  overflow-x: auto;\n}\n#h2o-table-5 .h2o-table {\n  /* width: 100%; */\n  margin-top: 1em;\n  margin-bottom: 1em;\n}\n#h2o-table-5 .h2o-table caption {\n  white-space: nowrap;\n  caption-side: top;\n  text-align: left;\n  /* margin-left: 1em; */\n  margin: 0;\n  font-size: larger;\n}\n#h2o-table-5 .h2o-table thead {\n  white-space: nowrap; \n  position: sticky;\n  top: 0;\n  box-shadow: 0 -1px inset;\n}\n#h2o-table-5 .h2o-table tbody {\n  overflow: auto;\n}\n#h2o-table-5 .h2o-table th,\n#h2o-table-5 .h2o-table td {\n  text-align: right;\n  /* border: 1px solid; */\n}\n#h2o-table-5 .h2o-table tr:nth-child(even) {\n  /* background: #F5F5F5 */\n}\n\n</style>      \n<div id=\"h2o-table-5\" class=\"h2o-container\">\n  <table class=\"h2o-table\">\n    <caption>Confusion Matrix: Row labels: Actual class; Column labels: Predicted class</caption>\n    <thead><tr><th>anger</th>\n<th>contempt</th>\n<th>disgust</th>\n<th>fear</th>\n<th>happy</th>\n<th>neutral</th>\n<th>sad</th>\n<th>surprise</th>\n<th>Error</th>\n<th>Rate</th></tr></thead>\n    <tbody><tr><td>1238.0</td>\n<td>299.0</td>\n<td>296.0</td>\n<td>177.0</td>\n<td>0.0</td>\n<td>6.0</td>\n<td>447.0</td>\n<td>208.0</td>\n<td>0.5365032</td>\n<td>1,433 / 2,671</td></tr>\n<tr><td>221.0</td>\n<td>1512.0</td>\n<td>106.0</td>\n<td>46.0</td>\n<td>22.0</td>\n<td>59.0</td>\n<td>273.0</td>\n<td>198.0</td>\n<td>0.3795650</td>\n<td>925 / 2,437</td></tr>\n<tr><td>519.0</td>\n<td>245.0</td>\n<td>587.0</td>\n<td>157.0</td>\n<td>19.0</td>\n<td>22.0</td>\n<td>270.0</td>\n<td>255.0</td>\n<td>0.7169720</td>\n<td>1,487 / 2,074</td></tr>\n<tr><td>296.0</td>\n<td>145.0</td>\n<td>148.0</td>\n<td>922.0</td>\n<td>7.0</td>\n<td>6.0</td>\n<td>332.0</td>\n<td>825.0</td>\n<td>0.6560985</td>\n<td>1,759 / 2,681</td></tr>\n<tr><td>2.0</td>\n<td>13.0</td>\n<td>15.0</td>\n<td>4.0</td>\n<td>8230.0</td>\n<td>483.0</td>\n<td>6.0</td>\n<td>38.0</td>\n<td>0.0638153</td>\n<td>561 / 8,791</td></tr>\n<tr><td>22.0</td>\n<td>21.0</td>\n<td>10.0</td>\n<td>6.0</td>\n<td>281.0</td>\n<td>3883.0</td>\n<td>27.0</td>\n<td>94.0</td>\n<td>0.1061234</td>\n<td>461 / 4,344</td></tr>\n<tr><td>440.0</td>\n<td>321.0</td>\n<td>155.0</td>\n<td>268.0</td>\n<td>3.0</td>\n<td>5.0</td>\n<td>998.0</td>\n<td>398.0</td>\n<td>0.6143740</td>\n<td>1,590 / 2,588</td></tr>\n<tr><td>195.0</td>\n<td>241.0</td>\n<td>128.0</td>\n<td>519.0</td>\n<td>42.0</td>\n<td>204.0</td>\n<td>280.0</td>\n<td>1818.0</td>\n<td>0.4695069</td>\n<td>1,609 / 3,427</td></tr>\n<tr><td>2933.0</td>\n<td>2797.0</td>\n<td>1445.0</td>\n<td>2099.0</td>\n<td>8604.0</td>\n<td>4668.0</td>\n<td>2633.0</td>\n<td>3834.0</td>\n<td>0.3386413</td>\n<td>9,825 / 29,013</td></tr></tbody>\n  </table>\n</div>\n</div>\n<div style='margin: 1em 0 1em 0;'>\n<style>\n\n#h2o-table-6.h2o-container {\n  overflow-x: auto;\n}\n#h2o-table-6 .h2o-table {\n  /* width: 100%; */\n  margin-top: 1em;\n  margin-bottom: 1em;\n}\n#h2o-table-6 .h2o-table caption {\n  white-space: nowrap;\n  caption-side: top;\n  text-align: left;\n  /* margin-left: 1em; */\n  margin: 0;\n  font-size: larger;\n}\n#h2o-table-6 .h2o-table thead {\n  white-space: nowrap; \n  position: sticky;\n  top: 0;\n  box-shadow: 0 -1px inset;\n}\n#h2o-table-6 .h2o-table tbody {\n  overflow: auto;\n}\n#h2o-table-6 .h2o-table th,\n#h2o-table-6 .h2o-table td {\n  text-align: right;\n  /* border: 1px solid; */\n}\n#h2o-table-6 .h2o-table tr:nth-child(even) {\n  /* background: #F5F5F5 */\n}\n\n</style>      \n<div id=\"h2o-table-6\" class=\"h2o-container\">\n  <table class=\"h2o-table\">\n    <caption>Top-8 Hit Ratios: </caption>\n    <thead><tr><th>k</th>\n<th>hit_ratio</th></tr></thead>\n    <tbody><tr><td>1</td>\n<td>0.6613587</td></tr>\n<tr><td>2</td>\n<td>0.8164616</td></tr>\n<tr><td>3</td>\n<td>0.8952883</td></tr>\n<tr><td>4</td>\n<td>0.9441629</td></tr>\n<tr><td>5</td>\n<td>0.9768379</td></tr>\n<tr><td>6</td>\n<td>0.9935201</td></tr>\n<tr><td>7</td>\n<td>0.9990349</td></tr>\n<tr><td>8</td>\n<td>0.9999999</td></tr></tbody>\n  </table>\n</div>\n</div></div>\n<div style='margin: 1em 0 1em 0;'>\n<style>\n\n#h2o-table-7.h2o-container {\n  overflow-x: auto;\n}\n#h2o-table-7 .h2o-table {\n  /* width: 100%; */\n  margin-top: 1em;\n  margin-bottom: 1em;\n}\n#h2o-table-7 .h2o-table caption {\n  white-space: nowrap;\n  caption-side: top;\n  text-align: left;\n  /* margin-left: 1em; */\n  margin: 0;\n  font-size: larger;\n}\n#h2o-table-7 .h2o-table thead {\n  white-space: nowrap; \n  position: sticky;\n  top: 0;\n  box-shadow: 0 -1px inset;\n}\n#h2o-table-7 .h2o-table tbody {\n  overflow: auto;\n}\n#h2o-table-7 .h2o-table th,\n#h2o-table-7 .h2o-table td {\n  text-align: right;\n  /* border: 1px solid; */\n}\n#h2o-table-7 .h2o-table tr:nth-child(even) {\n  /* background: #F5F5F5 */\n}\n\n</style>      \n<div id=\"h2o-table-7\" class=\"h2o-container\">\n  <table class=\"h2o-table\">\n    <caption>Cross-Validation Metrics Summary: </caption>\n    <thead><tr><th></th>\n<th>mean</th>\n<th>sd</th>\n<th>cv_1_valid</th>\n<th>cv_2_valid</th>\n<th>cv_3_valid</th>\n<th>cv_4_valid</th>\n<th>cv_5_valid</th></tr></thead>\n    <tbody><tr><td>accuracy</td>\n<td>0.6618164</td>\n<td>0.0051922</td>\n<td>0.6637183</td>\n<td>0.6581882</td>\n<td>0.6688753</td>\n<td>0.6628247</td>\n<td>0.6554752</td></tr>\n<tr><td>auc</td>\n<td>nan</td>\n<td>0.0</td>\n<td>nan</td>\n<td>nan</td>\n<td>nan</td>\n<td>nan</td>\n<td>nan</td></tr>\n<tr><td>err</td>\n<td>0.3381837</td>\n<td>0.0051922</td>\n<td>0.3362817</td>\n<td>0.3418118</td>\n<td>0.3311247</td>\n<td>0.3371753</td>\n<td>0.3445248</td></tr>\n<tr><td>err_count</td>\n<td>1962.2</td>\n<td>23.57329</td>\n<td>1939.0</td>\n<td>1962.0</td>\n<td>1949.0</td>\n<td>1960.0</td>\n<td>2001.0</td></tr>\n<tr><td>logloss</td>\n<td>0.8939782</td>\n<td>0.0058702</td>\n<td>0.8964446</td>\n<td>0.9021465</td>\n<td>0.8862221</td>\n<td>0.8919336</td>\n<td>0.8931443</td></tr>\n<tr><td>max_per_class_error</td>\n<td>0.7142424</td>\n<td>0.0278587</td>\n<td>0.6832413</td>\n<td>0.7286996</td>\n<td>0.7211539</td>\n<td>0.7493917</td>\n<td>0.6887255</td></tr>\n<tr><td>mean_per_class_accuracy</td>\n<td>0.5578321</td>\n<td>0.0081250</td>\n<td>0.5600730</td>\n<td>0.5574092</td>\n<td>0.5703201</td>\n<td>0.5512144</td>\n<td>0.5501435</td></tr>\n<tr><td>mean_per_class_error</td>\n<td>0.4421679</td>\n<td>0.0081250</td>\n<td>0.4399270</td>\n<td>0.4425908</td>\n<td>0.4296798</td>\n<td>0.4487856</td>\n<td>0.4498565</td></tr>\n<tr><td>mse</td>\n<td>0.3106384</td>\n<td>0.0030676</td>\n<td>0.3106132</td>\n<td>0.3156084</td>\n<td>0.3072650</td>\n<td>0.3094496</td>\n<td>0.3102559</td></tr>\n<tr><td>null_deviance</td>\n<td>22637.559</td>\n<td>248.61783</td>\n<td>22527.049</td>\n<td>22491.75</td>\n<td>23079.703</td>\n<td>22522.135</td>\n<td>22567.156</td></tr>\n<tr><td>pr_auc</td>\n<td>nan</td>\n<td>0.0</td>\n<td>nan</td>\n<td>nan</td>\n<td>nan</td>\n<td>nan</td>\n<td>nan</td></tr>\n<tr><td>r2</td>\n<td>0.9250372</td>\n<td>0.0016744</td>\n<td>0.9251017</td>\n<td>0.9245413</td>\n<td>0.9277841</td>\n<td>0.9232722</td>\n<td>0.9244866</td></tr>\n<tr><td>residual_deviance</td>\n<td>10374.286</td>\n<td>35.587658</td>\n<td>10337.799</td>\n<td>10356.643</td>\n<td>10432.606</td>\n<td>10369.619</td>\n<td>10374.765</td></tr>\n<tr><td>rmse</td>\n<td>0.557344</td>\n<td>0.0027472</td>\n<td>0.5573269</td>\n<td>0.5617904</td>\n<td>0.5543149</td>\n<td>0.5562819</td>\n<td>0.5570062</td></tr></tbody>\n  </table>\n</div>\n</div><pre style=\"font-size: smaller; margin: 1em 0 0 0;\">\n\n[tips]\nUse `model.explain()` to inspect the model.\n--\nUse `h2o.display.toggle_user_tips()` to switch on/off this section.</pre>"
     },
     "execution_count": 10,
     "metadata": {},
     "output_type": "execute_result"
    }
   ],
   "source": [
    "train = xtrain\n",
    "train[\"col1404\"] = ytrain\n",
    "\n",
    "test = xtest\n",
    "test[\"col1404\"] = ytest\n",
    "\n",
    "train_h2o_frame = h2o.H2OFrame(train)\n",
    "test_h2o_frame = h2o.H2OFrame(test)\n",
    "\n",
    "x = train_h2o_frame.columns\n",
    "y = \"col1404\"\n",
    "x.remove(y)\n",
    "\n",
    "aml = H2OAutoML(max_models=8, seed=1, max_runtime_secs=60*60*6, verbosity='info')\n",
    "aml.train(x=x, y=y, training_frame=train_h2o_frame)"
   ],
   "metadata": {
    "collapsed": false,
    "ExecuteTime": {
     "end_time": "2023-10-15T02:30:35.616551355Z",
     "start_time": "2023-10-14T23:09:10.158101024Z"
    }
   }
  },
  {
   "cell_type": "code",
   "execution_count": 11,
   "outputs": [
    {
     "data": {
      "text/plain": "'AUTO'"
     },
     "execution_count": 11,
     "metadata": {},
     "output_type": "execute_result"
    }
   ],
   "source": [
    "aml.distribution"
   ],
   "metadata": {
    "collapsed": false,
    "ExecuteTime": {
     "end_time": "2023-10-15T07:30:01.593963192Z",
     "start_time": "2023-10-15T07:30:01.551035308Z"
    }
   }
  },
  {
   "cell_type": "code",
   "execution_count": 12,
   "outputs": [
    {
     "data": {
      "text/plain": "model_id                                                  mean_per_class_error    logloss      rmse       mse\n------------------------------------------------------  ----------------------  ---------  --------  --------\nStackedEnsemble_AllModels_1_AutoML_2_20231015_20939                   0.44287    0.89405   0.557507  0.310814\nStackedEnsemble_BestOfFamily_1_AutoML_2_20231015_20939                0.445139   0.895831  0.557976  0.311337\nGBM_1_AutoML_2_20231015_20939                                         0.480373   0.955216  0.574188  0.329691\nGBM_2_AutoML_2_20231015_20939                                         0.484976   0.966591  0.57722   0.333183\nGBM_3_AutoML_2_20231015_20939                                         0.48541    0.973295  0.577678  0.333711\nXGBoost_1_AutoML_2_20231015_20939                                     0.488782   1.01193   0.572551  0.327815\nGBM_4_AutoML_2_20231015_20939                                         0.490534   0.991836  0.579007  0.335249\nXGBoost_2_AutoML_2_20231015_20939                                     0.499245   1.02122   0.575854  0.331608\nDRF_1_AutoML_2_20231015_20939                                         0.506707   1.1209    0.59835   0.358022\nGLM_1_AutoML_2_20231015_20939                                         0.509196   1.15889   0.623979  0.38935\n[10 rows x 5 columns]\n",
      "text/html": "<table class='dataframe'>\n<thead>\n<tr><th>model_id                                              </th><th style=\"text-align: right;\">  mean_per_class_error</th><th style=\"text-align: right;\">  logloss</th><th style=\"text-align: right;\">    rmse</th><th style=\"text-align: right;\">     mse</th></tr>\n</thead>\n<tbody>\n<tr><td>StackedEnsemble_AllModels_1_AutoML_2_20231015_20939   </td><td style=\"text-align: right;\">              0.44287 </td><td style=\"text-align: right;\"> 0.89405 </td><td style=\"text-align: right;\">0.557507</td><td style=\"text-align: right;\">0.310814</td></tr>\n<tr><td>StackedEnsemble_BestOfFamily_1_AutoML_2_20231015_20939</td><td style=\"text-align: right;\">              0.445139</td><td style=\"text-align: right;\"> 0.895831</td><td style=\"text-align: right;\">0.557976</td><td style=\"text-align: right;\">0.311337</td></tr>\n<tr><td>GBM_1_AutoML_2_20231015_20939                         </td><td style=\"text-align: right;\">              0.480373</td><td style=\"text-align: right;\"> 0.955216</td><td style=\"text-align: right;\">0.574188</td><td style=\"text-align: right;\">0.329691</td></tr>\n<tr><td>GBM_2_AutoML_2_20231015_20939                         </td><td style=\"text-align: right;\">              0.484976</td><td style=\"text-align: right;\"> 0.966591</td><td style=\"text-align: right;\">0.57722 </td><td style=\"text-align: right;\">0.333183</td></tr>\n<tr><td>GBM_3_AutoML_2_20231015_20939                         </td><td style=\"text-align: right;\">              0.48541 </td><td style=\"text-align: right;\"> 0.973295</td><td style=\"text-align: right;\">0.577678</td><td style=\"text-align: right;\">0.333711</td></tr>\n<tr><td>XGBoost_1_AutoML_2_20231015_20939                     </td><td style=\"text-align: right;\">              0.488782</td><td style=\"text-align: right;\"> 1.01193 </td><td style=\"text-align: right;\">0.572551</td><td style=\"text-align: right;\">0.327815</td></tr>\n<tr><td>GBM_4_AutoML_2_20231015_20939                         </td><td style=\"text-align: right;\">              0.490534</td><td style=\"text-align: right;\"> 0.991836</td><td style=\"text-align: right;\">0.579007</td><td style=\"text-align: right;\">0.335249</td></tr>\n<tr><td>XGBoost_2_AutoML_2_20231015_20939                     </td><td style=\"text-align: right;\">              0.499245</td><td style=\"text-align: right;\"> 1.02122 </td><td style=\"text-align: right;\">0.575854</td><td style=\"text-align: right;\">0.331608</td></tr>\n<tr><td>DRF_1_AutoML_2_20231015_20939                         </td><td style=\"text-align: right;\">              0.506707</td><td style=\"text-align: right;\"> 1.1209  </td><td style=\"text-align: right;\">0.59835 </td><td style=\"text-align: right;\">0.358022</td></tr>\n<tr><td>GLM_1_AutoML_2_20231015_20939                         </td><td style=\"text-align: right;\">              0.509196</td><td style=\"text-align: right;\"> 1.15889 </td><td style=\"text-align: right;\">0.623979</td><td style=\"text-align: right;\">0.38935 </td></tr>\n</tbody>\n</table><pre style='font-size: smaller; margin-bottom: 1em;'>[10 rows x 5 columns]</pre>"
     },
     "execution_count": 12,
     "metadata": {},
     "output_type": "execute_result"
    }
   ],
   "source": [
    "lb = aml.leaderboard\n",
    "lb.head(rows=15)"
   ],
   "metadata": {
    "collapsed": false,
    "ExecuteTime": {
     "end_time": "2023-10-15T07:30:03.074414503Z",
     "start_time": "2023-10-15T07:30:03.021851670Z"
    }
   }
  },
  {
   "cell_type": "code",
   "execution_count": 13,
   "outputs": [
    {
     "name": "stdout",
     "output_type": "stream",
     "text": [
      "stackedensemble prediction progress: |███████████████████████████████████████████| (done) 100%\n"
     ]
    }
   ],
   "source": [
    "test_h2o_frame = test_h2o_frame.drop('col1404')\n",
    "pred = aml.predict(test_h2o_frame)"
   ],
   "metadata": {
    "collapsed": false,
    "ExecuteTime": {
     "end_time": "2023-10-15T07:30:05.018834017Z",
     "start_time": "2023-10-15T07:30:04.298156047Z"
    }
   }
  },
  {
   "cell_type": "code",
   "execution_count": 14,
   "outputs": [
    {
     "data": {
      "text/plain": "predict          anger     contempt      disgust         fear        happy     neutral          sad     surprise\n---------  -----------  -----------  -----------  -----------  -----------  ----------  -----------  -----------\nneutral    0.000216962  0.0102829    0.00182967   0.000470446  0.0185155    0.93849     0.000275527  0.0299193\ndisgust    0.204454     0.255072     0.32774      0.053731     0.00168815   0.00653065  0.0818238    0.0689604\nneutral    0.000152214  0.0238451    0.00262281   0.000341004  0.425899     0.537482    0.000191289  0.00946637\nsurprise   0.0992753    0.036846     0.220778     0.182208     0.00278967   0.0243212   0.159305     0.274477\nanger      0.825588     0.0400935    0.0551992    0.0270812    0.000170985  0.00159558  0.0447421    0.00552954\ndisgust    0.317212     0.0781606    0.397671     0.0307651    0.000777959  0.0102348   0.151681     0.0134977\nhappy      0.00018197   0.00691034   0.0110082    0.00021045   0.866103     0.113448    0.000142809  0.00199499\nsad        0.278088     0.0815212    0.0798427    0.165915     0.000506742  0.0058628   0.353705     0.0345585\nhappy      5.64487e-06  0.000872714  0.000343684  3.3093e-05   0.99712      0.00150537  1.30378e-05  0.000106238\nsurprise   0.0252043    0.00328589   0.022719     0.318844     0.000232485  0.00185395  0.0326722    0.595188\n[5120 rows x 9 columns]\n",
      "text/html": "<table class='dataframe'>\n<thead>\n<tr><th>predict  </th><th style=\"text-align: right;\">      anger</th><th style=\"text-align: right;\">   contempt</th><th style=\"text-align: right;\">    disgust</th><th style=\"text-align: right;\">       fear</th><th style=\"text-align: right;\">      happy</th><th style=\"text-align: right;\">   neutral</th><th style=\"text-align: right;\">        sad</th><th style=\"text-align: right;\">   surprise</th></tr>\n</thead>\n<tbody>\n<tr><td>neutral  </td><td style=\"text-align: right;\">0.000216962</td><td style=\"text-align: right;\">0.0102829  </td><td style=\"text-align: right;\">0.00182967 </td><td style=\"text-align: right;\">0.000470446</td><td style=\"text-align: right;\">0.0185155  </td><td style=\"text-align: right;\">0.93849   </td><td style=\"text-align: right;\">0.000275527</td><td style=\"text-align: right;\">0.0299193  </td></tr>\n<tr><td>disgust  </td><td style=\"text-align: right;\">0.204454   </td><td style=\"text-align: right;\">0.255072   </td><td style=\"text-align: right;\">0.32774    </td><td style=\"text-align: right;\">0.053731   </td><td style=\"text-align: right;\">0.00168815 </td><td style=\"text-align: right;\">0.00653065</td><td style=\"text-align: right;\">0.0818238  </td><td style=\"text-align: right;\">0.0689604  </td></tr>\n<tr><td>neutral  </td><td style=\"text-align: right;\">0.000152214</td><td style=\"text-align: right;\">0.0238451  </td><td style=\"text-align: right;\">0.00262281 </td><td style=\"text-align: right;\">0.000341004</td><td style=\"text-align: right;\">0.425899   </td><td style=\"text-align: right;\">0.537482  </td><td style=\"text-align: right;\">0.000191289</td><td style=\"text-align: right;\">0.00946637 </td></tr>\n<tr><td>surprise </td><td style=\"text-align: right;\">0.0992753  </td><td style=\"text-align: right;\">0.036846   </td><td style=\"text-align: right;\">0.220778   </td><td style=\"text-align: right;\">0.182208   </td><td style=\"text-align: right;\">0.00278967 </td><td style=\"text-align: right;\">0.0243212 </td><td style=\"text-align: right;\">0.159305   </td><td style=\"text-align: right;\">0.274477   </td></tr>\n<tr><td>anger    </td><td style=\"text-align: right;\">0.825588   </td><td style=\"text-align: right;\">0.0400935  </td><td style=\"text-align: right;\">0.0551992  </td><td style=\"text-align: right;\">0.0270812  </td><td style=\"text-align: right;\">0.000170985</td><td style=\"text-align: right;\">0.00159558</td><td style=\"text-align: right;\">0.0447421  </td><td style=\"text-align: right;\">0.00552954 </td></tr>\n<tr><td>disgust  </td><td style=\"text-align: right;\">0.317212   </td><td style=\"text-align: right;\">0.0781606  </td><td style=\"text-align: right;\">0.397671   </td><td style=\"text-align: right;\">0.0307651  </td><td style=\"text-align: right;\">0.000777959</td><td style=\"text-align: right;\">0.0102348 </td><td style=\"text-align: right;\">0.151681   </td><td style=\"text-align: right;\">0.0134977  </td></tr>\n<tr><td>happy    </td><td style=\"text-align: right;\">0.00018197 </td><td style=\"text-align: right;\">0.00691034 </td><td style=\"text-align: right;\">0.0110082  </td><td style=\"text-align: right;\">0.00021045 </td><td style=\"text-align: right;\">0.866103   </td><td style=\"text-align: right;\">0.113448  </td><td style=\"text-align: right;\">0.000142809</td><td style=\"text-align: right;\">0.00199499 </td></tr>\n<tr><td>sad      </td><td style=\"text-align: right;\">0.278088   </td><td style=\"text-align: right;\">0.0815212  </td><td style=\"text-align: right;\">0.0798427  </td><td style=\"text-align: right;\">0.165915   </td><td style=\"text-align: right;\">0.000506742</td><td style=\"text-align: right;\">0.0058628 </td><td style=\"text-align: right;\">0.353705   </td><td style=\"text-align: right;\">0.0345585  </td></tr>\n<tr><td>happy    </td><td style=\"text-align: right;\">5.64487e-06</td><td style=\"text-align: right;\">0.000872714</td><td style=\"text-align: right;\">0.000343684</td><td style=\"text-align: right;\">3.3093e-05 </td><td style=\"text-align: right;\">0.99712    </td><td style=\"text-align: right;\">0.00150537</td><td style=\"text-align: right;\">1.30378e-05</td><td style=\"text-align: right;\">0.000106238</td></tr>\n<tr><td>surprise </td><td style=\"text-align: right;\">0.0252043  </td><td style=\"text-align: right;\">0.00328589 </td><td style=\"text-align: right;\">0.022719   </td><td style=\"text-align: right;\">0.318844   </td><td style=\"text-align: right;\">0.000232485</td><td style=\"text-align: right;\">0.00185395</td><td style=\"text-align: right;\">0.0326722  </td><td style=\"text-align: right;\">0.595188   </td></tr>\n</tbody>\n</table><pre style='font-size: smaller; margin-bottom: 1em;'>[5120 rows x 9 columns]</pre>"
     },
     "execution_count": 14,
     "metadata": {},
     "output_type": "execute_result"
    }
   ],
   "source": [
    "pred\n"
   ],
   "metadata": {
    "collapsed": false,
    "ExecuteTime": {
     "end_time": "2023-10-15T07:30:05.577128026Z",
     "start_time": "2023-10-15T07:30:05.565620840Z"
    }
   }
  },
  {
   "cell_type": "code",
   "execution_count": 15,
   "outputs": [],
   "source": [
    "best_model = aml.leader\n",
    "# aml.score(test_h2o_frame, test_h2o_frame.MEDV)\n"
   ],
   "metadata": {
    "collapsed": false,
    "ExecuteTime": {
     "end_time": "2023-10-15T07:30:06.946361178Z",
     "start_time": "2023-10-15T07:30:06.932362508Z"
    }
   }
  },
  {
   "cell_type": "code",
   "execution_count": 16,
   "outputs": [
    {
     "data": {
      "text/plain": "'/home/vorkov/Workspace/EDA/learning/StackedEnsemble_AllModels_1_AutoML_2_20231015_20939'"
     },
     "execution_count": 16,
     "metadata": {},
     "output_type": "execute_result"
    }
   ],
   "source": [
    "h2o.save_model(model=best_model, path=\"./\")"
   ],
   "metadata": {
    "collapsed": false,
    "ExecuteTime": {
     "end_time": "2023-10-15T07:30:09.012119191Z",
     "start_time": "2023-10-15T07:30:08.838916736Z"
    }
   }
  },
  {
   "cell_type": "code",
   "execution_count": 17,
   "outputs": [
    {
     "ename": "H2OResponseError",
     "evalue": "Server error water.exceptions.H2OIllegalArgumentException:\n  Error: Illegal argument: dir of function: importModel: water.api.FSIOException: FS IO Failure: \n accessed path : file:/home/vorkov/Workspace/Emotion-Decetion-Service/learning/GLM_1_AutoML_1_20230909_00442 msg: File not found\n  Request: POST /99/Models.bin/\n    data: {'dir': '/home/vorkov/Workspace/Emotion-Decetion-Service/learning/GLM_1_AutoML_1_20230909_00442'}\n",
     "output_type": "error",
     "traceback": [
      "\u001B[0;31m---------------------------------------------------------------------------\u001B[0m",
      "\u001B[0;31mH2OResponseError\u001B[0m                          Traceback (most recent call last)",
      "Cell \u001B[0;32mIn[17], line 1\u001B[0m\n\u001B[0;32m----> 1\u001B[0m \u001B[43mh2o\u001B[49m\u001B[38;5;241;43m.\u001B[39;49m\u001B[43mload_model\u001B[49m\u001B[43m(\u001B[49m\u001B[38;5;124;43m'\u001B[39;49m\u001B[38;5;124;43m/home/vorkov/Workspace/Emotion-Decetion-Service/learning/GLM_1_AutoML_1_20230909_00442\u001B[39;49m\u001B[38;5;124;43m'\u001B[39;49m\u001B[43m)\u001B[49m\n",
      "File \u001B[0;32m~/Workspace/EDA/venv/lib/python3.10/site-packages/h2o/h2o.py:1579\u001B[0m, in \u001B[0;36mload_model\u001B[0;34m(path)\u001B[0m\n\u001B[1;32m   1556\u001B[0m \u001B[38;5;250m\u001B[39m\u001B[38;5;124;03m\"\"\"\u001B[39;00m\n\u001B[1;32m   1557\u001B[0m \u001B[38;5;124;03mLoad a saved H2O model from disk. (Note that ensemble binary models can now be loaded using this method.)\u001B[39;00m\n\u001B[1;32m   1558\u001B[0m \n\u001B[0;32m   (...)\u001B[0m\n\u001B[1;32m   1576\u001B[0m \u001B[38;5;124;03m>>> h2o.load_model(model)\u001B[39;00m\n\u001B[1;32m   1577\u001B[0m \u001B[38;5;124;03m\"\"\"\u001B[39;00m\n\u001B[1;32m   1578\u001B[0m assert_is_type(path, \u001B[38;5;28mstr\u001B[39m)\n\u001B[0;32m-> 1579\u001B[0m res \u001B[38;5;241m=\u001B[39m \u001B[43mapi\u001B[49m\u001B[43m(\u001B[49m\u001B[38;5;124;43m\"\u001B[39;49m\u001B[38;5;124;43mPOST /99/Models.bin/\u001B[39;49m\u001B[38;5;132;43;01m%s\u001B[39;49;00m\u001B[38;5;124;43m\"\u001B[39;49m\u001B[43m \u001B[49m\u001B[38;5;241;43m%\u001B[39;49m\u001B[43m \u001B[49m\u001B[38;5;124;43m\"\u001B[39;49m\u001B[38;5;124;43m\"\u001B[39;49m\u001B[43m,\u001B[49m\u001B[43m \u001B[49m\u001B[43mdata\u001B[49m\u001B[38;5;241;43m=\u001B[39;49m\u001B[43m{\u001B[49m\u001B[38;5;124;43m\"\u001B[39;49m\u001B[38;5;124;43mdir\u001B[39;49m\u001B[38;5;124;43m\"\u001B[39;49m\u001B[43m:\u001B[49m\u001B[43m \u001B[49m\u001B[43mpath\u001B[49m\u001B[43m}\u001B[49m\u001B[43m)\u001B[49m\n\u001B[1;32m   1580\u001B[0m \u001B[38;5;28;01mreturn\u001B[39;00m get_model(res[\u001B[38;5;124m\"\u001B[39m\u001B[38;5;124mmodels\u001B[39m\u001B[38;5;124m\"\u001B[39m][\u001B[38;5;241m0\u001B[39m][\u001B[38;5;124m\"\u001B[39m\u001B[38;5;124mmodel_id\u001B[39m\u001B[38;5;124m\"\u001B[39m][\u001B[38;5;124m\"\u001B[39m\u001B[38;5;124mname\u001B[39m\u001B[38;5;124m\"\u001B[39m])\n",
      "File \u001B[0;32m~/Workspace/EDA/venv/lib/python3.10/site-packages/h2o/h2o.py:122\u001B[0m, in \u001B[0;36mapi\u001B[0;34m(endpoint, data, json, filename, save_to)\u001B[0m\n\u001B[1;32m    120\u001B[0m \u001B[38;5;66;03m# type checks are performed in H2OConnection class\u001B[39;00m\n\u001B[1;32m    121\u001B[0m _check_connection()\n\u001B[0;32m--> 122\u001B[0m \u001B[38;5;28;01mreturn\u001B[39;00m \u001B[43mh2oconn\u001B[49m\u001B[38;5;241;43m.\u001B[39;49m\u001B[43mrequest\u001B[49m\u001B[43m(\u001B[49m\u001B[43mendpoint\u001B[49m\u001B[43m,\u001B[49m\u001B[43m \u001B[49m\u001B[43mdata\u001B[49m\u001B[38;5;241;43m=\u001B[39;49m\u001B[43mdata\u001B[49m\u001B[43m,\u001B[49m\u001B[43m \u001B[49m\u001B[43mjson\u001B[49m\u001B[38;5;241;43m=\u001B[39;49m\u001B[43mjson\u001B[49m\u001B[43m,\u001B[49m\u001B[43m \u001B[49m\u001B[43mfilename\u001B[49m\u001B[38;5;241;43m=\u001B[39;49m\u001B[43mfilename\u001B[49m\u001B[43m,\u001B[49m\u001B[43m \u001B[49m\u001B[43msave_to\u001B[49m\u001B[38;5;241;43m=\u001B[39;49m\u001B[43msave_to\u001B[49m\u001B[43m)\u001B[49m\n",
      "File \u001B[0;32m~/Workspace/EDA/venv/lib/python3.10/site-packages/h2o/backend/connection.py:499\u001B[0m, in \u001B[0;36mH2OConnection.request\u001B[0;34m(self, endpoint, data, json, filename, save_to)\u001B[0m\n\u001B[1;32m    497\u001B[0m         save_to \u001B[38;5;241m=\u001B[39m save_to(resp)\n\u001B[1;32m    498\u001B[0m     \u001B[38;5;28mself\u001B[39m\u001B[38;5;241m.\u001B[39m_log_end_transaction(start_time, resp)\n\u001B[0;32m--> 499\u001B[0m     \u001B[38;5;28;01mreturn\u001B[39;00m \u001B[38;5;28;43mself\u001B[39;49m\u001B[38;5;241;43m.\u001B[39;49m\u001B[43m_process_response\u001B[49m\u001B[43m(\u001B[49m\u001B[43mresp\u001B[49m\u001B[43m,\u001B[49m\u001B[43m \u001B[49m\u001B[43msave_to\u001B[49m\u001B[43m)\u001B[49m\n\u001B[1;32m    501\u001B[0m \u001B[38;5;28;01mexcept\u001B[39;00m (requests\u001B[38;5;241m.\u001B[39mexceptions\u001B[38;5;241m.\u001B[39mConnectionError, requests\u001B[38;5;241m.\u001B[39mexceptions\u001B[38;5;241m.\u001B[39mHTTPError) \u001B[38;5;28;01mas\u001B[39;00m e:\n\u001B[1;32m    502\u001B[0m     \u001B[38;5;28;01mif\u001B[39;00m \u001B[38;5;28mself\u001B[39m\u001B[38;5;241m.\u001B[39m_local_server \u001B[38;5;129;01mand\u001B[39;00m \u001B[38;5;129;01mnot\u001B[39;00m \u001B[38;5;28mself\u001B[39m\u001B[38;5;241m.\u001B[39m_local_server\u001B[38;5;241m.\u001B[39mis_running():\n",
      "File \u001B[0;32m~/Workspace/EDA/venv/lib/python3.10/site-packages/h2o/backend/connection.py:853\u001B[0m, in \u001B[0;36mH2OConnection._process_response\u001B[0;34m(response, save_to)\u001B[0m\n\u001B[1;32m    851\u001B[0m \u001B[38;5;28;01mif\u001B[39;00m status_code \u001B[38;5;129;01min\u001B[39;00m {\u001B[38;5;241m400\u001B[39m, \u001B[38;5;241m404\u001B[39m, \u001B[38;5;241m412\u001B[39m} \u001B[38;5;129;01mand\u001B[39;00m \u001B[38;5;28misinstance\u001B[39m(data, H2OErrorV3):\n\u001B[1;32m    852\u001B[0m     data\u001B[38;5;241m.\u001B[39mshow_stacktrace \u001B[38;5;241m=\u001B[39m \u001B[38;5;28;01mFalse\u001B[39;00m\n\u001B[0;32m--> 853\u001B[0m     \u001B[38;5;28;01mraise\u001B[39;00m H2OResponseError(data)\n\u001B[1;32m    855\u001B[0m \u001B[38;5;66;03m# Server errors (notably 500 = \"Server Error\")\u001B[39;00m\n\u001B[1;32m    856\u001B[0m \u001B[38;5;66;03m# Note that it is possible to receive valid H2OErrorV3 object in this case, however it merely means the server\u001B[39;00m\n\u001B[1;32m    857\u001B[0m \u001B[38;5;66;03m# did not provide the correct status code.\u001B[39;00m\n\u001B[1;32m    858\u001B[0m \u001B[38;5;28;01mraise\u001B[39;00m H2OServerError(\u001B[38;5;124m\"\u001B[39m\u001B[38;5;124mHTTP \u001B[39m\u001B[38;5;132;01m%d\u001B[39;00m\u001B[38;5;124m \u001B[39m\u001B[38;5;132;01m%s\u001B[39;00m\u001B[38;5;124m:\u001B[39m\u001B[38;5;130;01m\\n\u001B[39;00m\u001B[38;5;132;01m%s\u001B[39;00m\u001B[38;5;124m\"\u001B[39m \u001B[38;5;241m%\u001B[39m (status_code, response\u001B[38;5;241m.\u001B[39mreason, data))\n",
      "\u001B[0;31mH2OResponseError\u001B[0m: Server error water.exceptions.H2OIllegalArgumentException:\n  Error: Illegal argument: dir of function: importModel: water.api.FSIOException: FS IO Failure: \n accessed path : file:/home/vorkov/Workspace/Emotion-Decetion-Service/learning/GLM_1_AutoML_1_20230909_00442 msg: File not found\n  Request: POST /99/Models.bin/\n    data: {'dir': '/home/vorkov/Workspace/Emotion-Decetion-Service/learning/GLM_1_AutoML_1_20230909_00442'}\n"
     ]
    }
   ],
   "source": [
    "h2o.load_model('/home/vorkov/Workspace/Emotion-Decetion-Service/learning/GLM_1_AutoML_1_20230909_00442')"
   ],
   "metadata": {
    "collapsed": false,
    "ExecuteTime": {
     "end_time": "2023-10-15T07:30:10.038826384Z",
     "start_time": "2023-10-15T07:30:09.875566223Z"
    }
   }
  },
  {
   "cell_type": "code",
   "execution_count": 18,
   "outputs": [
    {
     "name": "stdout",
     "output_type": "stream",
     "text": [
      "stackedensemble prediction progress: |███████████████████████████████████████████| (done) 100%\n"
     ]
    },
    {
     "data": {
      "text/plain": "0.6621331358509505"
     },
     "execution_count": 18,
     "metadata": {},
     "output_type": "execute_result"
    }
   ],
   "source": [
    "import numpy as np\n",
    "from sklearn. metrics import f1_score\n",
    "\n",
    "pred = aml.predict(test_h2o_frame)\n",
    "pd=h2o.as_list(pred) \n",
    "f1_score(test['col1404'], pd[\"predict\"].tolist(), average=\"weighted\")"
   ],
   "metadata": {
    "collapsed": false,
    "ExecuteTime": {
     "end_time": "2023-10-15T07:30:21.811821892Z",
     "start_time": "2023-10-15T07:30:21.098246631Z"
    }
   }
  },
  {
   "cell_type": "code",
   "execution_count": 19,
   "outputs": [
    {
     "data": {
      "text/plain": "15585     neutral\n27869        fear\n13648     neutral\n1832     contempt\n17781       anger\n           ...   \n6522        happy\n2382     contempt\n14307     neutral\n20312     disgust\n9335     surprise\nName: col1404, Length: 5120, dtype: object"
     },
     "execution_count": 19,
     "metadata": {},
     "output_type": "execute_result"
    }
   ],
   "source": [
    "test['col1404']"
   ],
   "metadata": {
    "collapsed": false,
    "ExecuteTime": {
     "end_time": "2023-10-15T07:30:30.845165267Z",
     "start_time": "2023-10-15T07:30:30.843015622Z"
    }
   }
  },
  {
   "cell_type": "code",
   "execution_count": 20,
   "outputs": [
    {
     "data": {
      "text/plain": "['neutral',\n 'disgust',\n 'neutral',\n 'surprise',\n 'anger',\n 'disgust',\n 'happy',\n 'sad',\n 'happy',\n 'surprise',\n 'surprise',\n 'surprise',\n 'sad',\n 'anger',\n 'disgust',\n 'surprise',\n 'surprise',\n 'happy',\n 'neutral',\n 'disgust',\n 'anger',\n 'fear',\n 'happy',\n 'disgust',\n 'happy',\n 'happy',\n 'disgust',\n 'anger',\n 'happy',\n 'disgust',\n 'sad',\n 'surprise',\n 'surprise',\n 'neutral',\n 'neutral',\n 'disgust',\n 'happy',\n 'surprise',\n 'anger',\n 'contempt',\n 'surprise',\n 'happy',\n 'surprise',\n 'happy',\n 'happy',\n 'anger',\n 'surprise',\n 'surprise',\n 'neutral',\n 'neutral',\n 'anger',\n 'surprise',\n 'sad',\n 'contempt',\n 'anger',\n 'anger',\n 'contempt',\n 'happy',\n 'neutral',\n 'contempt',\n 'disgust',\n 'happy',\n 'contempt',\n 'sad',\n 'surprise',\n 'disgust',\n 'surprise',\n 'happy',\n 'contempt',\n 'happy',\n 'happy',\n 'neutral',\n 'happy',\n 'sad',\n 'sad',\n 'surprise',\n 'neutral',\n 'happy',\n 'neutral',\n 'surprise',\n 'happy',\n 'happy',\n 'neutral',\n 'happy',\n 'anger',\n 'fear',\n 'surprise',\n 'surprise',\n 'sad',\n 'neutral',\n 'neutral',\n 'happy',\n 'anger',\n 'happy',\n 'surprise',\n 'happy',\n 'neutral',\n 'happy',\n 'contempt',\n 'neutral',\n 'happy',\n 'sad',\n 'happy',\n 'happy',\n 'neutral',\n 'neutral',\n 'happy',\n 'happy',\n 'anger',\n 'contempt',\n 'surprise',\n 'disgust',\n 'surprise',\n 'contempt',\n 'sad',\n 'neutral',\n 'anger',\n 'disgust',\n 'neutral',\n 'anger',\n 'surprise',\n 'happy',\n 'anger',\n 'surprise',\n 'happy',\n 'sad',\n 'happy',\n 'sad',\n 'neutral',\n 'neutral',\n 'happy',\n 'happy',\n 'happy',\n 'anger',\n 'anger',\n 'fear',\n 'anger',\n 'happy',\n 'happy',\n 'happy',\n 'happy',\n 'happy',\n 'anger',\n 'anger',\n 'sad',\n 'anger',\n 'happy',\n 'happy',\n 'surprise',\n 'neutral',\n 'anger',\n 'happy',\n 'happy',\n 'happy',\n 'happy',\n 'neutral',\n 'sad',\n 'happy',\n 'sad',\n 'happy',\n 'contempt',\n 'neutral',\n 'happy',\n 'surprise',\n 'happy',\n 'happy',\n 'neutral',\n 'disgust',\n 'neutral',\n 'happy',\n 'neutral',\n 'happy',\n 'disgust',\n 'surprise',\n 'disgust',\n 'disgust',\n 'surprise',\n 'happy',\n 'contempt',\n 'neutral',\n 'surprise',\n 'neutral',\n 'surprise',\n 'happy',\n 'surprise',\n 'happy',\n 'anger',\n 'happy',\n 'happy',\n 'surprise',\n 'surprise',\n 'disgust',\n 'surprise',\n 'surprise',\n 'happy',\n 'surprise',\n 'happy',\n 'happy',\n 'sad',\n 'happy',\n 'happy',\n 'anger',\n 'happy',\n 'happy',\n 'disgust',\n 'happy',\n 'anger',\n 'happy',\n 'sad',\n 'happy',\n 'happy',\n 'surprise',\n 'neutral',\n 'surprise',\n 'surprise',\n 'happy',\n 'happy',\n 'fear',\n 'happy',\n 'disgust',\n 'fear',\n 'surprise',\n 'happy',\n 'surprise',\n 'happy',\n 'happy',\n 'anger',\n 'anger',\n 'disgust',\n 'contempt',\n 'neutral',\n 'neutral',\n 'anger',\n 'happy',\n 'happy',\n 'anger',\n 'sad',\n 'contempt',\n 'neutral',\n 'contempt',\n 'sad',\n 'neutral',\n 'fear',\n 'happy',\n 'fear',\n 'happy',\n 'happy',\n 'happy',\n 'neutral',\n 'neutral',\n 'neutral',\n 'happy',\n 'neutral',\n 'happy',\n 'surprise',\n 'neutral',\n 'anger',\n 'sad',\n 'happy',\n 'contempt',\n 'anger',\n 'happy',\n 'disgust',\n 'anger',\n 'happy',\n 'happy',\n 'surprise',\n 'happy',\n 'surprise',\n 'happy',\n 'happy',\n 'fear',\n 'neutral',\n 'neutral',\n 'happy',\n 'neutral',\n 'happy',\n 'sad',\n 'disgust',\n 'contempt',\n 'surprise',\n 'contempt',\n 'happy',\n 'neutral',\n 'happy',\n 'anger',\n 'contempt',\n 'happy',\n 'fear',\n 'happy',\n 'surprise',\n 'contempt',\n 'sad',\n 'anger',\n 'happy',\n 'neutral',\n 'anger',\n 'anger',\n 'happy',\n 'neutral',\n 'sad',\n 'contempt',\n 'disgust',\n 'disgust',\n 'sad',\n 'fear',\n 'anger',\n 'happy',\n 'disgust',\n 'surprise',\n 'sad',\n 'sad',\n 'surprise',\n 'neutral',\n 'happy',\n 'sad',\n 'anger',\n 'happy',\n 'happy',\n 'happy',\n 'anger',\n 'fear',\n 'happy',\n 'anger',\n 'happy',\n 'surprise',\n 'happy',\n 'happy',\n 'disgust',\n 'neutral',\n 'happy',\n 'anger',\n 'happy',\n 'disgust',\n 'sad',\n 'contempt',\n 'contempt',\n 'happy',\n 'happy',\n 'happy',\n 'sad',\n 'happy',\n 'contempt',\n 'happy',\n 'happy',\n 'surprise',\n 'neutral',\n 'happy',\n 'happy',\n 'fear',\n 'happy',\n 'contempt',\n 'neutral',\n 'disgust',\n 'fear',\n 'happy',\n 'anger',\n 'fear',\n 'happy',\n 'neutral',\n 'happy',\n 'neutral',\n 'happy',\n 'contempt',\n 'happy',\n 'sad',\n 'contempt',\n 'neutral',\n 'surprise',\n 'anger',\n 'happy',\n 'surprise',\n 'contempt',\n 'contempt',\n 'fear',\n 'neutral',\n 'anger',\n 'neutral',\n 'disgust',\n 'neutral',\n 'neutral',\n 'anger',\n 'fear',\n 'disgust',\n 'neutral',\n 'happy',\n 'surprise',\n 'fear',\n 'happy',\n 'anger',\n 'anger',\n 'sad',\n 'contempt',\n 'surprise',\n 'surprise',\n 'surprise',\n 'fear',\n 'happy',\n 'fear',\n 'sad',\n 'happy',\n 'happy',\n 'sad',\n 'sad',\n 'happy',\n 'contempt',\n 'happy',\n 'contempt',\n 'happy',\n 'contempt',\n 'happy',\n 'sad',\n 'happy',\n 'neutral',\n 'surprise',\n 'fear',\n 'fear',\n 'happy',\n 'contempt',\n 'sad',\n 'surprise',\n 'neutral',\n 'sad',\n 'happy',\n 'contempt',\n 'anger',\n 'sad',\n 'anger',\n 'fear',\n 'happy',\n 'disgust',\n 'neutral',\n 'fear',\n 'contempt',\n 'fear',\n 'happy',\n 'surprise',\n 'neutral',\n 'happy',\n 'fear',\n 'anger',\n 'contempt',\n 'happy',\n 'happy',\n 'anger',\n 'happy',\n 'sad',\n 'anger',\n 'neutral',\n 'fear',\n 'contempt',\n 'happy',\n 'happy',\n 'fear',\n 'neutral',\n 'neutral',\n 'sad',\n 'happy',\n 'happy',\n 'happy',\n 'happy',\n 'neutral',\n 'neutral',\n 'happy',\n 'disgust',\n 'disgust',\n 'happy',\n 'happy',\n 'happy',\n 'sad',\n 'happy',\n 'happy',\n 'contempt',\n 'contempt',\n 'happy',\n 'happy',\n 'disgust',\n 'happy',\n 'neutral',\n 'surprise',\n 'happy',\n 'surprise',\n 'neutral',\n 'happy',\n 'surprise',\n 'disgust',\n 'fear',\n 'fear',\n 'surprise',\n 'disgust',\n 'happy',\n 'surprise',\n 'neutral',\n 'contempt',\n 'neutral',\n 'neutral',\n 'sad',\n 'surprise',\n 'happy',\n 'surprise',\n 'contempt',\n 'happy',\n 'happy',\n 'neutral',\n 'disgust',\n 'happy',\n 'disgust',\n 'neutral',\n 'happy',\n 'contempt',\n 'anger',\n 'fear',\n 'surprise',\n 'surprise',\n 'sad',\n 'contempt',\n 'neutral',\n 'happy',\n 'neutral',\n 'happy',\n 'surprise',\n 'happy',\n 'surprise',\n 'anger',\n 'contempt',\n 'anger',\n 'happy',\n 'happy',\n 'contempt',\n 'anger',\n 'sad',\n 'surprise',\n 'anger',\n 'happy',\n 'surprise',\n 'neutral',\n 'anger',\n 'surprise',\n 'sad',\n 'contempt',\n 'neutral',\n 'surprise',\n 'happy',\n 'neutral',\n 'happy',\n 'anger',\n 'neutral',\n 'surprise',\n 'neutral',\n 'contempt',\n 'fear',\n 'surprise',\n 'fear',\n 'anger',\n 'contempt',\n 'contempt',\n 'happy',\n 'fear',\n 'sad',\n 'surprise',\n 'happy',\n 'contempt',\n 'anger',\n 'happy',\n 'happy',\n 'anger',\n 'happy',\n 'sad',\n 'surprise',\n 'anger',\n 'neutral',\n 'fear',\n 'anger',\n 'anger',\n 'neutral',\n 'sad',\n 'happy',\n 'happy',\n 'happy',\n 'happy',\n 'happy',\n 'neutral',\n 'anger',\n 'happy',\n 'neutral',\n 'neutral',\n 'happy',\n 'happy',\n 'fear',\n 'surprise',\n 'surprise',\n 'contempt',\n 'happy',\n 'anger',\n 'neutral',\n 'happy',\n 'neutral',\n 'anger',\n 'contempt',\n 'happy',\n 'sad',\n 'happy',\n 'neutral',\n 'happy',\n 'happy',\n 'happy',\n 'surprise',\n 'happy',\n 'sad',\n 'neutral',\n 'sad',\n 'contempt',\n 'anger',\n 'surprise',\n 'happy',\n 'anger',\n 'happy',\n 'sad',\n 'neutral',\n 'happy',\n 'surprise',\n 'contempt',\n 'neutral',\n 'sad',\n 'happy',\n 'fear',\n 'neutral',\n 'contempt',\n 'anger',\n 'surprise',\n 'happy',\n 'happy',\n 'surprise',\n 'fear',\n 'surprise',\n 'surprise',\n 'happy',\n 'neutral',\n 'anger',\n 'happy',\n 'contempt',\n 'happy',\n 'disgust',\n 'happy',\n 'fear',\n 'neutral',\n 'sad',\n 'neutral',\n 'disgust',\n 'happy',\n 'contempt',\n 'happy',\n 'anger',\n 'surprise',\n 'surprise',\n 'happy',\n 'contempt',\n 'sad',\n 'happy',\n 'happy',\n 'disgust',\n 'contempt',\n 'fear',\n 'neutral',\n 'neutral',\n 'surprise',\n 'happy',\n 'neutral',\n 'disgust',\n 'neutral',\n 'happy',\n 'sad',\n 'contempt',\n 'happy',\n 'anger',\n 'happy',\n 'anger',\n 'disgust',\n 'neutral',\n 'contempt',\n 'neutral',\n 'happy',\n 'happy',\n 'neutral',\n 'neutral',\n 'contempt',\n 'happy',\n 'happy',\n 'sad',\n 'anger',\n 'fear',\n 'sad',\n 'contempt',\n 'anger',\n 'anger',\n 'anger',\n 'happy',\n 'fear',\n 'happy',\n 'happy',\n 'neutral',\n 'happy',\n 'surprise',\n 'neutral',\n 'contempt',\n 'surprise',\n 'fear',\n 'neutral',\n 'fear',\n 'happy',\n 'fear',\n 'disgust',\n 'fear',\n 'fear',\n 'neutral',\n 'neutral',\n 'happy',\n 'surprise',\n 'neutral',\n 'happy',\n 'happy',\n 'fear',\n 'contempt',\n 'surprise',\n 'fear',\n 'surprise',\n 'happy',\n 'surprise',\n 'happy',\n 'fear',\n 'surprise',\n 'happy',\n 'neutral',\n 'happy',\n 'contempt',\n 'sad',\n 'surprise',\n 'happy',\n 'happy',\n 'happy',\n 'contempt',\n 'surprise',\n 'anger',\n 'sad',\n 'anger',\n 'surprise',\n 'happy',\n 'anger',\n 'happy',\n 'disgust',\n 'happy',\n 'anger',\n 'sad',\n 'neutral',\n 'happy',\n 'sad',\n 'surprise',\n 'happy',\n 'surprise',\n 'disgust',\n 'surprise',\n 'happy',\n 'neutral',\n 'happy',\n 'fear',\n 'anger',\n 'neutral',\n 'surprise',\n 'sad',\n 'neutral',\n 'surprise',\n 'neutral',\n 'fear',\n 'neutral',\n 'neutral',\n 'neutral',\n 'happy',\n 'sad',\n 'anger',\n 'happy',\n 'surprise',\n 'neutral',\n 'neutral',\n 'sad',\n 'sad',\n 'sad',\n 'sad',\n 'neutral',\n 'sad',\n 'disgust',\n 'contempt',\n 'surprise',\n 'happy',\n 'surprise',\n 'neutral',\n 'sad',\n 'neutral',\n 'happy',\n 'neutral',\n 'neutral',\n 'sad',\n 'neutral',\n 'fear',\n 'happy',\n 'disgust',\n 'happy',\n 'happy',\n 'anger',\n 'neutral',\n 'happy',\n 'contempt',\n 'fear',\n 'neutral',\n 'happy',\n 'happy',\n 'happy',\n 'happy',\n 'neutral',\n 'surprise',\n 'happy',\n 'surprise',\n 'happy',\n 'happy',\n 'anger',\n 'happy',\n 'neutral',\n 'disgust',\n 'neutral',\n 'surprise',\n 'neutral',\n 'surprise',\n 'happy',\n 'anger',\n 'contempt',\n 'surprise',\n 'disgust',\n 'happy',\n 'happy',\n 'contempt',\n 'happy',\n 'disgust',\n 'sad',\n 'happy',\n 'fear',\n 'happy',\n 'surprise',\n 'contempt',\n 'happy',\n 'happy',\n 'happy',\n 'anger',\n 'sad',\n 'neutral',\n 'anger',\n 'surprise',\n 'neutral',\n 'fear',\n 'sad',\n 'sad',\n 'neutral',\n 'neutral',\n 'contempt',\n 'fear',\n 'neutral',\n 'happy',\n 'fear',\n 'neutral',\n 'surprise',\n 'contempt',\n 'happy',\n 'sad',\n 'surprise',\n 'surprise',\n 'anger',\n 'surprise',\n 'happy',\n 'surprise',\n 'sad',\n 'contempt',\n 'neutral',\n 'happy',\n 'anger',\n 'disgust',\n 'happy',\n 'happy',\n 'neutral',\n 'disgust',\n 'sad',\n 'disgust',\n 'happy',\n 'happy',\n 'neutral',\n 'happy',\n 'fear',\n 'happy',\n 'contempt',\n 'disgust',\n 'neutral',\n 'happy',\n 'fear',\n 'happy',\n 'happy',\n 'neutral',\n 'fear',\n 'neutral',\n 'surprise',\n 'anger',\n 'neutral',\n 'happy',\n 'happy',\n 'neutral',\n 'sad',\n 'neutral',\n 'neutral',\n 'disgust',\n 'happy',\n 'contempt',\n 'contempt',\n 'contempt',\n 'happy',\n 'neutral',\n 'happy',\n 'surprise',\n 'fear',\n 'neutral',\n 'surprise',\n 'fear',\n 'happy',\n 'surprise',\n 'neutral',\n 'anger',\n 'neutral',\n 'surprise',\n 'disgust',\n 'happy',\n 'neutral',\n 'surprise',\n 'happy',\n 'anger',\n 'disgust',\n 'surprise',\n 'neutral',\n 'happy',\n 'surprise',\n 'neutral',\n 'anger',\n 'contempt',\n 'disgust',\n 'neutral',\n 'happy',\n 'neutral',\n 'neutral',\n 'anger',\n 'surprise',\n 'happy',\n 'happy',\n 'neutral',\n 'happy',\n 'neutral',\n 'contempt',\n 'contempt',\n 'disgust',\n 'anger',\n 'surprise',\n 'happy',\n 'fear',\n 'surprise',\n 'disgust',\n 'surprise',\n 'neutral',\n 'fear',\n 'happy',\n 'happy',\n 'happy',\n 'neutral',\n 'disgust',\n 'neutral',\n 'happy',\n 'sad',\n 'happy',\n 'fear',\n 'contempt',\n 'neutral',\n 'neutral',\n 'surprise',\n 'sad',\n 'happy',\n 'contempt',\n 'sad',\n 'fear',\n 'happy',\n 'happy',\n 'happy',\n 'fear',\n 'happy',\n 'happy',\n 'anger',\n 'contempt',\n 'neutral',\n 'happy',\n ...]"
     },
     "execution_count": 20,
     "metadata": {},
     "output_type": "execute_result"
    }
   ],
   "source": [
    "pd[\"predict\"].tolist()"
   ],
   "metadata": {
    "collapsed": false,
    "ExecuteTime": {
     "end_time": "2023-10-15T07:30:32.176457533Z",
     "start_time": "2023-10-15T07:30:32.171886456Z"
    }
   }
  },
  {
   "cell_type": "code",
   "execution_count": 21,
   "outputs": [
    {
     "data": {
      "text/plain": "0.6621331358509505"
     },
     "execution_count": 21,
     "metadata": {},
     "output_type": "execute_result"
    }
   ],
   "source": [
    "f1_score(test['col1404'], pd[\"predict\"].tolist(), average=\"weighted\")"
   ],
   "metadata": {
    "collapsed": false,
    "ExecuteTime": {
     "end_time": "2023-10-15T07:30:33.621425593Z",
     "start_time": "2023-10-15T07:30:33.559886956Z"
    }
   }
  },
  {
   "cell_type": "code",
   "execution_count": null,
   "outputs": [],
   "source": [],
   "metadata": {
    "collapsed": false
   }
  }
 ],
 "metadata": {
  "kernelspec": {
   "display_name": "Python 3",
   "language": "python",
   "name": "python3"
  },
  "language_info": {
   "codemirror_mode": {
    "name": "ipython",
    "version": 2
   },
   "file_extension": ".py",
   "mimetype": "text/x-python",
   "name": "python",
   "nbconvert_exporter": "python",
   "pygments_lexer": "ipython2",
   "version": "2.7.6"
  }
 },
 "nbformat": 4,
 "nbformat_minor": 0
}
