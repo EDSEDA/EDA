{
 "cells": [
  {
   "cell_type": "markdown",
   "metadata": {
    "execution": {
     "iopub.execute_input": "2021-10-28T16:25:41.041859Z",
     "iopub.status.busy": "2021-10-28T16:25:41.041154Z",
     "iopub.status.idle": "2021-10-28T16:25:41.047378Z",
     "shell.execute_reply": "2021-10-28T16:25:41.046222Z",
     "shell.execute_reply.started": "2021-10-28T16:25:41.041821Z"
    },
    "id": "oexc3NHHDpZM"
   },
   "source": [
    "<a id=\"im\"></a>\n",
    "# <center>IMPORTING LIBRARIES</center>"
   ]
  },
  {
   "cell_type": "code",
   "execution_count": 1,
   "metadata": {
    "execution": {
     "iopub.execute_input": "2021-12-09T06:48:17.407186Z",
     "iopub.status.busy": "2021-12-09T06:48:17.406939Z",
     "iopub.status.idle": "2021-12-09T06:48:17.412838Z",
     "shell.execute_reply": "2021-12-09T06:48:17.411861Z",
     "shell.execute_reply.started": "2021-12-09T06:48:17.407157Z"
    },
    "id": "5EYpR3loDpZM"
   },
   "outputs": [
    {
     "name": "stderr",
     "output_type": "stream",
     "text": [
      "2023-08-03 21:10:34.702580: I tensorflow/tsl/cuda/cudart_stub.cc:28] Could not find cuda drivers on your machine, GPU will not be used.\n",
      "2023-08-03 21:10:34.925253: I tensorflow/tsl/cuda/cudart_stub.cc:28] Could not find cuda drivers on your machine, GPU will not be used.\n",
      "2023-08-03 21:10:34.926098: I tensorflow/core/platform/cpu_feature_guard.cc:182] This TensorFlow binary is optimized to use available CPU instructions in performance-critical operations.\n",
      "To enable the following instructions: AVX2 FMA, in other operations, rebuild TensorFlow with the appropriate compiler flags.\n",
      "2023-08-03 21:10:37.196809: W tensorflow/compiler/tf2tensorrt/utils/py_utils.cc:38] TF-TRT Warning: Could not find TensorRT\n"
     ]
    }
   ],
   "source": [
    "import pandas as pd\n",
    "import numpy as np\n",
    "import matplotlib.pyplot as plt\n",
    "import seaborn as sns\n",
    "import plotly.express as px\n",
    "\n",
    "\n",
    "import tensorflow as tf\n",
    "from tensorflow.keras.preprocessing.image import ImageDataGenerator\n",
    "from tensorflow.keras.utils import to_categorical\n",
    "\n",
    "from sklearn.metrics import confusion_matrix , classification_report \n",
    "from sklearn.preprocessing import LabelBinarizer\n",
    "from sklearn.metrics import roc_curve, auc, roc_auc_score\n",
    "\n",
    "from IPython.display import clear_output\n",
    "import warnings\n",
    "warnings.filterwarnings('ignore')"
   ]
  },
  {
   "cell_type": "markdown",
   "metadata": {
    "id": "wh6GWqQkDpZN"
   },
   "source": [
    "<a id=\"hp\"></a>\n",
    "# <center>HYPERPARAMETRERS AND DIRECTORIES</center>"
   ]
  },
  {
   "cell_type": "code",
   "execution_count": 2,
   "metadata": {
    "execution": {
     "iopub.execute_input": "2021-12-09T06:39:09.131243Z",
     "iopub.status.busy": "2021-12-09T06:39:09.13099Z",
     "iopub.status.idle": "2021-12-09T06:39:09.139155Z",
     "shell.execute_reply": "2021-12-09T06:39:09.138293Z",
     "shell.execute_reply.started": "2021-12-09T06:39:09.131209Z"
    },
    "id": "2LtuHhPhDpZO"
   },
   "outputs": [],
   "source": [
    "train_dir = \"data/train\"\n",
    "test_dir = \"data/test\"\n",
    "\n",
    "SEED = 12\n",
    "IMG_HEIGHT = 48\n",
    "IMG_WIDTH = 48\n",
    "BATCH_SIZE = 64\n",
    "EPOCHS = 15\n",
    "FINE_TUNING_EPOCHS = 10\n",
    "LR = 0.01\n",
    "NUM_CLASSES = 6\n",
    "EARLY_STOPPING_CRITERIA=3\n",
    "CLASS_LABELS  = ['Anger', 'Fear', 'Happy', 'Neutral', 'Sadness', \"Surprise\"]"
   ]
  },
  {
   "cell_type": "markdown",
   "metadata": {
    "id": "74MTuliEDpZO"
   },
   "source": [
    "<a id=\"data\"></a>\n",
    "# <center> DATA LOADING AND PRE-PROCESSING</center>"
   ]
  },
  {
   "cell_type": "code",
   "execution_count": 3,
   "metadata": {
    "_kg_hide-input": true,
    "colab": {
     "base_uri": "https://localhost:8080/"
    },
    "execution": {
     "iopub.execute_input": "2021-12-09T06:39:09.140332Z",
     "iopub.status.busy": "2021-12-09T06:39:09.140077Z",
     "iopub.status.idle": "2021-12-09T06:39:33.637831Z",
     "shell.execute_reply": "2021-12-09T06:39:33.63632Z",
     "shell.execute_reply.started": "2021-12-09T06:39:09.140295Z"
    },
    "id": "GhpgEQkHDpZP",
    "outputId": "eab23f25-6ff0-4c8b-cd16-7b0c355d4553"
   },
   "outputs": [
    {
     "name": "stdout",
     "output_type": "stream",
     "text": [
      "Found 22619 images belonging to 6 classes.\n",
      "Found 5654 images belonging to 6 classes.\n",
      "Found 7067 images belonging to 6 classes.\n"
     ]
    }
   ],
   "source": [
    "def to_grayscale_then_rgb(image):\n",
    "    image = tf.image.rgb_to_grayscale(image)\n",
    "    image = tf.image.grayscale_to_rgb(image)\n",
    "    return image\n",
    "\n",
    "# preprocess_fun = tf.keras.applications.densenet.preprocess_input\n",
    "preprocess_fun = to_grayscale_then_rgb\n",
    "\n",
    "train_datagen = ImageDataGenerator(horizontal_flip=True,\n",
    "                                   width_shift_range=0.1,\n",
    "                                   height_shift_range=0.05,\n",
    "                                   rescale = 1./255,\n",
    "                                   validation_split = 0.2,\n",
    "                                   preprocessing_function=preprocess_fun\n",
    "                                  )\n",
    "test_datagen = ImageDataGenerator(rescale = 1./255,\n",
    "                                  validation_split = 0.2,\n",
    "                                  preprocessing_function=preprocess_fun)\n",
    "\n",
    "train_generator = train_datagen.flow_from_directory(directory = train_dir,\n",
    "                                                    target_size = (IMG_HEIGHT ,IMG_WIDTH),\n",
    "                                                    batch_size = BATCH_SIZE,\n",
    "                                                    shuffle  = True , \n",
    "                                                    color_mode = \"rgb\",\n",
    "                                                    class_mode = \"categorical\",\n",
    "                                                    subset = \"training\",\n",
    "                                                    seed = 12\n",
    "                                                   )\n",
    "\n",
    "validation_generator = test_datagen.flow_from_directory(directory = train_dir,\n",
    "                                                         target_size = (IMG_HEIGHT ,IMG_WIDTH),\n",
    "                                                         batch_size = BATCH_SIZE,\n",
    "                                                         shuffle  = True , \n",
    "                                                         color_mode = \"rgb\",\n",
    "                                                         class_mode = \"categorical\",\n",
    "                                                         subset = \"validation\",\n",
    "                                                         seed = 12\n",
    "                                                        )\n",
    "\n",
    "test_generator = test_datagen.flow_from_directory(directory = test_dir,\n",
    "                                                   target_size = (IMG_HEIGHT ,IMG_WIDTH),\n",
    "                                                    batch_size = BATCH_SIZE,\n",
    "                                                    shuffle  = False , \n",
    "                                                    color_mode = \"rgb\",\n",
    "                                                    class_mode = \"categorical\",\n",
    "                                                    seed = 12\n",
    "                                                  )"
   ]
  },
  {
   "cell_type": "markdown",
   "metadata": {
    "id": "hkFNRmmnDpZR"
   },
   "source": [
    "## Data distribution (count) among differnt emotions"
   ]
  },
  {
   "cell_type": "code",
   "execution_count": 4,
   "metadata": {
    "_kg_hide-input": true,
    "colab": {
     "base_uri": "https://localhost:8080/"
    },
    "execution": {
     "iopub.execute_input": "2021-12-09T06:40:24.262316Z",
     "iopub.status.busy": "2021-12-09T06:40:24.26204Z",
     "iopub.status.idle": "2021-12-09T06:40:25.101773Z",
     "shell.execute_reply": "2021-12-09T06:40:25.101112Z",
     "shell.execute_reply.started": "2021-12-09T06:40:24.262279Z"
    },
    "id": "nXv5xBrADpZR",
    "outputId": "023c8ebb-2cd4-406e-aac8-355129a12ac3"
   },
   "outputs": [
    {
     "name": "stdout",
     "output_type": "stream",
     "text": [
      "Anger 3196\n",
      "Fear 3278\n",
      "Happy 5772\n",
      "Neutral 3972\n",
      "Sadness 3864\n",
      "Surprise 2537\n"
     ]
    }
   ],
   "source": [
    "classLabelCounts = [list(train_generator.classes).count(i) for i in np.unique(train_generator.classes)]\n",
    "for classLabel, classLabelCount in zip(CLASS_LABELS, classLabelCounts):\n",
    "  print(classLabel, classLabelCount)"
   ]
  },
  {
   "cell_type": "markdown",
   "metadata": {
    "id": "uzY1dOBtDpZR"
   },
   "source": [
    "<a id=\"model\"></a>\n",
    "# <center> DenseNet169 Transfer Learning  </center>"
   ]
  },
  {
   "cell_type": "code",
   "execution_count": 5,
   "metadata": {
    "execution": {
     "iopub.execute_input": "2021-12-09T06:40:25.103789Z",
     "iopub.status.busy": "2021-12-09T06:40:25.103368Z",
     "iopub.status.idle": "2021-12-09T06:40:25.114799Z",
     "shell.execute_reply": "2021-12-09T06:40:25.113768Z",
     "shell.execute_reply.started": "2021-12-09T06:40:25.103749Z"
    },
    "id": "5IB6JTbdDpZS"
   },
   "outputs": [],
   "source": [
    "def feature_extractor(inputs):\n",
    "    feature_extractor = tf.keras.applications.DenseNet169(input_shape=(IMG_HEIGHT,IMG_WIDTH, 3),\n",
    "                                               include_top=False,\n",
    "                                               weights=\"imagenet\")(inputs)\n",
    "    \n",
    "    return feature_extractor\n",
    "\n",
    "def classifier(inputs):\n",
    "    x = tf.keras.layers.GlobalAveragePooling2D()(inputs)\n",
    "    x = tf.keras.layers.Dense(512, activation=\"relu\", kernel_regularizer = tf.keras.regularizers.l2(0.01))(x)\n",
    "    x = tf.keras.layers.Dropout(0.3)(x)\n",
    "    x = tf.keras.layers.Dense(1024, activation=\"relu\", kernel_regularizer = tf.keras.regularizers.l2(0.01))(x)\n",
    "    x = tf.keras.layers.Dropout(0.5)(x)\n",
    "    x = tf.keras.layers.Dense(512, activation=\"relu\", kernel_regularizer = tf.keras.regularizers.l2(0.01))(x)\n",
    "    x = tf.keras.layers.Dropout(0.5) (x)\n",
    "    x = tf.keras.layers.Dense(NUM_CLASSES, activation=\"softmax\", name=\"classification\")(x)\n",
    "    \n",
    "    return x\n",
    "\n",
    "def final_model(inputs):\n",
    "    densenet_feature_extractor = feature_extractor(inputs)\n",
    "    classification_output = classifier(densenet_feature_extractor)\n",
    "    \n",
    "    return classification_output\n",
    "\n",
    "def define_compile_model():\n",
    "    \n",
    "    inputs = tf.keras.layers.Input(shape=(IMG_HEIGHT ,IMG_WIDTH,3))\n",
    "    classification_output = final_model(inputs) \n",
    "    model = tf.keras.Model(inputs=inputs, outputs = classification_output)\n",
    "     \n",
    "    model.compile(optimizer=tf.keras.optimizers.SGD(0.05), \n",
    "                loss='categorical_crossentropy',\n",
    "                metrics = ['accuracy'])\n",
    "  \n",
    "    return model"
   ]
  },
  {
   "cell_type": "markdown",
   "metadata": {
    "id": "3dzFVkhuDpZS"
   },
   "source": [
    "## Summary of model"
   ]
  },
  {
   "cell_type": "code",
   "execution_count": 6,
   "metadata": {
    "_kg_hide-input": true,
    "colab": {
     "base_uri": "https://localhost:8080/"
    },
    "execution": {
     "iopub.execute_input": "2021-12-09T06:40:28.867335Z",
     "iopub.status.busy": "2021-12-09T06:40:28.866836Z",
     "iopub.status.idle": "2021-12-09T06:40:36.720149Z",
     "shell.execute_reply": "2021-12-09T06:40:36.719438Z",
     "shell.execute_reply.started": "2021-12-09T06:40:28.867292Z"
    },
    "id": "KIlFQOEmDpZS",
    "outputId": "873d5c0a-e360-4454-d4e8-01a3375ca86b"
   },
   "outputs": [
    {
     "name": "stdout",
     "output_type": "stream",
     "text": [
      "Model: \"model\"\n",
      "_________________________________________________________________\n",
      " Layer (type)                Output Shape              Param #   \n",
      "=================================================================\n",
      " input_1 (InputLayer)        [(None, 48, 48, 3)]       0         \n",
      "                                                                 \n",
      " densenet169 (Functional)    (None, 1, 1, 1664)        12642880  \n",
      "                                                                 \n",
      " global_average_pooling2d (  (None, 1664)              0         \n",
      " GlobalAveragePooling2D)                                         \n",
      "                                                                 \n",
      " dense (Dense)               (None, 512)               852480    \n",
      "                                                                 \n",
      " dropout (Dropout)           (None, 512)               0         \n",
      "                                                                 \n",
      " dense_1 (Dense)             (None, 1024)              525312    \n",
      "                                                                 \n",
      " dropout_1 (Dropout)         (None, 1024)              0         \n",
      "                                                                 \n",
      " dense_2 (Dense)             (None, 512)               524800    \n",
      "                                                                 \n",
      " dropout_2 (Dropout)         (None, 512)               0         \n",
      "                                                                 \n",
      " classification (Dense)      (None, 6)                 3078      \n",
      "                                                                 \n",
      "=================================================================\n",
      "Total params: 14548550 (55.50 MB)\n",
      "Trainable params: 1905670 (7.27 MB)\n",
      "Non-trainable params: 12642880 (48.23 MB)\n",
      "_________________________________________________________________\n"
     ]
    }
   ],
   "source": [
    "model = define_compile_model()\n",
    "clear_output()\n",
    "\n",
    "# Feezing the feature extraction layers\n",
    "model.layers[1].trainable = False\n",
    "\n",
    "model.summary()"
   ]
  },
  {
   "cell_type": "markdown",
   "metadata": {
    "id": "nbScA6BuDpZT"
   },
   "source": [
    "<a id=\"train\"></a>\n",
    "# <center> Training and Fine-Tuning </center> "
   ]
  },
  {
   "cell_type": "markdown",
   "metadata": {
    "id": "Jx4iMUszDpZT"
   },
   "source": [
    "## Training model with freezed layers of DenseNer169"
   ]
  },
  {
   "cell_type": "code",
   "execution_count": 7,
   "metadata": {
    "_kg_hide-output": true,
    "colab": {
     "base_uri": "https://localhost:8080/"
    },
    "execution": {
     "iopub.execute_input": "2021-12-09T06:40:37.926183Z",
     "iopub.status.busy": "2021-12-09T06:40:37.925939Z",
     "iopub.status.idle": "2021-12-09T06:44:17.632897Z",
     "shell.execute_reply": "2021-12-09T06:44:17.632068Z",
     "shell.execute_reply.started": "2021-12-09T06:40:37.926155Z"
    },
    "id": "9uVJhDXCDpZT",
    "outputId": "c9244726-ea9e-4205-cedb-e2f32420306c"
   },
   "outputs": [
    {
     "name": "stdout",
     "output_type": "stream",
     "text": [
      "Epoch 1/15\n",
      "354/354 [==============================] - 304s 785ms/step - loss: 17.0803 - accuracy: 0.3102 - val_loss: 11.9890 - val_accuracy: 0.4538\n",
      "Epoch 2/15\n",
      "354/354 [==============================] - 230s 648ms/step - loss: 8.9299 - accuracy: 0.4797 - val_loss: 6.5007 - val_accuracy: 0.4989\n",
      "Epoch 3/15\n",
      "354/354 [==============================] - 228s 644ms/step - loss: 4.9736 - accuracy: 0.5342 - val_loss: 3.8850 - val_accuracy: 0.5002\n",
      "Epoch 4/15\n",
      "354/354 [==============================] - 227s 641ms/step - loss: 3.0227 - accuracy: 0.5677 - val_loss: 2.4516 - val_accuracy: 0.5453\n",
      "Epoch 5/15\n",
      "354/354 [==============================] - 226s 638ms/step - loss: 2.0496 - accuracy: 0.5876 - val_loss: 1.7833 - val_accuracy: 0.5776\n",
      "Epoch 6/15\n",
      "354/354 [==============================] - 226s 639ms/step - loss: 1.5489 - accuracy: 0.6046 - val_loss: 1.6808 - val_accuracy: 0.5442\n",
      "Epoch 7/15\n",
      "354/354 [==============================] - 226s 640ms/step - loss: 1.2872 - accuracy: 0.6178 - val_loss: 1.3206 - val_accuracy: 0.5693\n",
      "Epoch 8/15\n",
      "354/354 [==============================] - 227s 640ms/step - loss: 1.1481 - accuracy: 0.6339 - val_loss: 1.2180 - val_accuracy: 0.5967\n",
      "Epoch 9/15\n",
      "354/354 [==============================] - 226s 638ms/step - loss: 1.0695 - accuracy: 0.6464 - val_loss: 1.1501 - val_accuracy: 0.5982\n",
      "Epoch 10/15\n",
      "354/354 [==============================] - 226s 639ms/step - loss: 1.0152 - accuracy: 0.6533 - val_loss: 1.1537 - val_accuracy: 0.5904\n",
      "Epoch 11/15\n",
      "354/354 [==============================] - 226s 638ms/step - loss: 0.9764 - accuracy: 0.6670 - val_loss: 1.1273 - val_accuracy: 0.6093\n",
      "Epoch 12/15\n",
      "354/354 [==============================] - 227s 639ms/step - loss: 0.9514 - accuracy: 0.6712 - val_loss: 1.1593 - val_accuracy: 0.5907\n",
      "Epoch 13/15\n",
      "354/354 [==============================] - 226s 639ms/step - loss: 0.9204 - accuracy: 0.6872 - val_loss: 1.2098 - val_accuracy: 0.5844\n",
      "Epoch 14/15\n",
      "354/354 [==============================] - ETA: 0s - loss: 0.9032 - accuracy: 0.6915Restoring model weights from the end of the best epoch: 11.\n",
      "354/354 [==============================] - 230s 649ms/step - loss: 0.9032 - accuracy: 0.6915 - val_loss: 1.1871 - val_accuracy: 0.5725\n",
      "Epoch 14: early stopping\n"
     ]
    }
   ],
   "source": [
    "earlyStoppingCallback = tf.keras.callbacks.EarlyStopping(monitor='val_loss',\n",
    "                                                         patience=EARLY_STOPPING_CRITERIA,\n",
    "                                                         verbose= 1 ,\n",
    "                                                         restore_best_weights=True\n",
    "                                                        )\n",
    "\n",
    "history = model.fit(x = train_generator,\n",
    "                    epochs = EPOCHS ,\n",
    "                    validation_data = validation_generator , \n",
    "                    callbacks= [earlyStoppingCallback])\n",
    "\n",
    "history = pd.DataFrame(history.history)"
   ]
  },
  {
   "cell_type": "markdown",
   "metadata": {
    "id": "4Kypqdy1DpZT"
   },
   "source": [
    "## Fine Tuning"
   ]
  },
  {
   "cell_type": "code",
   "execution_count": 8,
   "metadata": {
    "_kg_hide-output": true,
    "colab": {
     "base_uri": "https://localhost:8080/"
    },
    "execution": {
     "iopub.execute_input": "2021-10-28T16:40:49.276117Z",
     "iopub.status.busy": "2021-10-28T16:40:49.275615Z",
     "iopub.status.idle": "2021-10-28T16:48:28.259359Z",
     "shell.execute_reply": "2021-10-28T16:48:28.258509Z",
     "shell.execute_reply.started": "2021-10-28T16:40:49.276082Z"
    },
    "id": "nVGSccHhDpZT",
    "outputId": "4da15bcc-9b7f-4233-bd99-d687cd1291a3"
   },
   "outputs": [
    {
     "name": "stdout",
     "output_type": "stream",
     "text": [
      "Epoch 1/10\n",
      "354/354 [==============================] - 246s 653ms/step - loss: 0.8879 - accuracy: 0.6987 - val_loss: 1.0153 - val_accuracy: 0.6441\n",
      "Epoch 2/10\n",
      "354/354 [==============================] - 230s 648ms/step - loss: 0.8534 - accuracy: 0.7138 - val_loss: 1.0072 - val_accuracy: 0.6541\n",
      "Epoch 3/10\n",
      "354/354 [==============================] - 213s 602ms/step - loss: 0.8392 - accuracy: 0.7172 - val_loss: 1.0056 - val_accuracy: 0.6565\n",
      "Epoch 4/10\n",
      "354/354 [==============================] - 244s 688ms/step - loss: 0.8237 - accuracy: 0.7222 - val_loss: 1.0049 - val_accuracy: 0.6551\n",
      "Epoch 5/10\n",
      "354/354 [==============================] - 435s 1s/step - loss: 0.8183 - accuracy: 0.7255 - val_loss: 1.0037 - val_accuracy: 0.6533\n",
      "Epoch 6/10\n",
      "354/354 [==============================] - 445s 1s/step - loss: 0.8075 - accuracy: 0.7292 - val_loss: 1.0065 - val_accuracy: 0.6563\n",
      "Epoch 7/10\n",
      "354/354 [==============================] - 446s 1s/step - loss: 0.8050 - accuracy: 0.7308 - val_loss: 1.0063 - val_accuracy: 0.6546\n",
      "Epoch 8/10\n",
      "354/354 [==============================] - 384s 1s/step - loss: 0.7915 - accuracy: 0.7357 - val_loss: 1.0086 - val_accuracy: 0.6546\n",
      "Epoch 9/10\n",
      "354/354 [==============================] - 374s 1s/step - loss: 0.7846 - accuracy: 0.7384 - val_loss: 1.0118 - val_accuracy: 0.6549\n",
      "Epoch 10/10\n",
      "354/354 [==============================] - 389s 1s/step - loss: 0.7843 - accuracy: 0.7346 - val_loss: 1.0090 - val_accuracy: 0.6555\n"
     ]
    },
    {
     "ename": "AttributeError",
     "evalue": "'DataFrame' object has no attribute 'append'",
     "output_type": "error",
     "traceback": [
      "\u001B[0;31m---------------------------------------------------------------------------\u001B[0m",
      "\u001B[0;31mAttributeError\u001B[0m                            Traceback (most recent call last)",
      "\u001B[0;32m/tmp/ipykernel_6153/2904889100.py\u001B[0m in \u001B[0;36m?\u001B[0;34m()\u001B[0m\n\u001B[1;32m      5\u001B[0m                 \u001B[0mloss\u001B[0m\u001B[0;34m=\u001B[0m\u001B[0;34m'categorical_crossentropy'\u001B[0m\u001B[0;34m,\u001B[0m\u001B[0;34m\u001B[0m\u001B[0;34m\u001B[0m\u001B[0m\n\u001B[1;32m      6\u001B[0m                 metrics = ['accuracy'])\n\u001B[1;32m      7\u001B[0m \u001B[0;34m\u001B[0m\u001B[0m\n\u001B[1;32m      8\u001B[0m \u001B[0mhistory_\u001B[0m \u001B[0;34m=\u001B[0m \u001B[0mmodel\u001B[0m\u001B[0;34m.\u001B[0m\u001B[0mfit\u001B[0m\u001B[0;34m(\u001B[0m\u001B[0mx\u001B[0m \u001B[0;34m=\u001B[0m \u001B[0mtrain_generator\u001B[0m\u001B[0;34m,\u001B[0m\u001B[0mepochs\u001B[0m \u001B[0;34m=\u001B[0m \u001B[0mFINE_TUNING_EPOCHS\u001B[0m \u001B[0;34m,\u001B[0m\u001B[0mvalidation_data\u001B[0m \u001B[0;34m=\u001B[0m \u001B[0mvalidation_generator\u001B[0m\u001B[0;34m)\u001B[0m\u001B[0;34m\u001B[0m\u001B[0;34m\u001B[0m\u001B[0m\n\u001B[0;32m----> 9\u001B[0;31m \u001B[0mhistory\u001B[0m \u001B[0;34m=\u001B[0m \u001B[0mhistory\u001B[0m\u001B[0;34m.\u001B[0m\u001B[0mappend\u001B[0m\u001B[0;34m(\u001B[0m\u001B[0mpd\u001B[0m\u001B[0;34m.\u001B[0m\u001B[0mDataFrame\u001B[0m\u001B[0;34m(\u001B[0m\u001B[0mhistory_\u001B[0m\u001B[0;34m.\u001B[0m\u001B[0mhistory\u001B[0m\u001B[0;34m)\u001B[0m \u001B[0;34m,\u001B[0m \u001B[0mignore_index\u001B[0m\u001B[0;34m=\u001B[0m\u001B[0;32mTrue\u001B[0m\u001B[0;34m)\u001B[0m\u001B[0;34m\u001B[0m\u001B[0;34m\u001B[0m\u001B[0m\n\u001B[0m",
      "\u001B[0;32m~/Workspace/Emotion-Decetion-Service/venv/lib/python3.10/site-packages/pandas/core/generic.py\u001B[0m in \u001B[0;36m?\u001B[0;34m(self, name)\u001B[0m\n\u001B[1;32m   5985\u001B[0m             \u001B[0;32mand\u001B[0m \u001B[0mname\u001B[0m \u001B[0;32mnot\u001B[0m \u001B[0;32min\u001B[0m \u001B[0mself\u001B[0m\u001B[0;34m.\u001B[0m\u001B[0m_accessors\u001B[0m\u001B[0;34m\u001B[0m\u001B[0;34m\u001B[0m\u001B[0m\n\u001B[1;32m   5986\u001B[0m             \u001B[0;32mand\u001B[0m \u001B[0mself\u001B[0m\u001B[0;34m.\u001B[0m\u001B[0m_info_axis\u001B[0m\u001B[0;34m.\u001B[0m\u001B[0m_can_hold_identifiers_and_holds_name\u001B[0m\u001B[0;34m(\u001B[0m\u001B[0mname\u001B[0m\u001B[0;34m)\u001B[0m\u001B[0;34m\u001B[0m\u001B[0;34m\u001B[0m\u001B[0m\n\u001B[1;32m   5987\u001B[0m         ):\n\u001B[1;32m   5988\u001B[0m             \u001B[0;32mreturn\u001B[0m \u001B[0mself\u001B[0m\u001B[0;34m[\u001B[0m\u001B[0mname\u001B[0m\u001B[0;34m]\u001B[0m\u001B[0;34m\u001B[0m\u001B[0;34m\u001B[0m\u001B[0m\n\u001B[0;32m-> 5989\u001B[0;31m         \u001B[0;32mreturn\u001B[0m \u001B[0mobject\u001B[0m\u001B[0;34m.\u001B[0m\u001B[0m__getattribute__\u001B[0m\u001B[0;34m(\u001B[0m\u001B[0mself\u001B[0m\u001B[0;34m,\u001B[0m \u001B[0mname\u001B[0m\u001B[0;34m)\u001B[0m\u001B[0;34m\u001B[0m\u001B[0;34m\u001B[0m\u001B[0m\n\u001B[0m",
      "\u001B[0;31mAttributeError\u001B[0m: 'DataFrame' object has no attribute 'append'"
     ]
    }
   ],
   "source": [
    "# Un-Freezing the feature extraction layers for fine tuning\n",
    "model.layers[1].trainable = True\n",
    "\n",
    "model.compile(optimizer=tf.keras.optimizers.SGD(0.001), #lower learning rate\n",
    "                loss='categorical_crossentropy',\n",
    "                metrics = ['accuracy'])\n",
    "\n",
    "history_ = model.fit(x = train_generator,epochs = FINE_TUNING_EPOCHS ,validation_data = validation_generator)"
   ]
  },
  {
   "cell_type": "code",
   "execution_count": 11,
   "outputs": [],
   "source": [
    "history = history._append(pd.DataFrame(history_.history) , ignore_index=True)"
   ],
   "metadata": {
    "collapsed": false
   }
  },
  {
   "cell_type": "markdown",
   "metadata": {
    "id": "OdTvxl6EDpZU"
   },
   "source": [
    "## Model Evaluation"
   ]
  },
  {
   "cell_type": "code",
   "execution_count": 12,
   "metadata": {
    "_kg_hide-input": true,
    "colab": {
     "base_uri": "https://localhost:8080/",
     "height": 217
    },
    "execution": {
     "iopub.execute_input": "2021-12-09T06:44:17.805191Z",
     "iopub.status.busy": "2021-12-09T06:44:17.804752Z",
     "iopub.status.idle": "2021-12-09T06:45:06.832365Z",
     "shell.execute_reply": "2021-12-09T06:45:06.831617Z",
     "shell.execute_reply.started": "2021-12-09T06:44:17.805153Z"
    },
    "id": "oLcnaQ2JDpZU",
    "outputId": "2f1a36fd-1077-4053-e19f-a84eede34baf"
   },
   "outputs": [
    {
     "name": "stdout",
     "output_type": "stream",
     "text": [
      "111/111 [==============================] - 15s 136ms/step - loss: 1.0248 - accuracy: 0.6563\n",
      "111/111 [==============================] - 16s 131ms/step\n"
     ]
    }
   ],
   "source": [
    "model.evaluate(test_generator)\n",
    "preds = model.predict(test_generator)\n",
    "y_preds = np.argmax(preds , axis = 1 )\n",
    "y_test = np.array(test_generator.labels)"
   ]
  },
  {
   "cell_type": "markdown",
   "metadata": {
    "id": "waxTk9NHDpZU"
   },
   "source": [
    "## Confusion Matrix"
   ]
  },
  {
   "cell_type": "code",
   "execution_count": 13,
   "metadata": {
    "_kg_hide-input": true,
    "execution": {
     "iopub.execute_input": "2021-12-09T06:47:43.863932Z",
     "iopub.status.busy": "2021-12-09T06:47:43.863038Z",
     "iopub.status.idle": "2021-12-09T06:47:44.278521Z",
     "shell.execute_reply": "2021-12-09T06:47:44.277838Z",
     "shell.execute_reply.started": "2021-12-09T06:47:43.863875Z"
    },
    "id": "82H6JfqfDpZV"
   },
   "outputs": [
    {
     "data": {
      "text/plain": "<Figure size 2000x1000 with 1 Axes>",
      "image/png": "[encoded data removed]"
     },
     "metadata": {},
     "output_type": "display_data"
    }
   ],
   "source": [
    "cm_data = confusion_matrix(y_test , y_preds)\n",
    "cm = pd.DataFrame(cm_data, columns=CLASS_LABELS, index = CLASS_LABELS)\n",
    "cm.index.name = 'Actual'\n",
    "cm.columns.name = 'Predicted'\n",
    "plt.figure(figsize = (20,10))\n",
    "plt.title('Confusion Matrix', fontsize = 20)\n",
    "sns.set(font_scale=1.2)\n",
    "ax = sns.heatmap(cm, cbar=False, cmap=\"Blues\", annot=True, annot_kws={\"size\": 16}, fmt='g')"
   ]
  },
  {
   "cell_type": "code",
   "execution_count": 14,
   "metadata": {
    "id": "K7nXiXpdFmUk"
   },
   "outputs": [],
   "source": [
    "model.save('../cfg/model.h5')"
   ]
  },
  {
   "cell_type": "code",
   "execution_count": 15,
   "metadata": {
    "id": "6aDvWSYTEEfv"
   },
   "outputs": [
    {
     "name": "stdout",
     "output_type": "stream",
     "text": [
      "\r\n",
      "\u001B[1m[\u001B[0m\u001B[34;49mnotice\u001B[0m\u001B[1;39;49m]\u001B[0m\u001B[39;49m A new release of pip available: \u001B[0m\u001B[31;49m22.3.1\u001B[0m\u001B[39;49m -> \u001B[0m\u001B[32;49m23.2.1\u001B[0m\r\n",
      "\u001B[1m[\u001B[0m\u001B[34;49mnotice\u001B[0m\u001B[1;39;49m]\u001B[0m\u001B[39;49m To update, run: \u001B[0m\u001B[32;49mpip install --upgrade pip\u001B[0m\r\n"
     ]
    },
    {
     "ename": "ModuleNotFoundError",
     "evalue": "No module named 'google.colab'",
     "output_type": "error",
     "traceback": [
      "\u001B[0;31m---------------------------------------------------------------------------\u001B[0m",
      "\u001B[0;31mModuleNotFoundError\u001B[0m                       Traceback (most recent call last)",
      "Cell \u001B[0;32mIn[15], line 2\u001B[0m\n\u001B[1;32m      1\u001B[0m get_ipython()\u001B[38;5;241m.\u001B[39msystem(\u001B[38;5;124m'\u001B[39m\u001B[38;5;124m pip install -q kaggle\u001B[39m\u001B[38;5;124m'\u001B[39m)\n\u001B[0;32m----> 2\u001B[0m \u001B[38;5;28;01mfrom\u001B[39;00m \u001B[38;5;21;01mgoogle\u001B[39;00m\u001B[38;5;21;01m.\u001B[39;00m\u001B[38;5;21;01mcolab\u001B[39;00m \u001B[38;5;28;01mimport\u001B[39;00m files\n\u001B[1;32m      4\u001B[0m files\u001B[38;5;241m.\u001B[39mupload()\n\u001B[1;32m      5\u001B[0m get_ipython()\u001B[38;5;241m.\u001B[39msystem(\u001B[38;5;124m'\u001B[39m\u001B[38;5;124m mkdir ~/.kaggle\u001B[39m\u001B[38;5;124m'\u001B[39m)\n",
      "\u001B[0;31mModuleNotFoundError\u001B[0m: No module named 'google.colab'"
     ]
    }
   ],
   "source": [
    "# ! pip install -q kaggle\n",
    "# from google.colab import files\n",
    "#\n",
    "# files.upload()\n",
    "# ! mkdir ~/.kaggle\n",
    "#\n",
    "# ! cp kaggle.json ~/.kaggle/\n",
    "# ! chmod 600 ~/.kaggle/kaggle.json\n",
    "# ! kaggle datasets list"
   ]
  },
  {
   "cell_type": "code",
   "execution_count": null,
   "metadata": {
    "id": "FJFZWVvkEWkb"
   },
   "outputs": [],
   "source": [
    "# ! kaggle datasets download -d ananthu017/emotion-detection-fer"
   ]
  },
  {
   "cell_type": "code",
   "execution_count": null,
   "metadata": {
    "id": "LseRYCvHEf06"
   },
   "outputs": [],
   "source": [
    "# import zipfile\n",
    "# import os\n",
    "#\n",
    "# data_r = zipfile.ZipFile('/content/emotion-detection-fer.zip', 'r')\n",
    "# data_r.extractall()"
   ]
  },
  {
   "cell_type": "code",
   "execution_count": null,
   "metadata": {
    "id": "k-pC7RVIZu7r"
   },
   "outputs": [],
   "source": [
    "# import shutil, sys\n",
    "# shutil.rmtree('/content/test/disgusted')"
   ]
  },
  {
   "cell_type": "code",
   "execution_count": null,
   "outputs": [],
   "source": [],
   "metadata": {
    "collapsed": false
   }
  }
 ],
 "metadata": {
  "accelerator": "GPU",
  "colab": {
   "provenance": []
  },
  "gpuClass": "standard",
  "kernelspec": {
   "display_name": "Python 3 (ipykernel)",
   "language": "python",
   "name": "python3"
  },
  "language_info": {
   "codemirror_mode": {
    "name": "ipython",
    "version": 3
   },
   "file_extension": ".py",
   "mimetype": "text/x-python",
   "name": "python",
   "nbconvert_exporter": "python",
   "pygments_lexer": "ipython3",
   "version": "3.8.10"
  }
 },
 "nbformat": 4,
 "nbformat_minor": 1
}
