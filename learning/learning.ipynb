{
 "cells": [
  {
   "cell_type": "markdown",
   "metadata": {
    "execution": {
     "iopub.execute_input": "2021-10-28T16:25:41.041859Z",
     "iopub.status.busy": "2021-10-28T16:25:41.041154Z",
     "iopub.status.idle": "2021-10-28T16:25:41.047378Z",
     "shell.execute_reply": "2021-10-28T16:25:41.046222Z",
     "shell.execute_reply.started": "2021-10-28T16:25:41.041821Z"
    },
    "id": "oexc3NHHDpZM"
   },
   "source": [
    "<a id=\"im\"></a>\n",
    "# <center>IMPORTING LIBRARIES</center>"
   ]
  },
  {
   "cell_type": "code",
   "execution_count": 3,
   "metadata": {
    "execution": {
     "iopub.execute_input": "2021-12-09T06:48:17.407186Z",
     "iopub.status.busy": "2021-12-09T06:48:17.406939Z",
     "iopub.status.idle": "2021-12-09T06:48:17.412838Z",
     "shell.execute_reply": "2021-12-09T06:48:17.411861Z",
     "shell.execute_reply.started": "2021-12-09T06:48:17.407157Z"
    },
    "id": "5EYpR3loDpZM",
    "ExecuteTime": {
     "end_time": "2023-09-06T17:29:29.711380746Z",
     "start_time": "2023-09-06T17:29:29.614620868Z"
    }
   },
   "outputs": [],
   "source": [
    "import pandas as pd\n",
    "import numpy as np\n",
    "import matplotlib.pyplot as plt\n",
    "import seaborn as sns\n",
    "import plotly.express as px\n",
    "\n",
    "\n",
    "import tensorflow as tf\n",
    "from tensorflow.keras.preprocessing.image import ImageDataGenerator\n",
    "from tensorflow.keras.utils import to_categorical\n",
    "\n",
    "from sklearn.metrics import confusion_matrix , classification_report \n",
    "from sklearn.preprocessing import LabelBinarizer\n",
    "from sklearn.metrics import roc_curve, auc, roc_auc_score\n",
    "\n",
    "from IPython.display import clear_output\n",
    "import warnings\n",
    "warnings.filterwarnings('ignore')"
   ]
  },
  {
   "cell_type": "markdown",
   "metadata": {
    "id": "wh6GWqQkDpZN"
   },
   "source": [
    "<a id=\"hp\"></a>\n",
    "# <center>HYPERPARAMETRERS AND DIRECTORIES</center>"
   ]
  },
  {
   "cell_type": "code",
   "execution_count": 4,
   "metadata": {
    "execution": {
     "iopub.execute_input": "2021-12-09T06:39:09.131243Z",
     "iopub.status.busy": "2021-12-09T06:39:09.13099Z",
     "iopub.status.idle": "2021-12-09T06:39:09.139155Z",
     "shell.execute_reply": "2021-12-09T06:39:09.138293Z",
     "shell.execute_reply.started": "2021-12-09T06:39:09.131209Z"
    },
    "id": "2LtuHhPhDpZO",
    "ExecuteTime": {
     "end_time": "2023-09-06T17:29:29.712820897Z",
     "start_time": "2023-09-06T17:29:29.707925376Z"
    }
   },
   "outputs": [],
   "source": [
    "train_dir = \"data\"\n",
    "test_dir = \"data\"\n",
    "\n",
    "SEED = 12\n",
    "IMG_HEIGHT = 48\n",
    "IMG_WIDTH = 48\n",
    "BATCH_SIZE = 64\n",
    "EPOCHS = 15\n",
    "FINE_TUNING_EPOCHS = 10\n",
    "LR = 0.01\n",
    "NUM_CLASSES = 6\n",
    "EARLY_STOPPING_CRITERIA=3\n",
    "CLASS_LABELS  = ['Anger', 'Fear', 'Happy', 'Neutral', 'Sadness', \"Surprise\"]"
   ]
  },
  {
   "cell_type": "markdown",
   "metadata": {
    "id": "74MTuliEDpZO"
   },
   "source": [
    "<a id=\"data\"></a>\n",
    "# <center> DATA LOADING AND PRE-PROCESSING</center>"
   ]
  },
  {
   "cell_type": "code",
   "execution_count": 5,
   "metadata": {
    "_kg_hide-input": true,
    "colab": {
     "base_uri": "https://localhost:8080/"
    },
    "execution": {
     "iopub.execute_input": "2021-12-09T06:39:09.140332Z",
     "iopub.status.busy": "2021-12-09T06:39:09.140077Z",
     "iopub.status.idle": "2021-12-09T06:39:33.637831Z",
     "shell.execute_reply": "2021-12-09T06:39:33.63632Z",
     "shell.execute_reply.started": "2021-12-09T06:39:09.140295Z"
    },
    "id": "GhpgEQkHDpZP",
    "outputId": "eab23f25-6ff0-4c8b-cd16-7b0c355d4553",
    "ExecuteTime": {
     "end_time": "2023-09-06T17:29:31.074238433Z",
     "start_time": "2023-09-06T17:29:29.708225529Z"
    }
   },
   "outputs": [
    {
     "name": "stdout",
     "output_type": "stream",
     "text": [
      "Found 28275 images belonging to 6 classes.\n",
      "Found 7065 images belonging to 6 classes.\n",
      "Found 35340 images belonging to 6 classes.\n"
     ]
    }
   ],
   "source": [
    "def to_grayscale_then_rgb(image):\n",
    "    image = tf.image.rgb_to_grayscale(image)\n",
    "    image = tf.image.grayscale_to_rgb(image)\n",
    "    return image\n",
    "\n",
    "# preprocess_fun = tf.keras.applications.densenet.preprocess_input\n",
    "preprocess_fun = to_grayscale_then_rgb\n",
    "\n",
    "train_datagen = ImageDataGenerator(horizontal_flip=True,\n",
    "                                   width_shift_range=0.1,\n",
    "                                   height_shift_range=0.05,\n",
    "                                   rescale = 1./255,\n",
    "                                   validation_split = 0.2,\n",
    "                                   preprocessing_function=preprocess_fun\n",
    "                                  )\n",
    "test_datagen = ImageDataGenerator(rescale = 1./255,\n",
    "                                  validation_split = 0.2,\n",
    "                                  preprocessing_function=preprocess_fun)\n",
    "\n",
    "train_generator = train_datagen.flow_from_directory(directory = train_dir,\n",
    "                                                    target_size = (IMG_HEIGHT ,IMG_WIDTH),\n",
    "                                                    batch_size = BATCH_SIZE,\n",
    "                                                    shuffle  = True , \n",
    "                                                    color_mode = \"rgb\",\n",
    "                                                    class_mode = \"categorical\",\n",
    "                                                    subset = \"training\",\n",
    "                                                    seed = 12\n",
    "                                                   )\n",
    "\n",
    "validation_generator = test_datagen.flow_from_directory(directory = train_dir,\n",
    "                                                         target_size = (IMG_HEIGHT ,IMG_WIDTH),\n",
    "                                                         batch_size = BATCH_SIZE,\n",
    "                                                         shuffle  = True , \n",
    "                                                         color_mode = \"rgb\",\n",
    "                                                         class_mode = \"categorical\",\n",
    "                                                         subset = \"validation\",\n",
    "                                                         seed = 12\n",
    "                                                        )\n",
    "\n",
    "test_generator = test_datagen.flow_from_directory(directory = test_dir,\n",
    "                                                   target_size = (IMG_HEIGHT ,IMG_WIDTH),\n",
    "                                                    batch_size = BATCH_SIZE,\n",
    "                                                    shuffle  = False , \n",
    "                                                    color_mode = \"rgb\",\n",
    "                                                    class_mode = \"categorical\",\n",
    "                                                    seed = 12\n",
    "                                                  )"
   ]
  },
  {
   "cell_type": "markdown",
   "metadata": {
    "id": "hkFNRmmnDpZR"
   },
   "source": [
    "## Data distribution (count) among differnt emotions"
   ]
  },
  {
   "cell_type": "code",
   "execution_count": 6,
   "metadata": {
    "_kg_hide-input": true,
    "colab": {
     "base_uri": "https://localhost:8080/"
    },
    "execution": {
     "iopub.execute_input": "2021-12-09T06:40:24.262316Z",
     "iopub.status.busy": "2021-12-09T06:40:24.26204Z",
     "iopub.status.idle": "2021-12-09T06:40:25.101773Z",
     "shell.execute_reply": "2021-12-09T06:40:25.101112Z",
     "shell.execute_reply.started": "2021-12-09T06:40:24.262279Z"
    },
    "id": "nXv5xBrADpZR",
    "outputId": "023c8ebb-2cd4-406e-aac8-355129a12ac3",
    "ExecuteTime": {
     "end_time": "2023-09-06T17:29:31.083570323Z",
     "start_time": "2023-09-06T17:29:31.066945076Z"
    }
   },
   "outputs": [
    {
     "name": "stdout",
     "output_type": "stream",
     "text": [
      "Anger 3963\n",
      "Fear 4097\n",
      "Happy 7192\n",
      "Neutral 4959\n",
      "Sadness 4862\n",
      "Surprise 3202\n"
     ]
    }
   ],
   "source": [
    "classLabelCounts = [list(train_generator.classes).count(i) for i in np.unique(train_generator.classes)]\n",
    "for classLabel, classLabelCount in zip(CLASS_LABELS, classLabelCounts):\n",
    "  print(classLabel, classLabelCount)"
   ]
  },
  {
   "cell_type": "markdown",
   "metadata": {
    "id": "uzY1dOBtDpZR"
   },
   "source": [
    "<a id=\"model\"></a>\n",
    "# <center> DenseNet169 Transfer Learning  </center>"
   ]
  },
  {
   "cell_type": "code",
   "execution_count": 7,
   "metadata": {
    "execution": {
     "iopub.execute_input": "2021-12-09T06:40:25.103789Z",
     "iopub.status.busy": "2021-12-09T06:40:25.103368Z",
     "iopub.status.idle": "2021-12-09T06:40:25.114799Z",
     "shell.execute_reply": "2021-12-09T06:40:25.113768Z",
     "shell.execute_reply.started": "2021-12-09T06:40:25.103749Z"
    },
    "id": "5IB6JTbdDpZS",
    "ExecuteTime": {
     "end_time": "2023-09-06T17:29:31.093085827Z",
     "start_time": "2023-09-06T17:29:31.085220186Z"
    }
   },
   "outputs": [],
   "source": [
    "def feature_extractor(inputs):\n",
    "    feature_extractor = tf.keras.applications.DenseNet169(input_shape=(IMG_HEIGHT,IMG_WIDTH, 3),\n",
    "                                               include_top=False,\n",
    "                                               weights=\"imagenet\")(inputs)\n",
    "    \n",
    "    return feature_extractor\n",
    "\n",
    "def classifier(inputs):\n",
    "    x = tf.keras.layers.GlobalAveragePooling2D()(inputs)\n",
    "    x = tf.keras.layers.Dense(512, activation=\"relu\", kernel_regularizer = tf.keras.regularizers.l2(0.01))(x)\n",
    "    x = tf.keras.layers.Dropout(0.3)(x)\n",
    "    x = tf.keras.layers.Dense(1024, activation=\"relu\", kernel_regularizer = tf.keras.regularizers.l2(0.01))(x)\n",
    "    x = tf.keras.layers.Dropout(0.5)(x)\n",
    "    x = tf.keras.layers.Dense(512, activation=\"relu\", kernel_regularizer = tf.keras.regularizers.l2(0.01))(x)\n",
    "    x = tf.keras.layers.Dropout(0.5) (x)\n",
    "    x = tf.keras.layers.Dense(NUM_CLASSES, activation=\"softmax\", name=\"classification\")(x)\n",
    "    \n",
    "    return x\n",
    "\n",
    "def final_model(inputs):\n",
    "    densenet_feature_extractor = feature_extractor(inputs)\n",
    "    classification_output = classifier(densenet_feature_extractor)\n",
    "    \n",
    "    return classification_output\n",
    "\n",
    "def define_compile_model():\n",
    "    \n",
    "    inputs = tf.keras.layers.Input(shape=(IMG_HEIGHT ,IMG_WIDTH,3))\n",
    "    classification_output = final_model(inputs) \n",
    "    model = tf.keras.Model(inputs=inputs, outputs = classification_output)\n",
    "     \n",
    "    model.compile(optimizer=tf.keras.optimizers.SGD(0.05), \n",
    "                loss='categorical_crossentropy',\n",
    "                metrics = ['accuracy'])\n",
    "  \n",
    "    return model"
   ]
  },
  {
   "cell_type": "markdown",
   "metadata": {
    "id": "3dzFVkhuDpZS"
   },
   "source": [
    "## Summary of model"
   ]
  },
  {
   "cell_type": "code",
   "execution_count": 8,
   "metadata": {
    "_kg_hide-input": true,
    "colab": {
     "base_uri": "https://localhost:8080/"
    },
    "execution": {
     "iopub.execute_input": "2021-12-09T06:40:28.867335Z",
     "iopub.status.busy": "2021-12-09T06:40:28.866836Z",
     "iopub.status.idle": "2021-12-09T06:40:36.720149Z",
     "shell.execute_reply": "2021-12-09T06:40:36.719438Z",
     "shell.execute_reply.started": "2021-12-09T06:40:28.867292Z"
    },
    "id": "KIlFQOEmDpZS",
    "outputId": "873d5c0a-e360-4454-d4e8-01a3375ca86b"
   },
   "outputs": [
    {
     "name": "stdout",
     "output_type": "stream",
     "text": [
      "Model: \"model\"\n",
      "_________________________________________________________________\n",
      " Layer (type)                Output Shape              Param #   \n",
      "=================================================================\n",
      " input_1 (InputLayer)        [(None, 48, 48, 3)]       0         \n",
      "                                                                 \n",
      " densenet169 (Functional)    (None, 1, 1, 1664)        12642880  \n",
      "                                                                 \n",
      " global_average_pooling2d (  (None, 1664)              0         \n",
      " GlobalAveragePooling2D)                                         \n",
      "                                                                 \n",
      " dense (Dense)               (None, 512)               852480    \n",
      "                                                                 \n",
      " dropout (Dropout)           (None, 512)               0         \n",
      "                                                                 \n",
      " dense_1 (Dense)             (None, 1024)              525312    \n",
      "                                                                 \n",
      " dropout_1 (Dropout)         (None, 1024)              0         \n",
      "                                                                 \n",
      " dense_2 (Dense)             (None, 512)               524800    \n",
      "                                                                 \n",
      " dropout_2 (Dropout)         (None, 512)               0         \n",
      "                                                                 \n",
      " classification (Dense)      (None, 6)                 3078      \n",
      "                                                                 \n",
      "=================================================================\n",
      "Total params: 14548550 (55.50 MB)\n",
      "Trainable params: 1905670 (7.27 MB)\n",
      "Non-trainable params: 12642880 (48.23 MB)\n",
      "_________________________________________________________________\n"
     ]
    }
   ],
   "source": [
    "model = define_compile_model()\n",
    "clear_output()\n",
    "\n",
    "# Feezing the feature extraction layers\n",
    "model.layers[1].trainable = False\n",
    "\n",
    "model.summary()"
   ]
  },
  {
   "cell_type": "markdown",
   "metadata": {
    "id": "nbScA6BuDpZT"
   },
   "source": [
    "<a id=\"train\"></a>\n",
    "# <center> Training and Fine-Tuning </center> "
   ]
  },
  {
   "cell_type": "markdown",
   "metadata": {
    "id": "Jx4iMUszDpZT"
   },
   "source": [
    "## Training model with freezed layers of DenseNer169"
   ]
  },
  {
   "cell_type": "code",
   "execution_count": 9,
   "metadata": {
    "_kg_hide-output": true,
    "colab": {
     "base_uri": "https://localhost:8080/"
    },
    "execution": {
     "iopub.execute_input": "2021-12-09T06:40:37.926183Z",
     "iopub.status.busy": "2021-12-09T06:40:37.925939Z",
     "iopub.status.idle": "2021-12-09T06:44:17.632897Z",
     "shell.execute_reply": "2021-12-09T06:44:17.632068Z",
     "shell.execute_reply.started": "2021-12-09T06:40:37.926155Z"
    },
    "id": "9uVJhDXCDpZT",
    "outputId": "c9244726-ea9e-4205-cedb-e2f32420306c",
    "ExecuteTime": {
     "end_time": "2023-09-06T18:45:37.878875370Z",
     "start_time": "2023-09-06T17:29:42.680102302Z"
    }
   },
   "outputs": [
    {
     "name": "stdout",
     "output_type": "stream",
     "text": [
      "Epoch 1/15\n",
      "  1/442 [..............................] - ETA: 1:32:26 - loss: 23.5982 - accuracy: 0.1094"
     ]
    },
    {
     "name": "stderr",
     "output_type": "stream",
     "text": [
      "2023-09-06 20:29:55.281218: W tensorflow/tsl/framework/cpu_allocator_impl.cc:83] Allocation of 25214976 exceeds 10% of free system memory.\n",
      "2023-09-06 20:29:55.281340: W tensorflow/tsl/framework/cpu_allocator_impl.cc:83] Allocation of 25214976 exceeds 10% of free system memory.\n",
      "2023-09-06 20:29:55.309806: W tensorflow/tsl/framework/cpu_allocator_impl.cc:83] Allocation of 25214976 exceeds 10% of free system memory.\n",
      "2023-09-06 20:29:55.309925: W tensorflow/tsl/framework/cpu_allocator_impl.cc:83] Allocation of 25214976 exceeds 10% of free system memory.\n",
      "2023-09-06 20:29:55.336785: W tensorflow/tsl/framework/cpu_allocator_impl.cc:83] Allocation of 25214976 exceeds 10% of free system memory.\n"
     ]
    },
    {
     "name": "stdout",
     "output_type": "stream",
     "text": [
      "442/442 [==============================] - 294s 638ms/step - loss: 15.9689 - accuracy: 0.3053 - val_loss: 10.3008 - val_accuracy: 0.4500\n",
      "Epoch 2/15\n",
      "442/442 [==============================] - 386s 874ms/step - loss: 7.2345 - accuracy: 0.4852 - val_loss: 5.0874 - val_accuracy: 0.4831\n",
      "Epoch 3/15\n",
      "442/442 [==============================] - 362s 820ms/step - loss: 3.6568 - accuracy: 0.5438 - val_loss: 2.7895 - val_accuracy: 0.5231\n",
      "Epoch 4/15\n",
      "442/442 [==============================] - 296s 669ms/step - loss: 2.1595 - accuracy: 0.5799 - val_loss: 1.9451 - val_accuracy: 0.5200\n",
      "Epoch 5/15\n",
      "442/442 [==============================] - 294s 665ms/step - loss: 1.5150 - accuracy: 0.6061 - val_loss: 1.3968 - val_accuracy: 0.5850\n",
      "Epoch 6/15\n",
      "442/442 [==============================] - 290s 657ms/step - loss: 1.2320 - accuracy: 0.6200 - val_loss: 1.2394 - val_accuracy: 0.5965\n",
      "Epoch 7/15\n",
      "442/442 [==============================] - 291s 659ms/step - loss: 1.1008 - accuracy: 0.6352 - val_loss: 1.1630 - val_accuracy: 0.5956\n",
      "Epoch 8/15\n",
      "442/442 [==============================] - 287s 649ms/step - loss: 1.0336 - accuracy: 0.6461 - val_loss: 1.1112 - val_accuracy: 0.6076\n",
      "Epoch 9/15\n",
      "442/442 [==============================] - 271s 612ms/step - loss: 0.9867 - accuracy: 0.6645 - val_loss: 1.0973 - val_accuracy: 0.6187\n",
      "Epoch 10/15\n",
      "442/442 [==============================] - 271s 612ms/step - loss: 0.9527 - accuracy: 0.6718 - val_loss: 1.1652 - val_accuracy: 0.5939\n",
      "Epoch 11/15\n",
      "442/442 [==============================] - 278s 630ms/step - loss: 0.9330 - accuracy: 0.6779 - val_loss: 1.1239 - val_accuracy: 0.6006\n",
      "Epoch 12/15\n",
      "442/442 [==============================] - 290s 656ms/step - loss: 0.9026 - accuracy: 0.6892 - val_loss: 1.0854 - val_accuracy: 0.6249\n",
      "Epoch 13/15\n",
      "442/442 [==============================] - 319s 721ms/step - loss: 0.8789 - accuracy: 0.7012 - val_loss: 1.1060 - val_accuracy: 0.6208\n",
      "Epoch 14/15\n",
      "442/442 [==============================] - 312s 706ms/step - loss: 0.8610 - accuracy: 0.7080 - val_loss: 1.1356 - val_accuracy: 0.6125\n",
      "Epoch 15/15\n",
      "442/442 [==============================] - ETA: 0s - loss: 0.8470 - accuracy: 0.7152Restoring model weights from the end of the best epoch: 12.\n",
      "442/442 [==============================] - 313s 709ms/step - loss: 0.8470 - accuracy: 0.7152 - val_loss: 1.0982 - val_accuracy: 0.6238\n",
      "Epoch 15: early stopping\n"
     ]
    }
   ],
   "source": [
    "earlyStoppingCallback = tf.keras.callbacks.EarlyStopping(monitor='val_loss',\n",
    "                                                         patience=EARLY_STOPPING_CRITERIA,\n",
    "                                                         verbose= 1 ,\n",
    "                                                         restore_best_weights=True\n",
    "                                                        )\n",
    "\n",
    "history = model.fit(x = train_generator,\n",
    "                    epochs = EPOCHS ,\n",
    "                    validation_data = validation_generator , \n",
    "                    callbacks= [earlyStoppingCallback])\n",
    "\n",
    "history = pd.DataFrame(history.history)"
   ]
  },
  {
   "cell_type": "markdown",
   "metadata": {
    "id": "4Kypqdy1DpZT"
   },
   "source": [
    "## Fine Tuning"
   ]
  },
  {
   "cell_type": "code",
   "execution_count": 10,
   "metadata": {
    "_kg_hide-output": true,
    "colab": {
     "base_uri": "https://localhost:8080/"
    },
    "execution": {
     "iopub.execute_input": "2021-10-28T16:40:49.276117Z",
     "iopub.status.busy": "2021-10-28T16:40:49.275615Z",
     "iopub.status.idle": "2021-10-28T16:48:28.259359Z",
     "shell.execute_reply": "2021-10-28T16:48:28.258509Z",
     "shell.execute_reply.started": "2021-10-28T16:40:49.276082Z"
    },
    "id": "nVGSccHhDpZT",
    "outputId": "4da15bcc-9b7f-4233-bd99-d687cd1291a3",
    "ExecuteTime": {
     "end_time": "2023-09-06T19:42:19.396137060Z",
     "start_time": "2023-09-06T18:45:37.884168369Z"
    }
   },
   "outputs": [
    {
     "name": "stdout",
     "output_type": "stream",
     "text": [
      "Epoch 1/10\n",
      "442/442 [==============================] - 329s 713ms/step - loss: 0.8103 - accuracy: 0.7297 - val_loss: 0.9781 - val_accuracy: 0.6692\n",
      "Epoch 2/10\n",
      "442/442 [==============================] - 324s 732ms/step - loss: 0.7805 - accuracy: 0.7375 - val_loss: 0.9725 - val_accuracy: 0.6752\n",
      "Epoch 3/10\n",
      "442/442 [==============================] - 335s 757ms/step - loss: 0.7627 - accuracy: 0.7425 - val_loss: 0.9715 - val_accuracy: 0.6787\n",
      "Epoch 4/10\n",
      "442/442 [==============================] - 343s 776ms/step - loss: 0.7512 - accuracy: 0.7496 - val_loss: 0.9719 - val_accuracy: 0.6797\n",
      "Epoch 5/10\n",
      "442/442 [==============================] - 347s 785ms/step - loss: 0.7358 - accuracy: 0.7530 - val_loss: 0.9739 - val_accuracy: 0.6793\n",
      "Epoch 6/10\n",
      "442/442 [==============================] - 348s 787ms/step - loss: 0.7321 - accuracy: 0.7552 - val_loss: 0.9713 - val_accuracy: 0.6786\n",
      "Epoch 7/10\n",
      "442/442 [==============================] - 353s 800ms/step - loss: 0.7195 - accuracy: 0.7627 - val_loss: 0.9751 - val_accuracy: 0.6773\n",
      "Epoch 8/10\n",
      "442/442 [==============================] - 354s 801ms/step - loss: 0.7137 - accuracy: 0.7627 - val_loss: 0.9720 - val_accuracy: 0.6767\n",
      "Epoch 9/10\n",
      "442/442 [==============================] - 324s 732ms/step - loss: 0.7064 - accuracy: 0.7679 - val_loss: 0.9771 - val_accuracy: 0.6769\n",
      "Epoch 10/10\n",
      "442/442 [==============================] - 344s 779ms/step - loss: 0.6990 - accuracy: 0.7658 - val_loss: 0.9727 - val_accuracy: 0.6818\n"
     ]
    }
   ],
   "source": [
    "# Un-Freezing the feature extraction layers for fine tuning\n",
    "model.layers[1].trainable = True\n",
    "\n",
    "model.compile(optimizer=tf.keras.optimizers.SGD(0.001), #lower learning rate\n",
    "                loss='categorical_crossentropy',\n",
    "                metrics = ['accuracy'])\n",
    "\n",
    "history_ = model.fit(x = train_generator,epochs = FINE_TUNING_EPOCHS ,validation_data = validation_generator)"
   ]
  },
  {
   "cell_type": "code",
   "execution_count": 11,
   "outputs": [],
   "source": [
    "history = history._append(pd.DataFrame(history_.history) , ignore_index=True)"
   ],
   "metadata": {
    "collapsed": false,
    "ExecuteTime": {
     "end_time": "2023-09-06T19:42:19.398943346Z",
     "start_time": "2023-09-06T19:42:19.395962456Z"
    }
   }
  },
  {
   "cell_type": "markdown",
   "metadata": {
    "id": "OdTvxl6EDpZU"
   },
   "source": [
    "## Model Evaluation"
   ]
  },
  {
   "cell_type": "code",
   "execution_count": 12,
   "metadata": {
    "_kg_hide-input": true,
    "colab": {
     "base_uri": "https://localhost:8080/",
     "height": 217
    },
    "execution": {
     "iopub.execute_input": "2021-12-09T06:44:17.805191Z",
     "iopub.status.busy": "2021-12-09T06:44:17.804752Z",
     "iopub.status.idle": "2021-12-09T06:45:06.832365Z",
     "shell.execute_reply": "2021-12-09T06:45:06.831617Z",
     "shell.execute_reply.started": "2021-12-09T06:44:17.805153Z"
    },
    "id": "oLcnaQ2JDpZU",
    "outputId": "2f1a36fd-1077-4053-e19f-a84eede34baf",
    "ExecuteTime": {
     "end_time": "2023-09-06T19:45:40.790895366Z",
     "start_time": "2023-09-06T19:42:19.398782969Z"
    }
   },
   "outputs": [
    {
     "name": "stdout",
     "output_type": "stream",
     "text": [
      "553/553 [==============================] - 99s 178ms/step - loss: 0.6817 - accuracy: 0.7781\n",
      "553/553 [==============================] - 102s 181ms/step\n"
     ]
    }
   ],
   "source": [
    "model.evaluate(test_generator)\n",
    "preds = model.predict(test_generator)\n",
    "y_preds = np.argmax(preds , axis = 1 )\n",
    "y_test = np.array(test_generator.labels)"
   ]
  },
  {
   "cell_type": "markdown",
   "metadata": {
    "id": "waxTk9NHDpZU"
   },
   "source": [
    "## Confusion Matrix"
   ]
  },
  {
   "cell_type": "code",
   "execution_count": 13,
   "metadata": {
    "_kg_hide-input": true,
    "execution": {
     "iopub.execute_input": "2021-12-09T06:47:43.863932Z",
     "iopub.status.busy": "2021-12-09T06:47:43.863038Z",
     "iopub.status.idle": "2021-12-09T06:47:44.278521Z",
     "shell.execute_reply": "2021-12-09T06:47:44.277838Z",
     "shell.execute_reply.started": "2021-12-09T06:47:43.863875Z"
    },
    "id": "82H6JfqfDpZV",
    "ExecuteTime": {
     "end_time": "2023-09-06T19:45:41.213744612Z",
     "start_time": "2023-09-06T19:45:40.787884426Z"
    }
   },
   "outputs": [
    {
     "data": {
      "text/plain": "<Figure size 2000x1000 with 1 Axes>",
      "image/png": "[encoded data removed]"
     },
     "metadata": {},
     "output_type": "display_data"
    }
   ],
   "source": [
    "cm_data = confusion_matrix(y_test , y_preds)\n",
    "cm = pd.DataFrame(cm_data, columns=CLASS_LABELS, index = CLASS_LABELS)\n",
    "cm.index.name = 'Actual'\n",
    "cm.columns.name = 'Predicted'\n",
    "plt.figure(figsize = (20,10))\n",
    "plt.title('Confusion Matrix', fontsize = 20)\n",
    "sns.set(font_scale=1.2)\n",
    "ax = sns.heatmap(cm, cbar=False, cmap=\"Blues\", annot=True, annot_kws={\"size\": 16}, fmt='g')"
   ]
  },
  {
   "cell_type": "code",
   "execution_count": 14,
   "metadata": {
    "id": "K7nXiXpdFmUk",
    "ExecuteTime": {
     "end_time": "2023-09-06T19:45:42.315830159Z",
     "start_time": "2023-09-06T19:45:41.201573376Z"
    }
   },
   "outputs": [],
   "source": [
    "model.save('../cfg/model.h5')"
   ]
  },
  {
   "cell_type": "code",
   "execution_count": 15,
   "metadata": {
    "id": "6aDvWSYTEEfv",
    "ExecuteTime": {
     "end_time": "2023-09-06T19:45:42.326391086Z",
     "start_time": "2023-09-06T19:45:42.316169592Z"
    }
   },
   "outputs": [],
   "source": [
    "# ! pip install -q kaggle\n",
    "# from google.colab import files\n",
    "#\n",
    "# files.upload()\n",
    "# ! mkdir ~/.kaggle\n",
    "#\n",
    "# ! cp kaggle.json ~/.kaggle/\n",
    "# ! chmod 600 ~/.kaggle/kaggle.json\n",
    "# ! kaggle datasets list"
   ]
  },
  {
   "cell_type": "code",
   "execution_count": 16,
   "metadata": {
    "id": "FJFZWVvkEWkb",
    "ExecuteTime": {
     "end_time": "2023-09-06T19:45:42.326970566Z",
     "start_time": "2023-09-06T19:45:42.320336726Z"
    }
   },
   "outputs": [],
   "source": [
    "# ! kaggle datasets download -d ananthu017/emotion-detection-fer"
   ]
  },
  {
   "cell_type": "code",
   "execution_count": 17,
   "metadata": {
    "id": "LseRYCvHEf06",
    "ExecuteTime": {
     "end_time": "2023-09-06T19:45:42.327223878Z",
     "start_time": "2023-09-06T19:45:42.324019848Z"
    }
   },
   "outputs": [],
   "source": [
    "# import zipfile\n",
    "# import os\n",
    "#\n",
    "# data_r = zipfile.ZipFile('/content/emotion-detection-fer.zip', 'r')\n",
    "# data_r.extractall()"
   ]
  },
  {
   "cell_type": "code",
   "execution_count": 18,
   "metadata": {
    "id": "k-pC7RVIZu7r",
    "ExecuteTime": {
     "end_time": "2023-09-06T19:45:42.372587858Z",
     "start_time": "2023-09-06T19:45:42.327717418Z"
    }
   },
   "outputs": [],
   "source": [
    "# import shutil, sys\n",
    "# shutil.rmtree('/content/test/disgusted')"
   ]
  },
  {
   "cell_type": "code",
   "execution_count": 19,
   "outputs": [],
   "source": [
    "model.save('../cfg/model_new.h5')"
   ],
   "metadata": {
    "collapsed": false,
    "ExecuteTime": {
     "end_time": "2023-09-06T19:46:11.215353805Z",
     "start_time": "2023-09-06T19:46:10.370413217Z"
    }
   }
  },
  {
   "cell_type": "code",
   "execution_count": null,
   "outputs": [],
   "source": [],
   "metadata": {
    "collapsed": false
   }
  }
 ],
 "metadata": {
  "accelerator": "GPU",
  "colab": {
   "provenance": []
  },
  "gpuClass": "standard",
  "kernelspec": {
   "display_name": "Python 3 (ipykernel)",
   "language": "python",
   "name": "python3"
  },
  "language_info": {
   "codemirror_mode": {
    "name": "ipython",
    "version": 3
   },
   "file_extension": ".py",
   "mimetype": "text/x-python",
   "name": "python",
   "nbconvert_exporter": "python",
   "pygments_lexer": "ipython3",
   "version": "3.8.10"
  }
 },
 "nbformat": 4,
 "nbformat_minor": 1
}
