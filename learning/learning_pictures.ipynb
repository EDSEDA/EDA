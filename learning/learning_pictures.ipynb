{
 "cells": [
  {
   "cell_type": "markdown",
   "metadata": {
    "execution": {
     "iopub.execute_input": "2021-10-28T16:25:41.041859Z",
     "iopub.status.busy": "2021-10-28T16:25:41.041154Z",
     "iopub.status.idle": "2021-10-28T16:25:41.047378Z",
     "shell.execute_reply": "2021-10-28T16:25:41.046222Z",
     "shell.execute_reply.started": "2021-10-28T16:25:41.041821Z"
    },
    "id": "oexc3NHHDpZM"
   },
   "source": [
    "<a id=\"im\"></a>\n",
    "# <center>IMPORTING LIBRARIES</center>"
   ]
  },
  {
   "cell_type": "code",
   "execution_count": 1,
   "metadata": {
    "execution": {
     "iopub.execute_input": "2021-12-09T06:48:17.407186Z",
     "iopub.status.busy": "2021-12-09T06:48:17.406939Z",
     "iopub.status.idle": "2021-12-09T06:48:17.412838Z",
     "shell.execute_reply": "2021-12-09T06:48:17.411861Z",
     "shell.execute_reply.started": "2021-12-09T06:48:17.407157Z"
    },
    "id": "5EYpR3loDpZM",
    "ExecuteTime": {
     "end_time": "2023-09-09T02:48:13.228484613Z",
     "start_time": "2023-09-09T02:48:11.163288769Z"
    }
   },
   "outputs": [
    {
     "name": "stderr",
     "output_type": "stream",
     "text": [
      "2023-09-09 05:48:11.479272: I tensorflow/tsl/cuda/cudart_stub.cc:28] Could not find cuda drivers on your machine, GPU will not be used.\n",
      "2023-09-09 05:48:11.625187: I tensorflow/tsl/cuda/cudart_stub.cc:28] Could not find cuda drivers on your machine, GPU will not be used.\n",
      "2023-09-09 05:48:11.626397: I tensorflow/core/platform/cpu_feature_guard.cc:182] This TensorFlow binary is optimized to use available CPU instructions in performance-critical operations.\n",
      "To enable the following instructions: AVX2 FMA, in other operations, rebuild TensorFlow with the appropriate compiler flags.\n",
      "2023-09-09 05:48:12.388795: W tensorflow/compiler/tf2tensorrt/utils/py_utils.cc:38] TF-TRT Warning: Could not find TensorRT\n"
     ]
    }
   ],
   "source": [
    "import pandas as pd\n",
    "import numpy as np\n",
    "import matplotlib.pyplot as plt\n",
    "import seaborn as sns\n",
    "import plotly.express as px\n",
    "\n",
    "\n",
    "import tensorflow as tf\n",
    "from tensorflow.keras.preprocessing.image import ImageDataGenerator\n",
    "from tensorflow.keras.utils import to_categorical\n",
    "\n",
    "from sklearn.metrics import confusion_matrix , classification_report \n",
    "from sklearn.preprocessing import LabelBinarizer\n",
    "from sklearn.metrics import roc_curve, auc, roc_auc_score\n",
    "\n",
    "from IPython.display import clear_output\n",
    "import warnings\n",
    "warnings.filterwarnings('ignore')"
   ]
  },
  {
   "cell_type": "markdown",
   "metadata": {
    "id": "wh6GWqQkDpZN"
   },
   "source": [
    "<a id=\"hp\"></a>\n",
    "# <center>HYPERPARAMETRERS AND DIRECTORIES</center>"
   ]
  },
  {
   "cell_type": "code",
   "execution_count": 2,
   "metadata": {
    "execution": {
     "iopub.execute_input": "2021-12-09T06:39:09.131243Z",
     "iopub.status.busy": "2021-12-09T06:39:09.13099Z",
     "iopub.status.idle": "2021-12-09T06:39:09.139155Z",
     "shell.execute_reply": "2021-12-09T06:39:09.138293Z",
     "shell.execute_reply.started": "2021-12-09T06:39:09.131209Z"
    },
    "id": "2LtuHhPhDpZO",
    "ExecuteTime": {
     "end_time": "2023-09-09T02:48:13.232540114Z",
     "start_time": "2023-09-09T02:48:13.230420971Z"
    }
   },
   "outputs": [],
   "source": [
    "train_dir = \"data3/train\"\n",
    "test_dir = \"data3/test\"\n",
    "\n",
    "SEED = 12\n",
    "IMG_HEIGHT = 48\n",
    "IMG_WIDTH = 48\n",
    "BATCH_SIZE = 64\n",
    "EPOCHS = 7\n",
    "FINE_TUNING_EPOCHS = 5\n",
    "LR = 0.01\n",
    "NUM_CLASSES = 6\n",
    "EARLY_STOPPING_CRITERIA=3\n",
    "CLASS_LABELS  = ['Anger', 'Fear', 'Happy', 'Neutral', 'Sadness', \"Surprise\"]"
   ]
  },
  {
   "cell_type": "markdown",
   "metadata": {
    "id": "74MTuliEDpZO"
   },
   "source": [
    "<a id=\"data\"></a>\n",
    "# <center> DATA LOADING AND PRE-PROCESSING</center>"
   ]
  },
  {
   "cell_type": "code",
   "execution_count": 3,
   "metadata": {
    "_kg_hide-input": true,
    "colab": {
     "base_uri": "https://localhost:8080/"
    },
    "execution": {
     "iopub.execute_input": "2021-12-09T06:39:09.140332Z",
     "iopub.status.busy": "2021-12-09T06:39:09.140077Z",
     "iopub.status.idle": "2021-12-09T06:39:33.637831Z",
     "shell.execute_reply": "2021-12-09T06:39:33.63632Z",
     "shell.execute_reply.started": "2021-12-09T06:39:09.140295Z"
    },
    "id": "GhpgEQkHDpZP",
    "outputId": "eab23f25-6ff0-4c8b-cd16-7b0c355d4553",
    "ExecuteTime": {
     "end_time": "2023-09-09T02:48:13.907937971Z",
     "start_time": "2023-09-09T02:48:13.232720614Z"
    }
   },
   "outputs": [
    {
     "name": "stdout",
     "output_type": "stream",
     "text": [
      "Found 22619 images belonging to 6 classes.\n",
      "Found 5654 images belonging to 6 classes.\n",
      "Found 7067 images belonging to 6 classes.\n"
     ]
    }
   ],
   "source": [
    "def to_grayscale_then_rgb(image):\n",
    "    image = tf.image.rgb_to_grayscale(image)\n",
    "    image = tf.image.grayscale_to_rgb(image)\n",
    "    return image\n",
    "\n",
    "# preprocess_fun = tf.keras.applications.densenet.preprocess_input\n",
    "preprocess_fun = to_grayscale_then_rgb\n",
    "\n",
    "train_datagen = ImageDataGenerator(horizontal_flip=True,\n",
    "                                   width_shift_range=0.1,\n",
    "                                   height_shift_range=0.05,\n",
    "                                   rescale = 1./255,\n",
    "                                   validation_split = 0.2,\n",
    "                                   preprocessing_function=preprocess_fun\n",
    "                                  )\n",
    "test_datagen = ImageDataGenerator(rescale = 1./255,\n",
    "                                  validation_split = 0.2,\n",
    "                                  preprocessing_function=preprocess_fun)\n",
    "\n",
    "train_generator = train_datagen.flow_from_directory(directory = train_dir,\n",
    "                                                    target_size = (IMG_HEIGHT ,IMG_WIDTH),\n",
    "                                                    batch_size = BATCH_SIZE,\n",
    "                                                    shuffle  = True , \n",
    "                                                    color_mode = \"rgb\",\n",
    "                                                    class_mode = \"categorical\",\n",
    "                                                    subset = \"training\",\n",
    "                                                    seed = 12\n",
    "                                                   )\n",
    "\n",
    "validation_generator = test_datagen.flow_from_directory(directory = train_dir,\n",
    "                                                         target_size = (IMG_HEIGHT ,IMG_WIDTH),\n",
    "                                                         batch_size = BATCH_SIZE,\n",
    "                                                         shuffle  = True , \n",
    "                                                         color_mode = \"rgb\",\n",
    "                                                         class_mode = \"categorical\",\n",
    "                                                         subset = \"validation\",\n",
    "                                                         seed = 12\n",
    "                                                        )\n",
    "\n",
    "test_generator = test_datagen.flow_from_directory(directory = test_dir,\n",
    "                                                   target_size = (IMG_HEIGHT ,IMG_WIDTH),\n",
    "                                                    batch_size = BATCH_SIZE,\n",
    "                                                    shuffle  = False , \n",
    "                                                    color_mode = \"rgb\",\n",
    "                                                    class_mode = \"categorical\",\n",
    "                                                    seed = 12\n",
    "                                                  )"
   ]
  },
  {
   "cell_type": "markdown",
   "metadata": {
    "id": "hkFNRmmnDpZR"
   },
   "source": [
    "## Data distribution (count) among differnt emotions"
   ]
  },
  {
   "cell_type": "code",
   "execution_count": 4,
   "metadata": {
    "_kg_hide-input": true,
    "colab": {
     "base_uri": "https://localhost:8080/"
    },
    "execution": {
     "iopub.execute_input": "2021-12-09T06:40:24.262316Z",
     "iopub.status.busy": "2021-12-09T06:40:24.26204Z",
     "iopub.status.idle": "2021-12-09T06:40:25.101773Z",
     "shell.execute_reply": "2021-12-09T06:40:25.101112Z",
     "shell.execute_reply.started": "2021-12-09T06:40:24.262279Z"
    },
    "id": "nXv5xBrADpZR",
    "outputId": "023c8ebb-2cd4-406e-aac8-355129a12ac3",
    "ExecuteTime": {
     "end_time": "2023-09-09T02:48:13.951626025Z",
     "start_time": "2023-09-09T02:48:13.910040963Z"
    }
   },
   "outputs": [
    {
     "name": "stdout",
     "output_type": "stream",
     "text": [
      "Anger 3196\n",
      "Fear 3278\n",
      "Happy 5772\n",
      "Neutral 3972\n",
      "Sadness 3864\n",
      "Surprise 2537\n"
     ]
    }
   ],
   "source": [
    "classLabelCounts = [list(train_generator.classes).count(i) for i in np.unique(train_generator.classes)]\n",
    "for classLabel, classLabelCount in zip(CLASS_LABELS, classLabelCounts):\n",
    "  print(classLabel, classLabelCount)"
   ]
  },
  {
   "cell_type": "markdown",
   "metadata": {
    "id": "uzY1dOBtDpZR"
   },
   "source": [
    "<a id=\"model\"></a>\n",
    "# <center> DenseNet169 Transfer Learning  </center>"
   ]
  },
  {
   "cell_type": "code",
   "execution_count": 5,
   "metadata": {
    "execution": {
     "iopub.execute_input": "2021-12-09T06:40:25.103789Z",
     "iopub.status.busy": "2021-12-09T06:40:25.103368Z",
     "iopub.status.idle": "2021-12-09T06:40:25.114799Z",
     "shell.execute_reply": "2021-12-09T06:40:25.113768Z",
     "shell.execute_reply.started": "2021-12-09T06:40:25.103749Z"
    },
    "id": "5IB6JTbdDpZS",
    "ExecuteTime": {
     "end_time": "2023-09-09T02:48:13.951780997Z",
     "start_time": "2023-09-09T02:48:13.951307095Z"
    }
   },
   "outputs": [],
   "source": [
    "def feature_extractor(inputs):\n",
    "    feature_extractor = tf.keras.applications.DenseNet169(input_shape=(IMG_HEIGHT,IMG_WIDTH, 3),\n",
    "                                               include_top=False,\n",
    "                                               weights=\"imagenet\")(inputs)\n",
    "    \n",
    "    return feature_extractor\n",
    "\n",
    "def classifier(inputs):\n",
    "    x = tf.keras.layers.GlobalAveragePooling2D()(inputs)\n",
    "    x = tf.keras.layers.Dense(512, activation=\"relu\", kernel_regularizer = tf.keras.regularizers.l2(0.01))(x)\n",
    "    x = tf.keras.layers.Dropout(0.3)(x)\n",
    "    x = tf.keras.layers.Dense(1024, activation=\"relu\", kernel_regularizer = tf.keras.regularizers.l2(0.01))(x)\n",
    "    x = tf.keras.layers.Dropout(0.5)(x)\n",
    "    x = tf.keras.layers.Dense(512, activation=\"relu\", kernel_regularizer = tf.keras.regularizers.l2(0.01))(x)\n",
    "    x = tf.keras.layers.Dropout(0.5) (x)\n",
    "    x = tf.keras.layers.Dense(NUM_CLASSES, activation=\"softmax\", name=\"classification\")(x)\n",
    "    \n",
    "    return x\n",
    "\n",
    "def final_model(inputs):\n",
    "    densenet_feature_extractor = feature_extractor(inputs)\n",
    "    classification_output = classifier(densenet_feature_extractor)\n",
    "    \n",
    "    return classification_output\n",
    "\n",
    "def define_compile_model():\n",
    "    \n",
    "    inputs = tf.keras.layers.Input(shape=(IMG_HEIGHT ,IMG_WIDTH,3))\n",
    "    classification_output = final_model(inputs) \n",
    "    model = tf.keras.Model(inputs=inputs, outputs = classification_output)\n",
    "     \n",
    "    model.compile(optimizer=tf.keras.optimizers.SGD(0.05), \n",
    "                loss='categorical_crossentropy',\n",
    "                metrics = ['accuracy'])\n",
    "  \n",
    "    return model"
   ]
  },
  {
   "cell_type": "markdown",
   "metadata": {
    "id": "3dzFVkhuDpZS"
   },
   "source": [
    "## Summary of model"
   ]
  },
  {
   "cell_type": "code",
   "execution_count": 6,
   "metadata": {
    "_kg_hide-input": true,
    "colab": {
     "base_uri": "https://localhost:8080/"
    },
    "execution": {
     "iopub.execute_input": "2021-12-09T06:40:28.867335Z",
     "iopub.status.busy": "2021-12-09T06:40:28.866836Z",
     "iopub.status.idle": "2021-12-09T06:40:36.720149Z",
     "shell.execute_reply": "2021-12-09T06:40:36.719438Z",
     "shell.execute_reply.started": "2021-12-09T06:40:28.867292Z"
    },
    "id": "KIlFQOEmDpZS",
    "outputId": "873d5c0a-e360-4454-d4e8-01a3375ca86b"
   },
   "outputs": [
    {
     "name": "stdout",
     "output_type": "stream",
     "text": [
      "Model: \"model\"\n",
      "_________________________________________________________________\n",
      " Layer (type)                Output Shape              Param #   \n",
      "=================================================================\n",
      " input_1 (InputLayer)        [(None, 48, 48, 3)]       0         \n",
      "                                                                 \n",
      " densenet169 (Functional)    (None, 1, 1, 1664)        12642880  \n",
      "                                                                 \n",
      " global_average_pooling2d (  (None, 1664)              0         \n",
      " GlobalAveragePooling2D)                                         \n",
      "                                                                 \n",
      " dense (Dense)               (None, 512)               852480    \n",
      "                                                                 \n",
      " dropout (Dropout)           (None, 512)               0         \n",
      "                                                                 \n",
      " dense_1 (Dense)             (None, 1024)              525312    \n",
      "                                                                 \n",
      " dropout_1 (Dropout)         (None, 1024)              0         \n",
      "                                                                 \n",
      " dense_2 (Dense)             (None, 512)               524800    \n",
      "                                                                 \n",
      " dropout_2 (Dropout)         (None, 512)               0         \n",
      "                                                                 \n",
      " classification (Dense)      (None, 6)                 3078      \n",
      "                                                                 \n",
      "=================================================================\n",
      "Total params: 14548550 (55.50 MB)\n",
      "Trainable params: 1905670 (7.27 MB)\n",
      "Non-trainable params: 12642880 (48.23 MB)\n",
      "_________________________________________________________________\n"
     ]
    }
   ],
   "source": [
    "model = define_compile_model()\n",
    "clear_output()\n",
    "\n",
    "# Feezing the feature extraction layers\n",
    "model.layers[1].trainable = False\n",
    "\n",
    "model.summary()"
   ]
  },
  {
   "cell_type": "markdown",
   "metadata": {
    "id": "nbScA6BuDpZT"
   },
   "source": [
    "<a id=\"train\"></a>\n",
    "# <center> Training and Fine-Tuning </center> "
   ]
  },
  {
   "cell_type": "markdown",
   "metadata": {
    "id": "Jx4iMUszDpZT"
   },
   "source": [
    "## Training model with freezed layers of DenseNer169"
   ]
  },
  {
   "cell_type": "code",
   "execution_count": 7,
   "metadata": {
    "_kg_hide-output": true,
    "colab": {
     "base_uri": "https://localhost:8080/"
    },
    "execution": {
     "iopub.execute_input": "2021-12-09T06:40:37.926183Z",
     "iopub.status.busy": "2021-12-09T06:40:37.925939Z",
     "iopub.status.idle": "2021-12-09T06:44:17.632897Z",
     "shell.execute_reply": "2021-12-09T06:44:17.632068Z",
     "shell.execute_reply.started": "2021-12-09T06:40:37.926155Z"
    },
    "id": "9uVJhDXCDpZT",
    "outputId": "c9244726-ea9e-4205-cedb-e2f32420306c",
    "ExecuteTime": {
     "end_time": "2023-09-09T03:15:30.758166873Z",
     "start_time": "2023-09-09T02:48:17.551195042Z"
    }
   },
   "outputs": [
    {
     "name": "stdout",
     "output_type": "stream",
     "text": [
      "Epoch 1/7\n",
      "  1/354 [..............................] - ETA: 1:13:29 - loss: 23.6377 - accuracy: 0.1250"
     ]
    },
    {
     "name": "stderr",
     "output_type": "stream",
     "text": [
      "2023-09-09 05:48:30.053306: W tensorflow/tsl/framework/cpu_allocator_impl.cc:83] Allocation of 25214976 exceeds 10% of free system memory.\n",
      "2023-09-09 05:48:30.053559: W tensorflow/tsl/framework/cpu_allocator_impl.cc:83] Allocation of 25214976 exceeds 10% of free system memory.\n",
      "2023-09-09 05:48:30.084154: W tensorflow/tsl/framework/cpu_allocator_impl.cc:83] Allocation of 25214976 exceeds 10% of free system memory.\n",
      "2023-09-09 05:48:30.084197: W tensorflow/tsl/framework/cpu_allocator_impl.cc:83] Allocation of 25214976 exceeds 10% of free system memory.\n",
      "2023-09-09 05:48:30.110722: W tensorflow/tsl/framework/cpu_allocator_impl.cc:83] Allocation of 25214976 exceeds 10% of free system memory.\n"
     ]
    },
    {
     "name": "stdout",
     "output_type": "stream",
     "text": [
      "354/354 [==============================] - 248s 667ms/step - loss: 17.1860 - accuracy: 0.2652 - val_loss: 12.1723 - val_accuracy: 0.3698\n",
      "Epoch 2/7\n",
      "354/354 [==============================] - 252s 711ms/step - loss: 9.0513 - accuracy: 0.4101 - val_loss: 6.5661 - val_accuracy: 0.4607\n",
      "Epoch 3/7\n",
      "354/354 [==============================] - 225s 636ms/step - loss: 5.0535 - accuracy: 0.4873 - val_loss: 3.8606 - val_accuracy: 0.5064\n",
      "Epoch 4/7\n",
      "354/354 [==============================] - 227s 642ms/step - loss: 3.0749 - accuracy: 0.5356 - val_loss: 2.5855 - val_accuracy: 0.5166\n",
      "Epoch 5/7\n",
      "354/354 [==============================] - 232s 656ms/step - loss: 2.0879 - accuracy: 0.5625 - val_loss: 1.9401 - val_accuracy: 0.5110\n",
      "Epoch 6/7\n",
      "354/354 [==============================] - 225s 634ms/step - loss: 1.5824 - accuracy: 0.5844 - val_loss: 1.5070 - val_accuracy: 0.5610\n",
      "Epoch 7/7\n",
      "354/354 [==============================] - 223s 631ms/step - loss: 1.3203 - accuracy: 0.6076 - val_loss: 1.3083 - val_accuracy: 0.5822\n"
     ]
    }
   ],
   "source": [
    "earlyStoppingCallback = tf.keras.callbacks.EarlyStopping(monitor='val_loss',\n",
    "                                                         patience=EARLY_STOPPING_CRITERIA,\n",
    "                                                         verbose= 1 ,\n",
    "                                                         restore_best_weights=True\n",
    "                                                        )\n",
    "\n",
    "history = model.fit(x = train_generator,\n",
    "                    epochs = EPOCHS ,\n",
    "                    validation_data = validation_generator , \n",
    "                    callbacks= [earlyStoppingCallback])\n",
    "\n",
    "history = pd.DataFrame(history.history)"
   ]
  },
  {
   "cell_type": "markdown",
   "metadata": {
    "id": "4Kypqdy1DpZT"
   },
   "source": [
    "## Fine Tuning"
   ]
  },
  {
   "cell_type": "code",
   "execution_count": 8,
   "metadata": {
    "_kg_hide-output": true,
    "colab": {
     "base_uri": "https://localhost:8080/"
    },
    "execution": {
     "iopub.execute_input": "2021-10-28T16:40:49.276117Z",
     "iopub.status.busy": "2021-10-28T16:40:49.275615Z",
     "iopub.status.idle": "2021-10-28T16:48:28.259359Z",
     "shell.execute_reply": "2021-10-28T16:48:28.258509Z",
     "shell.execute_reply.started": "2021-10-28T16:40:49.276082Z"
    },
    "id": "nVGSccHhDpZT",
    "outputId": "4da15bcc-9b7f-4233-bd99-d687cd1291a3",
    "ExecuteTime": {
     "end_time": "2023-09-09T03:34:26.259143422Z",
     "start_time": "2023-09-09T03:15:30.776036716Z"
    }
   },
   "outputs": [
    {
     "name": "stdout",
     "output_type": "stream",
     "text": [
      "Epoch 1/5\n",
      "354/354 [==============================] - 238s 637ms/step - loss: 1.1692 - accuracy: 0.6380 - val_loss: 1.1950 - val_accuracy: 0.6233\n",
      "Epoch 2/5\n",
      "354/354 [==============================] - 226s 637ms/step - loss: 1.1439 - accuracy: 0.6477 - val_loss: 1.1812 - val_accuracy: 0.6284\n",
      "Epoch 3/5\n",
      "354/354 [==============================] - 227s 641ms/step - loss: 1.1343 - accuracy: 0.6504 - val_loss: 1.1733 - val_accuracy: 0.6330\n",
      "Epoch 4/5\n",
      "354/354 [==============================] - 222s 626ms/step - loss: 1.1276 - accuracy: 0.6517 - val_loss: 1.1660 - val_accuracy: 0.6349\n",
      "Epoch 5/5\n",
      "354/354 [==============================] - 223s 630ms/step - loss: 1.1121 - accuracy: 0.6553 - val_loss: 1.1592 - val_accuracy: 0.6342\n"
     ]
    }
   ],
   "source": [
    "# Un-Freezing the feature extraction layers for fine tuning\n",
    "model.layers[1].trainable = True\n",
    "\n",
    "model.compile(optimizer=tf.keras.optimizers.SGD(0.001), #lower learning rate\n",
    "                loss='categorical_crossentropy',\n",
    "                metrics = ['accuracy'])\n",
    "\n",
    "history_ = model.fit(x = train_generator,epochs = FINE_TUNING_EPOCHS ,validation_data = validation_generator)"
   ]
  },
  {
   "cell_type": "code",
   "execution_count": 17,
   "outputs": [],
   "source": [
    "history = history._append(pd.DataFrame(history_.history) , ignore_index=True)"
   ],
   "metadata": {
    "collapsed": false,
    "ExecuteTime": {
     "end_time": "2023-09-09T03:41:51.979428042Z",
     "start_time": "2023-09-09T03:41:51.935457983Z"
    }
   }
  },
  {
   "cell_type": "markdown",
   "metadata": {
    "id": "OdTvxl6EDpZU"
   },
   "source": [
    "## Model Evaluation"
   ]
  },
  {
   "cell_type": "code",
   "execution_count": 18,
   "metadata": {
    "_kg_hide-input": true,
    "colab": {
     "base_uri": "https://localhost:8080/",
     "height": 217
    },
    "execution": {
     "iopub.execute_input": "2021-12-09T06:44:17.805191Z",
     "iopub.status.busy": "2021-12-09T06:44:17.804752Z",
     "iopub.status.idle": "2021-12-09T06:45:06.832365Z",
     "shell.execute_reply": "2021-12-09T06:45:06.831617Z",
     "shell.execute_reply.started": "2021-12-09T06:44:17.805153Z"
    },
    "id": "oLcnaQ2JDpZU",
    "outputId": "2f1a36fd-1077-4053-e19f-a84eede34baf",
    "ExecuteTime": {
     "end_time": "2023-09-09T05:16:46.776310258Z",
     "start_time": "2023-09-09T05:16:11.578311825Z"
    }
   },
   "outputs": [
    {
     "name": "stdout",
     "output_type": "stream",
     "text": [
      "111/111 [==============================] - 16s 138ms/step - loss: 1.1715 - accuracy: 0.6310\n",
      "111/111 [==============================] - 19s 172ms/step\n"
     ]
    }
   ],
   "source": [
    "model.evaluate(test_generator)\n",
    "preds = model.predict(test_generator)\n",
    "y_preds = np.argmax(preds , axis = 1 )\n",
    "y_test = np.array(test_generator.labels)"
   ]
  },
  {
   "cell_type": "markdown",
   "metadata": {
    "id": "waxTk9NHDpZU"
   },
   "source": [
    "## Confusion Matrix"
   ]
  },
  {
   "cell_type": "code",
   "execution_count": 19,
   "metadata": {
    "_kg_hide-input": true,
    "execution": {
     "iopub.execute_input": "2021-12-09T06:47:43.863932Z",
     "iopub.status.busy": "2021-12-09T06:47:43.863038Z",
     "iopub.status.idle": "2021-12-09T06:47:44.278521Z",
     "shell.execute_reply": "2021-12-09T06:47:44.277838Z",
     "shell.execute_reply.started": "2021-12-09T06:47:43.863875Z"
    },
    "id": "82H6JfqfDpZV",
    "ExecuteTime": {
     "end_time": "2023-09-09T05:17:29.257863081Z",
     "start_time": "2023-09-09T05:17:29.008390510Z"
    }
   },
   "outputs": [
    {
     "data": {
      "text/plain": "<Figure size 2000x1000 with 1 Axes>",
      "image/png": "[encoded data removed]"
     },
     "metadata": {},
     "output_type": "display_data"
    }
   ],
   "source": [
    "cm_data = confusion_matrix(y_test , y_preds)\n",
    "cm = pd.DataFrame(cm_data, columns=CLASS_LABELS, index = CLASS_LABELS)\n",
    "cm.index.name = 'Actual'\n",
    "cm.columns.name = 'Predicted'\n",
    "plt.figure(figsize = (20,10))\n",
    "plt.title('Confusion Matrix', fontsize = 20)\n",
    "sns.set(font_scale=1.2)\n",
    "ax = sns.heatmap(cm, cbar=False, cmap=\"Blues\", annot=True, annot_kws={\"size\": 16}, fmt='g')"
   ]
  },
  {
   "cell_type": "code",
   "execution_count": 12,
   "metadata": {
    "id": "K7nXiXpdFmUk",
    "ExecuteTime": {
     "end_time": "2023-09-09T03:35:01.990290105Z",
     "start_time": "2023-09-09T03:35:01.271513504Z"
    }
   },
   "outputs": [],
   "source": [
    "model.save('../cfg/model.h5')"
   ]
  },
  {
   "cell_type": "code",
   "execution_count": 23,
   "outputs": [
    {
     "data": {
      "text/plain": "0.6377740024451758"
     },
     "execution_count": 23,
     "metadata": {},
     "output_type": "execute_result"
    }
   ],
   "source": [
    "from sklearn. metrics import f1_score\n",
    "f1_score(y_preds, y_test, average=\"weighted\")"
   ],
   "metadata": {
    "collapsed": false,
    "ExecuteTime": {
     "end_time": "2023-09-09T05:20:19.275455370Z",
     "start_time": "2023-09-09T05:20:19.230542863Z"
    }
   }
  },
  {
   "cell_type": "code",
   "execution_count": 13,
   "metadata": {
    "id": "6aDvWSYTEEfv",
    "ExecuteTime": {
     "end_time": "2023-09-09T03:35:01.999915164Z",
     "start_time": "2023-09-09T03:35:01.990746519Z"
    }
   },
   "outputs": [],
   "source": [
    "# ! pip install -q kaggle\n",
    "# from google.colab import files\n",
    "#\n",
    "# files.upload()\n",
    "# ! mkdir ~/.kaggle\n",
    "#\n",
    "# ! cp kaggle.json ~/.kaggle/\n",
    "# ! chmod 600 ~/.kaggle/kaggle.json\n",
    "# ! kaggle datasets list"
   ]
  },
  {
   "cell_type": "code",
   "execution_count": 14,
   "metadata": {
    "id": "FJFZWVvkEWkb",
    "ExecuteTime": {
     "end_time": "2023-09-09T03:35:02.000116601Z",
     "start_time": "2023-09-09T03:35:01.993483818Z"
    }
   },
   "outputs": [],
   "source": [
    "# ! kaggle datasets download -d ananthu017/emotion-detection-fer"
   ]
  },
  {
   "cell_type": "code",
   "execution_count": 15,
   "metadata": {
    "id": "LseRYCvHEf06",
    "ExecuteTime": {
     "end_time": "2023-09-09T03:35:02.039595016Z",
     "start_time": "2023-09-09T03:35:01.996102645Z"
    }
   },
   "outputs": [],
   "source": [
    "# import zipfile\n",
    "# import os\n",
    "#\n",
    "# data_r = zipfile.ZipFile('/content/emotion-detection-fer.zip', 'r')\n",
    "# data_r.extractall()"
   ]
  },
  {
   "cell_type": "code",
   "execution_count": 16,
   "metadata": {
    "id": "k-pC7RVIZu7r",
    "ExecuteTime": {
     "end_time": "2023-09-09T03:35:02.039943447Z",
     "start_time": "2023-09-09T03:35:02.039392306Z"
    }
   },
   "outputs": [],
   "source": [
    "# import shutil, sys\n",
    "# shutil.rmtree('/content/test/disgusted')"
   ]
  },
  {
   "cell_type": "code",
   "execution_count": 16,
   "outputs": [],
   "source": [],
   "metadata": {
    "collapsed": false,
    "ExecuteTime": {
     "end_time": "2023-09-09T03:35:02.041570079Z",
     "start_time": "2023-09-09T03:35:02.039751298Z"
    }
   }
  }
 ],
 "metadata": {
  "accelerator": "GPU",
  "colab": {
   "provenance": []
  },
  "gpuClass": "standard",
  "kernelspec": {
   "display_name": "Python 3 (ipykernel)",
   "language": "python",
   "name": "python3"
  },
  "language_info": {
   "codemirror_mode": {
    "name": "ipython",
    "version": 3
   },
   "file_extension": ".py",
   "mimetype": "text/x-python",
   "name": "python",
   "nbconvert_exporter": "python",
   "pygments_lexer": "ipython3",
   "version": "3.8.10"
  }
 },
 "nbformat": 4,
 "nbformat_minor": 1
}
