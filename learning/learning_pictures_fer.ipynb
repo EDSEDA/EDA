{
 "cells": [
  {
   "cell_type": "markdown",
   "metadata": {
    "execution": {
     "iopub.execute_input": "2021-10-28T16:25:41.041859Z",
     "iopub.status.busy": "2021-10-28T16:25:41.041154Z",
     "iopub.status.idle": "2021-10-28T16:25:41.047378Z",
     "shell.execute_reply": "2021-10-28T16:25:41.046222Z",
     "shell.execute_reply.started": "2021-10-28T16:25:41.041821Z"
    },
    "id": "oexc3NHHDpZM"
   },
   "source": [
    "<a id=\"im\"></a>\n",
    "# <center>IMPORTING LIBRARIES</center>"
   ]
  },
  {
   "cell_type": "code",
   "execution_count": 2,
   "metadata": {
    "execution": {
     "iopub.execute_input": "2021-12-09T06:48:17.407186Z",
     "iopub.status.busy": "2021-12-09T06:48:17.406939Z",
     "iopub.status.idle": "2021-12-09T06:48:17.412838Z",
     "shell.execute_reply": "2021-12-09T06:48:17.411861Z",
     "shell.execute_reply.started": "2021-12-09T06:48:17.407157Z"
    },
    "id": "5EYpR3loDpZM",
    "ExecuteTime": {
     "end_time": "2023-10-21T22:34:56.667465092Z",
     "start_time": "2023-10-21T22:34:55.262974868Z"
    }
   },
   "outputs": [
    {
     "name": "stderr",
     "output_type": "stream",
     "text": [
      "2023-10-22 01:34:55.476789: I tensorflow/core/util/port.cc:111] oneDNN custom operations are on. You may see slightly different numerical results due to floating-point round-off errors from different computation orders. To turn them off, set the environment variable `TF_ENABLE_ONEDNN_OPTS=0`.\n",
      "2023-10-22 01:34:55.502718: E tensorflow/compiler/xla/stream_executor/cuda/cuda_dnn.cc:9342] Unable to register cuDNN factory: Attempting to register factory for plugin cuDNN when one has already been registered\n",
      "2023-10-22 01:34:55.502756: E tensorflow/compiler/xla/stream_executor/cuda/cuda_fft.cc:609] Unable to register cuFFT factory: Attempting to register factory for plugin cuFFT when one has already been registered\n",
      "2023-10-22 01:34:55.502781: E tensorflow/compiler/xla/stream_executor/cuda/cuda_blas.cc:1518] Unable to register cuBLAS factory: Attempting to register factory for plugin cuBLAS when one has already been registered\n",
      "2023-10-22 01:34:55.509422: I tensorflow/core/platform/cpu_feature_guard.cc:182] This TensorFlow binary is optimized to use available CPU instructions in performance-critical operations.\n",
      "To enable the following instructions: AVX2 AVX512F AVX512_VNNI AVX512_BF16 FMA, in other operations, rebuild TensorFlow with the appropriate compiler flags.\n",
      "2023-10-22 01:34:56.180608: W tensorflow/compiler/tf2tensorrt/utils/py_utils.cc:38] TF-TRT Warning: Could not find TensorRT\n"
     ]
    }
   ],
   "source": [
    "import pandas as pd\n",
    "import numpy as np\n",
    "import matplotlib.pyplot as plt\n",
    "import seaborn as sns\n",
    "import plotly.express as px\n",
    "\n",
    "\n",
    "import tensorflow as tf\n",
    "from tensorflow.keras.preprocessing.image import ImageDataGenerator\n",
    "from tensorflow.keras.utils import to_categorical\n",
    "\n",
    "from sklearn.metrics import confusion_matrix , classification_report \n",
    "from sklearn.preprocessing import LabelBinarizer\n",
    "from sklearn.metrics import roc_curve, auc, roc_auc_score\n",
    "\n",
    "from IPython.display import clear_output\n",
    "import warnings\n",
    "warnings.filterwarnings('ignore')"
   ]
  },
  {
   "cell_type": "code",
   "execution_count": 3,
   "outputs": [],
   "source": [
    "# np.random.seed(1)\n",
    "# INPUT_DIR = './data/'\n",
    "# train_data = pd.read_csv(INPUT_DIR + 'train_labels.csv')\n",
    "# train_data['path'] = INPUT_DIR + 'train/' + train_data['label'] + '/' + train_data['image_id']\n",
    "# \n",
    "# from PIL import Image\n",
    "# from tqdm.notebook import tqdm\n",
    "# \n",
    "# for i, p in tqdm(enumerate(train_data['path'].values)):\n",
    "# \n",
    "# \n",
    "#     img = Image.open(p)\n",
    "# \n",
    "#     for it in range(10):\n",
    "#         new_img = img.rotate(np.random.rand() * 60 - 30, resample=3)\n",
    "# \n",
    "#         if np.random.rand() > 0.5:\n",
    "#             new_img = new_img.transpose(Image.FLIP_LEFT_RIGHT)\n",
    "# \n",
    "#         new_img_name = INPUT_DIR + 'train/' + train_data['label'].values[i] + '/' + train_data['image_id'].values[i] + '_' + str(it) + '.png'\n",
    "#         new_img.save(new_img_name)\n",
    "#     if i % 100 == 0:\n",
    "#         print(str(i) + new_img_name)"
   ],
   "metadata": {
    "collapsed": false,
    "ExecuteTime": {
     "end_time": "2023-10-21T22:34:56.710158756Z",
     "start_time": "2023-10-21T22:34:56.667825669Z"
    }
   }
  },
  {
   "cell_type": "code",
   "execution_count": 4,
   "outputs": [],
   "source": [
    "# import os\n",
    "# import shutil\n",
    "# \n",
    "# train_dir = \"data/train\"\n",
    "# test_dir = \"data/test\"\n",
    "# emotions = [\"angry\", \"fearful\", \"happy\", \"neutral\", \"sad\", \"surprised\"]\n",
    "# \n",
    "# for emotion in emotions:\n",
    "#     test_emotion_dir = os.path.join(test_dir, emotion)\n",
    "#     train_emotion_dir = os.path.join(train_dir, emotion)\n",
    "# \n",
    "#     for filename in os.listdir(train_emotion_dir):\n",
    "#         if \"test\" in filename:\n",
    "#             src_file = os.path.join(train_emotion_dir, filename)\n",
    "#             dest_file = os.path.join(test_emotion_dir, filename)\n",
    "#             shutil.move(src_file, dest_file)"
   ],
   "metadata": {
    "collapsed": false,
    "ExecuteTime": {
     "end_time": "2023-10-21T22:34:56.710407054Z",
     "start_time": "2023-10-21T22:34:56.709020426Z"
    }
   }
  },
  {
   "cell_type": "markdown",
   "metadata": {
    "id": "wh6GWqQkDpZN"
   },
   "source": [
    "<a id=\"hp\"></a>\n",
    "# <center>HYPERPARAMETRERS AND DIRECTORIES</center>"
   ]
  },
  {
   "cell_type": "code",
   "execution_count": 5,
   "metadata": {
    "execution": {
     "iopub.execute_input": "2021-12-09T06:39:09.131243Z",
     "iopub.status.busy": "2021-12-09T06:39:09.13099Z",
     "iopub.status.idle": "2021-12-09T06:39:09.139155Z",
     "shell.execute_reply": "2021-12-09T06:39:09.138293Z",
     "shell.execute_reply.started": "2021-12-09T06:39:09.131209Z"
    },
    "id": "2LtuHhPhDpZO",
    "ExecuteTime": {
     "end_time": "2023-10-21T22:34:56.710517449Z",
     "start_time": "2023-10-21T22:34:56.709143053Z"
    }
   },
   "outputs": [],
   "source": [
    "train_dir = \"data/train\"\n",
    "test_dir = \"data/test\"\n",
    "\n",
    "SEED = 12\n",
    "IMG_HEIGHT = 48\n",
    "IMG_WIDTH = 48\n",
    "BATCH_SIZE = 64\n",
    "EPOCHS = 12\n",
    "FINE_TUNING_EPOCHS = 10\n",
    "LR = 0.01\n",
    "NUM_CLASSES = 6\n",
    "EARLY_STOPPING_CRITERIA=3\n",
    "CLASS_LABELS  = ['Anger', 'Fear', 'Happy', 'Neutral', 'Sadness', \"Surprise\"]"
   ]
  },
  {
   "cell_type": "markdown",
   "metadata": {
    "id": "74MTuliEDpZO"
   },
   "source": [
    "<a id=\"data\"></a>\n",
    "# <center> DATA LOADING AND PRE-PROCESSING</center>"
   ]
  },
  {
   "cell_type": "code",
   "execution_count": 6,
   "metadata": {
    "_kg_hide-input": true,
    "colab": {
     "base_uri": "https://localhost:8080/"
    },
    "execution": {
     "iopub.execute_input": "2021-12-09T06:39:09.140332Z",
     "iopub.status.busy": "2021-12-09T06:39:09.140077Z",
     "iopub.status.idle": "2021-12-09T06:39:33.637831Z",
     "shell.execute_reply": "2021-12-09T06:39:33.63632Z",
     "shell.execute_reply.started": "2021-12-09T06:39:09.140295Z"
    },
    "id": "GhpgEQkHDpZP",
    "outputId": "eab23f25-6ff0-4c8b-cd16-7b0c355d4553",
    "ExecuteTime": {
     "end_time": "2023-10-21T22:35:01.955917688Z",
     "start_time": "2023-10-21T22:34:56.709186319Z"
    }
   },
   "outputs": [
    {
     "name": "stdout",
     "output_type": "stream",
     "text": [
      "Found 248803 images belonging to 6 classes.\n",
      "Found 62200 images belonging to 6 classes.\n",
      "Found 77737 images belonging to 6 classes.\n"
     ]
    }
   ],
   "source": [
    "def to_grayscale_then_rgb(image):\n",
    "    image = tf.image.rgb_to_grayscale(image)\n",
    "    image = tf.image.grayscale_to_rgb(image)\n",
    "    return image\n",
    "\n",
    "# preprocess_fun = tf.keras.applications.densenet.preprocess_input\n",
    "preprocess_fun = to_grayscale_then_rgb\n",
    "\n",
    "train_datagen = ImageDataGenerator(horizontal_flip=True,\n",
    "                                   width_shift_range=0.1,\n",
    "                                   height_shift_range=0.05,\n",
    "                                   rescale = 1./255,\n",
    "                                   validation_split = 0.2,\n",
    "                                   preprocessing_function=preprocess_fun\n",
    "                                  )\n",
    "test_datagen = ImageDataGenerator(rescale = 1./255,\n",
    "                                  validation_split = 0.2,\n",
    "                                  preprocessing_function=preprocess_fun)\n",
    "\n",
    "train_generator = train_datagen.flow_from_directory(directory = train_dir,\n",
    "                                                    target_size = (IMG_HEIGHT ,IMG_WIDTH),\n",
    "                                                    batch_size = BATCH_SIZE,\n",
    "                                                    shuffle  = True , \n",
    "                                                    color_mode = \"rgb\",\n",
    "                                                    class_mode = \"categorical\",\n",
    "                                                    subset = \"training\",\n",
    "                                                    seed = 12\n",
    "                                                   )\n",
    "\n",
    "validation_generator = test_datagen.flow_from_directory(directory = train_dir,\n",
    "                                                         target_size = (IMG_HEIGHT ,IMG_WIDTH),\n",
    "                                                         batch_size = BATCH_SIZE,\n",
    "                                                         shuffle  = True , \n",
    "                                                         color_mode = \"rgb\",\n",
    "                                                         class_mode = \"categorical\",\n",
    "                                                         subset = \"validation\",\n",
    "                                                         seed = 12\n",
    "                                                        )\n",
    "\n",
    "test_generator = test_datagen.flow_from_directory(directory = test_dir,\n",
    "                                                   target_size = (IMG_HEIGHT ,IMG_WIDTH),\n",
    "                                                    batch_size = BATCH_SIZE,\n",
    "                                                    shuffle  = False , \n",
    "                                                    color_mode = \"rgb\",\n",
    "                                                    class_mode = \"categorical\",\n",
    "                                                    seed = 12\n",
    "                                                  )"
   ]
  },
  {
   "cell_type": "markdown",
   "metadata": {
    "id": "hkFNRmmnDpZR"
   },
   "source": [
    "## Data distribution (count) among differnt emotions"
   ]
  },
  {
   "cell_type": "code",
   "execution_count": 7,
   "metadata": {
    "_kg_hide-input": true,
    "colab": {
     "base_uri": "https://localhost:8080/"
    },
    "execution": {
     "iopub.execute_input": "2021-12-09T06:40:24.262316Z",
     "iopub.status.busy": "2021-12-09T06:40:24.26204Z",
     "iopub.status.idle": "2021-12-09T06:40:25.101773Z",
     "shell.execute_reply": "2021-12-09T06:40:25.101112Z",
     "shell.execute_reply.started": "2021-12-09T06:40:24.262279Z"
    },
    "id": "nXv5xBrADpZR",
    "outputId": "023c8ebb-2cd4-406e-aac8-355129a12ac3",
    "ExecuteTime": {
     "end_time": "2023-10-21T22:35:02.031342856Z",
     "start_time": "2023-10-21T22:35:01.956806690Z"
    }
   },
   "outputs": [
    {
     "name": "stdout",
     "output_type": "stream",
     "text": [
      "Anger 35156\n",
      "Fear 36054\n",
      "Happy 63492\n",
      "Neutral 43692\n",
      "Sadness 42504\n",
      "Surprise 27905\n"
     ]
    }
   ],
   "source": [
    "classLabelCounts = [list(train_generator.classes).count(i) for i in np.unique(train_generator.classes)]\n",
    "for classLabel, classLabelCount in zip(CLASS_LABELS, classLabelCounts):\n",
    "  print(classLabel, classLabelCount)"
   ]
  },
  {
   "cell_type": "markdown",
   "metadata": {
    "id": "uzY1dOBtDpZR"
   },
   "source": [
    "<a id=\"model\"></a>\n",
    "# <center> DenseNet169 Transfer Learning  </center>"
   ]
  },
  {
   "cell_type": "code",
   "execution_count": 8,
   "metadata": {
    "execution": {
     "iopub.execute_input": "2021-12-09T06:40:25.103789Z",
     "iopub.status.busy": "2021-12-09T06:40:25.103368Z",
     "iopub.status.idle": "2021-12-09T06:40:25.114799Z",
     "shell.execute_reply": "2021-12-09T06:40:25.113768Z",
     "shell.execute_reply.started": "2021-12-09T06:40:25.103749Z"
    },
    "id": "5IB6JTbdDpZS",
    "ExecuteTime": {
     "end_time": "2023-10-21T22:35:02.043650490Z",
     "start_time": "2023-10-21T22:35:02.035751332Z"
    }
   },
   "outputs": [],
   "source": [
    "def feature_extractor(inputs):\n",
    "    feature_extractor = tf.keras.applications.DenseNet169(input_shape=(IMG_HEIGHT,IMG_WIDTH, 3),\n",
    "                                               include_top=False,\n",
    "                                               weights=\"imagenet\")(inputs)\n",
    "    \n",
    "    return feature_extractor\n",
    "\n",
    "def classifier(inputs):\n",
    "    x = tf.keras.layers.GlobalAveragePooling2D()(inputs)\n",
    "    x = tf.keras.layers.Dense(512, activation=\"relu\", kernel_regularizer = tf.keras.regularizers.l2(0.01))(x)\n",
    "    x = tf.keras.layers.Dropout(0.3)(x)\n",
    "    x = tf.keras.layers.Dense(1024, activation=\"relu\", kernel_regularizer = tf.keras.regularizers.l2(0.01))(x)\n",
    "    x = tf.keras.layers.Dropout(0.5)(x)\n",
    "    x = tf.keras.layers.Dense(512, activation=\"relu\", kernel_regularizer = tf.keras.regularizers.l2(0.01))(x)\n",
    "    x = tf.keras.layers.Dropout(0.5) (x)\n",
    "    x = tf.keras.layers.Dense(NUM_CLASSES, activation=\"softmax\", name=\"classification\")(x)\n",
    "    \n",
    "    return x\n",
    "\n",
    "def final_model(inputs):\n",
    "    densenet_feature_extractor = feature_extractor(inputs)\n",
    "    classification_output = classifier(densenet_feature_extractor)\n",
    "    \n",
    "    return classification_output\n",
    "\n",
    "def define_compile_model():\n",
    "    \n",
    "    inputs = tf.keras.layers.Input(shape=(IMG_HEIGHT ,IMG_WIDTH,3))\n",
    "    classification_output = final_model(inputs) \n",
    "    model = tf.keras.Model(inputs=inputs, outputs = classification_output)\n",
    "     \n",
    "    model.compile(optimizer=tf.keras.optimizers.SGD(0.05), \n",
    "                loss='categorical_crossentropy',\n",
    "                metrics = ['accuracy'])\n",
    "  \n",
    "    return model"
   ]
  },
  {
   "cell_type": "markdown",
   "metadata": {
    "id": "3dzFVkhuDpZS"
   },
   "source": [
    "## Summary of model"
   ]
  },
  {
   "cell_type": "code",
   "execution_count": 9,
   "metadata": {
    "_kg_hide-input": true,
    "colab": {
     "base_uri": "https://localhost:8080/"
    },
    "execution": {
     "iopub.execute_input": "2021-12-09T06:40:28.867335Z",
     "iopub.status.busy": "2021-12-09T06:40:28.866836Z",
     "iopub.status.idle": "2021-12-09T06:40:36.720149Z",
     "shell.execute_reply": "2021-12-09T06:40:36.719438Z",
     "shell.execute_reply.started": "2021-12-09T06:40:28.867292Z"
    },
    "id": "KIlFQOEmDpZS",
    "outputId": "873d5c0a-e360-4454-d4e8-01a3375ca86b"
   },
   "outputs": [
    {
     "name": "stdout",
     "output_type": "stream",
     "text": [
      "Model: \"model\"\n",
      "_________________________________________________________________\n",
      " Layer (type)                Output Shape              Param #   \n",
      "=================================================================\n",
      " input_1 (InputLayer)        [(None, 48, 48, 3)]       0         \n",
      "                                                                 \n",
      " densenet169 (Functional)    (None, 1, 1, 1664)        12642880  \n",
      "                                                                 \n",
      " global_average_pooling2d (  (None, 1664)              0         \n",
      " GlobalAveragePooling2D)                                         \n",
      "                                                                 \n",
      " dense (Dense)               (None, 512)               852480    \n",
      "                                                                 \n",
      " dropout (Dropout)           (None, 512)               0         \n",
      "                                                                 \n",
      " dense_1 (Dense)             (None, 1024)              525312    \n",
      "                                                                 \n",
      " dropout_1 (Dropout)         (None, 1024)              0         \n",
      "                                                                 \n",
      " dense_2 (Dense)             (None, 512)               524800    \n",
      "                                                                 \n",
      " dropout_2 (Dropout)         (None, 512)               0         \n",
      "                                                                 \n",
      " classification (Dense)      (None, 6)                 3078      \n",
      "                                                                 \n",
      "=================================================================\n",
      "Total params: 14548550 (55.50 MB)\n",
      "Trainable params: 1905670 (7.27 MB)\n",
      "Non-trainable params: 12642880 (48.23 MB)\n",
      "_________________________________________________________________\n"
     ]
    }
   ],
   "source": [
    "model = define_compile_model()\n",
    "clear_output()\n",
    "\n",
    "# Feezing the feature extraction layers\n",
    "model.layers[1].trainable = False\n",
    "\n",
    "model.summary()"
   ]
  },
  {
   "cell_type": "markdown",
   "metadata": {
    "id": "nbScA6BuDpZT"
   },
   "source": [
    "<a id=\"train\"></a>\n",
    "# <center> Training and Fine-Tuning </center> "
   ]
  },
  {
   "cell_type": "markdown",
   "metadata": {
    "id": "Jx4iMUszDpZT"
   },
   "source": [
    "## Training model with freezed layers of DenseNer169"
   ]
  },
  {
   "cell_type": "code",
   "execution_count": 10,
   "metadata": {
    "_kg_hide-output": true,
    "colab": {
     "base_uri": "https://localhost:8080/"
    },
    "execution": {
     "iopub.execute_input": "2021-12-09T06:40:37.926183Z",
     "iopub.status.busy": "2021-12-09T06:40:37.925939Z",
     "iopub.status.idle": "2021-12-09T06:44:17.632897Z",
     "shell.execute_reply": "2021-12-09T06:44:17.632068Z",
     "shell.execute_reply.started": "2021-12-09T06:40:37.926155Z"
    },
    "id": "9uVJhDXCDpZT",
    "outputId": "c9244726-ea9e-4205-cedb-e2f32420306c",
    "ExecuteTime": {
     "end_time": "2023-10-21T23:14:02.079760715Z",
     "start_time": "2023-10-21T22:35:06.769284638Z"
    }
   },
   "outputs": [
    {
     "name": "stdout",
     "output_type": "stream",
     "text": [
      "Epoch 1/12\n"
     ]
    },
    {
     "name": "stderr",
     "output_type": "stream",
     "text": [
      "2023-10-22 01:35:22.419976: I tensorflow/compiler/xla/stream_executor/cuda/cuda_dnn.cc:442] Loaded cuDNN version 8904\n",
      "2023-10-22 01:35:22.562389: W tensorflow/compiler/xla/stream_executor/gpu/asm_compiler.cc:231] Falling back to the CUDA driver for PTX compilation; ptxas does not support CC 8.9\n",
      "2023-10-22 01:35:22.562430: W tensorflow/compiler/xla/stream_executor/gpu/asm_compiler.cc:234] Used ptxas at ptxas\n",
      "2023-10-22 01:35:22.562514: W tensorflow/compiler/xla/stream_executor/gpu/redzone_allocator.cc:322] UNIMPLEMENTED: ptxas ptxas too old. Falling back to the driver to compile.\n",
      "Relying on driver to perform ptx compilation. \n",
      "Modify $PATH to customize ptxas location.\n",
      "This message will be only logged once.\n",
      "2023-10-22 01:35:22.760304: W tensorflow/compiler/mlir/tools/kernel_gen/transforms/gpu_kernel_to_blob_pass.cc:191] Failed to compile generated PTX with ptxas. Falling back to compilation by driver.\n",
      "2023-10-22 01:35:25.050498: W tensorflow/compiler/mlir/tools/kernel_gen/transforms/gpu_kernel_to_blob_pass.cc:191] Failed to compile generated PTX with ptxas. Falling back to compilation by driver.\n",
      "2023-10-22 01:35:25.050545: W tensorflow/compiler/mlir/tools/kernel_gen/transforms/gpu_kernel_to_blob_pass.cc:191] Failed to compile generated PTX with ptxas. Falling back to compilation by driver.\n",
      "2023-10-22 01:35:25.050567: W tensorflow/compiler/mlir/tools/kernel_gen/transforms/gpu_kernel_to_blob_pass.cc:191] Failed to compile generated PTX with ptxas. Falling back to compilation by driver.\n",
      "2023-10-22 01:35:25.050582: W tensorflow/compiler/mlir/tools/kernel_gen/transforms/gpu_kernel_to_blob_pass.cc:191] Failed to compile generated PTX with ptxas. Falling back to compilation by driver.\n",
      "2023-10-22 01:35:25.050606: W tensorflow/compiler/mlir/tools/kernel_gen/transforms/gpu_kernel_to_blob_pass.cc:191] Failed to compile generated PTX with ptxas. Falling back to compilation by driver.\n",
      "2023-10-22 01:35:25.050620: W tensorflow/compiler/mlir/tools/kernel_gen/transforms/gpu_kernel_to_blob_pass.cc:191] Failed to compile generated PTX with ptxas. Falling back to compilation by driver.\n",
      "2023-10-22 01:35:25.050650: W tensorflow/compiler/mlir/tools/kernel_gen/transforms/gpu_kernel_to_blob_pass.cc:191] Failed to compile generated PTX with ptxas. Falling back to compilation by driver.\n",
      "2023-10-22 01:35:25.052205: W tensorflow/compiler/mlir/tools/kernel_gen/transforms/gpu_kernel_to_blob_pass.cc:191] Failed to compile generated PTX with ptxas. Falling back to compilation by driver.\n",
      "2023-10-22 01:35:25.052220: W tensorflow/compiler/mlir/tools/kernel_gen/transforms/gpu_kernel_to_blob_pass.cc:191] Failed to compile generated PTX with ptxas. Falling back to compilation by driver.\n",
      "2023-10-22 01:35:25.398004: I tensorflow/compiler/xla/service/service.cc:168] XLA service 0x2df7f1e0 initialized for platform CUDA (this does not guarantee that XLA will be used). Devices:\n",
      "2023-10-22 01:35:25.398035: I tensorflow/compiler/xla/service/service.cc:176]   StreamExecutor device (0): NVIDIA GeForce RTX 4070 Laptop GPU, Compute Capability 8.9\n",
      "2023-10-22 01:35:25.437511: I ./tensorflow/compiler/jit/device_compiler.h:186] Compiled cluster using XLA!  This line is logged at most once for the lifetime of the process.\n"
     ]
    },
    {
     "name": "stdout",
     "output_type": "stream",
     "text": [
      "3888/3888 [==============================] - 583s 142ms/step - loss: 4.0265 - accuracy: 0.5173 - val_loss: 1.2463 - val_accuracy: 0.5678\n",
      "Epoch 2/12\n",
      "3888/3888 [==============================] - 444s 114ms/step - loss: 0.9677 - accuracy: 0.6626 - val_loss: 1.2032 - val_accuracy: 0.5973\n",
      "Epoch 3/12\n",
      "3888/3888 [==============================] - 436s 112ms/step - loss: 0.8159 - accuracy: 0.7261 - val_loss: 1.2337 - val_accuracy: 0.5932\n",
      "Epoch 4/12\n",
      "3888/3888 [==============================] - 435s 112ms/step - loss: 0.6801 - accuracy: 0.7816 - val_loss: 1.2995 - val_accuracy: 0.5992\n",
      "Epoch 5/12\n",
      "3888/3888 [==============================] - ETA: 0s - loss: 0.5587 - accuracy: 0.8270Restoring model weights from the end of the best epoch: 2.\n",
      "3888/3888 [==============================] - 437s 112ms/step - loss: 0.5587 - accuracy: 0.8270 - val_loss: 1.4044 - val_accuracy: 0.6020\n",
      "Epoch 5: early stopping\n"
     ]
    }
   ],
   "source": [
    "earlyStoppingCallback = tf.keras.callbacks.EarlyStopping(monitor='val_loss',\n",
    "                                                         patience=EARLY_STOPPING_CRITERIA,\n",
    "                                                         verbose= 1 ,\n",
    "                                                         restore_best_weights=True\n",
    "                                                        )\n",
    "\n",
    "history = model.fit(x = train_generator,\n",
    "                    epochs = EPOCHS,\n",
    "                    validation_data = validation_generator, \n",
    "                    callbacks= [earlyStoppingCallback])\n",
    "\n",
    "history = pd.DataFrame(history.history)"
   ]
  },
  {
   "cell_type": "markdown",
   "metadata": {
    "id": "4Kypqdy1DpZT"
   },
   "source": [
    "## Fine Tuning"
   ]
  },
  {
   "cell_type": "code",
   "execution_count": 21,
   "metadata": {
    "_kg_hide-output": true,
    "colab": {
     "base_uri": "https://localhost:8080/"
    },
    "execution": {
     "iopub.execute_input": "2021-10-28T16:40:49.276117Z",
     "iopub.status.busy": "2021-10-28T16:40:49.275615Z",
     "iopub.status.idle": "2021-10-28T16:48:28.259359Z",
     "shell.execute_reply": "2021-10-28T16:48:28.258509Z",
     "shell.execute_reply.started": "2021-10-28T16:40:49.276082Z"
    },
    "id": "nVGSccHhDpZT",
    "outputId": "4da15bcc-9b7f-4233-bd99-d687cd1291a3",
    "ExecuteTime": {
     "end_time": "2023-10-22T12:28:54.833749861Z",
     "start_time": "2023-10-22T11:08:17.098254346Z"
    }
   },
   "outputs": [
    {
     "name": "stdout",
     "output_type": "stream",
     "text": [
      "Epoch 1/10\n"
     ]
    },
    {
     "name": "stderr",
     "output_type": "stream",
     "text": [
      "2023-10-22 14:08:43.002084: I tensorflow/compiler/mlir/tensorflow/utils/dump_mlir_util.cc:269] disabling MLIR crash reproducer, set env var `MLIR_CRASH_REPRODUCER_DIRECTORY` to enable.\n"
     ]
    },
    {
     "name": "stdout",
     "output_type": "stream",
     "text": [
      "3888/3888 [==============================] - 564s 134ms/step - loss: 0.9127 - accuracy: 0.7004 - val_loss: 1.1637 - val_accuracy: 0.6130\n",
      "Epoch 2/10\n",
      "3888/3888 [==============================] - 524s 135ms/step - loss: 0.7490 - accuracy: 0.7642 - val_loss: 1.2215 - val_accuracy: 0.6095\n",
      "Epoch 3/10\n",
      "3888/3888 [==============================] - 512s 132ms/step - loss: 0.5871 - accuracy: 0.8256 - val_loss: 1.3958 - val_accuracy: 0.5938\n",
      "Epoch 4/10\n",
      "3888/3888 [==============================] - 476s 122ms/step - loss: 0.4640 - accuracy: 0.8699 - val_loss: 1.5203 - val_accuracy: 0.6140\n",
      "Epoch 5/10\n",
      "3888/3888 [==============================] - 456s 117ms/step - loss: 0.3802 - accuracy: 0.8986 - val_loss: 1.4273 - val_accuracy: 0.6225\n",
      "Epoch 6/10\n",
      "3888/3888 [==============================] - 456s 117ms/step - loss: 0.3255 - accuracy: 0.9165 - val_loss: 1.5251 - val_accuracy: 0.6375\n",
      "Epoch 7/10\n",
      "3888/3888 [==============================] - 459s 118ms/step - loss: 0.2908 - accuracy: 0.9279 - val_loss: 1.6004 - val_accuracy: 0.6368\n",
      "Epoch 8/10\n",
      "3888/3888 [==============================] - 460s 118ms/step - loss: 0.2599 - accuracy: 0.9370 - val_loss: 1.5576 - val_accuracy: 0.6427\n",
      "Epoch 9/10\n",
      "3888/3888 [==============================] - 459s 118ms/step - loss: 0.2386 - accuracy: 0.9437 - val_loss: 1.6404 - val_accuracy: 0.6353\n",
      "Epoch 10/10\n",
      "3888/3888 [==============================] - 470s 121ms/step - loss: 0.2223 - accuracy: 0.9486 - val_loss: 1.6073 - val_accuracy: 0.6337\n"
     ]
    }
   ],
   "source": [
    "# Un-Freezing the feature extraction layers for fine tuning\n",
    "model.layers[1].trainable = True\n",
    "\n",
    "model.compile(optimizer=tf.keras.optimizers.Adam(0.0003), #lower learning rate\n",
    "                loss='categorical_crossentropy',\n",
    "                metrics = ['accuracy'])\n",
    "\n",
    "history_ = model.fit(x = train_generator,epochs = FINE_TUNING_EPOCHS ,validation_data = validation_generator)"
   ]
  },
  {
   "cell_type": "code",
   "execution_count": 22,
   "outputs": [],
   "source": [
    "history = history._append(pd.DataFrame(history_.history) , ignore_index=True)"
   ],
   "metadata": {
    "collapsed": false,
    "ExecuteTime": {
     "end_time": "2023-10-22T13:13:15.074221680Z",
     "start_time": "2023-10-22T13:13:15.031200948Z"
    }
   }
  },
  {
   "cell_type": "markdown",
   "metadata": {
    "id": "OdTvxl6EDpZU"
   },
   "source": [
    "## Model Evaluation"
   ]
  },
  {
   "cell_type": "code",
   "execution_count": 23,
   "metadata": {
    "_kg_hide-input": true,
    "colab": {
     "base_uri": "https://localhost:8080/",
     "height": 217
    },
    "execution": {
     "iopub.execute_input": "2021-12-09T06:44:17.805191Z",
     "iopub.status.busy": "2021-12-09T06:44:17.804752Z",
     "iopub.status.idle": "2021-12-09T06:45:06.832365Z",
     "shell.execute_reply": "2021-12-09T06:45:06.831617Z",
     "shell.execute_reply.started": "2021-12-09T06:44:17.805153Z"
    },
    "id": "oLcnaQ2JDpZU",
    "outputId": "2f1a36fd-1077-4053-e19f-a84eede34baf",
    "ExecuteTime": {
     "end_time": "2023-10-22T13:16:47.986108151Z",
     "start_time": "2023-10-22T13:13:17.073090271Z"
    }
   },
   "outputs": [
    {
     "name": "stdout",
     "output_type": "stream",
     "text": [
      "1215/1215 [==============================] - 104s 86ms/step - loss: 1.6215 - accuracy: 0.6299\n",
      "1215/1215 [==============================] - 106s 86ms/step\n"
     ]
    }
   ],
   "source": [
    "model.evaluate(test_generator)\n",
    "preds = model.predict(test_generator)\n",
    "y_preds = np.argmax(preds , axis = 1 )\n",
    "y_test = np.array(test_generator.labels)"
   ]
  },
  {
   "cell_type": "markdown",
   "metadata": {
    "id": "waxTk9NHDpZU"
   },
   "source": [
    "## Confusion Matrix"
   ]
  },
  {
   "cell_type": "code",
   "execution_count": 14,
   "metadata": {
    "_kg_hide-input": true,
    "execution": {
     "iopub.execute_input": "2021-12-09T06:47:43.863932Z",
     "iopub.status.busy": "2021-12-09T06:47:43.863038Z",
     "iopub.status.idle": "2021-12-09T06:47:44.278521Z",
     "shell.execute_reply": "2021-12-09T06:47:44.277838Z",
     "shell.execute_reply.started": "2021-12-09T06:47:43.863875Z"
    },
    "id": "82H6JfqfDpZV",
    "ExecuteTime": {
     "end_time": "2023-10-22T00:31:12.199144632Z",
     "start_time": "2023-10-22T00:31:11.986296383Z"
    }
   },
   "outputs": [
    {
     "data": {
      "text/plain": "<Figure size 2000x1000 with 1 Axes>",
      "image/png": "[encoded data removed]"
     },
     "metadata": {},
     "output_type": "display_data"
    }
   ],
   "source": [
    "cm_data = confusion_matrix(y_test , y_preds)\n",
    "cm = pd.DataFrame(cm_data, columns=CLASS_LABELS, index = CLASS_LABELS)\n",
    "cm.index.name = 'Actual'\n",
    "cm.columns.name = 'Predicted'\n",
    "plt.figure(figsize = (20,10))\n",
    "plt.title('Confusion Matrix', fontsize = 20)\n",
    "sns.set(font_scale=1.2)\n",
    "ax = sns.heatmap(cm, cbar=False, cmap=\"Blues\", annot=True, annot_kws={\"size\": 16}, fmt='g')"
   ]
  },
  {
   "cell_type": "code",
   "execution_count": 15,
   "metadata": {
    "id": "K7nXiXpdFmUk",
    "ExecuteTime": {
     "end_time": "2023-10-22T00:31:12.652115538Z",
     "start_time": "2023-10-22T00:31:12.198211571Z"
    }
   },
   "outputs": [],
   "source": [
    "model.save('../cfg/model_modified.h5')"
   ]
  },
  {
   "cell_type": "code",
   "execution_count": 16,
   "outputs": [
    {
     "data": {
      "text/plain": "0.6499524230960987"
     },
     "execution_count": 16,
     "metadata": {},
     "output_type": "execute_result"
    }
   ],
   "source": [
    "from sklearn. metrics import f1_score\n",
    "f1_score(y_preds, y_test, average=\"weighted\")"
   ],
   "metadata": {
    "collapsed": false,
    "ExecuteTime": {
     "end_time": "2023-10-22T00:31:12.707660414Z",
     "start_time": "2023-10-22T00:31:12.653410631Z"
    }
   }
  },
  {
   "cell_type": "code",
   "execution_count": 17,
   "metadata": {
    "id": "6aDvWSYTEEfv",
    "ExecuteTime": {
     "end_time": "2023-10-22T00:31:12.707898094Z",
     "start_time": "2023-10-22T00:31:12.697765357Z"
    }
   },
   "outputs": [],
   "source": [
    "# ! pip install -q kaggle\n",
    "# from google.colab import files\n",
    "#\n",
    "# files.upload()\n",
    "# ! mkdir ~/.kaggle\n",
    "#\n",
    "# ! cp kaggle.json ~/.kaggle/\n",
    "# ! chmod 600 ~/.kaggle/kaggle.json\n",
    "# ! kaggle datasets list"
   ]
  },
  {
   "cell_type": "code",
   "execution_count": 18,
   "metadata": {
    "id": "FJFZWVvkEWkb",
    "ExecuteTime": {
     "end_time": "2023-10-22T00:31:12.708001336Z",
     "start_time": "2023-10-22T00:31:12.698313093Z"
    }
   },
   "outputs": [],
   "source": [
    "# ! kaggle datasets download -d ananthu017/emotion-detection-fer"
   ]
  },
  {
   "cell_type": "code",
   "execution_count": 19,
   "metadata": {
    "id": "LseRYCvHEf06",
    "ExecuteTime": {
     "end_time": "2023-10-22T00:31:12.708084921Z",
     "start_time": "2023-10-22T00:31:12.698452171Z"
    }
   },
   "outputs": [],
   "source": [
    "# import zipfile\n",
    "# import os\n",
    "#\n",
    "# data_r = zipfile.ZipFile('/content/emotion-detection-fer.zip', 'r')\n",
    "# data_r.extractall()"
   ]
  },
  {
   "cell_type": "code",
   "execution_count": 20,
   "metadata": {
    "id": "k-pC7RVIZu7r",
    "ExecuteTime": {
     "end_time": "2023-10-22T00:31:12.708166743Z",
     "start_time": "2023-10-22T00:31:12.698572545Z"
    }
   },
   "outputs": [],
   "source": [
    "# import shutil, sys\n",
    "# shutil.rmtree('/content/test/disgusted')"
   ]
  },
  {
   "cell_type": "code",
   "execution_count": 20,
   "outputs": [],
   "source": [],
   "metadata": {
    "collapsed": false,
    "ExecuteTime": {
     "end_time": "2023-10-22T00:31:12.708242994Z",
     "start_time": "2023-10-22T00:31:12.698711693Z"
    }
   }
  }
 ],
 "metadata": {
  "accelerator": "GPU",
  "colab": {
   "provenance": []
  },
  "gpuClass": "standard",
  "kernelspec": {
   "display_name": "Python 3 (ipykernel)",
   "language": "python",
   "name": "python3"
  },
  "language_info": {
   "codemirror_mode": {
    "name": "ipython",
    "version": 3
   },
   "file_extension": ".py",
   "mimetype": "text/x-python",
   "name": "python",
   "nbconvert_exporter": "python",
   "pygments_lexer": "ipython3",
   "version": "3.8.10"
  }
 },
 "nbformat": 4,
 "nbformat_minor": 1
}
