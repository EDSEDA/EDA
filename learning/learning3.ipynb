{
 "cells": [
  {
   "cell_type": "code",
   "execution_count": 15,
   "metadata": {
    "collapsed": true
   },
   "outputs": [],
   "source": [
    "import warnings\n",
    "warnings.filterwarnings('ignore')\n",
    "\n",
    "import pandas as pd\n",
    "from statsmodels.stats.outliers_influence import variance_inflation_factor\n",
    "import numpy as np\n",
    "from IPython.display import display, HTML\n",
    "import seaborn as sns\n",
    "import random\n",
    "import matplotlib.pyplot as plt\n",
    "import plotly.express as px\n",
    "import pandas_profiling as pp\n",
    "from scipy import stats\n",
    "from scipy.stats import norm\n",
    "%matplotlib inline\n",
    "import h2o\n",
    "from h2o.automl import H2OAutoML"
   ]
  },
  {
   "cell_type": "code",
   "execution_count": 19,
   "outputs": [],
   "source": [
    "df = pd.read_csv('data2/landmarks.csv')\n",
    "train, validate, test = np.split(df, [int(.7*len(df)), int(.85*len(df))])"
   ],
   "metadata": {
    "collapsed": false
   }
  },
  {
   "cell_type": "code",
   "execution_count": 21,
   "outputs": [
    {
     "data": {
      "text/plain": "              0         1         2         3         4         5         6   \n0      0.506777  0.685168 -0.081059  0.508899  0.589536 -0.155494  0.507721  \\\n1      0.522592  0.728219 -0.069704  0.563158  0.622856 -0.154344  0.532915   \n2      0.507426  0.711682 -0.081520  0.490157  0.622659 -0.162877  0.500488   \n3      0.484002  0.716097 -0.095621  0.490276  0.590272 -0.168015  0.489010   \n4      0.534178  0.709634 -0.044477  0.526397  0.637113 -0.133007  0.526363   \n...         ...       ...       ...       ...       ...       ...       ...   \n23888  0.473343  0.647458 -0.020685  0.530409  0.584438 -0.092517  0.488883   \n23889  0.538998  0.730614 -0.039409  0.575328  0.637325 -0.125219  0.543802   \n23890  0.507124  0.710650 -0.070015  0.531728  0.612457 -0.140365  0.515420   \n23891  0.486359  0.700483 -0.081752  0.473179  0.611061 -0.144204  0.483137   \n23892  0.504104  0.677523 -0.042050  0.490106  0.609604 -0.121679  0.500790   \n\n              7         8         9  ...      1395      1396      1397   \n0      0.619720 -0.081626  0.481201  ...  0.547818  0.421041 -0.017888  \\\n1      0.651415 -0.075771  0.527397  ...  0.563678  0.440509 -0.014150   \n2      0.650763 -0.086197  0.465061  ...  0.549762  0.444901 -0.025063   \n3      0.631962 -0.094333  0.468822  ...  0.548870  0.438363 -0.009491   \n4      0.654088 -0.060292  0.489256  ...  0.537986  0.445891 -0.039478   \n...         ...       ...       ...  ...       ...       ...       ...   \n23888  0.591007 -0.034667  0.512971  ...  0.533296  0.436306 -0.027793   \n23889  0.658993 -0.053053  0.533452  ...  0.560976  0.431589 -0.032142   \n23890  0.643435 -0.071740  0.506756  ...  0.560545  0.463939 -0.013874   \n23891  0.640749 -0.077841  0.453750  ...  0.535396  0.442426 -0.016405   \n23892  0.625039 -0.053086  0.469163  ...  0.540929  0.437558 -0.046219   \n\n           1398      1399      1400      1401      1402      1403      1404  \n0      0.701051  0.395390  0.041529  0.714997  0.388807  0.042386  contempt  \n1      0.693491  0.415474  0.097632  0.706497  0.406117  0.102601  contempt  \n2      0.724568  0.406819  0.017024  0.740692  0.396217  0.016287  contempt  \n3      0.714356  0.434477  0.052216  0.732640  0.424303  0.053430  contempt  \n4      0.672400  0.397646  0.011078  0.682771  0.388529  0.011500  contempt  \n...         ...       ...       ...       ...       ...       ...       ...  \n23888  0.608998  0.415199  0.075503  0.620629  0.402990  0.081695       sad  \n23889  0.673303  0.383008  0.057707  0.684204  0.371329  0.060776       sad  \n23890  0.696620  0.451923  0.066751  0.709731  0.436272  0.071047       sad  \n23891  0.693518  0.411711  0.017808  0.708412  0.401323  0.016646       sad  \n23892  0.692198  0.381577 -0.025935  0.703281  0.370614 -0.028641       sad  \n\n[23893 rows x 1405 columns]",
      "text/html": "<div>\n<style scoped>\n    .dataframe tbody tr th:only-of-type {\n        vertical-align: middle;\n    }\n\n    .dataframe tbody tr th {\n        vertical-align: top;\n    }\n\n    .dataframe thead th {\n        text-align: right;\n    }\n</style>\n<table border=\"1\" class=\"dataframe\">\n  <thead>\n    <tr style=\"text-align: right;\">\n      <th></th>\n      <th>0</th>\n      <th>1</th>\n      <th>2</th>\n      <th>3</th>\n      <th>4</th>\n      <th>5</th>\n      <th>6</th>\n      <th>7</th>\n      <th>8</th>\n      <th>9</th>\n      <th>...</th>\n      <th>1395</th>\n      <th>1396</th>\n      <th>1397</th>\n      <th>1398</th>\n      <th>1399</th>\n      <th>1400</th>\n      <th>1401</th>\n      <th>1402</th>\n      <th>1403</th>\n      <th>1404</th>\n    </tr>\n  </thead>\n  <tbody>\n    <tr>\n      <th>0</th>\n      <td>0.506777</td>\n      <td>0.685168</td>\n      <td>-0.081059</td>\n      <td>0.508899</td>\n      <td>0.589536</td>\n      <td>-0.155494</td>\n      <td>0.507721</td>\n      <td>0.619720</td>\n      <td>-0.081626</td>\n      <td>0.481201</td>\n      <td>...</td>\n      <td>0.547818</td>\n      <td>0.421041</td>\n      <td>-0.017888</td>\n      <td>0.701051</td>\n      <td>0.395390</td>\n      <td>0.041529</td>\n      <td>0.714997</td>\n      <td>0.388807</td>\n      <td>0.042386</td>\n      <td>contempt</td>\n    </tr>\n    <tr>\n      <th>1</th>\n      <td>0.522592</td>\n      <td>0.728219</td>\n      <td>-0.069704</td>\n      <td>0.563158</td>\n      <td>0.622856</td>\n      <td>-0.154344</td>\n      <td>0.532915</td>\n      <td>0.651415</td>\n      <td>-0.075771</td>\n      <td>0.527397</td>\n      <td>...</td>\n      <td>0.563678</td>\n      <td>0.440509</td>\n      <td>-0.014150</td>\n      <td>0.693491</td>\n      <td>0.415474</td>\n      <td>0.097632</td>\n      <td>0.706497</td>\n      <td>0.406117</td>\n      <td>0.102601</td>\n      <td>contempt</td>\n    </tr>\n    <tr>\n      <th>2</th>\n      <td>0.507426</td>\n      <td>0.711682</td>\n      <td>-0.081520</td>\n      <td>0.490157</td>\n      <td>0.622659</td>\n      <td>-0.162877</td>\n      <td>0.500488</td>\n      <td>0.650763</td>\n      <td>-0.086197</td>\n      <td>0.465061</td>\n      <td>...</td>\n      <td>0.549762</td>\n      <td>0.444901</td>\n      <td>-0.025063</td>\n      <td>0.724568</td>\n      <td>0.406819</td>\n      <td>0.017024</td>\n      <td>0.740692</td>\n      <td>0.396217</td>\n      <td>0.016287</td>\n      <td>contempt</td>\n    </tr>\n    <tr>\n      <th>3</th>\n      <td>0.484002</td>\n      <td>0.716097</td>\n      <td>-0.095621</td>\n      <td>0.490276</td>\n      <td>0.590272</td>\n      <td>-0.168015</td>\n      <td>0.489010</td>\n      <td>0.631962</td>\n      <td>-0.094333</td>\n      <td>0.468822</td>\n      <td>...</td>\n      <td>0.548870</td>\n      <td>0.438363</td>\n      <td>-0.009491</td>\n      <td>0.714356</td>\n      <td>0.434477</td>\n      <td>0.052216</td>\n      <td>0.732640</td>\n      <td>0.424303</td>\n      <td>0.053430</td>\n      <td>contempt</td>\n    </tr>\n    <tr>\n      <th>4</th>\n      <td>0.534178</td>\n      <td>0.709634</td>\n      <td>-0.044477</td>\n      <td>0.526397</td>\n      <td>0.637113</td>\n      <td>-0.133007</td>\n      <td>0.526363</td>\n      <td>0.654088</td>\n      <td>-0.060292</td>\n      <td>0.489256</td>\n      <td>...</td>\n      <td>0.537986</td>\n      <td>0.445891</td>\n      <td>-0.039478</td>\n      <td>0.672400</td>\n      <td>0.397646</td>\n      <td>0.011078</td>\n      <td>0.682771</td>\n      <td>0.388529</td>\n      <td>0.011500</td>\n      <td>contempt</td>\n    </tr>\n    <tr>\n      <th>...</th>\n      <td>...</td>\n      <td>...</td>\n      <td>...</td>\n      <td>...</td>\n      <td>...</td>\n      <td>...</td>\n      <td>...</td>\n      <td>...</td>\n      <td>...</td>\n      <td>...</td>\n      <td>...</td>\n      <td>...</td>\n      <td>...</td>\n      <td>...</td>\n      <td>...</td>\n      <td>...</td>\n      <td>...</td>\n      <td>...</td>\n      <td>...</td>\n      <td>...</td>\n      <td>...</td>\n    </tr>\n    <tr>\n      <th>23888</th>\n      <td>0.473343</td>\n      <td>0.647458</td>\n      <td>-0.020685</td>\n      <td>0.530409</td>\n      <td>0.584438</td>\n      <td>-0.092517</td>\n      <td>0.488883</td>\n      <td>0.591007</td>\n      <td>-0.034667</td>\n      <td>0.512971</td>\n      <td>...</td>\n      <td>0.533296</td>\n      <td>0.436306</td>\n      <td>-0.027793</td>\n      <td>0.608998</td>\n      <td>0.415199</td>\n      <td>0.075503</td>\n      <td>0.620629</td>\n      <td>0.402990</td>\n      <td>0.081695</td>\n      <td>sad</td>\n    </tr>\n    <tr>\n      <th>23889</th>\n      <td>0.538998</td>\n      <td>0.730614</td>\n      <td>-0.039409</td>\n      <td>0.575328</td>\n      <td>0.637325</td>\n      <td>-0.125219</td>\n      <td>0.543802</td>\n      <td>0.658993</td>\n      <td>-0.053053</td>\n      <td>0.533452</td>\n      <td>...</td>\n      <td>0.560976</td>\n      <td>0.431589</td>\n      <td>-0.032142</td>\n      <td>0.673303</td>\n      <td>0.383008</td>\n      <td>0.057707</td>\n      <td>0.684204</td>\n      <td>0.371329</td>\n      <td>0.060776</td>\n      <td>sad</td>\n    </tr>\n    <tr>\n      <th>23890</th>\n      <td>0.507124</td>\n      <td>0.710650</td>\n      <td>-0.070015</td>\n      <td>0.531728</td>\n      <td>0.612457</td>\n      <td>-0.140365</td>\n      <td>0.515420</td>\n      <td>0.643435</td>\n      <td>-0.071740</td>\n      <td>0.506756</td>\n      <td>...</td>\n      <td>0.560545</td>\n      <td>0.463939</td>\n      <td>-0.013874</td>\n      <td>0.696620</td>\n      <td>0.451923</td>\n      <td>0.066751</td>\n      <td>0.709731</td>\n      <td>0.436272</td>\n      <td>0.071047</td>\n      <td>sad</td>\n    </tr>\n    <tr>\n      <th>23891</th>\n      <td>0.486359</td>\n      <td>0.700483</td>\n      <td>-0.081752</td>\n      <td>0.473179</td>\n      <td>0.611061</td>\n      <td>-0.144204</td>\n      <td>0.483137</td>\n      <td>0.640749</td>\n      <td>-0.077841</td>\n      <td>0.453750</td>\n      <td>...</td>\n      <td>0.535396</td>\n      <td>0.442426</td>\n      <td>-0.016405</td>\n      <td>0.693518</td>\n      <td>0.411711</td>\n      <td>0.017808</td>\n      <td>0.708412</td>\n      <td>0.401323</td>\n      <td>0.016646</td>\n      <td>sad</td>\n    </tr>\n    <tr>\n      <th>23892</th>\n      <td>0.504104</td>\n      <td>0.677523</td>\n      <td>-0.042050</td>\n      <td>0.490106</td>\n      <td>0.609604</td>\n      <td>-0.121679</td>\n      <td>0.500790</td>\n      <td>0.625039</td>\n      <td>-0.053086</td>\n      <td>0.469163</td>\n      <td>...</td>\n      <td>0.540929</td>\n      <td>0.437558</td>\n      <td>-0.046219</td>\n      <td>0.692198</td>\n      <td>0.381577</td>\n      <td>-0.025935</td>\n      <td>0.703281</td>\n      <td>0.370614</td>\n      <td>-0.028641</td>\n      <td>sad</td>\n    </tr>\n  </tbody>\n</table>\n<p>23893 rows × 1405 columns</p>\n</div>"
     },
     "execution_count": 21,
     "metadata": {},
     "output_type": "execute_result"
    }
   ],
   "source": [
    "train"
   ],
   "metadata": {
    "collapsed": false
   }
  },
  {
   "cell_type": "code",
   "execution_count": 18,
   "outputs": [
    {
     "name": "stdout",
     "output_type": "stream",
     "text": [
      "Checking whether there is an H2O instance running at http://localhost:54321..... not found.\n",
      "Attempting to start a local H2O server...\n",
      "  Java Version: openjdk version \"17.0.8.1\" 2023-08-24; OpenJDK Runtime Environment (build 17.0.8.1+1-Ubuntu-0ubuntu122.04); OpenJDK 64-Bit Server VM (build 17.0.8.1+1-Ubuntu-0ubuntu122.04, mixed mode, sharing)\n",
      "  Starting server from /home/vorkov/Workspace/Emotion-Decetion-Service/venv/lib/python3.10/site-packages/h2o/backend/bin/h2o.jar\n",
      "  Ice root: /tmp/tmpvi9y9xzy\n",
      "  JVM stdout: /tmp/tmpvi9y9xzy/h2o_vorkov_started_from_python.out\n",
      "  JVM stderr: /tmp/tmpvi9y9xzy/h2o_vorkov_started_from_python.err\n",
      "  Server is running at http://127.0.0.1:54321\n",
      "Connecting to H2O server at http://127.0.0.1:54321 ... successful.\n"
     ]
    },
    {
     "data": {
      "text/plain": "--------------------------  ------------------------------\nH2O_cluster_uptime:         01 secs\nH2O_cluster_timezone:       Europe/Moscow\nH2O_data_parsing_timezone:  UTC\nH2O_cluster_version:        3.42.0.3\nH2O_cluster_version_age:    14 days, 1 hour and 20 minutes\nH2O_cluster_name:           H2O_from_python_vorkov_97l4u7\nH2O_cluster_total_nodes:    1\nH2O_cluster_free_memory:    8 Gb\nH2O_cluster_total_cores:    12\nH2O_cluster_allowed_cores:  8\nH2O_cluster_status:         locked, healthy\nH2O_connection_url:         http://127.0.0.1:54321\nH2O_connection_proxy:       {\"http\": null, \"https\": null}\nH2O_internal_security:      False\nPython_version:             3.10.12 final\n--------------------------  ------------------------------",
      "text/html": "\n<style>\n\n#h2o-table-1.h2o-container {\n  overflow-x: auto;\n}\n#h2o-table-1 .h2o-table {\n  /* width: 100%; */\n  margin-top: 1em;\n  margin-bottom: 1em;\n}\n#h2o-table-1 .h2o-table caption {\n  white-space: nowrap;\n  caption-side: top;\n  text-align: left;\n  /* margin-left: 1em; */\n  margin: 0;\n  font-size: larger;\n}\n#h2o-table-1 .h2o-table thead {\n  white-space: nowrap; \n  position: sticky;\n  top: 0;\n  box-shadow: 0 -1px inset;\n}\n#h2o-table-1 .h2o-table tbody {\n  overflow: auto;\n}\n#h2o-table-1 .h2o-table th,\n#h2o-table-1 .h2o-table td {\n  text-align: right;\n  /* border: 1px solid; */\n}\n#h2o-table-1 .h2o-table tr:nth-child(even) {\n  /* background: #F5F5F5 */\n}\n\n</style>      \n<div id=\"h2o-table-1\" class=\"h2o-container\">\n  <table class=\"h2o-table\">\n    <caption></caption>\n    <thead></thead>\n    <tbody><tr><td>H2O_cluster_uptime:</td>\n<td>01 secs</td></tr>\n<tr><td>H2O_cluster_timezone:</td>\n<td>Europe/Moscow</td></tr>\n<tr><td>H2O_data_parsing_timezone:</td>\n<td>UTC</td></tr>\n<tr><td>H2O_cluster_version:</td>\n<td>3.42.0.3</td></tr>\n<tr><td>H2O_cluster_version_age:</td>\n<td>14 days, 1 hour and 20 minutes</td></tr>\n<tr><td>H2O_cluster_name:</td>\n<td>H2O_from_python_vorkov_97l4u7</td></tr>\n<tr><td>H2O_cluster_total_nodes:</td>\n<td>1</td></tr>\n<tr><td>H2O_cluster_free_memory:</td>\n<td>8 Gb</td></tr>\n<tr><td>H2O_cluster_total_cores:</td>\n<td>12</td></tr>\n<tr><td>H2O_cluster_allowed_cores:</td>\n<td>8</td></tr>\n<tr><td>H2O_cluster_status:</td>\n<td>locked, healthy</td></tr>\n<tr><td>H2O_connection_url:</td>\n<td>http://127.0.0.1:54321</td></tr>\n<tr><td>H2O_connection_proxy:</td>\n<td>{\"http\": null, \"https\": null}</td></tr>\n<tr><td>H2O_internal_security:</td>\n<td>False</td></tr>\n<tr><td>Python_version:</td>\n<td>3.10.12 final</td></tr></tbody>\n  </table>\n</div>\n"
     },
     "metadata": {},
     "output_type": "display_data"
    }
   ],
   "source": [
    "h2o.init(\n",
    "    nthreads=8,     # number of threads when launching a new H2O server\n",
    "    max_mem_size=8  # in gigabytes\n",
    ")"
   ],
   "metadata": {
    "collapsed": false
   }
  },
  {
   "cell_type": "code",
   "execution_count": null,
   "outputs": [
    {
     "name": "stdout",
     "output_type": "stream",
     "text": [
      " (cancelled) 100%\n"
     ]
    },
    {
     "name": "stderr",
     "output_type": "stream",
     "text": [
      "\n",
      "KeyboardInterrupt\n",
      "\n"
     ]
    }
   ],
   "source": [
    "train_h2o_frame = h2o.H2OFrame(train)\n",
    "test_h2o_frame = h2o.H2OFrame(test)\n",
    "\n",
    "x = train_h2o_frame.columns\n",
    "y = \"1404\"\n",
    "x.remove(y)\n",
    "\n",
    "aml = H2OAutoML(max_models=10, seed=1)\n",
    "aml.train(x=x, y=y, training_frame=train_h2o_frame)"
   ],
   "metadata": {
    "collapsed": false
   }
  },
  {
   "cell_type": "code",
   "execution_count": 24,
   "outputs": [
    {
     "data": {
      "text/plain": "'AUTO'"
     },
     "execution_count": 24,
     "metadata": {},
     "output_type": "execute_result"
    }
   ],
   "source": [
    "aml.distribution"
   ],
   "metadata": {
    "collapsed": false
   }
  },
  {
   "cell_type": "code",
   "execution_count": null,
   "outputs": [],
   "source": [],
   "metadata": {
    "collapsed": false
   }
  }
 ],
 "metadata": {
  "kernelspec": {
   "display_name": "Python 3",
   "language": "python",
   "name": "python3"
  },
  "language_info": {
   "codemirror_mode": {
    "name": "ipython",
    "version": 2
   },
   "file_extension": ".py",
   "mimetype": "text/x-python",
   "name": "python",
   "nbconvert_exporter": "python",
   "pygments_lexer": "ipython2",
   "version": "2.7.6"
  }
 },
 "nbformat": 4,
 "nbformat_minor": 0
}
